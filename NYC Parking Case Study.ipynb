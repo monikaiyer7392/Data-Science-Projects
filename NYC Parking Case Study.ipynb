{
 "cells": [
  {
   "cell_type": "code",
   "execution_count": 1,
   "metadata": {},
   "outputs": [],
   "source": [
    "#Import pyspark\n",
    "from pyspark.sql import SparkSession\n",
    "spark = SparkSession \\\n",
    "    .builder \\\n",
    "    .appName(\"NYC Parking\") \\\n",
    "    .getOrCreate()"
   ]
  },
  {
   "cell_type": "code",
   "execution_count": 2,
   "metadata": {},
   "outputs": [
    {
     "name": "stdout",
     "output_type": "stream",
     "text": [
      "+--------------+--------+------------------+-------------------+--------------+-----------------+------------+------------------+---------------+--------------+\n",
      "|Summons Number|Plate ID|Registration State|         Issue Date|Violation Code|Vehicle Body Type|Vehicle Make|Violation Precinct|Issuer Precinct|Violation Time|\n",
      "+--------------+--------+------------------+-------------------+--------------+-----------------+------------+------------------+---------------+--------------+\n",
      "|    5092469481| GZH7067|                NY|2016-07-10 00:00:00|             7|             SUBN|       TOYOT|                 0|              0|         0143A|\n",
      "|    5092451658| GZH7067|                NY|2016-07-08 00:00:00|             7|             SUBN|       TOYOT|                 0|              0|         0400P|\n",
      "|    4006265037| FZX9232|                NY|2016-08-23 00:00:00|             5|             SUBN|        FORD|                 0|              0|         0233P|\n",
      "|    8478629828| 66623ME|                NY|2017-06-14 00:00:00|            47|             REFG|       MITSU|                14|             14|         1120A|\n",
      "|    7868300310| 37033JV|                NY|2016-11-21 00:00:00|            69|             DELV|       INTER|                13|             13|         0555P|\n",
      "|    5096917368| FZD8593|                NY|2017-06-13 00:00:00|             7|             SUBN|       ME/BE|                 0|              0|         0852P|\n",
      "|    1413609545|  X20DCM|                NJ|2016-08-03 00:00:00|            40|              SDN|       TOYOT|                71|             71|         0215A|\n",
      "|    4628525523|  326SF9|                MA|2016-12-21 00:00:00|            36|               UT|         BMW|                 0|              0|         0758A|\n",
      "|    4627113330| HCA5464|                NY|2016-11-21 00:00:00|            36|             SUBN|       DODGE|                 0|              0|         1005A|\n",
      "|    4006478550| VAD7274|                VA|2016-10-05 00:00:00|             5|               4D|         BMW|                 0|              0|         0845A|\n",
      "|    1407740258| 2513JMG|                NY|2017-01-11 00:00:00|            78|             DELV|       FRUEH|               106|            106|         0015A|\n",
      "|    8009901763| 13657MD|                NY|2016-09-27 00:00:00|            19|             DELV|       KENWO|                18|             18|         0707A|\n",
      "|    4625926610|N102911C|                NY|2016-10-27 00:00:00|            36|              VAN|        FORD|                 0|              0|         1022A|\n",
      "|    1416492320| FGR5997|                NY|2016-09-30 00:00:00|            21|              SDN|       NISSA|                44|             44|         1150A|\n",
      "|    1413656420|T672371C|                NY|2017-02-04 00:00:00|            40|             TAXI|       TOYOT|                73|             73|         0525A|\n",
      "|    7959486440| GYF2052|                NY|2016-07-07 00:00:00|            71|             4DSD|       VOLKS|               120|            120|         0645P|\n",
      "|    5093620865| AD80228|                AZ|2016-09-24 00:00:00|             7|               TK|        FORD|                 0|              0|         1122A|\n",
      "|    8480309064| 51771JW|                NY|2017-01-26 00:00:00|            64|              VAN|       INTER|                17|             17|         0256P|\n",
      "|    1416638830|  GLP367|                NY|2017-04-30 00:00:00|            20|             SUBN|       DODGE|                17|             17|         1232A|\n",
      "|    4630524241|  HJBP29|                FL|2017-02-03 00:00:00|            36|               4D|         BMW|                 0|              0|         1034A|\n",
      "+--------------+--------+------------------+-------------------+--------------+-----------------+------------+------------------+---------------+--------------+\n",
      "only showing top 20 rows\n",
      "\n"
     ]
    }
   ],
   "source": [
    "#Create dataframe by calling read() method on SparkSession/spark object\n",
    "nyc_park = spark.read.format(\"csv\").option(\"header\", \"true\").option(\n",
    "    \"inferSchema\", \"true\").load('/common_folder/nyc_parking/Parking_Violations_Issued_-_Fiscal_Year_2017.csv')\n",
    "\n",
    "nyc_park.show()"
   ]
  },
  {
   "cell_type": "code",
   "execution_count": 3,
   "metadata": {},
   "outputs": [
    {
     "name": "stdout",
     "output_type": "stream",
     "text": [
      "root\n",
      " |-- Summons Number: long (nullable = true)\n",
      " |-- Plate ID: string (nullable = true)\n",
      " |-- Registration State: string (nullable = true)\n",
      " |-- Issue Date: timestamp (nullable = true)\n",
      " |-- Violation Code: integer (nullable = true)\n",
      " |-- Vehicle Body Type: string (nullable = true)\n",
      " |-- Vehicle Make: string (nullable = true)\n",
      " |-- Violation Precinct: integer (nullable = true)\n",
      " |-- Issuer Precinct: integer (nullable = true)\n",
      " |-- Violation Time: string (nullable = true)\n",
      "\n"
     ]
    }
   ],
   "source": [
    "nyc_park.printSchema()\n",
    "\n",
    "# printSchema returns schema in tree format"
   ]
  },
  {
   "cell_type": "code",
   "execution_count": 4,
   "metadata": {},
   "outputs": [
    {
     "data": {
      "text/plain": [
       "StructType(List(StructField(Summons Number,LongType,true),StructField(Plate ID,StringType,true),StructField(Registration State,StringType,true),StructField(Issue Date,TimestampType,true),StructField(Violation Code,IntegerType,true),StructField(Vehicle Body Type,StringType,true),StructField(Vehicle Make,StringType,true),StructField(Violation Precinct,IntegerType,true),StructField(Issuer Precinct,IntegerType,true),StructField(Violation Time,StringType,true)))"
      ]
     },
     "execution_count": 4,
     "metadata": {},
     "output_type": "execute_result"
    }
   ],
   "source": [
    "nyc_park.schema\n",
    "#Returns the schema of this DataFrame as a pyspark.sql.types.StructType."
   ]
  },
  {
   "cell_type": "code",
   "execution_count": 5,
   "metadata": {},
   "outputs": [
    {
     "data": {
      "text/plain": [
       "10803028"
      ]
     },
     "execution_count": 5,
     "metadata": {},
     "output_type": "execute_result"
    }
   ],
   "source": [
    "#Total number of rows present\n",
    "nyc_park.count()"
   ]
  },
  {
   "cell_type": "code",
   "execution_count": 6,
   "metadata": {},
   "outputs": [
    {
     "data": {
      "text/plain": [
       "['Summons Number',\n",
       " 'Plate ID',\n",
       " 'Registration State',\n",
       " 'Issue Date',\n",
       " 'Violation Code',\n",
       " 'Vehicle Body Type',\n",
       " 'Vehicle Make',\n",
       " 'Violation Precinct',\n",
       " 'Issuer Precinct',\n",
       " 'Violation Time']"
      ]
     },
     "execution_count": 6,
     "metadata": {},
     "output_type": "execute_result"
    }
   ],
   "source": [
    "nyc_park.columns"
   ]
  },
  {
   "cell_type": "code",
   "execution_count": 7,
   "metadata": {},
   "outputs": [
    {
     "data": {
      "text/plain": [
       "10803028"
      ]
     },
     "execution_count": 7,
     "metadata": {},
     "output_type": "execute_result"
    }
   ],
   "source": [
    "nyc_park.distinct().count()"
   ]
  },
  {
   "cell_type": "code",
   "execution_count": 8,
   "metadata": {},
   "outputs": [
    {
     "data": {
      "text/plain": [
       "DataFrame[Summons Number: bigint, Plate ID: string, Registration State: string, Issue Date: timestamp, Violation Code: int, Vehicle Body Type: string, Vehicle Make: string, Violation Precinct: int, Issuer Precinct: int, Violation Time: string]"
      ]
     },
     "execution_count": 8,
     "metadata": {},
     "output_type": "execute_result"
    }
   ],
   "source": [
    "nyc_park.createOrReplaceTempView(\"nycparktable\")\n",
    "spark.sql(\"select * from nycparktable\")"
   ]
  },
  {
   "cell_type": "code",
   "execution_count": 9,
   "metadata": {},
   "outputs": [
    {
     "name": "stdout",
     "output_type": "stream",
     "text": [
      "+---------------------+\n",
      "|count(Summons Number)|\n",
      "+---------------------+\n",
      "|             10803028|\n",
      "+---------------------+\n",
      "\n"
     ]
    }
   ],
   "source": [
    "from pyspark.sql.functions import count\n",
    "nyc_park.select(count(\"Summons Number\")).show()"
   ]
  },
  {
   "cell_type": "code",
   "execution_count": 10,
   "metadata": {},
   "outputs": [
    {
     "name": "stdout",
     "output_type": "stream",
     "text": [
      "+------------------------+\n",
      "|count(DISTINCT Plate ID)|\n",
      "+------------------------+\n",
      "|                 3059046|\n",
      "+------------------------+\n",
      "\n"
     ]
    }
   ],
   "source": [
    "from pyspark.sql.functions import countDistinct\n",
    "nyc_park.select(countDistinct(\"Plate ID\")).show()"
   ]
  },
  {
   "cell_type": "code",
   "execution_count": 11,
   "metadata": {},
   "outputs": [
    {
     "name": "stdout",
     "output_type": "stream",
     "text": [
      "+----------------------------------+\n",
      "|count(DISTINCT Registration State)|\n",
      "+----------------------------------+\n",
      "|                                67|\n",
      "+----------------------------------+\n",
      "\n"
     ]
    }
   ],
   "source": [
    "from pyspark.sql.functions import countDistinct\n",
    "nyc_park.select(countDistinct(\"Registration State\")).show()"
   ]
  },
  {
   "cell_type": "code",
   "execution_count": 12,
   "metadata": {},
   "outputs": [
    {
     "name": "stdout",
     "output_type": "stream",
     "text": [
      "+------------------------------+\n",
      "|count(DISTINCT Violation Code)|\n",
      "+------------------------------+\n",
      "|                           100|\n",
      "+------------------------------+\n",
      "\n"
     ]
    }
   ],
   "source": [
    "from pyspark.sql.functions import countDistinct\n",
    "nyc_park.select(countDistinct(\"Violation Code\")).show()"
   ]
  },
  {
   "cell_type": "code",
   "execution_count": 13,
   "metadata": {},
   "outputs": [
    {
     "name": "stdout",
     "output_type": "stream",
     "text": [
      "+----------------------------------+\n",
      "|count(DISTINCT Violation Precinct)|\n",
      "+----------------------------------+\n",
      "|                               213|\n",
      "+----------------------------------+\n",
      "\n"
     ]
    }
   ],
   "source": [
    "from pyspark.sql.functions import countDistinct\n",
    "nyc_park.select(countDistinct(\"Violation Precinct\")).show()"
   ]
  },
  {
   "cell_type": "code",
   "execution_count": 14,
   "metadata": {},
   "outputs": [
    {
     "name": "stdout",
     "output_type": "stream",
     "text": [
      "+-------------------------------+\n",
      "|count(DISTINCT Issuer Precinct)|\n",
      "+-------------------------------+\n",
      "|                            655|\n",
      "+-------------------------------+\n",
      "\n"
     ]
    }
   ],
   "source": [
    "from pyspark.sql.functions import countDistinct\n",
    "nyc_park.select(countDistinct(\"Issuer Precinct\")).show()"
   ]
  },
  {
   "cell_type": "code",
   "execution_count": 15,
   "metadata": {
    "scrolled": true
   },
   "outputs": [
    {
     "name": "stdout",
     "output_type": "stream",
     "text": [
      "+----+-----------------+\n",
      "|Year|Number_of_tickets|\n",
      "+----+-----------------+\n",
      "|1972|                2|\n",
      "|1973|                2|\n",
      "|1974|                1|\n",
      "|1976|                1|\n",
      "|1977|                1|\n",
      "|1984|                1|\n",
      "|1985|                1|\n",
      "|1990|                2|\n",
      "|1991|                3|\n",
      "|1994|                1|\n",
      "|1996|                1|\n",
      "|1997|                1|\n",
      "|2000|              185|\n",
      "|2001|                2|\n",
      "|2002|                1|\n",
      "|2003|                1|\n",
      "|2004|                2|\n",
      "|2005|                1|\n",
      "|2006|                8|\n",
      "|2007|               18|\n",
      "+----+-----------------+\n",
      "only showing top 20 rows\n",
      "\n"
     ]
    }
   ],
   "source": [
    "# Total number of tickets for each year\n",
    "spark.sql(\"select year(`Issue Date`) as Year, count(`Summons Number`) as Number_of_tickets\\\n",
    "          from nycparktable group by year order by year\").show()\n"
   ]
  },
  {
   "cell_type": "markdown",
   "metadata": {},
   "source": [
    "## Examine the data"
   ]
  },
  {
   "cell_type": "code",
   "execution_count": 16,
   "metadata": {},
   "outputs": [],
   "source": [
    "#There is data from all years. We have to only consider 2017 year for analysis.\n",
    "nyc_park.createOrReplaceTempView(\"nycparktable_2017\")\n",
    "nyc_park=spark.sql(\"select * from nycparktable_2017 where year(TO_DATE(CAST(UNIX_TIMESTAMP(`Issue Date`,'MM/dd/yyyy') AS TIMESTAMP))) = 2017 \")\n"
   ]
  },
  {
   "cell_type": "markdown",
   "metadata": {},
   "source": [
    "### 1. Number of tickets for the year 2017"
   ]
  },
  {
   "cell_type": "code",
   "execution_count": 17,
   "metadata": {},
   "outputs": [
    {
     "data": {
      "text/plain": [
       "5431918"
      ]
     },
     "execution_count": 17,
     "metadata": {},
     "output_type": "execute_result"
    }
   ],
   "source": [
    "nyc_park.count()\n",
    "#Hence there are 5431918 tickets in 2017 alone, which is more than 50% of the actual tickets generated throughout the years"
   ]
  },
  {
   "cell_type": "code",
   "execution_count": 18,
   "metadata": {
    "scrolled": true
   },
   "outputs": [
    {
     "name": "stdout",
     "output_type": "stream",
     "text": [
      "+-------------+-------------+\n",
      "|month_in_2017|count_summons|\n",
      "+-------------+-------------+\n",
      "|            5|      1020244|\n",
      "|            3|       964737|\n",
      "|            4|       888402|\n",
      "|            1|       877365|\n",
      "|            6|       852187|\n",
      "|            2|       826967|\n",
      "|            7|          370|\n",
      "|            9|          367|\n",
      "|           12|          358|\n",
      "|           11|          338|\n",
      "|            8|          309|\n",
      "|           10|          274|\n",
      "+-------------+-------------+\n",
      "\n"
     ]
    }
   ],
   "source": [
    "#Let us check the data with respectto the months in 2017\n",
    "nyc_park.createOrReplaceTempView(\"nycparktable_2017\")\n",
    "summons_by_months = spark.sql(\"select month(`Issue Date`) as month_in_2017, count(`Summons Number`) as count_summons from nycparktable_2017 group by month(`Issue Date`) order by count_summons desc\")\n",
    "summons_by_months.show()\n",
    "# we see that the month of may has the most number of violations"
   ]
  },
  {
   "cell_type": "markdown",
   "metadata": {},
   "source": [
    "### 2. Number of unique states from where the cars that got parking tickets came"
   ]
  },
  {
   "cell_type": "code",
   "execution_count": 19,
   "metadata": {},
   "outputs": [
    {
     "name": "stdout",
     "output_type": "stream",
     "text": [
      "+------------------+--------------------------+\n",
      "|Registration State|no_of_registration_records|\n",
      "+------------------+--------------------------+\n",
      "|                NY|                   4273951|\n",
      "|                NJ|                    475825|\n",
      "|                PA|                    140286|\n",
      "|                CT|                     70403|\n",
      "|                FL|                     69468|\n",
      "|                IN|                     45525|\n",
      "|                MA|                     38941|\n",
      "|                VA|                     34367|\n",
      "|                MD|                     30213|\n",
      "|                NC|                     27152|\n",
      "|                TX|                     18827|\n",
      "|                IL|                     18666|\n",
      "|                GA|                     17537|\n",
      "|                99|                     16055|\n",
      "|                AZ|                     12379|\n",
      "|                OH|                     12281|\n",
      "|                CA|                     12153|\n",
      "|                ME|                     10806|\n",
      "|                SC|                     10395|\n",
      "|                MN|                     10083|\n",
      "|                OK|                      9088|\n",
      "|                TN|                      8514|\n",
      "|                DE|                      7905|\n",
      "|                MI|                      7231|\n",
      "|                RI|                      5814|\n",
      "|                NH|                      4119|\n",
      "|                VT|                      3683|\n",
      "|                AL|                      3178|\n",
      "|                WA|                      3052|\n",
      "|                OR|                      2622|\n",
      "|                MO|                      2483|\n",
      "|                ON|                      2460|\n",
      "|                WI|                      2127|\n",
      "|                QB|                      1998|\n",
      "|                IA|                      1938|\n",
      "|                DC|                      1929|\n",
      "|                CO|                      1841|\n",
      "|                KY|                      1795|\n",
      "|                DP|                      1794|\n",
      "|                LA|                      1689|\n",
      "|                MS|                      1582|\n",
      "|                WV|                      1265|\n",
      "|                AR|                       994|\n",
      "|                SD|                       859|\n",
      "|                NM|                       792|\n",
      "|                ID|                       763|\n",
      "|                NV|                       725|\n",
      "|                KS|                       706|\n",
      "|                NE|                       704|\n",
      "|                UT|                       561|\n",
      "|                MT|                       505|\n",
      "|                GV|                       348|\n",
      "|                NS|                       322|\n",
      "|                AK|                       298|\n",
      "|                ND|                       254|\n",
      "|                WY|                       188|\n",
      "|                HI|                       156|\n",
      "|                AB|                        79|\n",
      "|                PE|                        61|\n",
      "|                NB|                        57|\n",
      "|                BC|                        54|\n",
      "|                PR|                        38|\n",
      "|                MB|                        17|\n",
      "|                SK|                         9|\n",
      "|                FO|                         8|\n",
      "+------------------+--------------------------+\n",
      "\n"
     ]
    }
   ],
   "source": [
    "registration_state = spark.sql(\"select distinct(`Registration State`),count(`Registration State`) as no_of_registration_records from nycparktable_2017 group by `Registration State` order by no_of_registration_records desc\")\n",
    "registration_state.show(70)"
   ]
  },
  {
   "cell_type": "code",
   "execution_count": 20,
   "metadata": {},
   "outputs": [
    {
     "data": {
      "text/plain": [
       "65"
      ]
     },
     "execution_count": 20,
     "metadata": {},
     "output_type": "execute_result"
    }
   ],
   "source": [
    "registration_state.count()"
   ]
  },
  {
   "cell_type": "code",
   "execution_count": 21,
   "metadata": {},
   "outputs": [
    {
     "name": "stdout",
     "output_type": "stream",
     "text": [
      "+--------------+--------+------------------+-------------------+--------------+-----------------+------------+------------------+---------------+--------------+\n",
      "|Summons Number|Plate ID|Registration State|         Issue Date|Violation Code|Vehicle Body Type|Vehicle Make|Violation Precinct|Issuer Precinct|Violation Time|\n",
      "+--------------+--------+------------------+-------------------+--------------+-----------------+------------+------------------+---------------+--------------+\n",
      "|    8478629828| 66623ME|                NY|2017-06-14 00:00:00|            47|             REFG|       MITSU|                14|             14|         1120A|\n",
      "|    5096917368| FZD8593|                NY|2017-06-13 00:00:00|             7|             SUBN|       ME/BE|                 0|              0|         0852P|\n",
      "|    1407740258| 2513JMG|                NY|2017-01-11 00:00:00|            78|             DELV|       FRUEH|               106|            106|         0015A|\n",
      "|    1413656420|T672371C|                NY|2017-02-04 00:00:00|            40|             TAXI|       TOYOT|                73|             73|         0525A|\n",
      "|    8480309064| 51771JW|                NY|2017-01-26 00:00:00|            64|              VAN|       INTER|                17|             17|         0256P|\n",
      "|    1416638830|  GLP367|                NY|2017-04-30 00:00:00|            20|             SUBN|       DODGE|                17|             17|         1232A|\n",
      "|    4630524241|  HJBP29|                FL|2017-02-03 00:00:00|            36|               4D|         BMW|                 0|              0|         1034A|\n",
      "|    8505131836| 87155MA|                NY|2017-05-27 00:00:00|            38|              VAN|       CHEVR|                 1|              1|         1021A|\n",
      "|    8513520615| 77026MG|                NY|2017-05-31 00:00:00|            14|             TRAC|       VOLVO|                24|             24|         0721A|\n",
      "|    8556155431| HFB9919|                NY|2017-05-26 00:00:00|            75|             4DSD|       DODGE|               114|            114|         0940A|\n",
      "|    8483087236| 76822MH|                NY|2017-05-19 00:00:00|            10|             DELV|         HIN|                14|             14|         1223P|\n",
      "|    8513914599| 65572JU|                NY|2017-06-09 00:00:00|            69|              VAN|        FORD|                19|             19|         1028A|\n",
      "|    8357020770|  Y56DLT|                NJ|2017-01-20 00:00:00|            21|             4DSD|       CHEVR|               113|            113|         0148A|\n",
      "|    7047487591| 50741JZ|                NY|2017-04-13 00:00:00|            38|             UTIL|         GMC|               115|            115|         1206P|\n",
      "|    8122530205| 95139JC|                NY|2017-01-05 00:00:00|            48|             DELV|       INTER|                13|             13|         0141P|\n",
      "|    1419707358|  V97GVE|                NJ|2017-02-18 00:00:00|            21|             SUBN|       ME/BE|                60|              0|         0822A|\n",
      "|    8544889610| VVP9002|                VA|2017-06-14 00:00:00|            21|             4DSD|        AUDI|                72|             72|         0820A|\n",
      "|    8162054819|  EW866X|                NJ|2017-01-29 00:00:00|            68|             4DSD|       NISSA|                84|             84|         1043A|\n",
      "|    8506053195| 25868MB|                NY|2017-01-25 00:00:00|            51|              VAN|        FORD|                 1|              1|         0204P|\n",
      "|    8534116519| CES6482|                NY|2017-06-12 00:00:00|             9|             SUBN|       TOYOT|                81|             81|         0853A|\n",
      "+--------------+--------+------------------+-------------------+--------------+-----------------+------------+------------------+---------------+--------------+\n",
      "only showing top 20 rows\n",
      "\n"
     ]
    }
   ],
   "source": [
    "# We see that there is a state called '99' which is invalid. Hence we have to replace it with the state havin maximum records which is New York\n",
    "\n",
    "from pyspark.sql.functions import when,lit\n",
    "nyc_park=nyc_park.withColumn(\"Registration State\",when(nyc_park[\"Registration State\"]==\"99\",lit('NY')).otherwise(nyc_park[\"Registration State\"]))\n",
    "nyc_park.show()"
   ]
  },
  {
   "cell_type": "code",
   "execution_count": 22,
   "metadata": {},
   "outputs": [],
   "source": [
    "nyc_park.createOrReplaceTempView(\"nycparktable_2017\")"
   ]
  },
  {
   "cell_type": "code",
   "execution_count": 23,
   "metadata": {},
   "outputs": [
    {
     "name": "stdout",
     "output_type": "stream",
     "text": [
      "+------------------+--------------------------+\n",
      "|Registration State|no_of_registration_records|\n",
      "+------------------+--------------------------+\n",
      "|                NY|                   4290006|\n",
      "|                NJ|                    475825|\n",
      "|                PA|                    140286|\n",
      "|                CT|                     70403|\n",
      "|                FL|                     69468|\n",
      "|                IN|                     45525|\n",
      "|                MA|                     38941|\n",
      "|                VA|                     34367|\n",
      "|                MD|                     30213|\n",
      "|                NC|                     27152|\n",
      "|                TX|                     18827|\n",
      "|                IL|                     18666|\n",
      "|                GA|                     17537|\n",
      "|                AZ|                     12379|\n",
      "|                OH|                     12281|\n",
      "|                CA|                     12153|\n",
      "|                ME|                     10806|\n",
      "|                SC|                     10395|\n",
      "|                MN|                     10083|\n",
      "|                OK|                      9088|\n",
      "|                TN|                      8514|\n",
      "|                DE|                      7905|\n",
      "|                MI|                      7231|\n",
      "|                RI|                      5814|\n",
      "|                NH|                      4119|\n",
      "|                VT|                      3683|\n",
      "|                AL|                      3178|\n",
      "|                WA|                      3052|\n",
      "|                OR|                      2622|\n",
      "|                MO|                      2483|\n",
      "|                ON|                      2460|\n",
      "|                WI|                      2127|\n",
      "|                QB|                      1998|\n",
      "|                IA|                      1938|\n",
      "|                DC|                      1929|\n",
      "|                CO|                      1841|\n",
      "|                KY|                      1795|\n",
      "|                DP|                      1794|\n",
      "|                LA|                      1689|\n",
      "|                MS|                      1582|\n",
      "|                WV|                      1265|\n",
      "|                AR|                       994|\n",
      "|                SD|                       859|\n",
      "|                NM|                       792|\n",
      "|                ID|                       763|\n",
      "|                NV|                       725|\n",
      "|                KS|                       706|\n",
      "|                NE|                       704|\n",
      "|                UT|                       561|\n",
      "|                MT|                       505|\n",
      "|                GV|                       348|\n",
      "|                NS|                       322|\n",
      "|                AK|                       298|\n",
      "|                ND|                       254|\n",
      "|                WY|                       188|\n",
      "|                HI|                       156|\n",
      "|                AB|                        79|\n",
      "|                PE|                        61|\n",
      "|                NB|                        57|\n",
      "|                BC|                        54|\n",
      "|                PR|                        38|\n",
      "|                MB|                        17|\n",
      "|                SK|                         9|\n",
      "|                FO|                         8|\n",
      "+------------------+--------------------------+\n",
      "\n"
     ]
    }
   ],
   "source": [
    "#Let's check again to check if we are getting 99 column in the Registration State column\n",
    "registration_state = spark.sql(\"select distinct(`Registration State`),count(`Registration State`) as no_of_registration_records from nycparktable_2017 group by `Registration State` order by no_of_registration_records desc\")\n",
    "registration_state.show(70)\n",
    "\n",
    "# Now we notice that there is no row with 99 value"
   ]
  },
  {
   "cell_type": "code",
   "execution_count": 32,
   "metadata": {},
   "outputs": [
    {
     "data": {
      "image/png": "[encoded data removed]",
      "text/plain": [
       "<Figure size 432x288 with 1 Axes>"
      ]
     },
     "metadata": {},
     "output_type": "display_data"
    },
    {
     "data": {
      "text/plain": [
       "<Figure size 3600x2880 with 0 Axes>"
      ]
     },
     "metadata": {},
     "output_type": "display_data"
    }
   ],
   "source": [
    "#Let us plot the above data graphically\n",
    "import pandas as pd\n",
    "import matplotlib.pyplot as plt\n",
    "\n",
    "registration_state_graph = registration_state.toPandas()\n",
    "registration_state_graph.head(20).plot(x='Registration State', y='no_of_registration_records', kind='bar')\n",
    "plt.figure(figsize=(50,40))\n",
    "plt.show()"
   ]
  },
  {
   "cell_type": "markdown",
   "metadata": {},
   "source": [
    "## Aggregation tasks"
   ]
  },
  {
   "cell_type": "markdown",
   "metadata": {},
   "source": [
    "### 1.Frequency of  violation codes"
   ]
  },
  {
   "cell_type": "code",
   "execution_count": 34,
   "metadata": {},
   "outputs": [
    {
     "name": "stdout",
     "output_type": "stream",
     "text": [
      "+------------------------------+\n",
      "|count(DISTINCT Violation Code)|\n",
      "+------------------------------+\n",
      "|                           100|\n",
      "+------------------------------+\n",
      "\n"
     ]
    }
   ],
   "source": [
    "from pyspark.sql.functions import countDistinct\n",
    "nyc_park.select(countDistinct(\"Violation Code\")).show()"
   ]
  },
  {
   "cell_type": "code",
   "execution_count": 36,
   "metadata": {},
   "outputs": [
    {
     "name": "stdout",
     "output_type": "stream",
     "text": [
      "+--------------+-----------------+\n",
      "|Violation Code|number_of_records|\n",
      "+--------------+-----------------+\n",
      "|            21|           768087|\n",
      "|            36|           662765|\n",
      "|            38|           542079|\n",
      "|            14|           476664|\n",
      "|            20|           319646|\n",
      "+--------------+-----------------+\n",
      "only showing top 5 rows\n",
      "\n"
     ]
    }
   ],
   "source": [
    "#Frequency of top 5 violation code\n",
    "freq_violation_code = spark.sql(\"select distinct(`Violation Code`), count(`Violation Code`) as number_of_records from nycparktable_2017 group by `Violation Code` order by number_of_records desc\")\n",
    "freq_violation_code.show(5)"
   ]
  },
  {
   "cell_type": "code",
   "execution_count": 38,
   "metadata": {},
   "outputs": [
    {
     "data": {
      "image/png": "[encoded data removed]",
      "text/plain": [
       "<Figure size 432x288 with 1 Axes>"
      ]
     },
     "metadata": {},
     "output_type": "display_data"
    },
    {
     "data": {
      "text/plain": [
       "<Figure size 3600x2880 with 0 Axes>"
      ]
     },
     "metadata": {},
     "output_type": "display_data"
    }
   ],
   "source": [
    "#Let us plot the above values in a graph\n",
    "freq_violation_code_graph = freq_violation_code.toPandas()\n",
    "freq_violation_code_graph.head(5).plot(x='Violation Code', y='number_of_records', kind='bar')\n",
    "plt.figure(figsize=(50,40))\n",
    "plt.show()"
   ]
  },
  {
   "cell_type": "markdown",
   "metadata": {},
   "source": [
    "### 2.a. Frequency of a vehicle body type getting a ticket"
   ]
  },
  {
   "cell_type": "code",
   "execution_count": 39,
   "metadata": {},
   "outputs": [
    {
     "name": "stdout",
     "output_type": "stream",
     "text": [
      "+---------------------------------+\n",
      "|count(DISTINCT Vehicle Body Type)|\n",
      "+---------------------------------+\n",
      "|                             1165|\n",
      "+---------------------------------+\n",
      "\n"
     ]
    }
   ],
   "source": [
    "from pyspark.sql.functions import countDistinct\n",
    "nyc_park.select(countDistinct(\"Vehicle Body Type\")).show()"
   ]
  },
  {
   "cell_type": "code",
   "execution_count": 41,
   "metadata": {},
   "outputs": [
    {
     "name": "stdout",
     "output_type": "stream",
     "text": [
      "+-----------------+-----------------+\n",
      "|Vehicle Body Type|number_of_records|\n",
      "+-----------------+-----------------+\n",
      "|             SUBN|          1883954|\n",
      "|             4DSD|          1547312|\n",
      "|              VAN|           724029|\n",
      "|             DELV|           358984|\n",
      "|              SDN|           194197|\n",
      "+-----------------+-----------------+\n",
      "only showing top 5 rows\n",
      "\n"
     ]
    }
   ],
   "source": [
    "#Frequency of top 5 vehicle body getting a ticket\n",
    "freq_vehicle_body = spark.sql(\"select distinct(`Vehicle Body Type`), count(`Vehicle Body Type`) as number_of_records from nycparktable_2017 group by `Vehicle Body Type` order by number_of_records desc\")\n",
    "freq_vehicle_body.show(5)"
   ]
  },
  {
   "cell_type": "code",
   "execution_count": 43,
   "metadata": {},
   "outputs": [
    {
     "data": {
      "image/png": "[encoded data removed]",
      "text/plain": [
       "<Figure size 432x288 with 1 Axes>"
      ]
     },
     "metadata": {},
     "output_type": "display_data"
    },
    {
     "data": {
      "text/plain": [
       "<Figure size 3600x2880 with 0 Axes>"
      ]
     },
     "metadata": {},
     "output_type": "display_data"
    }
   ],
   "source": [
    "#Let us plot the above values in a graph\n",
    "freq_vehicle_body_graph = freq_vehicle_body.toPandas()\n",
    "freq_vehicle_body_graph.head(5).plot(x='Vehicle Body Type', y='number_of_records', kind='bar')\n",
    "plt.figure(figsize=(50,40))\n",
    "plt.show()"
   ]
  },
  {
   "cell_type": "markdown",
   "metadata": {},
   "source": [
    "### 2.b. Frequency of a vehicle make getting a ticket"
   ]
  },
  {
   "cell_type": "code",
   "execution_count": 46,
   "metadata": {},
   "outputs": [
    {
     "name": "stdout",
     "output_type": "stream",
     "text": [
      "+----------------------------+\n",
      "|count(DISTINCT Vehicle Make)|\n",
      "+----------------------------+\n",
      "|                        3179|\n",
      "+----------------------------+\n",
      "\n"
     ]
    }
   ],
   "source": [
    "from pyspark.sql.functions import countDistinct\n",
    "nyc_park.select(countDistinct(\"Vehicle Make\")).show()"
   ]
  },
  {
   "cell_type": "code",
   "execution_count": 47,
   "metadata": {},
   "outputs": [
    {
     "name": "stdout",
     "output_type": "stream",
     "text": [
      "+------------+-----------------+\n",
      "|Vehicle Make|number_of_records|\n",
      "+------------+-----------------+\n",
      "|        FORD|           636844|\n",
      "|       TOYOT|           605291|\n",
      "|       HONDA|           538884|\n",
      "|       NISSA|           462017|\n",
      "|       CHEVR|           356032|\n",
      "+------------+-----------------+\n",
      "only showing top 5 rows\n",
      "\n"
     ]
    }
   ],
   "source": [
    "#Frequency of top 5 vehicle make getting a ticket\n",
    "freq_vehicle_make = spark.sql(\"select distinct(`Vehicle Make`), count(`Vehicle Make`) as number_of_records from nycparktable_2017 group by `Vehicle Make` order by number_of_records desc\")\n",
    "freq_vehicle_make.show(5)"
   ]
  },
  {
   "cell_type": "code",
   "execution_count": null,
   "metadata": {},
   "outputs": [],
   "source": []
  }
 ],
 "metadata": {
  "kernelspec": {
   "display_name": "PySpark",
   "language": "python",
   "name": "pyspark"
  },
  "language_info": {
   "codemirror_mode": {
    "name": "ipython",
    "version": 3
   },
   "file_extension": ".py",
   "mimetype": "text/x-python",
   "name": "python",
   "nbconvert_exporter": "python",
   "pygments_lexer": "ipython3",
   "version": "3.6.5"
  }
 },
 "nbformat": 4,
 "nbformat_minor": 2
}
