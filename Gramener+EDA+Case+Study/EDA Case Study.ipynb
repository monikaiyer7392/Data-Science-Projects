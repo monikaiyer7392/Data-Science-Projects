{
 "cells": [
  {
   "cell_type": "code",
   "execution_count": 946,
   "metadata": {},
   "outputs": [],
   "source": [
    "## Import the packages\n",
    "import numpy as np\n",
    "import pandas as pd \n",
    "import matplotlib.pyplot as plt\n",
    "import seaborn as sns"
   ]
  },
  {
   "cell_type": "code",
   "execution_count": 947,
   "metadata": {},
   "outputs": [],
   "source": [
    "#code for importing the loan.cdv file here\n",
    "loan_data = pd.read_csv(\"loan.csv\")"
   ]
  },
  {
   "cell_type": "code",
   "execution_count": 948,
   "metadata": {
    "scrolled": true
   },
   "outputs": [
    {
     "data": {
      "text/html": [
       "<div>\n",
       "<style scoped>\n",
       "    .dataframe tbody tr th:only-of-type {\n",
       "        vertical-align: middle;\n",
       "    }\n",
       "\n",
       "    .dataframe tbody tr th {\n",
       "        vertical-align: top;\n",
       "    }\n",
       "\n",
       "    .dataframe thead th {\n",
       "        text-align: right;\n",
       "    }\n",
       "</style>\n",
       "<table border=\"1\" class=\"dataframe\">\n",
       "  <thead>\n",
       "    <tr style=\"text-align: right;\">\n",
       "      <th></th>\n",
       "      <th>id</th>\n",
       "      <th>member_id</th>\n",
       "      <th>loan_amnt</th>\n",
       "      <th>funded_amnt</th>\n",
       "      <th>funded_amnt_inv</th>\n",
       "      <th>term</th>\n",
       "      <th>int_rate</th>\n",
       "      <th>installment</th>\n",
       "      <th>grade</th>\n",
       "      <th>sub_grade</th>\n",
       "      <th>...</th>\n",
       "      <th>num_tl_90g_dpd_24m</th>\n",
       "      <th>num_tl_op_past_12m</th>\n",
       "      <th>pct_tl_nvr_dlq</th>\n",
       "      <th>percent_bc_gt_75</th>\n",
       "      <th>pub_rec_bankruptcies</th>\n",
       "      <th>tax_liens</th>\n",
       "      <th>tot_hi_cred_lim</th>\n",
       "      <th>total_bal_ex_mort</th>\n",
       "      <th>total_bc_limit</th>\n",
       "      <th>total_il_high_credit_limit</th>\n",
       "    </tr>\n",
       "  </thead>\n",
       "  <tbody>\n",
       "    <tr>\n",
       "      <th>0</th>\n",
       "      <td>1077501</td>\n",
       "      <td>1296599</td>\n",
       "      <td>5000</td>\n",
       "      <td>5000</td>\n",
       "      <td>4975.0</td>\n",
       "      <td>36 months</td>\n",
       "      <td>10.65%</td>\n",
       "      <td>162.87</td>\n",
       "      <td>B</td>\n",
       "      <td>B2</td>\n",
       "      <td>...</td>\n",
       "      <td>NaN</td>\n",
       "      <td>NaN</td>\n",
       "      <td>NaN</td>\n",
       "      <td>NaN</td>\n",
       "      <td>0.0</td>\n",
       "      <td>0.0</td>\n",
       "      <td>NaN</td>\n",
       "      <td>NaN</td>\n",
       "      <td>NaN</td>\n",
       "      <td>NaN</td>\n",
       "    </tr>\n",
       "    <tr>\n",
       "      <th>1</th>\n",
       "      <td>1077430</td>\n",
       "      <td>1314167</td>\n",
       "      <td>2500</td>\n",
       "      <td>2500</td>\n",
       "      <td>2500.0</td>\n",
       "      <td>60 months</td>\n",
       "      <td>15.27%</td>\n",
       "      <td>59.83</td>\n",
       "      <td>C</td>\n",
       "      <td>C4</td>\n",
       "      <td>...</td>\n",
       "      <td>NaN</td>\n",
       "      <td>NaN</td>\n",
       "      <td>NaN</td>\n",
       "      <td>NaN</td>\n",
       "      <td>0.0</td>\n",
       "      <td>0.0</td>\n",
       "      <td>NaN</td>\n",
       "      <td>NaN</td>\n",
       "      <td>NaN</td>\n",
       "      <td>NaN</td>\n",
       "    </tr>\n",
       "    <tr>\n",
       "      <th>2</th>\n",
       "      <td>1077175</td>\n",
       "      <td>1313524</td>\n",
       "      <td>2400</td>\n",
       "      <td>2400</td>\n",
       "      <td>2400.0</td>\n",
       "      <td>36 months</td>\n",
       "      <td>15.96%</td>\n",
       "      <td>84.33</td>\n",
       "      <td>C</td>\n",
       "      <td>C5</td>\n",
       "      <td>...</td>\n",
       "      <td>NaN</td>\n",
       "      <td>NaN</td>\n",
       "      <td>NaN</td>\n",
       "      <td>NaN</td>\n",
       "      <td>0.0</td>\n",
       "      <td>0.0</td>\n",
       "      <td>NaN</td>\n",
       "      <td>NaN</td>\n",
       "      <td>NaN</td>\n",
       "      <td>NaN</td>\n",
       "    </tr>\n",
       "    <tr>\n",
       "      <th>3</th>\n",
       "      <td>1076863</td>\n",
       "      <td>1277178</td>\n",
       "      <td>10000</td>\n",
       "      <td>10000</td>\n",
       "      <td>10000.0</td>\n",
       "      <td>36 months</td>\n",
       "      <td>13.49%</td>\n",
       "      <td>339.31</td>\n",
       "      <td>C</td>\n",
       "      <td>C1</td>\n",
       "      <td>...</td>\n",
       "      <td>NaN</td>\n",
       "      <td>NaN</td>\n",
       "      <td>NaN</td>\n",
       "      <td>NaN</td>\n",
       "      <td>0.0</td>\n",
       "      <td>0.0</td>\n",
       "      <td>NaN</td>\n",
       "      <td>NaN</td>\n",
       "      <td>NaN</td>\n",
       "      <td>NaN</td>\n",
       "    </tr>\n",
       "    <tr>\n",
       "      <th>4</th>\n",
       "      <td>1075358</td>\n",
       "      <td>1311748</td>\n",
       "      <td>3000</td>\n",
       "      <td>3000</td>\n",
       "      <td>3000.0</td>\n",
       "      <td>60 months</td>\n",
       "      <td>12.69%</td>\n",
       "      <td>67.79</td>\n",
       "      <td>B</td>\n",
       "      <td>B5</td>\n",
       "      <td>...</td>\n",
       "      <td>NaN</td>\n",
       "      <td>NaN</td>\n",
       "      <td>NaN</td>\n",
       "      <td>NaN</td>\n",
       "      <td>0.0</td>\n",
       "      <td>0.0</td>\n",
       "      <td>NaN</td>\n",
       "      <td>NaN</td>\n",
       "      <td>NaN</td>\n",
       "      <td>NaN</td>\n",
       "    </tr>\n",
       "  </tbody>\n",
       "</table>\n",
       "<p>5 rows × 111 columns</p>\n",
       "</div>"
      ],
      "text/plain": [
       "        id  member_id  loan_amnt  funded_amnt  funded_amnt_inv        term  \\\n",
       "0  1077501    1296599       5000         5000           4975.0   36 months   \n",
       "1  1077430    1314167       2500         2500           2500.0   60 months   \n",
       "2  1077175    1313524       2400         2400           2400.0   36 months   \n",
       "3  1076863    1277178      10000        10000          10000.0   36 months   \n",
       "4  1075358    1311748       3000         3000           3000.0   60 months   \n",
       "\n",
       "  int_rate  installment grade sub_grade            ...              \\\n",
       "0   10.65%       162.87     B        B2            ...               \n",
       "1   15.27%        59.83     C        C4            ...               \n",
       "2   15.96%        84.33     C        C5            ...               \n",
       "3   13.49%       339.31     C        C1            ...               \n",
       "4   12.69%        67.79     B        B5            ...               \n",
       "\n",
       "  num_tl_90g_dpd_24m num_tl_op_past_12m pct_tl_nvr_dlq  percent_bc_gt_75  \\\n",
       "0                NaN                NaN            NaN               NaN   \n",
       "1                NaN                NaN            NaN               NaN   \n",
       "2                NaN                NaN            NaN               NaN   \n",
       "3                NaN                NaN            NaN               NaN   \n",
       "4                NaN                NaN            NaN               NaN   \n",
       "\n",
       "  pub_rec_bankruptcies tax_liens tot_hi_cred_lim total_bal_ex_mort  \\\n",
       "0                  0.0       0.0             NaN               NaN   \n",
       "1                  0.0       0.0             NaN               NaN   \n",
       "2                  0.0       0.0             NaN               NaN   \n",
       "3                  0.0       0.0             NaN               NaN   \n",
       "4                  0.0       0.0             NaN               NaN   \n",
       "\n",
       "  total_bc_limit total_il_high_credit_limit  \n",
       "0            NaN                        NaN  \n",
       "1            NaN                        NaN  \n",
       "2            NaN                        NaN  \n",
       "3            NaN                        NaN  \n",
       "4            NaN                        NaN  \n",
       "\n",
       "[5 rows x 111 columns]"
      ]
     },
     "execution_count": 948,
     "metadata": {},
     "output_type": "execute_result"
    }
   ],
   "source": [
    "loan_data.head()"
   ]
  },
  {
   "cell_type": "code",
   "execution_count": 949,
   "metadata": {},
   "outputs": [
    {
     "name": "stdout",
     "output_type": "stream",
     "text": [
      "<class 'pandas.core.frame.DataFrame'>\n",
      "RangeIndex: 39717 entries, 0 to 39716\n",
      "Columns: 111 entries, id to total_il_high_credit_limit\n",
      "dtypes: float64(74), int64(13), object(24)\n",
      "memory usage: 33.6+ MB\n",
      "None\n"
     ]
    }
   ],
   "source": [
    "#loan data info\n",
    "print(loan_data.info())"
   ]
  },
  {
   "cell_type": "code",
   "execution_count": 950,
   "metadata": {
    "scrolled": true
   },
   "outputs": [
    {
     "data": {
      "text/plain": [
       "id                                    0\n",
       "member_id                             0\n",
       "loan_amnt                             0\n",
       "funded_amnt                           0\n",
       "funded_amnt_inv                       0\n",
       "term                                  0\n",
       "int_rate                              0\n",
       "installment                           0\n",
       "grade                                 0\n",
       "sub_grade                             0\n",
       "emp_title                          2459\n",
       "emp_length                         1075\n",
       "home_ownership                        0\n",
       "annual_inc                            0\n",
       "verification_status                   0\n",
       "issue_d                               0\n",
       "loan_status                           0\n",
       "pymnt_plan                            0\n",
       "url                                   0\n",
       "desc                              12940\n",
       "purpose                               0\n",
       "title                                11\n",
       "zip_code                              0\n",
       "addr_state                            0\n",
       "dti                                   0\n",
       "delinq_2yrs                           0\n",
       "earliest_cr_line                      0\n",
       "inq_last_6mths                        0\n",
       "mths_since_last_delinq            25682\n",
       "mths_since_last_record            36931\n",
       "                                  ...  \n",
       "mo_sin_old_rev_tl_op              39717\n",
       "mo_sin_rcnt_rev_tl_op             39717\n",
       "mo_sin_rcnt_tl                    39717\n",
       "mort_acc                          39717\n",
       "mths_since_recent_bc              39717\n",
       "mths_since_recent_bc_dlq          39717\n",
       "mths_since_recent_inq             39717\n",
       "mths_since_recent_revol_delinq    39717\n",
       "num_accts_ever_120_pd             39717\n",
       "num_actv_bc_tl                    39717\n",
       "num_actv_rev_tl                   39717\n",
       "num_bc_sats                       39717\n",
       "num_bc_tl                         39717\n",
       "num_il_tl                         39717\n",
       "num_op_rev_tl                     39717\n",
       "num_rev_accts                     39717\n",
       "num_rev_tl_bal_gt_0               39717\n",
       "num_sats                          39717\n",
       "num_tl_120dpd_2m                  39717\n",
       "num_tl_30dpd                      39717\n",
       "num_tl_90g_dpd_24m                39717\n",
       "num_tl_op_past_12m                39717\n",
       "pct_tl_nvr_dlq                    39717\n",
       "percent_bc_gt_75                  39717\n",
       "pub_rec_bankruptcies                697\n",
       "tax_liens                            39\n",
       "tot_hi_cred_lim                   39717\n",
       "total_bal_ex_mort                 39717\n",
       "total_bc_limit                    39717\n",
       "total_il_high_credit_limit        39717\n",
       "Length: 111, dtype: int64"
      ]
     },
     "execution_count": 950,
     "metadata": {},
     "output_type": "execute_result"
    }
   ],
   "source": [
    "# code for column-wise null count here\n",
    "loan_data.isnull().sum()"
   ]
  },
  {
   "cell_type": "code",
   "execution_count": 951,
   "metadata": {
    "scrolled": false
   },
   "outputs": [
    {
     "data": {
      "text/plain": [
       "id                                  0.0\n",
       "member_id                           0.0\n",
       "loan_amnt                           0.0\n",
       "funded_amnt                         0.0\n",
       "funded_amnt_inv                     0.0\n",
       "term                                0.0\n",
       "int_rate                            0.0\n",
       "installment                         0.0\n",
       "grade                               0.0\n",
       "sub_grade                           0.0\n",
       "emp_title                           6.0\n",
       "emp_length                          3.0\n",
       "home_ownership                      0.0\n",
       "annual_inc                          0.0\n",
       "verification_status                 0.0\n",
       "issue_d                             0.0\n",
       "loan_status                         0.0\n",
       "pymnt_plan                          0.0\n",
       "url                                 0.0\n",
       "desc                               33.0\n",
       "purpose                             0.0\n",
       "title                               0.0\n",
       "zip_code                            0.0\n",
       "addr_state                          0.0\n",
       "dti                                 0.0\n",
       "delinq_2yrs                         0.0\n",
       "earliest_cr_line                    0.0\n",
       "inq_last_6mths                      0.0\n",
       "mths_since_last_delinq             65.0\n",
       "mths_since_last_record             93.0\n",
       "                                  ...  \n",
       "mo_sin_old_rev_tl_op              100.0\n",
       "mo_sin_rcnt_rev_tl_op             100.0\n",
       "mo_sin_rcnt_tl                    100.0\n",
       "mort_acc                          100.0\n",
       "mths_since_recent_bc              100.0\n",
       "mths_since_recent_bc_dlq          100.0\n",
       "mths_since_recent_inq             100.0\n",
       "mths_since_recent_revol_delinq    100.0\n",
       "num_accts_ever_120_pd             100.0\n",
       "num_actv_bc_tl                    100.0\n",
       "num_actv_rev_tl                   100.0\n",
       "num_bc_sats                       100.0\n",
       "num_bc_tl                         100.0\n",
       "num_il_tl                         100.0\n",
       "num_op_rev_tl                     100.0\n",
       "num_rev_accts                     100.0\n",
       "num_rev_tl_bal_gt_0               100.0\n",
       "num_sats                          100.0\n",
       "num_tl_120dpd_2m                  100.0\n",
       "num_tl_30dpd                      100.0\n",
       "num_tl_90g_dpd_24m                100.0\n",
       "num_tl_op_past_12m                100.0\n",
       "pct_tl_nvr_dlq                    100.0\n",
       "percent_bc_gt_75                  100.0\n",
       "pub_rec_bankruptcies                2.0\n",
       "tax_liens                           0.0\n",
       "tot_hi_cred_lim                   100.0\n",
       "total_bal_ex_mort                 100.0\n",
       "total_bc_limit                    100.0\n",
       "total_il_high_credit_limit        100.0\n",
       "Length: 111, dtype: float64"
      ]
     },
     "execution_count": 951,
     "metadata": {},
     "output_type": "execute_result"
    }
   ],
   "source": [
    "# percentage of null in each column\n",
    "round(loan_data.isnull().sum()/len(loan_data.index), 2)*100"
   ]
  },
  {
   "cell_type": "code",
   "execution_count": 952,
   "metadata": {},
   "outputs": [
    {
     "name": "stdout",
     "output_type": "stream",
     "text": [
      "Index(['mths_since_last_major_derog', 'annual_inc_joint', 'dti_joint',\n",
      "       'verification_status_joint', 'tot_coll_amt', 'tot_cur_bal',\n",
      "       'open_acc_6m', 'open_il_6m', 'open_il_12m', 'open_il_24m',\n",
      "       'mths_since_rcnt_il', 'total_bal_il', 'il_util', 'open_rv_12m',\n",
      "       'open_rv_24m', 'max_bal_bc', 'all_util', 'total_rev_hi_lim', 'inq_fi',\n",
      "       'total_cu_tl', 'inq_last_12m', 'acc_open_past_24mths', 'avg_cur_bal',\n",
      "       'bc_open_to_buy', 'bc_util', 'mo_sin_old_il_acct',\n",
      "       'mo_sin_old_rev_tl_op', 'mo_sin_rcnt_rev_tl_op', 'mo_sin_rcnt_tl',\n",
      "       'mort_acc', 'mths_since_recent_bc', 'mths_since_recent_bc_dlq',\n",
      "       'mths_since_recent_inq', 'mths_since_recent_revol_delinq',\n",
      "       'num_accts_ever_120_pd', 'num_actv_bc_tl', 'num_actv_rev_tl',\n",
      "       'num_bc_sats', 'num_bc_tl', 'num_il_tl', 'num_op_rev_tl',\n",
      "       'num_rev_accts', 'num_rev_tl_bal_gt_0', 'num_sats', 'num_tl_120dpd_2m',\n",
      "       'num_tl_30dpd', 'num_tl_90g_dpd_24m', 'num_tl_op_past_12m',\n",
      "       'pct_tl_nvr_dlq', 'percent_bc_gt_75', 'tot_hi_cred_lim',\n",
      "       'total_bal_ex_mort', 'total_bc_limit', 'total_il_high_credit_limit'],\n",
      "      dtype='object')\n"
     ]
    }
   ],
   "source": [
    "#creating null_data df to take the columns names which have complete null values\n",
    "null_data=loan_data.columns[100*(loan_data.isnull().sum()/len(loan_data.index)) == 100]\n",
    "print(null_data)"
   ]
  },
  {
   "cell_type": "code",
   "execution_count": 953,
   "metadata": {},
   "outputs": [],
   "source": [
    "#Dropping the columns where all 39717 rows are null\n",
    "\n",
    "loan_data = loan_data.drop(null_data, axis=1)"
   ]
  },
  {
   "cell_type": "code",
   "execution_count": 954,
   "metadata": {},
   "outputs": [
    {
     "data": {
      "text/html": [
       "<div>\n",
       "<style scoped>\n",
       "    .dataframe tbody tr th:only-of-type {\n",
       "        vertical-align: middle;\n",
       "    }\n",
       "\n",
       "    .dataframe tbody tr th {\n",
       "        vertical-align: top;\n",
       "    }\n",
       "\n",
       "    .dataframe thead th {\n",
       "        text-align: right;\n",
       "    }\n",
       "</style>\n",
       "<table border=\"1\" class=\"dataframe\">\n",
       "  <thead>\n",
       "    <tr style=\"text-align: right;\">\n",
       "      <th></th>\n",
       "      <th>id</th>\n",
       "      <th>member_id</th>\n",
       "      <th>loan_amnt</th>\n",
       "      <th>funded_amnt</th>\n",
       "      <th>funded_amnt_inv</th>\n",
       "      <th>term</th>\n",
       "      <th>int_rate</th>\n",
       "      <th>installment</th>\n",
       "      <th>grade</th>\n",
       "      <th>sub_grade</th>\n",
       "      <th>...</th>\n",
       "      <th>next_pymnt_d</th>\n",
       "      <th>last_credit_pull_d</th>\n",
       "      <th>collections_12_mths_ex_med</th>\n",
       "      <th>policy_code</th>\n",
       "      <th>application_type</th>\n",
       "      <th>acc_now_delinq</th>\n",
       "      <th>chargeoff_within_12_mths</th>\n",
       "      <th>delinq_amnt</th>\n",
       "      <th>pub_rec_bankruptcies</th>\n",
       "      <th>tax_liens</th>\n",
       "    </tr>\n",
       "  </thead>\n",
       "  <tbody>\n",
       "    <tr>\n",
       "      <th>0</th>\n",
       "      <td>1077501</td>\n",
       "      <td>1296599</td>\n",
       "      <td>5000</td>\n",
       "      <td>5000</td>\n",
       "      <td>4975.0</td>\n",
       "      <td>36 months</td>\n",
       "      <td>10.65%</td>\n",
       "      <td>162.87</td>\n",
       "      <td>B</td>\n",
       "      <td>B2</td>\n",
       "      <td>...</td>\n",
       "      <td>NaN</td>\n",
       "      <td>May-16</td>\n",
       "      <td>0.0</td>\n",
       "      <td>1</td>\n",
       "      <td>INDIVIDUAL</td>\n",
       "      <td>0</td>\n",
       "      <td>0.0</td>\n",
       "      <td>0</td>\n",
       "      <td>0.0</td>\n",
       "      <td>0.0</td>\n",
       "    </tr>\n",
       "    <tr>\n",
       "      <th>1</th>\n",
       "      <td>1077430</td>\n",
       "      <td>1314167</td>\n",
       "      <td>2500</td>\n",
       "      <td>2500</td>\n",
       "      <td>2500.0</td>\n",
       "      <td>60 months</td>\n",
       "      <td>15.27%</td>\n",
       "      <td>59.83</td>\n",
       "      <td>C</td>\n",
       "      <td>C4</td>\n",
       "      <td>...</td>\n",
       "      <td>NaN</td>\n",
       "      <td>Sep-13</td>\n",
       "      <td>0.0</td>\n",
       "      <td>1</td>\n",
       "      <td>INDIVIDUAL</td>\n",
       "      <td>0</td>\n",
       "      <td>0.0</td>\n",
       "      <td>0</td>\n",
       "      <td>0.0</td>\n",
       "      <td>0.0</td>\n",
       "    </tr>\n",
       "    <tr>\n",
       "      <th>2</th>\n",
       "      <td>1077175</td>\n",
       "      <td>1313524</td>\n",
       "      <td>2400</td>\n",
       "      <td>2400</td>\n",
       "      <td>2400.0</td>\n",
       "      <td>36 months</td>\n",
       "      <td>15.96%</td>\n",
       "      <td>84.33</td>\n",
       "      <td>C</td>\n",
       "      <td>C5</td>\n",
       "      <td>...</td>\n",
       "      <td>NaN</td>\n",
       "      <td>May-16</td>\n",
       "      <td>0.0</td>\n",
       "      <td>1</td>\n",
       "      <td>INDIVIDUAL</td>\n",
       "      <td>0</td>\n",
       "      <td>0.0</td>\n",
       "      <td>0</td>\n",
       "      <td>0.0</td>\n",
       "      <td>0.0</td>\n",
       "    </tr>\n",
       "    <tr>\n",
       "      <th>3</th>\n",
       "      <td>1076863</td>\n",
       "      <td>1277178</td>\n",
       "      <td>10000</td>\n",
       "      <td>10000</td>\n",
       "      <td>10000.0</td>\n",
       "      <td>36 months</td>\n",
       "      <td>13.49%</td>\n",
       "      <td>339.31</td>\n",
       "      <td>C</td>\n",
       "      <td>C1</td>\n",
       "      <td>...</td>\n",
       "      <td>NaN</td>\n",
       "      <td>Apr-16</td>\n",
       "      <td>0.0</td>\n",
       "      <td>1</td>\n",
       "      <td>INDIVIDUAL</td>\n",
       "      <td>0</td>\n",
       "      <td>0.0</td>\n",
       "      <td>0</td>\n",
       "      <td>0.0</td>\n",
       "      <td>0.0</td>\n",
       "    </tr>\n",
       "    <tr>\n",
       "      <th>4</th>\n",
       "      <td>1075358</td>\n",
       "      <td>1311748</td>\n",
       "      <td>3000</td>\n",
       "      <td>3000</td>\n",
       "      <td>3000.0</td>\n",
       "      <td>60 months</td>\n",
       "      <td>12.69%</td>\n",
       "      <td>67.79</td>\n",
       "      <td>B</td>\n",
       "      <td>B5</td>\n",
       "      <td>...</td>\n",
       "      <td>Jun-16</td>\n",
       "      <td>May-16</td>\n",
       "      <td>0.0</td>\n",
       "      <td>1</td>\n",
       "      <td>INDIVIDUAL</td>\n",
       "      <td>0</td>\n",
       "      <td>0.0</td>\n",
       "      <td>0</td>\n",
       "      <td>0.0</td>\n",
       "      <td>0.0</td>\n",
       "    </tr>\n",
       "  </tbody>\n",
       "</table>\n",
       "<p>5 rows × 57 columns</p>\n",
       "</div>"
      ],
      "text/plain": [
       "        id  member_id  loan_amnt  funded_amnt  funded_amnt_inv        term  \\\n",
       "0  1077501    1296599       5000         5000           4975.0   36 months   \n",
       "1  1077430    1314167       2500         2500           2500.0   60 months   \n",
       "2  1077175    1313524       2400         2400           2400.0   36 months   \n",
       "3  1076863    1277178      10000        10000          10000.0   36 months   \n",
       "4  1075358    1311748       3000         3000           3000.0   60 months   \n",
       "\n",
       "  int_rate  installment grade sub_grade    ...    next_pymnt_d  \\\n",
       "0   10.65%       162.87     B        B2    ...             NaN   \n",
       "1   15.27%        59.83     C        C4    ...             NaN   \n",
       "2   15.96%        84.33     C        C5    ...             NaN   \n",
       "3   13.49%       339.31     C        C1    ...             NaN   \n",
       "4   12.69%        67.79     B        B5    ...          Jun-16   \n",
       "\n",
       "  last_credit_pull_d collections_12_mths_ex_med  policy_code application_type  \\\n",
       "0             May-16                        0.0            1       INDIVIDUAL   \n",
       "1             Sep-13                        0.0            1       INDIVIDUAL   \n",
       "2             May-16                        0.0            1       INDIVIDUAL   \n",
       "3             Apr-16                        0.0            1       INDIVIDUAL   \n",
       "4             May-16                        0.0            1       INDIVIDUAL   \n",
       "\n",
       "  acc_now_delinq chargeoff_within_12_mths delinq_amnt pub_rec_bankruptcies  \\\n",
       "0              0                      0.0           0                  0.0   \n",
       "1              0                      0.0           0                  0.0   \n",
       "2              0                      0.0           0                  0.0   \n",
       "3              0                      0.0           0                  0.0   \n",
       "4              0                      0.0           0                  0.0   \n",
       "\n",
       "  tax_liens  \n",
       "0       0.0  \n",
       "1       0.0  \n",
       "2       0.0  \n",
       "3       0.0  \n",
       "4       0.0  \n",
       "\n",
       "[5 rows x 57 columns]"
      ]
     },
     "execution_count": 954,
     "metadata": {},
     "output_type": "execute_result"
    }
   ],
   "source": [
    "loan_data.head()"
   ]
  },
  {
   "cell_type": "code",
   "execution_count": 955,
   "metadata": {
    "scrolled": true
   },
   "outputs": [
    {
     "data": {
      "text/plain": [
       "id                                0\n",
       "member_id                         0\n",
       "loan_amnt                         0\n",
       "funded_amnt                       0\n",
       "funded_amnt_inv                   0\n",
       "term                              0\n",
       "int_rate                          0\n",
       "installment                       0\n",
       "grade                             0\n",
       "sub_grade                         0\n",
       "emp_title                      2459\n",
       "emp_length                     1075\n",
       "home_ownership                    0\n",
       "annual_inc                        0\n",
       "verification_status               0\n",
       "issue_d                           0\n",
       "loan_status                       0\n",
       "pymnt_plan                        0\n",
       "url                               0\n",
       "desc                          12940\n",
       "purpose                           0\n",
       "title                            11\n",
       "zip_code                          0\n",
       "addr_state                        0\n",
       "dti                               0\n",
       "delinq_2yrs                       0\n",
       "earliest_cr_line                  0\n",
       "inq_last_6mths                    0\n",
       "mths_since_last_delinq        25682\n",
       "mths_since_last_record        36931\n",
       "open_acc                          0\n",
       "pub_rec                           0\n",
       "revol_bal                         0\n",
       "revol_util                       50\n",
       "total_acc                         0\n",
       "initial_list_status               0\n",
       "out_prncp                         0\n",
       "out_prncp_inv                     0\n",
       "total_pymnt                       0\n",
       "total_pymnt_inv                   0\n",
       "total_rec_prncp                   0\n",
       "total_rec_int                     0\n",
       "total_rec_late_fee                0\n",
       "recoveries                        0\n",
       "collection_recovery_fee           0\n",
       "last_pymnt_d                     71\n",
       "last_pymnt_amnt                   0\n",
       "next_pymnt_d                  38577\n",
       "last_credit_pull_d                2\n",
       "collections_12_mths_ex_med       56\n",
       "policy_code                       0\n",
       "application_type                  0\n",
       "acc_now_delinq                    0\n",
       "chargeoff_within_12_mths         56\n",
       "delinq_amnt                       0\n",
       "pub_rec_bankruptcies            697\n",
       "tax_liens                        39\n",
       "dtype: int64"
      ]
     },
     "execution_count": 955,
     "metadata": {},
     "output_type": "execute_result"
    }
   ],
   "source": [
    "loan_data.isnull().sum()"
   ]
  },
  {
   "cell_type": "code",
   "execution_count": 956,
   "metadata": {},
   "outputs": [],
   "source": [
    "#dropping next payment date\n",
    "loan_data.drop(['next_pymnt_d'],axis=1,inplace=True)\n",
    "loan_data.drop(['desc'],axis=1,inplace=True)"
   ]
  },
  {
   "cell_type": "code",
   "execution_count": 957,
   "metadata": {
    "scrolled": true
   },
   "outputs": [
    {
     "data": {
      "text/plain": [
       "id                             0.0\n",
       "member_id                      0.0\n",
       "loan_amnt                      0.0\n",
       "funded_amnt                    0.0\n",
       "funded_amnt_inv                0.0\n",
       "term                           0.0\n",
       "int_rate                       0.0\n",
       "installment                    0.0\n",
       "grade                          0.0\n",
       "sub_grade                      0.0\n",
       "emp_title                      6.0\n",
       "emp_length                     3.0\n",
       "home_ownership                 0.0\n",
       "annual_inc                     0.0\n",
       "verification_status            0.0\n",
       "issue_d                        0.0\n",
       "loan_status                    0.0\n",
       "pymnt_plan                     0.0\n",
       "url                            0.0\n",
       "purpose                        0.0\n",
       "title                          0.0\n",
       "zip_code                       0.0\n",
       "addr_state                     0.0\n",
       "dti                            0.0\n",
       "delinq_2yrs                    0.0\n",
       "earliest_cr_line               0.0\n",
       "inq_last_6mths                 0.0\n",
       "mths_since_last_delinq        65.0\n",
       "mths_since_last_record        93.0\n",
       "open_acc                       0.0\n",
       "pub_rec                        0.0\n",
       "revol_bal                      0.0\n",
       "revol_util                     0.0\n",
       "total_acc                      0.0\n",
       "initial_list_status            0.0\n",
       "out_prncp                      0.0\n",
       "out_prncp_inv                  0.0\n",
       "total_pymnt                    0.0\n",
       "total_pymnt_inv                0.0\n",
       "total_rec_prncp                0.0\n",
       "total_rec_int                  0.0\n",
       "total_rec_late_fee             0.0\n",
       "recoveries                     0.0\n",
       "collection_recovery_fee        0.0\n",
       "last_pymnt_d                   0.0\n",
       "last_pymnt_amnt                0.0\n",
       "last_credit_pull_d             0.0\n",
       "collections_12_mths_ex_med     0.0\n",
       "policy_code                    0.0\n",
       "application_type               0.0\n",
       "acc_now_delinq                 0.0\n",
       "chargeoff_within_12_mths       0.0\n",
       "delinq_amnt                    0.0\n",
       "pub_rec_bankruptcies           2.0\n",
       "tax_liens                      0.0\n",
       "dtype: float64"
      ]
     },
     "execution_count": 957,
     "metadata": {},
     "output_type": "execute_result"
    }
   ],
   "source": [
    "round(loan_data.isnull().sum()/len(loan_data.index), 2)*100"
   ]
  },
  {
   "cell_type": "code",
   "execution_count": 958,
   "metadata": {
    "scrolled": true
   },
   "outputs": [
    {
     "name": "stdout",
     "output_type": "stream",
     "text": [
      "<class 'pandas.core.frame.DataFrame'>\n",
      "RangeIndex: 39717 entries, 0 to 39716\n",
      "Data columns (total 55 columns):\n",
      "id                            39717 non-null int64\n",
      "member_id                     39717 non-null int64\n",
      "loan_amnt                     39717 non-null int64\n",
      "funded_amnt                   39717 non-null int64\n",
      "funded_amnt_inv               39717 non-null float64\n",
      "term                          39717 non-null object\n",
      "int_rate                      39717 non-null object\n",
      "installment                   39717 non-null float64\n",
      "grade                         39717 non-null object\n",
      "sub_grade                     39717 non-null object\n",
      "emp_title                     37258 non-null object\n",
      "emp_length                    38642 non-null object\n",
      "home_ownership                39717 non-null object\n",
      "annual_inc                    39717 non-null float64\n",
      "verification_status           39717 non-null object\n",
      "issue_d                       39717 non-null object\n",
      "loan_status                   39717 non-null object\n",
      "pymnt_plan                    39717 non-null object\n",
      "url                           39717 non-null object\n",
      "purpose                       39717 non-null object\n",
      "title                         39706 non-null object\n",
      "zip_code                      39717 non-null object\n",
      "addr_state                    39717 non-null object\n",
      "dti                           39717 non-null float64\n",
      "delinq_2yrs                   39717 non-null int64\n",
      "earliest_cr_line              39717 non-null object\n",
      "inq_last_6mths                39717 non-null int64\n",
      "mths_since_last_delinq        14035 non-null float64\n",
      "mths_since_last_record        2786 non-null float64\n",
      "open_acc                      39717 non-null int64\n",
      "pub_rec                       39717 non-null int64\n",
      "revol_bal                     39717 non-null int64\n",
      "revol_util                    39667 non-null object\n",
      "total_acc                     39717 non-null int64\n",
      "initial_list_status           39717 non-null object\n",
      "out_prncp                     39717 non-null float64\n",
      "out_prncp_inv                 39717 non-null float64\n",
      "total_pymnt                   39717 non-null float64\n",
      "total_pymnt_inv               39717 non-null float64\n",
      "total_rec_prncp               39717 non-null float64\n",
      "total_rec_int                 39717 non-null float64\n",
      "total_rec_late_fee            39717 non-null float64\n",
      "recoveries                    39717 non-null float64\n",
      "collection_recovery_fee       39717 non-null float64\n",
      "last_pymnt_d                  39646 non-null object\n",
      "last_pymnt_amnt               39717 non-null float64\n",
      "last_credit_pull_d            39715 non-null object\n",
      "collections_12_mths_ex_med    39661 non-null float64\n",
      "policy_code                   39717 non-null int64\n",
      "application_type              39717 non-null object\n",
      "acc_now_delinq                39717 non-null int64\n",
      "chargeoff_within_12_mths      39661 non-null float64\n",
      "delinq_amnt                   39717 non-null int64\n",
      "pub_rec_bankruptcies          39020 non-null float64\n",
      "tax_liens                     39678 non-null float64\n",
      "dtypes: float64(20), int64(13), object(22)\n",
      "memory usage: 16.7+ MB\n",
      "None\n"
     ]
    }
   ],
   "source": [
    "print(loan_data.info())"
   ]
  },
  {
   "cell_type": "code",
   "execution_count": 959,
   "metadata": {},
   "outputs": [],
   "source": [
    "#dropping addr_state,zip_code,URL,emp_title,title as we wont be using this for analysis \n",
    "loan_data.drop(['emp_title','zip_code','addr_state','title', 'url'],axis=1,inplace=True)"
   ]
  },
  {
   "cell_type": "code",
   "execution_count": 960,
   "metadata": {},
   "outputs": [
    {
     "data": {
      "text/plain": [
       "39717"
      ]
     },
     "execution_count": 960,
     "metadata": {},
     "output_type": "execute_result"
    }
   ],
   "source": [
    "#checking for duplicates in loan data\n",
    "loan_data['member_id'].nunique()"
   ]
  },
  {
   "cell_type": "code",
   "execution_count": 961,
   "metadata": {
    "scrolled": false
   },
   "outputs": [
    {
     "data": {
      "text/html": [
       "<div>\n",
       "<style scoped>\n",
       "    .dataframe tbody tr th:only-of-type {\n",
       "        vertical-align: middle;\n",
       "    }\n",
       "\n",
       "    .dataframe tbody tr th {\n",
       "        vertical-align: top;\n",
       "    }\n",
       "\n",
       "    .dataframe thead th {\n",
       "        text-align: right;\n",
       "    }\n",
       "</style>\n",
       "<table border=\"1\" class=\"dataframe\">\n",
       "  <thead>\n",
       "    <tr style=\"text-align: right;\">\n",
       "      <th></th>\n",
       "      <th>id</th>\n",
       "      <th>member_id</th>\n",
       "      <th>loan_amnt</th>\n",
       "      <th>funded_amnt</th>\n",
       "      <th>funded_amnt_inv</th>\n",
       "      <th>term</th>\n",
       "      <th>int_rate</th>\n",
       "      <th>installment</th>\n",
       "      <th>grade</th>\n",
       "      <th>sub_grade</th>\n",
       "      <th>...</th>\n",
       "      <th>last_pymnt_amnt</th>\n",
       "      <th>last_credit_pull_d</th>\n",
       "      <th>collections_12_mths_ex_med</th>\n",
       "      <th>policy_code</th>\n",
       "      <th>application_type</th>\n",
       "      <th>acc_now_delinq</th>\n",
       "      <th>chargeoff_within_12_mths</th>\n",
       "      <th>delinq_amnt</th>\n",
       "      <th>pub_rec_bankruptcies</th>\n",
       "      <th>tax_liens</th>\n",
       "    </tr>\n",
       "  </thead>\n",
       "  <tbody>\n",
       "    <tr>\n",
       "      <th>0</th>\n",
       "      <td>1077501</td>\n",
       "      <td>1296599</td>\n",
       "      <td>5000</td>\n",
       "      <td>5000</td>\n",
       "      <td>4975.0</td>\n",
       "      <td>36 months</td>\n",
       "      <td>10.65%</td>\n",
       "      <td>162.87</td>\n",
       "      <td>B</td>\n",
       "      <td>B2</td>\n",
       "      <td>...</td>\n",
       "      <td>171.62</td>\n",
       "      <td>May-16</td>\n",
       "      <td>0.0</td>\n",
       "      <td>1</td>\n",
       "      <td>INDIVIDUAL</td>\n",
       "      <td>0</td>\n",
       "      <td>0.0</td>\n",
       "      <td>0</td>\n",
       "      <td>0.0</td>\n",
       "      <td>0.0</td>\n",
       "    </tr>\n",
       "    <tr>\n",
       "      <th>1</th>\n",
       "      <td>1077430</td>\n",
       "      <td>1314167</td>\n",
       "      <td>2500</td>\n",
       "      <td>2500</td>\n",
       "      <td>2500.0</td>\n",
       "      <td>60 months</td>\n",
       "      <td>15.27%</td>\n",
       "      <td>59.83</td>\n",
       "      <td>C</td>\n",
       "      <td>C4</td>\n",
       "      <td>...</td>\n",
       "      <td>119.66</td>\n",
       "      <td>Sep-13</td>\n",
       "      <td>0.0</td>\n",
       "      <td>1</td>\n",
       "      <td>INDIVIDUAL</td>\n",
       "      <td>0</td>\n",
       "      <td>0.0</td>\n",
       "      <td>0</td>\n",
       "      <td>0.0</td>\n",
       "      <td>0.0</td>\n",
       "    </tr>\n",
       "    <tr>\n",
       "      <th>2</th>\n",
       "      <td>1077175</td>\n",
       "      <td>1313524</td>\n",
       "      <td>2400</td>\n",
       "      <td>2400</td>\n",
       "      <td>2400.0</td>\n",
       "      <td>36 months</td>\n",
       "      <td>15.96%</td>\n",
       "      <td>84.33</td>\n",
       "      <td>C</td>\n",
       "      <td>C5</td>\n",
       "      <td>...</td>\n",
       "      <td>649.91</td>\n",
       "      <td>May-16</td>\n",
       "      <td>0.0</td>\n",
       "      <td>1</td>\n",
       "      <td>INDIVIDUAL</td>\n",
       "      <td>0</td>\n",
       "      <td>0.0</td>\n",
       "      <td>0</td>\n",
       "      <td>0.0</td>\n",
       "      <td>0.0</td>\n",
       "    </tr>\n",
       "    <tr>\n",
       "      <th>3</th>\n",
       "      <td>1076863</td>\n",
       "      <td>1277178</td>\n",
       "      <td>10000</td>\n",
       "      <td>10000</td>\n",
       "      <td>10000.0</td>\n",
       "      <td>36 months</td>\n",
       "      <td>13.49%</td>\n",
       "      <td>339.31</td>\n",
       "      <td>C</td>\n",
       "      <td>C1</td>\n",
       "      <td>...</td>\n",
       "      <td>357.48</td>\n",
       "      <td>Apr-16</td>\n",
       "      <td>0.0</td>\n",
       "      <td>1</td>\n",
       "      <td>INDIVIDUAL</td>\n",
       "      <td>0</td>\n",
       "      <td>0.0</td>\n",
       "      <td>0</td>\n",
       "      <td>0.0</td>\n",
       "      <td>0.0</td>\n",
       "    </tr>\n",
       "    <tr>\n",
       "      <th>4</th>\n",
       "      <td>1075358</td>\n",
       "      <td>1311748</td>\n",
       "      <td>3000</td>\n",
       "      <td>3000</td>\n",
       "      <td>3000.0</td>\n",
       "      <td>60 months</td>\n",
       "      <td>12.69%</td>\n",
       "      <td>67.79</td>\n",
       "      <td>B</td>\n",
       "      <td>B5</td>\n",
       "      <td>...</td>\n",
       "      <td>67.79</td>\n",
       "      <td>May-16</td>\n",
       "      <td>0.0</td>\n",
       "      <td>1</td>\n",
       "      <td>INDIVIDUAL</td>\n",
       "      <td>0</td>\n",
       "      <td>0.0</td>\n",
       "      <td>0</td>\n",
       "      <td>0.0</td>\n",
       "      <td>0.0</td>\n",
       "    </tr>\n",
       "  </tbody>\n",
       "</table>\n",
       "<p>5 rows × 50 columns</p>\n",
       "</div>"
      ],
      "text/plain": [
       "        id  member_id  loan_amnt  funded_amnt  funded_amnt_inv        term  \\\n",
       "0  1077501    1296599       5000         5000           4975.0   36 months   \n",
       "1  1077430    1314167       2500         2500           2500.0   60 months   \n",
       "2  1077175    1313524       2400         2400           2400.0   36 months   \n",
       "3  1076863    1277178      10000        10000          10000.0   36 months   \n",
       "4  1075358    1311748       3000         3000           3000.0   60 months   \n",
       "\n",
       "  int_rate  installment grade sub_grade    ...     last_pymnt_amnt  \\\n",
       "0   10.65%       162.87     B        B2    ...              171.62   \n",
       "1   15.27%        59.83     C        C4    ...              119.66   \n",
       "2   15.96%        84.33     C        C5    ...              649.91   \n",
       "3   13.49%       339.31     C        C1    ...              357.48   \n",
       "4   12.69%        67.79     B        B5    ...               67.79   \n",
       "\n",
       "  last_credit_pull_d  collections_12_mths_ex_med policy_code application_type  \\\n",
       "0             May-16                         0.0           1       INDIVIDUAL   \n",
       "1             Sep-13                         0.0           1       INDIVIDUAL   \n",
       "2             May-16                         0.0           1       INDIVIDUAL   \n",
       "3             Apr-16                         0.0           1       INDIVIDUAL   \n",
       "4             May-16                         0.0           1       INDIVIDUAL   \n",
       "\n",
       "  acc_now_delinq chargeoff_within_12_mths delinq_amnt  pub_rec_bankruptcies  \\\n",
       "0              0                      0.0           0                   0.0   \n",
       "1              0                      0.0           0                   0.0   \n",
       "2              0                      0.0           0                   0.0   \n",
       "3              0                      0.0           0                   0.0   \n",
       "4              0                      0.0           0                   0.0   \n",
       "\n",
       "   tax_liens  \n",
       "0        0.0  \n",
       "1        0.0  \n",
       "2        0.0  \n",
       "3        0.0  \n",
       "4        0.0  \n",
       "\n",
       "[5 rows x 50 columns]"
      ]
     },
     "execution_count": 961,
     "metadata": {},
     "output_type": "execute_result"
    }
   ],
   "source": [
    "loan_data.head()"
   ]
  },
  {
   "cell_type": "markdown",
   "metadata": {},
   "source": [
    "**Preparing the Data**"
   ]
  },
  {
   "cell_type": "code",
   "execution_count": 968,
   "metadata": {},
   "outputs": [],
   "source": [
    "#creating the loan_driving_data data frame with driver variables\n",
    "driving_data=loan_data[['id','member_id','funded_amnt','term','int_rate','installment','grade',\n",
    "                             'emp_length','home_ownership','annual_inc','verification_status','issue_d','loan_status','purpose',\n",
    "                             'dti','revol_util']]\n",
    "\n",
    "loan_driving_data=pd.DataFrame(driving_data)"
   ]
  },
  {
   "cell_type": "code",
   "execution_count": 969,
   "metadata": {},
   "outputs": [
    {
     "name": "stdout",
     "output_type": "stream",
     "text": [
      "<class 'pandas.core.frame.DataFrame'>\n",
      "RangeIndex: 39717 entries, 0 to 39716\n",
      "Data columns (total 16 columns):\n",
      "id                     39717 non-null int64\n",
      "member_id              39717 non-null int64\n",
      "funded_amnt            39717 non-null int64\n",
      "term                   39717 non-null object\n",
      "int_rate               39717 non-null object\n",
      "installment            39717 non-null float64\n",
      "grade                  39717 non-null object\n",
      "emp_length             38642 non-null object\n",
      "home_ownership         39717 non-null object\n",
      "annual_inc             39717 non-null float64\n",
      "verification_status    39717 non-null object\n",
      "issue_d                39717 non-null object\n",
      "loan_status            39717 non-null object\n",
      "purpose                39717 non-null object\n",
      "dti                    39717 non-null float64\n",
      "revol_util             39667 non-null object\n",
      "dtypes: float64(3), int64(3), object(10)\n",
      "memory usage: 4.8+ MB\n",
      "None\n"
     ]
    }
   ],
   "source": [
    "print(loan_driving_data.info())"
   ]
  },
  {
   "cell_type": "code",
   "execution_count": 970,
   "metadata": {},
   "outputs": [],
   "source": [
    "#Removing the percentage symbol from interest rate and making as a float value\n",
    "loan_driving_data['int_rate'] = loan_driving_data['int_rate'].apply(lambda x: pd.to_numeric(x.split(\"%\")[0]))"
   ]
  },
  {
   "cell_type": "code",
   "execution_count": 971,
   "metadata": {
    "scrolled": true
   },
   "outputs": [
    {
     "data": {
      "text/html": [
       "<div>\n",
       "<style scoped>\n",
       "    .dataframe tbody tr th:only-of-type {\n",
       "        vertical-align: middle;\n",
       "    }\n",
       "\n",
       "    .dataframe tbody tr th {\n",
       "        vertical-align: top;\n",
       "    }\n",
       "\n",
       "    .dataframe thead th {\n",
       "        text-align: right;\n",
       "    }\n",
       "</style>\n",
       "<table border=\"1\" class=\"dataframe\">\n",
       "  <thead>\n",
       "    <tr style=\"text-align: right;\">\n",
       "      <th></th>\n",
       "      <th>id</th>\n",
       "      <th>member_id</th>\n",
       "      <th>funded_amnt</th>\n",
       "      <th>term</th>\n",
       "      <th>int_rate</th>\n",
       "      <th>installment</th>\n",
       "      <th>grade</th>\n",
       "      <th>emp_length</th>\n",
       "      <th>home_ownership</th>\n",
       "      <th>annual_inc</th>\n",
       "      <th>verification_status</th>\n",
       "      <th>issue_d</th>\n",
       "      <th>loan_status</th>\n",
       "      <th>purpose</th>\n",
       "      <th>dti</th>\n",
       "      <th>revol_util</th>\n",
       "    </tr>\n",
       "  </thead>\n",
       "  <tbody>\n",
       "    <tr>\n",
       "      <th>0</th>\n",
       "      <td>1077501</td>\n",
       "      <td>1296599</td>\n",
       "      <td>5000</td>\n",
       "      <td>36 months</td>\n",
       "      <td>10.65</td>\n",
       "      <td>162.87</td>\n",
       "      <td>B</td>\n",
       "      <td>10+ years</td>\n",
       "      <td>RENT</td>\n",
       "      <td>24000.0</td>\n",
       "      <td>Verified</td>\n",
       "      <td>Dec-11</td>\n",
       "      <td>Fully Paid</td>\n",
       "      <td>credit_card</td>\n",
       "      <td>27.65</td>\n",
       "      <td>83.70%</td>\n",
       "    </tr>\n",
       "    <tr>\n",
       "      <th>1</th>\n",
       "      <td>1077430</td>\n",
       "      <td>1314167</td>\n",
       "      <td>2500</td>\n",
       "      <td>60 months</td>\n",
       "      <td>15.27</td>\n",
       "      <td>59.83</td>\n",
       "      <td>C</td>\n",
       "      <td>&lt; 1 year</td>\n",
       "      <td>RENT</td>\n",
       "      <td>30000.0</td>\n",
       "      <td>Source Verified</td>\n",
       "      <td>Dec-11</td>\n",
       "      <td>Charged Off</td>\n",
       "      <td>car</td>\n",
       "      <td>1.00</td>\n",
       "      <td>9.40%</td>\n",
       "    </tr>\n",
       "    <tr>\n",
       "      <th>2</th>\n",
       "      <td>1077175</td>\n",
       "      <td>1313524</td>\n",
       "      <td>2400</td>\n",
       "      <td>36 months</td>\n",
       "      <td>15.96</td>\n",
       "      <td>84.33</td>\n",
       "      <td>C</td>\n",
       "      <td>10+ years</td>\n",
       "      <td>RENT</td>\n",
       "      <td>12252.0</td>\n",
       "      <td>Not Verified</td>\n",
       "      <td>Dec-11</td>\n",
       "      <td>Fully Paid</td>\n",
       "      <td>small_business</td>\n",
       "      <td>8.72</td>\n",
       "      <td>98.50%</td>\n",
       "    </tr>\n",
       "    <tr>\n",
       "      <th>3</th>\n",
       "      <td>1076863</td>\n",
       "      <td>1277178</td>\n",
       "      <td>10000</td>\n",
       "      <td>36 months</td>\n",
       "      <td>13.49</td>\n",
       "      <td>339.31</td>\n",
       "      <td>C</td>\n",
       "      <td>10+ years</td>\n",
       "      <td>RENT</td>\n",
       "      <td>49200.0</td>\n",
       "      <td>Source Verified</td>\n",
       "      <td>Dec-11</td>\n",
       "      <td>Fully Paid</td>\n",
       "      <td>other</td>\n",
       "      <td>20.00</td>\n",
       "      <td>21%</td>\n",
       "    </tr>\n",
       "    <tr>\n",
       "      <th>4</th>\n",
       "      <td>1075358</td>\n",
       "      <td>1311748</td>\n",
       "      <td>3000</td>\n",
       "      <td>60 months</td>\n",
       "      <td>12.69</td>\n",
       "      <td>67.79</td>\n",
       "      <td>B</td>\n",
       "      <td>1 year</td>\n",
       "      <td>RENT</td>\n",
       "      <td>80000.0</td>\n",
       "      <td>Source Verified</td>\n",
       "      <td>Dec-11</td>\n",
       "      <td>Current</td>\n",
       "      <td>other</td>\n",
       "      <td>17.94</td>\n",
       "      <td>53.90%</td>\n",
       "    </tr>\n",
       "  </tbody>\n",
       "</table>\n",
       "</div>"
      ],
      "text/plain": [
       "        id  member_id  funded_amnt        term  int_rate  installment grade  \\\n",
       "0  1077501    1296599         5000   36 months     10.65       162.87     B   \n",
       "1  1077430    1314167         2500   60 months     15.27        59.83     C   \n",
       "2  1077175    1313524         2400   36 months     15.96        84.33     C   \n",
       "3  1076863    1277178        10000   36 months     13.49       339.31     C   \n",
       "4  1075358    1311748         3000   60 months     12.69        67.79     B   \n",
       "\n",
       "  emp_length home_ownership  annual_inc verification_status issue_d  \\\n",
       "0  10+ years           RENT     24000.0            Verified  Dec-11   \n",
       "1   < 1 year           RENT     30000.0     Source Verified  Dec-11   \n",
       "2  10+ years           RENT     12252.0        Not Verified  Dec-11   \n",
       "3  10+ years           RENT     49200.0     Source Verified  Dec-11   \n",
       "4     1 year           RENT     80000.0     Source Verified  Dec-11   \n",
       "\n",
       "   loan_status         purpose    dti revol_util  \n",
       "0   Fully Paid     credit_card  27.65     83.70%  \n",
       "1  Charged Off             car   1.00      9.40%  \n",
       "2   Fully Paid  small_business   8.72     98.50%  \n",
       "3   Fully Paid           other  20.00        21%  \n",
       "4      Current           other  17.94     53.90%  "
      ]
     },
     "execution_count": 971,
     "metadata": {},
     "output_type": "execute_result"
    }
   ],
   "source": [
    "loan_driving_data.head()"
   ]
  },
  {
   "cell_type": "code",
   "execution_count": 972,
   "metadata": {},
   "outputs": [],
   "source": [
    "#Removing the percentage symbol from revol util and making as a float value\n",
    "loan_driving_data['revol_util'] = loan_driving_data['revol_util'].str.split(\"%\",1).str[0]\n",
    "loan_driving_data['revol_util'] = pd.to_numeric(loan_driving_data['revol_util'])"
   ]
  },
  {
   "cell_type": "code",
   "execution_count": 973,
   "metadata": {},
   "outputs": [
    {
     "data": {
      "text/html": [
       "<div>\n",
       "<style scoped>\n",
       "    .dataframe tbody tr th:only-of-type {\n",
       "        vertical-align: middle;\n",
       "    }\n",
       "\n",
       "    .dataframe tbody tr th {\n",
       "        vertical-align: top;\n",
       "    }\n",
       "\n",
       "    .dataframe thead th {\n",
       "        text-align: right;\n",
       "    }\n",
       "</style>\n",
       "<table border=\"1\" class=\"dataframe\">\n",
       "  <thead>\n",
       "    <tr style=\"text-align: right;\">\n",
       "      <th></th>\n",
       "      <th>id</th>\n",
       "      <th>member_id</th>\n",
       "      <th>funded_amnt</th>\n",
       "      <th>term</th>\n",
       "      <th>int_rate</th>\n",
       "      <th>installment</th>\n",
       "      <th>grade</th>\n",
       "      <th>emp_length</th>\n",
       "      <th>home_ownership</th>\n",
       "      <th>annual_inc</th>\n",
       "      <th>verification_status</th>\n",
       "      <th>issue_d</th>\n",
       "      <th>loan_status</th>\n",
       "      <th>purpose</th>\n",
       "      <th>dti</th>\n",
       "      <th>revol_util</th>\n",
       "    </tr>\n",
       "  </thead>\n",
       "  <tbody>\n",
       "    <tr>\n",
       "      <th>3565</th>\n",
       "      <td>1016416</td>\n",
       "      <td>1244120</td>\n",
       "      <td>8000</td>\n",
       "      <td>36 months</td>\n",
       "      <td>19.42</td>\n",
       "      <td>294.95</td>\n",
       "      <td>E</td>\n",
       "      <td>3 years</td>\n",
       "      <td>RENT</td>\n",
       "      <td>30000.0</td>\n",
       "      <td>Source Verified</td>\n",
       "      <td>Nov-11</td>\n",
       "      <td>Fully Paid</td>\n",
       "      <td>debt_consolidation</td>\n",
       "      <td>18.56</td>\n",
       "      <td>NaN</td>\n",
       "    </tr>\n",
       "    <tr>\n",
       "      <th>4714</th>\n",
       "      <td>997734</td>\n",
       "      <td>1222858</td>\n",
       "      <td>6100</td>\n",
       "      <td>36 months</td>\n",
       "      <td>14.27</td>\n",
       "      <td>209.29</td>\n",
       "      <td>C</td>\n",
       "      <td>NaN</td>\n",
       "      <td>MORTGAGE</td>\n",
       "      <td>23748.0</td>\n",
       "      <td>Verified</td>\n",
       "      <td>Nov-11</td>\n",
       "      <td>Charged Off</td>\n",
       "      <td>home_improvement</td>\n",
       "      <td>23.95</td>\n",
       "      <td>NaN</td>\n",
       "    </tr>\n",
       "    <tr>\n",
       "      <th>4943</th>\n",
       "      <td>790093</td>\n",
       "      <td>994164</td>\n",
       "      <td>7200</td>\n",
       "      <td>36 months</td>\n",
       "      <td>14.27</td>\n",
       "      <td>247.03</td>\n",
       "      <td>C</td>\n",
       "      <td>7 years</td>\n",
       "      <td>RENT</td>\n",
       "      <td>48000.0</td>\n",
       "      <td>Not Verified</td>\n",
       "      <td>Oct-11</td>\n",
       "      <td>Fully Paid</td>\n",
       "      <td>debt_consolidation</td>\n",
       "      <td>15.28</td>\n",
       "      <td>NaN</td>\n",
       "    </tr>\n",
       "    <tr>\n",
       "      <th>11282</th>\n",
       "      <td>817195</td>\n",
       "      <td>1024992</td>\n",
       "      <td>5000</td>\n",
       "      <td>36 months</td>\n",
       "      <td>21.36</td>\n",
       "      <td>189.31</td>\n",
       "      <td>F</td>\n",
       "      <td>NaN</td>\n",
       "      <td>MORTGAGE</td>\n",
       "      <td>35000.0</td>\n",
       "      <td>Not Verified</td>\n",
       "      <td>Jul-11</td>\n",
       "      <td>Fully Paid</td>\n",
       "      <td>home_improvement</td>\n",
       "      <td>21.91</td>\n",
       "      <td>NaN</td>\n",
       "    </tr>\n",
       "    <tr>\n",
       "      <th>12042</th>\n",
       "      <td>804073</td>\n",
       "      <td>1009899</td>\n",
       "      <td>3000</td>\n",
       "      <td>60 months</td>\n",
       "      <td>22.11</td>\n",
       "      <td>83.05</td>\n",
       "      <td>G</td>\n",
       "      <td>6 years</td>\n",
       "      <td>OWN</td>\n",
       "      <td>17652.0</td>\n",
       "      <td>Source Verified</td>\n",
       "      <td>Jul-11</td>\n",
       "      <td>Charged Off</td>\n",
       "      <td>other</td>\n",
       "      <td>0.00</td>\n",
       "      <td>NaN</td>\n",
       "    </tr>\n",
       "    <tr>\n",
       "      <th>12147</th>\n",
       "      <td>802201</td>\n",
       "      <td>1007832</td>\n",
       "      <td>4275</td>\n",
       "      <td>36 months</td>\n",
       "      <td>15.99</td>\n",
       "      <td>150.28</td>\n",
       "      <td>D</td>\n",
       "      <td>7 years</td>\n",
       "      <td>MORTGAGE</td>\n",
       "      <td>54500.0</td>\n",
       "      <td>Not Verified</td>\n",
       "      <td>Jul-11</td>\n",
       "      <td>Fully Paid</td>\n",
       "      <td>home_improvement</td>\n",
       "      <td>7.49</td>\n",
       "      <td>NaN</td>\n",
       "    </tr>\n",
       "    <tr>\n",
       "      <th>13891</th>\n",
       "      <td>772732</td>\n",
       "      <td>974723</td>\n",
       "      <td>2000</td>\n",
       "      <td>36 months</td>\n",
       "      <td>18.39</td>\n",
       "      <td>72.70</td>\n",
       "      <td>E</td>\n",
       "      <td>1 year</td>\n",
       "      <td>RENT</td>\n",
       "      <td>24000.0</td>\n",
       "      <td>Not Verified</td>\n",
       "      <td>Jun-11</td>\n",
       "      <td>Charged Off</td>\n",
       "      <td>other</td>\n",
       "      <td>22.60</td>\n",
       "      <td>NaN</td>\n",
       "    </tr>\n",
       "    <tr>\n",
       "      <th>17985</th>\n",
       "      <td>706991</td>\n",
       "      <td>899283</td>\n",
       "      <td>20000</td>\n",
       "      <td>60 months</td>\n",
       "      <td>20.48</td>\n",
       "      <td>535.24</td>\n",
       "      <td>G</td>\n",
       "      <td>10+ years</td>\n",
       "      <td>RENT</td>\n",
       "      <td>42000.0</td>\n",
       "      <td>Verified</td>\n",
       "      <td>Mar-11</td>\n",
       "      <td>Charged Off</td>\n",
       "      <td>debt_consolidation</td>\n",
       "      <td>18.91</td>\n",
       "      <td>NaN</td>\n",
       "    </tr>\n",
       "    <tr>\n",
       "      <th>18184</th>\n",
       "      <td>702880</td>\n",
       "      <td>894759</td>\n",
       "      <td>1825</td>\n",
       "      <td>36 months</td>\n",
       "      <td>12.68</td>\n",
       "      <td>61.22</td>\n",
       "      <td>C</td>\n",
       "      <td>&lt; 1 year</td>\n",
       "      <td>RENT</td>\n",
       "      <td>19200.0</td>\n",
       "      <td>Not Verified</td>\n",
       "      <td>Mar-11</td>\n",
       "      <td>Fully Paid</td>\n",
       "      <td>major_purchase</td>\n",
       "      <td>16.81</td>\n",
       "      <td>NaN</td>\n",
       "    </tr>\n",
       "    <tr>\n",
       "      <th>21604</th>\n",
       "      <td>641703</td>\n",
       "      <td>821414</td>\n",
       "      <td>2500</td>\n",
       "      <td>36 months</td>\n",
       "      <td>16.69</td>\n",
       "      <td>88.75</td>\n",
       "      <td>E</td>\n",
       "      <td>7 years</td>\n",
       "      <td>RENT</td>\n",
       "      <td>27024.0</td>\n",
       "      <td>Verified</td>\n",
       "      <td>Dec-10</td>\n",
       "      <td>Fully Paid</td>\n",
       "      <td>debt_consolidation</td>\n",
       "      <td>5.24</td>\n",
       "      <td>NaN</td>\n",
       "    </tr>\n",
       "    <tr>\n",
       "      <th>24663</th>\n",
       "      <td>597450</td>\n",
       "      <td>766883</td>\n",
       "      <td>1000</td>\n",
       "      <td>36 months</td>\n",
       "      <td>14.84</td>\n",
       "      <td>34.59</td>\n",
       "      <td>D</td>\n",
       "      <td>&lt; 1 year</td>\n",
       "      <td>RENT</td>\n",
       "      <td>18000.0</td>\n",
       "      <td>Source Verified</td>\n",
       "      <td>Oct-10</td>\n",
       "      <td>Fully Paid</td>\n",
       "      <td>moving</td>\n",
       "      <td>0.00</td>\n",
       "      <td>NaN</td>\n",
       "    </tr>\n",
       "    <tr>\n",
       "      <th>24738</th>\n",
       "      <td>596426</td>\n",
       "      <td>765644</td>\n",
       "      <td>3000</td>\n",
       "      <td>36 months</td>\n",
       "      <td>16.32</td>\n",
       "      <td>105.95</td>\n",
       "      <td>D</td>\n",
       "      <td>4 years</td>\n",
       "      <td>RENT</td>\n",
       "      <td>30000.0</td>\n",
       "      <td>Source Verified</td>\n",
       "      <td>Oct-10</td>\n",
       "      <td>Fully Paid</td>\n",
       "      <td>other</td>\n",
       "      <td>3.68</td>\n",
       "      <td>NaN</td>\n",
       "    </tr>\n",
       "    <tr>\n",
       "      <th>24984</th>\n",
       "      <td>592219</td>\n",
       "      <td>757968</td>\n",
       "      <td>2400</td>\n",
       "      <td>36 months</td>\n",
       "      <td>14.72</td>\n",
       "      <td>82.87</td>\n",
       "      <td>C</td>\n",
       "      <td>NaN</td>\n",
       "      <td>RENT</td>\n",
       "      <td>18000.0</td>\n",
       "      <td>Verified</td>\n",
       "      <td>Oct-10</td>\n",
       "      <td>Fully Paid</td>\n",
       "      <td>debt_consolidation</td>\n",
       "      <td>1.67</td>\n",
       "      <td>NaN</td>\n",
       "    </tr>\n",
       "    <tr>\n",
       "      <th>25261</th>\n",
       "      <td>587749</td>\n",
       "      <td>755113</td>\n",
       "      <td>8000</td>\n",
       "      <td>36 months</td>\n",
       "      <td>15.58</td>\n",
       "      <td>279.61</td>\n",
       "      <td>D</td>\n",
       "      <td>1 year</td>\n",
       "      <td>OWN</td>\n",
       "      <td>38400.0</td>\n",
       "      <td>Verified</td>\n",
       "      <td>Oct-10</td>\n",
       "      <td>Charged Off</td>\n",
       "      <td>major_purchase</td>\n",
       "      <td>18.38</td>\n",
       "      <td>NaN</td>\n",
       "    </tr>\n",
       "    <tr>\n",
       "      <th>25977</th>\n",
       "      <td>576386</td>\n",
       "      <td>741269</td>\n",
       "      <td>3200</td>\n",
       "      <td>36 months</td>\n",
       "      <td>17.93</td>\n",
       "      <td>115.58</td>\n",
       "      <td>E</td>\n",
       "      <td>5 years</td>\n",
       "      <td>RENT</td>\n",
       "      <td>15600.0</td>\n",
       "      <td>Verified</td>\n",
       "      <td>Sep-10</td>\n",
       "      <td>Charged Off</td>\n",
       "      <td>debt_consolidation</td>\n",
       "      <td>11.85</td>\n",
       "      <td>NaN</td>\n",
       "    </tr>\n",
       "    <tr>\n",
       "      <th>26649</th>\n",
       "      <td>565967</td>\n",
       "      <td>728097</td>\n",
       "      <td>1800</td>\n",
       "      <td>36 months</td>\n",
       "      <td>14.84</td>\n",
       "      <td>62.26</td>\n",
       "      <td>D</td>\n",
       "      <td>1 year</td>\n",
       "      <td>RENT</td>\n",
       "      <td>4800.0</td>\n",
       "      <td>Not Verified</td>\n",
       "      <td>Aug-10</td>\n",
       "      <td>Fully Paid</td>\n",
       "      <td>debt_consolidation</td>\n",
       "      <td>0.00</td>\n",
       "      <td>NaN</td>\n",
       "    </tr>\n",
       "    <tr>\n",
       "      <th>26724</th>\n",
       "      <td>564565</td>\n",
       "      <td>726391</td>\n",
       "      <td>3000</td>\n",
       "      <td>36 months</td>\n",
       "      <td>13.98</td>\n",
       "      <td>102.51</td>\n",
       "      <td>C</td>\n",
       "      <td>3 years</td>\n",
       "      <td>OWN</td>\n",
       "      <td>24000.0</td>\n",
       "      <td>Source Verified</td>\n",
       "      <td>Aug-10</td>\n",
       "      <td>Fully Paid</td>\n",
       "      <td>other</td>\n",
       "      <td>0.00</td>\n",
       "      <td>NaN</td>\n",
       "    </tr>\n",
       "    <tr>\n",
       "      <th>26813</th>\n",
       "      <td>562958</td>\n",
       "      <td>724383</td>\n",
       "      <td>2100</td>\n",
       "      <td>36 months</td>\n",
       "      <td>15.21</td>\n",
       "      <td>73.02</td>\n",
       "      <td>D</td>\n",
       "      <td>&lt; 1 year</td>\n",
       "      <td>RENT</td>\n",
       "      <td>14400.0</td>\n",
       "      <td>Not Verified</td>\n",
       "      <td>Aug-10</td>\n",
       "      <td>Charged Off</td>\n",
       "      <td>home_improvement</td>\n",
       "      <td>20.33</td>\n",
       "      <td>NaN</td>\n",
       "    </tr>\n",
       "    <tr>\n",
       "      <th>28170</th>\n",
       "      <td>542443</td>\n",
       "      <td>700009</td>\n",
       "      <td>4800</td>\n",
       "      <td>36 months</td>\n",
       "      <td>17.93</td>\n",
       "      <td>173.37</td>\n",
       "      <td>E</td>\n",
       "      <td>5 years</td>\n",
       "      <td>MORTGAGE</td>\n",
       "      <td>36000.0</td>\n",
       "      <td>Source Verified</td>\n",
       "      <td>Jul-10</td>\n",
       "      <td>Fully Paid</td>\n",
       "      <td>other</td>\n",
       "      <td>21.97</td>\n",
       "      <td>NaN</td>\n",
       "    </tr>\n",
       "    <tr>\n",
       "      <th>28685</th>\n",
       "      <td>534313</td>\n",
       "      <td>690565</td>\n",
       "      <td>7000</td>\n",
       "      <td>60 months</td>\n",
       "      <td>18.67</td>\n",
       "      <td>180.32</td>\n",
       "      <td>F</td>\n",
       "      <td>4 years</td>\n",
       "      <td>RENT</td>\n",
       "      <td>27000.0</td>\n",
       "      <td>Source Verified</td>\n",
       "      <td>Jun-10</td>\n",
       "      <td>Charged Off</td>\n",
       "      <td>other</td>\n",
       "      <td>4.62</td>\n",
       "      <td>NaN</td>\n",
       "    </tr>\n",
       "    <tr>\n",
       "      <th>28938</th>\n",
       "      <td>529742</td>\n",
       "      <td>685040</td>\n",
       "      <td>2000</td>\n",
       "      <td>36 months</td>\n",
       "      <td>15.58</td>\n",
       "      <td>69.91</td>\n",
       "      <td>D</td>\n",
       "      <td>2 years</td>\n",
       "      <td>MORTGAGE</td>\n",
       "      <td>36120.0</td>\n",
       "      <td>Not Verified</td>\n",
       "      <td>Jun-10</td>\n",
       "      <td>Fully Paid</td>\n",
       "      <td>other</td>\n",
       "      <td>1.96</td>\n",
       "      <td>NaN</td>\n",
       "    </tr>\n",
       "    <tr>\n",
       "      <th>28986</th>\n",
       "      <td>529189</td>\n",
       "      <td>684372</td>\n",
       "      <td>3000</td>\n",
       "      <td>36 months</td>\n",
       "      <td>14.35</td>\n",
       "      <td>103.05</td>\n",
       "      <td>C</td>\n",
       "      <td>&lt; 1 year</td>\n",
       "      <td>RENT</td>\n",
       "      <td>21600.0</td>\n",
       "      <td>Source Verified</td>\n",
       "      <td>Jun-10</td>\n",
       "      <td>Fully Paid</td>\n",
       "      <td>moving</td>\n",
       "      <td>16.61</td>\n",
       "      <td>NaN</td>\n",
       "    </tr>\n",
       "    <tr>\n",
       "      <th>29236</th>\n",
       "      <td>524545</td>\n",
       "      <td>678704</td>\n",
       "      <td>1500</td>\n",
       "      <td>36 months</td>\n",
       "      <td>16.82</td>\n",
       "      <td>53.35</td>\n",
       "      <td>E</td>\n",
       "      <td>8 years</td>\n",
       "      <td>RENT</td>\n",
       "      <td>39996.0</td>\n",
       "      <td>Not Verified</td>\n",
       "      <td>Jun-10</td>\n",
       "      <td>Charged Off</td>\n",
       "      <td>debt_consolidation</td>\n",
       "      <td>13.05</td>\n",
       "      <td>NaN</td>\n",
       "    </tr>\n",
       "    <tr>\n",
       "      <th>29248</th>\n",
       "      <td>524778</td>\n",
       "      <td>679029</td>\n",
       "      <td>1800</td>\n",
       "      <td>36 months</td>\n",
       "      <td>15.21</td>\n",
       "      <td>62.59</td>\n",
       "      <td>D</td>\n",
       "      <td>6 years</td>\n",
       "      <td>RENT</td>\n",
       "      <td>45336.0</td>\n",
       "      <td>Source Verified</td>\n",
       "      <td>Jun-10</td>\n",
       "      <td>Fully Paid</td>\n",
       "      <td>medical</td>\n",
       "      <td>11.49</td>\n",
       "      <td>NaN</td>\n",
       "    </tr>\n",
       "    <tr>\n",
       "      <th>31862</th>\n",
       "      <td>489925</td>\n",
       "      <td>625341</td>\n",
       "      <td>2500</td>\n",
       "      <td>36 months</td>\n",
       "      <td>18.30</td>\n",
       "      <td>90.76</td>\n",
       "      <td>F</td>\n",
       "      <td>3 years</td>\n",
       "      <td>RENT</td>\n",
       "      <td>14400.0</td>\n",
       "      <td>Not Verified</td>\n",
       "      <td>Mar-10</td>\n",
       "      <td>Fully Paid</td>\n",
       "      <td>car</td>\n",
       "      <td>0.00</td>\n",
       "      <td>NaN</td>\n",
       "    </tr>\n",
       "    <tr>\n",
       "      <th>31939</th>\n",
       "      <td>485585</td>\n",
       "      <td>618650</td>\n",
       "      <td>5500</td>\n",
       "      <td>36 months</td>\n",
       "      <td>17.93</td>\n",
       "      <td>198.65</td>\n",
       "      <td>E</td>\n",
       "      <td>4 years</td>\n",
       "      <td>RENT</td>\n",
       "      <td>19136.0</td>\n",
       "      <td>Not Verified</td>\n",
       "      <td>Feb-10</td>\n",
       "      <td>Fully Paid</td>\n",
       "      <td>other</td>\n",
       "      <td>17.87</td>\n",
       "      <td>NaN</td>\n",
       "    </tr>\n",
       "    <tr>\n",
       "      <th>32715</th>\n",
       "      <td>478050</td>\n",
       "      <td>606824</td>\n",
       "      <td>15000</td>\n",
       "      <td>36 months</td>\n",
       "      <td>14.61</td>\n",
       "      <td>517.13</td>\n",
       "      <td>D</td>\n",
       "      <td>&lt; 1 year</td>\n",
       "      <td>RENT</td>\n",
       "      <td>36000.0</td>\n",
       "      <td>Not Verified</td>\n",
       "      <td>Jan-10</td>\n",
       "      <td>Fully Paid</td>\n",
       "      <td>major_purchase</td>\n",
       "      <td>9.17</td>\n",
       "      <td>NaN</td>\n",
       "    </tr>\n",
       "    <tr>\n",
       "      <th>33078</th>\n",
       "      <td>472809</td>\n",
       "      <td>597097</td>\n",
       "      <td>5000</td>\n",
       "      <td>36 months</td>\n",
       "      <td>15.31</td>\n",
       "      <td>174.08</td>\n",
       "      <td>D</td>\n",
       "      <td>2 years</td>\n",
       "      <td>RENT</td>\n",
       "      <td>55000.0</td>\n",
       "      <td>Not Verified</td>\n",
       "      <td>Jan-10</td>\n",
       "      <td>Fully Paid</td>\n",
       "      <td>debt_consolidation</td>\n",
       "      <td>9.45</td>\n",
       "      <td>NaN</td>\n",
       "    </tr>\n",
       "    <tr>\n",
       "      <th>33490</th>\n",
       "      <td>467846</td>\n",
       "      <td>588848</td>\n",
       "      <td>2500</td>\n",
       "      <td>36 months</td>\n",
       "      <td>15.31</td>\n",
       "      <td>87.04</td>\n",
       "      <td>D</td>\n",
       "      <td>4 years</td>\n",
       "      <td>MORTGAGE</td>\n",
       "      <td>444000.0</td>\n",
       "      <td>Not Verified</td>\n",
       "      <td>Dec-09</td>\n",
       "      <td>Fully Paid</td>\n",
       "      <td>major_purchase</td>\n",
       "      <td>0.18</td>\n",
       "      <td>NaN</td>\n",
       "    </tr>\n",
       "    <tr>\n",
       "      <th>33534</th>\n",
       "      <td>466869</td>\n",
       "      <td>586754</td>\n",
       "      <td>5000</td>\n",
       "      <td>36 months</td>\n",
       "      <td>14.61</td>\n",
       "      <td>172.38</td>\n",
       "      <td>D</td>\n",
       "      <td>4 years</td>\n",
       "      <td>OWN</td>\n",
       "      <td>36000.0</td>\n",
       "      <td>Not Verified</td>\n",
       "      <td>Dec-09</td>\n",
       "      <td>Fully Paid</td>\n",
       "      <td>other</td>\n",
       "      <td>16.57</td>\n",
       "      <td>NaN</td>\n",
       "    </tr>\n",
       "    <tr>\n",
       "      <th>34268</th>\n",
       "      <td>454140</td>\n",
       "      <td>562099</td>\n",
       "      <td>1200</td>\n",
       "      <td>36 months</td>\n",
       "      <td>14.26</td>\n",
       "      <td>41.17</td>\n",
       "      <td>C</td>\n",
       "      <td>&lt; 1 year</td>\n",
       "      <td>RENT</td>\n",
       "      <td>4800.0</td>\n",
       "      <td>Not Verified</td>\n",
       "      <td>Nov-09</td>\n",
       "      <td>Charged Off</td>\n",
       "      <td>other</td>\n",
       "      <td>13.75</td>\n",
       "      <td>NaN</td>\n",
       "    </tr>\n",
       "    <tr>\n",
       "      <th>34849</th>\n",
       "      <td>445339</td>\n",
       "      <td>543815</td>\n",
       "      <td>5500</td>\n",
       "      <td>36 months</td>\n",
       "      <td>19.13</td>\n",
       "      <td>201.97</td>\n",
       "      <td>F</td>\n",
       "      <td>8 years</td>\n",
       "      <td>RENT</td>\n",
       "      <td>144000.0</td>\n",
       "      <td>Not Verified</td>\n",
       "      <td>Oct-09</td>\n",
       "      <td>Fully Paid</td>\n",
       "      <td>credit_card</td>\n",
       "      <td>3.58</td>\n",
       "      <td>NaN</td>\n",
       "    </tr>\n",
       "    <tr>\n",
       "      <th>35851</th>\n",
       "      <td>428880</td>\n",
       "      <td>507853</td>\n",
       "      <td>1400</td>\n",
       "      <td>36 months</td>\n",
       "      <td>12.84</td>\n",
       "      <td>47.07</td>\n",
       "      <td>C</td>\n",
       "      <td>&lt; 1 year</td>\n",
       "      <td>OWN</td>\n",
       "      <td>4888.0</td>\n",
       "      <td>Not Verified</td>\n",
       "      <td>Jul-09</td>\n",
       "      <td>Fully Paid</td>\n",
       "      <td>vacation</td>\n",
       "      <td>17.68</td>\n",
       "      <td>NaN</td>\n",
       "    </tr>\n",
       "    <tr>\n",
       "      <th>36209</th>\n",
       "      <td>418546</td>\n",
       "      <td>488538</td>\n",
       "      <td>2000</td>\n",
       "      <td>36 months</td>\n",
       "      <td>16.00</td>\n",
       "      <td>70.32</td>\n",
       "      <td>E</td>\n",
       "      <td>&lt; 1 year</td>\n",
       "      <td>RENT</td>\n",
       "      <td>24000.0</td>\n",
       "      <td>Not Verified</td>\n",
       "      <td>Jun-09</td>\n",
       "      <td>Charged Off</td>\n",
       "      <td>medical</td>\n",
       "      <td>2.55</td>\n",
       "      <td>NaN</td>\n",
       "    </tr>\n",
       "    <tr>\n",
       "      <th>36473</th>\n",
       "      <td>409181</td>\n",
       "      <td>459745</td>\n",
       "      <td>1750</td>\n",
       "      <td>36 months</td>\n",
       "      <td>15.05</td>\n",
       "      <td>60.71</td>\n",
       "      <td>D</td>\n",
       "      <td>1 year</td>\n",
       "      <td>RENT</td>\n",
       "      <td>10000.0</td>\n",
       "      <td>Verified</td>\n",
       "      <td>Jun-09</td>\n",
       "      <td>Fully Paid</td>\n",
       "      <td>educational</td>\n",
       "      <td>15.84</td>\n",
       "      <td>NaN</td>\n",
       "    </tr>\n",
       "    <tr>\n",
       "      <th>36859</th>\n",
       "      <td>385106</td>\n",
       "      <td>385847</td>\n",
       "      <td>6500</td>\n",
       "      <td>36 months</td>\n",
       "      <td>14.11</td>\n",
       "      <td>222.49</td>\n",
       "      <td>D</td>\n",
       "      <td>2 years</td>\n",
       "      <td>MORTGAGE</td>\n",
       "      <td>73000.0</td>\n",
       "      <td>Source Verified</td>\n",
       "      <td>Apr-09</td>\n",
       "      <td>Charged Off</td>\n",
       "      <td>home_improvement</td>\n",
       "      <td>11.59</td>\n",
       "      <td>NaN</td>\n",
       "    </tr>\n",
       "    <tr>\n",
       "      <th>37042</th>\n",
       "      <td>389118</td>\n",
       "      <td>423060</td>\n",
       "      <td>10000</td>\n",
       "      <td>36 months</td>\n",
       "      <td>15.05</td>\n",
       "      <td>346.92</td>\n",
       "      <td>D</td>\n",
       "      <td>5 years</td>\n",
       "      <td>RENT</td>\n",
       "      <td>47004.0</td>\n",
       "      <td>Not Verified</td>\n",
       "      <td>Apr-09</td>\n",
       "      <td>Fully Paid</td>\n",
       "      <td>major_purchase</td>\n",
       "      <td>20.19</td>\n",
       "      <td>NaN</td>\n",
       "    </tr>\n",
       "    <tr>\n",
       "      <th>37268</th>\n",
       "      <td>385010</td>\n",
       "      <td>416492</td>\n",
       "      <td>1400</td>\n",
       "      <td>36 months</td>\n",
       "      <td>15.37</td>\n",
       "      <td>48.79</td>\n",
       "      <td>D</td>\n",
       "      <td>1 year</td>\n",
       "      <td>MORTGAGE</td>\n",
       "      <td>36000.0</td>\n",
       "      <td>Not Verified</td>\n",
       "      <td>Mar-09</td>\n",
       "      <td>Fully Paid</td>\n",
       "      <td>small_business</td>\n",
       "      <td>5.07</td>\n",
       "      <td>NaN</td>\n",
       "    </tr>\n",
       "    <tr>\n",
       "      <th>37540</th>\n",
       "      <td>377376</td>\n",
       "      <td>401484</td>\n",
       "      <td>5000</td>\n",
       "      <td>36 months</td>\n",
       "      <td>16.95</td>\n",
       "      <td>178.14</td>\n",
       "      <td>E</td>\n",
       "      <td>5 years</td>\n",
       "      <td>MORTGAGE</td>\n",
       "      <td>110000.0</td>\n",
       "      <td>Verified</td>\n",
       "      <td>Feb-09</td>\n",
       "      <td>Fully Paid</td>\n",
       "      <td>other</td>\n",
       "      <td>14.95</td>\n",
       "      <td>NaN</td>\n",
       "    </tr>\n",
       "    <tr>\n",
       "      <th>37709</th>\n",
       "      <td>367694</td>\n",
       "      <td>381474</td>\n",
       "      <td>2750</td>\n",
       "      <td>36 months</td>\n",
       "      <td>16.95</td>\n",
       "      <td>97.98</td>\n",
       "      <td>E</td>\n",
       "      <td>3 years</td>\n",
       "      <td>RENT</td>\n",
       "      <td>4200.0</td>\n",
       "      <td>Not Verified</td>\n",
       "      <td>Jan-09</td>\n",
       "      <td>Fully Paid</td>\n",
       "      <td>educational</td>\n",
       "      <td>0.00</td>\n",
       "      <td>NaN</td>\n",
       "    </tr>\n",
       "    <tr>\n",
       "      <th>37757</th>\n",
       "      <td>373213</td>\n",
       "      <td>393018</td>\n",
       "      <td>12000</td>\n",
       "      <td>36 months</td>\n",
       "      <td>13.16</td>\n",
       "      <td>405.25</td>\n",
       "      <td>C</td>\n",
       "      <td>2 years</td>\n",
       "      <td>RENT</td>\n",
       "      <td>85000.0</td>\n",
       "      <td>Not Verified</td>\n",
       "      <td>Jan-09</td>\n",
       "      <td>Fully Paid</td>\n",
       "      <td>wedding</td>\n",
       "      <td>12.01</td>\n",
       "      <td>NaN</td>\n",
       "    </tr>\n",
       "    <tr>\n",
       "      <th>37778</th>\n",
       "      <td>371408</td>\n",
       "      <td>389218</td>\n",
       "      <td>5000</td>\n",
       "      <td>36 months</td>\n",
       "      <td>13.79</td>\n",
       "      <td>170.38</td>\n",
       "      <td>C</td>\n",
       "      <td>&lt; 1 year</td>\n",
       "      <td>RENT</td>\n",
       "      <td>45000.0</td>\n",
       "      <td>Source Verified</td>\n",
       "      <td>Jan-09</td>\n",
       "      <td>Fully Paid</td>\n",
       "      <td>other</td>\n",
       "      <td>6.00</td>\n",
       "      <td>NaN</td>\n",
       "    </tr>\n",
       "    <tr>\n",
       "      <th>37911</th>\n",
       "      <td>369400</td>\n",
       "      <td>385154</td>\n",
       "      <td>5000</td>\n",
       "      <td>36 months</td>\n",
       "      <td>18.21</td>\n",
       "      <td>181.30</td>\n",
       "      <td>F</td>\n",
       "      <td>1 year</td>\n",
       "      <td>MORTGAGE</td>\n",
       "      <td>45000.0</td>\n",
       "      <td>Verified</td>\n",
       "      <td>Dec-08</td>\n",
       "      <td>Charged Off</td>\n",
       "      <td>debt_consolidation</td>\n",
       "      <td>11.39</td>\n",
       "      <td>NaN</td>\n",
       "    </tr>\n",
       "    <tr>\n",
       "      <th>38201</th>\n",
       "      <td>362592</td>\n",
       "      <td>372090</td>\n",
       "      <td>9000</td>\n",
       "      <td>36 months</td>\n",
       "      <td>15.57</td>\n",
       "      <td>314.51</td>\n",
       "      <td>E</td>\n",
       "      <td>&lt; 1 year</td>\n",
       "      <td>OTHER</td>\n",
       "      <td>39996.0</td>\n",
       "      <td>Not Verified</td>\n",
       "      <td>Nov-08</td>\n",
       "      <td>Fully Paid</td>\n",
       "      <td>other</td>\n",
       "      <td>0.00</td>\n",
       "      <td>NaN</td>\n",
       "    </tr>\n",
       "    <tr>\n",
       "      <th>38457</th>\n",
       "      <td>353677</td>\n",
       "      <td>357409</td>\n",
       "      <td>7500</td>\n",
       "      <td>36 months</td>\n",
       "      <td>16.33</td>\n",
       "      <td>264.91</td>\n",
       "      <td>F</td>\n",
       "      <td>6 years</td>\n",
       "      <td>MORTGAGE</td>\n",
       "      <td>50000.0</td>\n",
       "      <td>Not Verified</td>\n",
       "      <td>Aug-08</td>\n",
       "      <td>Charged Off</td>\n",
       "      <td>credit_card</td>\n",
       "      <td>10.80</td>\n",
       "      <td>NaN</td>\n",
       "    </tr>\n",
       "    <tr>\n",
       "      <th>38524</th>\n",
       "      <td>352047</td>\n",
       "      <td>354931</td>\n",
       "      <td>5600</td>\n",
       "      <td>36 months</td>\n",
       "      <td>10.64</td>\n",
       "      <td>182.39</td>\n",
       "      <td>B</td>\n",
       "      <td>4 years</td>\n",
       "      <td>OTHER</td>\n",
       "      <td>78000.0</td>\n",
       "      <td>Not Verified</td>\n",
       "      <td>Jul-08</td>\n",
       "      <td>Fully Paid</td>\n",
       "      <td>major_purchase</td>\n",
       "      <td>4.26</td>\n",
       "      <td>NaN</td>\n",
       "    </tr>\n",
       "    <tr>\n",
       "      <th>38899</th>\n",
       "      <td>306018</td>\n",
       "      <td>305720</td>\n",
       "      <td>700</td>\n",
       "      <td>36 months</td>\n",
       "      <td>12.29</td>\n",
       "      <td>23.35</td>\n",
       "      <td>C</td>\n",
       "      <td>&lt; 1 year</td>\n",
       "      <td>RENT</td>\n",
       "      <td>19000.0</td>\n",
       "      <td>Not Verified</td>\n",
       "      <td>Mar-08</td>\n",
       "      <td>Fully Paid</td>\n",
       "      <td>debt_consolidation</td>\n",
       "      <td>12.38</td>\n",
       "      <td>NaN</td>\n",
       "    </tr>\n",
       "    <tr>\n",
       "      <th>38917</th>\n",
       "      <td>300383</td>\n",
       "      <td>300380</td>\n",
       "      <td>8000</td>\n",
       "      <td>36 months</td>\n",
       "      <td>11.34</td>\n",
       "      <td>263.20</td>\n",
       "      <td>C</td>\n",
       "      <td>4 years</td>\n",
       "      <td>RENT</td>\n",
       "      <td>45000.0</td>\n",
       "      <td>Verified</td>\n",
       "      <td>Mar-08</td>\n",
       "      <td>Charged Off</td>\n",
       "      <td>debt_consolidation</td>\n",
       "      <td>8.75</td>\n",
       "      <td>NaN</td>\n",
       "    </tr>\n",
       "    <tr>\n",
       "      <th>38949</th>\n",
       "      <td>294803</td>\n",
       "      <td>294798</td>\n",
       "      <td>1600</td>\n",
       "      <td>36 months</td>\n",
       "      <td>11.03</td>\n",
       "      <td>52.41</td>\n",
       "      <td>C</td>\n",
       "      <td>2 years</td>\n",
       "      <td>RENT</td>\n",
       "      <td>37500.0</td>\n",
       "      <td>Not Verified</td>\n",
       "      <td>Mar-08</td>\n",
       "      <td>Fully Paid</td>\n",
       "      <td>educational</td>\n",
       "      <td>15.84</td>\n",
       "      <td>NaN</td>\n",
       "    </tr>\n",
       "    <tr>\n",
       "      <th>38970</th>\n",
       "      <td>290803</td>\n",
       "      <td>290796</td>\n",
       "      <td>3000</td>\n",
       "      <td>36 months</td>\n",
       "      <td>11.34</td>\n",
       "      <td>98.70</td>\n",
       "      <td>C</td>\n",
       "      <td>&lt; 1 year</td>\n",
       "      <td>RENT</td>\n",
       "      <td>37440.0</td>\n",
       "      <td>Not Verified</td>\n",
       "      <td>Mar-08</td>\n",
       "      <td>Charged Off</td>\n",
       "      <td>car</td>\n",
       "      <td>7.72</td>\n",
       "      <td>NaN</td>\n",
       "    </tr>\n",
       "  </tbody>\n",
       "</table>\n",
       "</div>"
      ],
      "text/plain": [
       "            id  member_id  funded_amnt        term  int_rate  installment  \\\n",
       "3565   1016416    1244120         8000   36 months     19.42       294.95   \n",
       "4714    997734    1222858         6100   36 months     14.27       209.29   \n",
       "4943    790093     994164         7200   36 months     14.27       247.03   \n",
       "11282   817195    1024992         5000   36 months     21.36       189.31   \n",
       "12042   804073    1009899         3000   60 months     22.11        83.05   \n",
       "12147   802201    1007832         4275   36 months     15.99       150.28   \n",
       "13891   772732     974723         2000   36 months     18.39        72.70   \n",
       "17985   706991     899283        20000   60 months     20.48       535.24   \n",
       "18184   702880     894759         1825   36 months     12.68        61.22   \n",
       "21604   641703     821414         2500   36 months     16.69        88.75   \n",
       "24663   597450     766883         1000   36 months     14.84        34.59   \n",
       "24738   596426     765644         3000   36 months     16.32       105.95   \n",
       "24984   592219     757968         2400   36 months     14.72        82.87   \n",
       "25261   587749     755113         8000   36 months     15.58       279.61   \n",
       "25977   576386     741269         3200   36 months     17.93       115.58   \n",
       "26649   565967     728097         1800   36 months     14.84        62.26   \n",
       "26724   564565     726391         3000   36 months     13.98       102.51   \n",
       "26813   562958     724383         2100   36 months     15.21        73.02   \n",
       "28170   542443     700009         4800   36 months     17.93       173.37   \n",
       "28685   534313     690565         7000   60 months     18.67       180.32   \n",
       "28938   529742     685040         2000   36 months     15.58        69.91   \n",
       "28986   529189     684372         3000   36 months     14.35       103.05   \n",
       "29236   524545     678704         1500   36 months     16.82        53.35   \n",
       "29248   524778     679029         1800   36 months     15.21        62.59   \n",
       "31862   489925     625341         2500   36 months     18.30        90.76   \n",
       "31939   485585     618650         5500   36 months     17.93       198.65   \n",
       "32715   478050     606824        15000   36 months     14.61       517.13   \n",
       "33078   472809     597097         5000   36 months     15.31       174.08   \n",
       "33490   467846     588848         2500   36 months     15.31        87.04   \n",
       "33534   466869     586754         5000   36 months     14.61       172.38   \n",
       "34268   454140     562099         1200   36 months     14.26        41.17   \n",
       "34849   445339     543815         5500   36 months     19.13       201.97   \n",
       "35851   428880     507853         1400   36 months     12.84        47.07   \n",
       "36209   418546     488538         2000   36 months     16.00        70.32   \n",
       "36473   409181     459745         1750   36 months     15.05        60.71   \n",
       "36859   385106     385847         6500   36 months     14.11       222.49   \n",
       "37042   389118     423060        10000   36 months     15.05       346.92   \n",
       "37268   385010     416492         1400   36 months     15.37        48.79   \n",
       "37540   377376     401484         5000   36 months     16.95       178.14   \n",
       "37709   367694     381474         2750   36 months     16.95        97.98   \n",
       "37757   373213     393018        12000   36 months     13.16       405.25   \n",
       "37778   371408     389218         5000   36 months     13.79       170.38   \n",
       "37911   369400     385154         5000   36 months     18.21       181.30   \n",
       "38201   362592     372090         9000   36 months     15.57       314.51   \n",
       "38457   353677     357409         7500   36 months     16.33       264.91   \n",
       "38524   352047     354931         5600   36 months     10.64       182.39   \n",
       "38899   306018     305720          700   36 months     12.29        23.35   \n",
       "38917   300383     300380         8000   36 months     11.34       263.20   \n",
       "38949   294803     294798         1600   36 months     11.03        52.41   \n",
       "38970   290803     290796         3000   36 months     11.34        98.70   \n",
       "\n",
       "      grade emp_length home_ownership  annual_inc verification_status issue_d  \\\n",
       "3565      E    3 years           RENT     30000.0     Source Verified  Nov-11   \n",
       "4714      C        NaN       MORTGAGE     23748.0            Verified  Nov-11   \n",
       "4943      C    7 years           RENT     48000.0        Not Verified  Oct-11   \n",
       "11282     F        NaN       MORTGAGE     35000.0        Not Verified  Jul-11   \n",
       "12042     G    6 years            OWN     17652.0     Source Verified  Jul-11   \n",
       "12147     D    7 years       MORTGAGE     54500.0        Not Verified  Jul-11   \n",
       "13891     E     1 year           RENT     24000.0        Not Verified  Jun-11   \n",
       "17985     G  10+ years           RENT     42000.0            Verified  Mar-11   \n",
       "18184     C   < 1 year           RENT     19200.0        Not Verified  Mar-11   \n",
       "21604     E    7 years           RENT     27024.0            Verified  Dec-10   \n",
       "24663     D   < 1 year           RENT     18000.0     Source Verified  Oct-10   \n",
       "24738     D    4 years           RENT     30000.0     Source Verified  Oct-10   \n",
       "24984     C        NaN           RENT     18000.0            Verified  Oct-10   \n",
       "25261     D     1 year            OWN     38400.0            Verified  Oct-10   \n",
       "25977     E    5 years           RENT     15600.0            Verified  Sep-10   \n",
       "26649     D     1 year           RENT      4800.0        Not Verified  Aug-10   \n",
       "26724     C    3 years            OWN     24000.0     Source Verified  Aug-10   \n",
       "26813     D   < 1 year           RENT     14400.0        Not Verified  Aug-10   \n",
       "28170     E    5 years       MORTGAGE     36000.0     Source Verified  Jul-10   \n",
       "28685     F    4 years           RENT     27000.0     Source Verified  Jun-10   \n",
       "28938     D    2 years       MORTGAGE     36120.0        Not Verified  Jun-10   \n",
       "28986     C   < 1 year           RENT     21600.0     Source Verified  Jun-10   \n",
       "29236     E    8 years           RENT     39996.0        Not Verified  Jun-10   \n",
       "29248     D    6 years           RENT     45336.0     Source Verified  Jun-10   \n",
       "31862     F    3 years           RENT     14400.0        Not Verified  Mar-10   \n",
       "31939     E    4 years           RENT     19136.0        Not Verified  Feb-10   \n",
       "32715     D   < 1 year           RENT     36000.0        Not Verified  Jan-10   \n",
       "33078     D    2 years           RENT     55000.0        Not Verified  Jan-10   \n",
       "33490     D    4 years       MORTGAGE    444000.0        Not Verified  Dec-09   \n",
       "33534     D    4 years            OWN     36000.0        Not Verified  Dec-09   \n",
       "34268     C   < 1 year           RENT      4800.0        Not Verified  Nov-09   \n",
       "34849     F    8 years           RENT    144000.0        Not Verified  Oct-09   \n",
       "35851     C   < 1 year            OWN      4888.0        Not Verified  Jul-09   \n",
       "36209     E   < 1 year           RENT     24000.0        Not Verified  Jun-09   \n",
       "36473     D     1 year           RENT     10000.0            Verified  Jun-09   \n",
       "36859     D    2 years       MORTGAGE     73000.0     Source Verified  Apr-09   \n",
       "37042     D    5 years           RENT     47004.0        Not Verified  Apr-09   \n",
       "37268     D     1 year       MORTGAGE     36000.0        Not Verified  Mar-09   \n",
       "37540     E    5 years       MORTGAGE    110000.0            Verified  Feb-09   \n",
       "37709     E    3 years           RENT      4200.0        Not Verified  Jan-09   \n",
       "37757     C    2 years           RENT     85000.0        Not Verified  Jan-09   \n",
       "37778     C   < 1 year           RENT     45000.0     Source Verified  Jan-09   \n",
       "37911     F     1 year       MORTGAGE     45000.0            Verified  Dec-08   \n",
       "38201     E   < 1 year          OTHER     39996.0        Not Verified  Nov-08   \n",
       "38457     F    6 years       MORTGAGE     50000.0        Not Verified  Aug-08   \n",
       "38524     B    4 years          OTHER     78000.0        Not Verified  Jul-08   \n",
       "38899     C   < 1 year           RENT     19000.0        Not Verified  Mar-08   \n",
       "38917     C    4 years           RENT     45000.0            Verified  Mar-08   \n",
       "38949     C    2 years           RENT     37500.0        Not Verified  Mar-08   \n",
       "38970     C   < 1 year           RENT     37440.0        Not Verified  Mar-08   \n",
       "\n",
       "       loan_status             purpose    dti  revol_util  \n",
       "3565    Fully Paid  debt_consolidation  18.56         NaN  \n",
       "4714   Charged Off    home_improvement  23.95         NaN  \n",
       "4943    Fully Paid  debt_consolidation  15.28         NaN  \n",
       "11282   Fully Paid    home_improvement  21.91         NaN  \n",
       "12042  Charged Off               other   0.00         NaN  \n",
       "12147   Fully Paid    home_improvement   7.49         NaN  \n",
       "13891  Charged Off               other  22.60         NaN  \n",
       "17985  Charged Off  debt_consolidation  18.91         NaN  \n",
       "18184   Fully Paid      major_purchase  16.81         NaN  \n",
       "21604   Fully Paid  debt_consolidation   5.24         NaN  \n",
       "24663   Fully Paid              moving   0.00         NaN  \n",
       "24738   Fully Paid               other   3.68         NaN  \n",
       "24984   Fully Paid  debt_consolidation   1.67         NaN  \n",
       "25261  Charged Off      major_purchase  18.38         NaN  \n",
       "25977  Charged Off  debt_consolidation  11.85         NaN  \n",
       "26649   Fully Paid  debt_consolidation   0.00         NaN  \n",
       "26724   Fully Paid               other   0.00         NaN  \n",
       "26813  Charged Off    home_improvement  20.33         NaN  \n",
       "28170   Fully Paid               other  21.97         NaN  \n",
       "28685  Charged Off               other   4.62         NaN  \n",
       "28938   Fully Paid               other   1.96         NaN  \n",
       "28986   Fully Paid              moving  16.61         NaN  \n",
       "29236  Charged Off  debt_consolidation  13.05         NaN  \n",
       "29248   Fully Paid             medical  11.49         NaN  \n",
       "31862   Fully Paid                 car   0.00         NaN  \n",
       "31939   Fully Paid               other  17.87         NaN  \n",
       "32715   Fully Paid      major_purchase   9.17         NaN  \n",
       "33078   Fully Paid  debt_consolidation   9.45         NaN  \n",
       "33490   Fully Paid      major_purchase   0.18         NaN  \n",
       "33534   Fully Paid               other  16.57         NaN  \n",
       "34268  Charged Off               other  13.75         NaN  \n",
       "34849   Fully Paid         credit_card   3.58         NaN  \n",
       "35851   Fully Paid            vacation  17.68         NaN  \n",
       "36209  Charged Off             medical   2.55         NaN  \n",
       "36473   Fully Paid         educational  15.84         NaN  \n",
       "36859  Charged Off    home_improvement  11.59         NaN  \n",
       "37042   Fully Paid      major_purchase  20.19         NaN  \n",
       "37268   Fully Paid      small_business   5.07         NaN  \n",
       "37540   Fully Paid               other  14.95         NaN  \n",
       "37709   Fully Paid         educational   0.00         NaN  \n",
       "37757   Fully Paid             wedding  12.01         NaN  \n",
       "37778   Fully Paid               other   6.00         NaN  \n",
       "37911  Charged Off  debt_consolidation  11.39         NaN  \n",
       "38201   Fully Paid               other   0.00         NaN  \n",
       "38457  Charged Off         credit_card  10.80         NaN  \n",
       "38524   Fully Paid      major_purchase   4.26         NaN  \n",
       "38899   Fully Paid  debt_consolidation  12.38         NaN  \n",
       "38917  Charged Off  debt_consolidation   8.75         NaN  \n",
       "38949   Fully Paid         educational  15.84         NaN  \n",
       "38970  Charged Off                 car   7.72         NaN  "
      ]
     },
     "execution_count": 973,
     "metadata": {},
     "output_type": "execute_result"
    }
   ],
   "source": [
    "#checking for the null values\n",
    "loan_driving_data.loc[loan_driving_data[\"revol_util\"].isnull()]"
   ]
  },
  {
   "cell_type": "code",
   "execution_count": 974,
   "metadata": {},
   "outputs": [],
   "source": [
    "#dropping the records which have revol_util as null \n",
    "loan_driving_data = loan_driving_data.dropna(subset=['revol_util']) "
   ]
  },
  {
   "cell_type": "code",
   "execution_count": 976,
   "metadata": {
    "scrolled": true
   },
   "outputs": [
    {
     "data": {
      "text/plain": [
       "10+ years    8878\n",
       "< 1 year     4571\n",
       "2 years      4383\n",
       "3 years      4091\n",
       "4 years      3429\n",
       "5 years      3278\n",
       "1 year       3234\n",
       "6 years      2226\n",
       "7 years      1770\n",
       "8 years      1477\n",
       "9 years      1258\n",
       "Name: emp_length, dtype: int64"
      ]
     },
     "execution_count": 976,
     "metadata": {},
     "output_type": "execute_result"
    }
   ],
   "source": [
    "#checking for emp_lengths\n",
    "loan_driving_data['emp_length'].value_counts()"
   ]
  },
  {
   "cell_type": "code",
   "execution_count": 977,
   "metadata": {
    "scrolled": false
   },
   "outputs": [],
   "source": [
    "#as we see maximum ppl have 10+ years emp length.. Updating NA to 10+ years years.  \n",
    "loan_driving_data.loc[loan_driving_data[\"emp_length\"].isnull()]\n",
    "loan_driving_data.loc[pd.isnull(loan_driving_data['emp_length']), ['emp_length']] = '10+ years'"
   ]
  },
  {
   "cell_type": "code",
   "execution_count": 978,
   "metadata": {
    "scrolled": false
   },
   "outputs": [
    {
     "data": {
      "text/plain": [
       "10+ years    9950\n",
       "< 1 year     4571\n",
       "2 years      4383\n",
       "3 years      4091\n",
       "4 years      3429\n",
       "5 years      3278\n",
       "1 year       3234\n",
       "6 years      2226\n",
       "7 years      1770\n",
       "8 years      1477\n",
       "9 years      1258\n",
       "Name: emp_length, dtype: int64"
      ]
     },
     "execution_count": 978,
     "metadata": {},
     "output_type": "execute_result"
    }
   ],
   "source": [
    "loan_driving_data['emp_length'].value_counts()"
   ]
  },
  {
   "cell_type": "code",
   "execution_count": 979,
   "metadata": {},
   "outputs": [],
   "source": [
    "#Creating a bins based on emp_length\n",
    "# employee with 1 to 4 experience as junior\n",
    "# employee with 5 to 8 experience as Mid Level\n",
    "# employee with 9 and 10+ experience as Senior\n",
    "\n",
    "loan_driving_data['emp_length_grp']=loan_driving_data['emp_length']\n",
    "loan_driving_data.loc[loan_driving_data['emp_length'].str.contains(\"1 year\") ,['emp_length_grp']] ='Junior'\n",
    "loan_driving_data.loc[loan_driving_data['emp_length'].str.contains(\"2 years\"), ['emp_length_grp']] ='Junior'\n",
    "loan_driving_data.loc[loan_driving_data['emp_length'].str.contains(\"3 years\"), ['emp_length_grp']] ='Junior'\n",
    "loan_driving_data.loc[loan_driving_data['emp_length'].str.contains(\"4 years\"), ['emp_length_grp']] ='Junior'\n",
    "loan_driving_data.loc[loan_driving_data['emp_length'].str.contains(\"5 years\"), ['emp_length_grp']] ='Mid-Level'\n",
    "loan_driving_data.loc[loan_driving_data['emp_length'].str.contains(\"6 years\"), ['emp_length_grp']] ='Mid-Level'\n",
    "loan_driving_data.loc[loan_driving_data['emp_length'].str.contains(\"7 years\"), ['emp_length_grp']] ='Mid-Level'\n",
    "loan_driving_data.loc[loan_driving_data['emp_length'].str.contains(\"8 years\"), ['emp_length_grp']] ='Mid-Level'\n",
    "loan_driving_data.loc[loan_driving_data['emp_length'].str.contains(\"9 years\"), ['emp_length_grp']] ='Senior'\n",
    "loan_driving_data.loc[loan_driving_data['emp_length'].str.contains(\"10\"), ['emp_length_grp']] ='Senior'"
   ]
  },
  {
   "cell_type": "code",
   "execution_count": 980,
   "metadata": {},
   "outputs": [
    {
     "data": {
      "text/plain": [
       "array(['Senior', 'Junior', 'Mid-Level'], dtype=object)"
      ]
     },
     "execution_count": 980,
     "metadata": {},
     "output_type": "execute_result"
    }
   ],
   "source": [
    "loan_driving_data['emp_length_grp'].unique()"
   ]
  },
  {
   "cell_type": "code",
   "execution_count": 982,
   "metadata": {
    "scrolled": true
   },
   "outputs": [
    {
     "data": {
      "text/html": [
       "<div>\n",
       "<style scoped>\n",
       "    .dataframe tbody tr th:only-of-type {\n",
       "        vertical-align: middle;\n",
       "    }\n",
       "\n",
       "    .dataframe tbody tr th {\n",
       "        vertical-align: top;\n",
       "    }\n",
       "\n",
       "    .dataframe thead th {\n",
       "        text-align: right;\n",
       "    }\n",
       "</style>\n",
       "<table border=\"1\" class=\"dataframe\">\n",
       "  <thead>\n",
       "    <tr style=\"text-align: right;\">\n",
       "      <th></th>\n",
       "      <th>id</th>\n",
       "      <th>member_id</th>\n",
       "      <th>funded_amnt</th>\n",
       "      <th>term</th>\n",
       "      <th>int_rate</th>\n",
       "      <th>installment</th>\n",
       "      <th>grade</th>\n",
       "      <th>emp_length</th>\n",
       "      <th>home_ownership</th>\n",
       "      <th>annual_inc</th>\n",
       "      <th>verification_status</th>\n",
       "      <th>issue_d</th>\n",
       "      <th>loan_status</th>\n",
       "      <th>purpose</th>\n",
       "      <th>dti</th>\n",
       "      <th>revol_util</th>\n",
       "      <th>emp_length_grp</th>\n",
       "    </tr>\n",
       "  </thead>\n",
       "  <tbody>\n",
       "    <tr>\n",
       "      <th>0</th>\n",
       "      <td>1077501</td>\n",
       "      <td>1296599</td>\n",
       "      <td>5000</td>\n",
       "      <td>36 months</td>\n",
       "      <td>10.65</td>\n",
       "      <td>162.87</td>\n",
       "      <td>B</td>\n",
       "      <td>10+ years</td>\n",
       "      <td>RENT</td>\n",
       "      <td>24000.0</td>\n",
       "      <td>Verified</td>\n",
       "      <td>Dec-11</td>\n",
       "      <td>Fully Paid</td>\n",
       "      <td>credit_card</td>\n",
       "      <td>27.65</td>\n",
       "      <td>83.7</td>\n",
       "      <td>Senior</td>\n",
       "    </tr>\n",
       "    <tr>\n",
       "      <th>1</th>\n",
       "      <td>1077430</td>\n",
       "      <td>1314167</td>\n",
       "      <td>2500</td>\n",
       "      <td>60 months</td>\n",
       "      <td>15.27</td>\n",
       "      <td>59.83</td>\n",
       "      <td>C</td>\n",
       "      <td>&lt; 1 year</td>\n",
       "      <td>RENT</td>\n",
       "      <td>30000.0</td>\n",
       "      <td>Source Verified</td>\n",
       "      <td>Dec-11</td>\n",
       "      <td>Charged Off</td>\n",
       "      <td>car</td>\n",
       "      <td>1.00</td>\n",
       "      <td>9.4</td>\n",
       "      <td>Junior</td>\n",
       "    </tr>\n",
       "    <tr>\n",
       "      <th>2</th>\n",
       "      <td>1077175</td>\n",
       "      <td>1313524</td>\n",
       "      <td>2400</td>\n",
       "      <td>36 months</td>\n",
       "      <td>15.96</td>\n",
       "      <td>84.33</td>\n",
       "      <td>C</td>\n",
       "      <td>10+ years</td>\n",
       "      <td>RENT</td>\n",
       "      <td>12252.0</td>\n",
       "      <td>Not Verified</td>\n",
       "      <td>Dec-11</td>\n",
       "      <td>Fully Paid</td>\n",
       "      <td>small_business</td>\n",
       "      <td>8.72</td>\n",
       "      <td>98.5</td>\n",
       "      <td>Senior</td>\n",
       "    </tr>\n",
       "    <tr>\n",
       "      <th>3</th>\n",
       "      <td>1076863</td>\n",
       "      <td>1277178</td>\n",
       "      <td>10000</td>\n",
       "      <td>36 months</td>\n",
       "      <td>13.49</td>\n",
       "      <td>339.31</td>\n",
       "      <td>C</td>\n",
       "      <td>10+ years</td>\n",
       "      <td>RENT</td>\n",
       "      <td>49200.0</td>\n",
       "      <td>Source Verified</td>\n",
       "      <td>Dec-11</td>\n",
       "      <td>Fully Paid</td>\n",
       "      <td>other</td>\n",
       "      <td>20.00</td>\n",
       "      <td>21.0</td>\n",
       "      <td>Senior</td>\n",
       "    </tr>\n",
       "    <tr>\n",
       "      <th>4</th>\n",
       "      <td>1075358</td>\n",
       "      <td>1311748</td>\n",
       "      <td>3000</td>\n",
       "      <td>60 months</td>\n",
       "      <td>12.69</td>\n",
       "      <td>67.79</td>\n",
       "      <td>B</td>\n",
       "      <td>1 year</td>\n",
       "      <td>RENT</td>\n",
       "      <td>80000.0</td>\n",
       "      <td>Source Verified</td>\n",
       "      <td>Dec-11</td>\n",
       "      <td>Current</td>\n",
       "      <td>other</td>\n",
       "      <td>17.94</td>\n",
       "      <td>53.9</td>\n",
       "      <td>Junior</td>\n",
       "    </tr>\n",
       "  </tbody>\n",
       "</table>\n",
       "</div>"
      ],
      "text/plain": [
       "        id  member_id  funded_amnt        term  int_rate  installment grade  \\\n",
       "0  1077501    1296599         5000   36 months     10.65       162.87     B   \n",
       "1  1077430    1314167         2500   60 months     15.27        59.83     C   \n",
       "2  1077175    1313524         2400   36 months     15.96        84.33     C   \n",
       "3  1076863    1277178        10000   36 months     13.49       339.31     C   \n",
       "4  1075358    1311748         3000   60 months     12.69        67.79     B   \n",
       "\n",
       "  emp_length home_ownership  annual_inc verification_status issue_d  \\\n",
       "0  10+ years           RENT     24000.0            Verified  Dec-11   \n",
       "1   < 1 year           RENT     30000.0     Source Verified  Dec-11   \n",
       "2  10+ years           RENT     12252.0        Not Verified  Dec-11   \n",
       "3  10+ years           RENT     49200.0     Source Verified  Dec-11   \n",
       "4     1 year           RENT     80000.0     Source Verified  Dec-11   \n",
       "\n",
       "   loan_status         purpose    dti  revol_util emp_length_grp  \n",
       "0   Fully Paid     credit_card  27.65        83.7         Senior  \n",
       "1  Charged Off             car   1.00         9.4         Junior  \n",
       "2   Fully Paid  small_business   8.72        98.5         Senior  \n",
       "3   Fully Paid           other  20.00        21.0         Senior  \n",
       "4      Current           other  17.94        53.9         Junior  "
      ]
     },
     "execution_count": 982,
     "metadata": {},
     "output_type": "execute_result"
    }
   ],
   "source": [
    "loan_driving_data.head()"
   ]
  },
  {
   "cell_type": "code",
   "execution_count": 983,
   "metadata": {},
   "outputs": [],
   "source": [
    "#putting funding amount in to bins\n",
    "#funding amount <= 5000 as low\n",
    "#funding amount > 5000 and <= 15000 as Medium\n",
    "#funding amount > 15000 and <= 25000 as High\n",
    "#funding amount > 25000 Very High\n",
    "\n",
    "loan_driving_data['funded_amnt_grp'] = loan_driving_data['funded_amnt']\n",
    "\n",
    "loan_driving_data.loc[loan_driving_data['funded_amnt']<=5000, ['funded_amnt_grp']] = 'Low'\n",
    "loan_driving_data.loc[((loan_driving_data['funded_amnt']>5000) & (loan_driving_data['funded_amnt']<=15000)), ['funded_amnt_grp']] = 'Medium'\n",
    "loan_driving_data.loc[((loan_driving_data['funded_amnt']>15000) & (loan_driving_data['funded_amnt']<=25000)), ['funded_amnt_grp']] = 'High'\n",
    "loan_driving_data.loc[loan_driving_data['funded_amnt']>25000, ['funded_amnt_grp']] = 'Very High'"
   ]
  },
  {
   "cell_type": "code",
   "execution_count": 984,
   "metadata": {
    "scrolled": true
   },
   "outputs": [
    {
     "data": {
      "text/plain": [
       "Medium       21324\n",
       "Low           9617\n",
       "High          7315\n",
       "Very High     1411\n",
       "Name: funded_amnt_grp, dtype: int64"
      ]
     },
     "execution_count": 984,
     "metadata": {},
     "output_type": "execute_result"
    }
   ],
   "source": [
    "loan_driving_data['funded_amnt_grp'].value_counts()"
   ]
  },
  {
   "cell_type": "code",
   "execution_count": 985,
   "metadata": {},
   "outputs": [],
   "source": [
    "#putting interest rate in to bins\n",
    "#interest rate <=10 as low\n",
    "#interest rate >10 and <=15 as medium\n",
    "#interest rate >15 as High\n",
    "\n",
    "loan_driving_data['int_rate_grp'] = loan_driving_data['int_rate']\n",
    "\n",
    "loan_driving_data.loc[loan_driving_data['int_rate']<=10, ['int_rate_grp']] = 'Low'\n",
    "loan_driving_data.loc[((loan_driving_data['int_rate']>10) & (loan_driving_data['int_rate']<=15)), ['int_rate_grp']] = 'Medium'\n",
    "loan_driving_data.loc[loan_driving_data['int_rate']>15, ['int_rate_grp']] = 'High'"
   ]
  },
  {
   "cell_type": "code",
   "execution_count": 986,
   "metadata": {},
   "outputs": [
    {
     "data": {
      "text/html": [
       "<div>\n",
       "<style scoped>\n",
       "    .dataframe tbody tr th:only-of-type {\n",
       "        vertical-align: middle;\n",
       "    }\n",
       "\n",
       "    .dataframe tbody tr th {\n",
       "        vertical-align: top;\n",
       "    }\n",
       "\n",
       "    .dataframe thead th {\n",
       "        text-align: right;\n",
       "    }\n",
       "</style>\n",
       "<table border=\"1\" class=\"dataframe\">\n",
       "  <thead>\n",
       "    <tr style=\"text-align: right;\">\n",
       "      <th></th>\n",
       "      <th>id</th>\n",
       "      <th>member_id</th>\n",
       "      <th>funded_amnt</th>\n",
       "      <th>term</th>\n",
       "      <th>int_rate</th>\n",
       "      <th>installment</th>\n",
       "      <th>grade</th>\n",
       "      <th>emp_length</th>\n",
       "      <th>home_ownership</th>\n",
       "      <th>annual_inc</th>\n",
       "      <th>verification_status</th>\n",
       "      <th>issue_d</th>\n",
       "      <th>loan_status</th>\n",
       "      <th>purpose</th>\n",
       "      <th>dti</th>\n",
       "      <th>revol_util</th>\n",
       "      <th>emp_length_grp</th>\n",
       "      <th>funded_amnt_grp</th>\n",
       "      <th>int_rate_grp</th>\n",
       "    </tr>\n",
       "  </thead>\n",
       "  <tbody>\n",
       "    <tr>\n",
       "      <th>0</th>\n",
       "      <td>1077501</td>\n",
       "      <td>1296599</td>\n",
       "      <td>5000</td>\n",
       "      <td>36 months</td>\n",
       "      <td>10.65</td>\n",
       "      <td>162.87</td>\n",
       "      <td>B</td>\n",
       "      <td>10+ years</td>\n",
       "      <td>RENT</td>\n",
       "      <td>24000.0</td>\n",
       "      <td>Verified</td>\n",
       "      <td>Dec-11</td>\n",
       "      <td>Fully Paid</td>\n",
       "      <td>credit_card</td>\n",
       "      <td>27.65</td>\n",
       "      <td>83.7</td>\n",
       "      <td>Senior</td>\n",
       "      <td>Low</td>\n",
       "      <td>Medium</td>\n",
       "    </tr>\n",
       "    <tr>\n",
       "      <th>1</th>\n",
       "      <td>1077430</td>\n",
       "      <td>1314167</td>\n",
       "      <td>2500</td>\n",
       "      <td>60 months</td>\n",
       "      <td>15.27</td>\n",
       "      <td>59.83</td>\n",
       "      <td>C</td>\n",
       "      <td>&lt; 1 year</td>\n",
       "      <td>RENT</td>\n",
       "      <td>30000.0</td>\n",
       "      <td>Source Verified</td>\n",
       "      <td>Dec-11</td>\n",
       "      <td>Charged Off</td>\n",
       "      <td>car</td>\n",
       "      <td>1.00</td>\n",
       "      <td>9.4</td>\n",
       "      <td>Junior</td>\n",
       "      <td>Low</td>\n",
       "      <td>High</td>\n",
       "    </tr>\n",
       "    <tr>\n",
       "      <th>2</th>\n",
       "      <td>1077175</td>\n",
       "      <td>1313524</td>\n",
       "      <td>2400</td>\n",
       "      <td>36 months</td>\n",
       "      <td>15.96</td>\n",
       "      <td>84.33</td>\n",
       "      <td>C</td>\n",
       "      <td>10+ years</td>\n",
       "      <td>RENT</td>\n",
       "      <td>12252.0</td>\n",
       "      <td>Not Verified</td>\n",
       "      <td>Dec-11</td>\n",
       "      <td>Fully Paid</td>\n",
       "      <td>small_business</td>\n",
       "      <td>8.72</td>\n",
       "      <td>98.5</td>\n",
       "      <td>Senior</td>\n",
       "      <td>Low</td>\n",
       "      <td>High</td>\n",
       "    </tr>\n",
       "    <tr>\n",
       "      <th>3</th>\n",
       "      <td>1076863</td>\n",
       "      <td>1277178</td>\n",
       "      <td>10000</td>\n",
       "      <td>36 months</td>\n",
       "      <td>13.49</td>\n",
       "      <td>339.31</td>\n",
       "      <td>C</td>\n",
       "      <td>10+ years</td>\n",
       "      <td>RENT</td>\n",
       "      <td>49200.0</td>\n",
       "      <td>Source Verified</td>\n",
       "      <td>Dec-11</td>\n",
       "      <td>Fully Paid</td>\n",
       "      <td>other</td>\n",
       "      <td>20.00</td>\n",
       "      <td>21.0</td>\n",
       "      <td>Senior</td>\n",
       "      <td>Medium</td>\n",
       "      <td>Medium</td>\n",
       "    </tr>\n",
       "    <tr>\n",
       "      <th>4</th>\n",
       "      <td>1075358</td>\n",
       "      <td>1311748</td>\n",
       "      <td>3000</td>\n",
       "      <td>60 months</td>\n",
       "      <td>12.69</td>\n",
       "      <td>67.79</td>\n",
       "      <td>B</td>\n",
       "      <td>1 year</td>\n",
       "      <td>RENT</td>\n",
       "      <td>80000.0</td>\n",
       "      <td>Source Verified</td>\n",
       "      <td>Dec-11</td>\n",
       "      <td>Current</td>\n",
       "      <td>other</td>\n",
       "      <td>17.94</td>\n",
       "      <td>53.9</td>\n",
       "      <td>Junior</td>\n",
       "      <td>Low</td>\n",
       "      <td>Medium</td>\n",
       "    </tr>\n",
       "  </tbody>\n",
       "</table>\n",
       "</div>"
      ],
      "text/plain": [
       "        id  member_id  funded_amnt        term  int_rate  installment grade  \\\n",
       "0  1077501    1296599         5000   36 months     10.65       162.87     B   \n",
       "1  1077430    1314167         2500   60 months     15.27        59.83     C   \n",
       "2  1077175    1313524         2400   36 months     15.96        84.33     C   \n",
       "3  1076863    1277178        10000   36 months     13.49       339.31     C   \n",
       "4  1075358    1311748         3000   60 months     12.69        67.79     B   \n",
       "\n",
       "  emp_length home_ownership  annual_inc verification_status issue_d  \\\n",
       "0  10+ years           RENT     24000.0            Verified  Dec-11   \n",
       "1   < 1 year           RENT     30000.0     Source Verified  Dec-11   \n",
       "2  10+ years           RENT     12252.0        Not Verified  Dec-11   \n",
       "3  10+ years           RENT     49200.0     Source Verified  Dec-11   \n",
       "4     1 year           RENT     80000.0     Source Verified  Dec-11   \n",
       "\n",
       "   loan_status         purpose    dti  revol_util emp_length_grp  \\\n",
       "0   Fully Paid     credit_card  27.65        83.7         Senior   \n",
       "1  Charged Off             car   1.00         9.4         Junior   \n",
       "2   Fully Paid  small_business   8.72        98.5         Senior   \n",
       "3   Fully Paid           other  20.00        21.0         Senior   \n",
       "4      Current           other  17.94        53.9         Junior   \n",
       "\n",
       "  funded_amnt_grp int_rate_grp  \n",
       "0             Low       Medium  \n",
       "1             Low         High  \n",
       "2             Low         High  \n",
       "3          Medium       Medium  \n",
       "4             Low       Medium  "
      ]
     },
     "execution_count": 986,
     "metadata": {},
     "output_type": "execute_result"
    }
   ],
   "source": [
    "loan_driving_data.head()"
   ]
  },
  {
   "cell_type": "code",
   "execution_count": 987,
   "metadata": {},
   "outputs": [],
   "source": [
    "#putting installments in to bins\n",
    "#installment <= 200 as low\n",
    "#installment >200 and <=400 as Medium \n",
    "#installment >400 and <=600 as High \n",
    "#installment >600 as Very High\n",
    "\n",
    "loan_driving_data['installment_grp'] = loan_driving_data['installment']\n",
    "\n",
    "loan_driving_data.loc[loan_driving_data['installment']<=200, ['installment_grp']] = 'Low'\n",
    "loan_driving_data.loc[((loan_driving_data['installment']>200) & (loan_driving_data['installment']<=400)), ['installment_grp']] = 'Medium'\n",
    "loan_driving_data.loc[((loan_driving_data['installment']>400) & (loan_driving_data['installment']<=600)), ['installment_grp']] = 'High'\n",
    "loan_driving_data.loc[loan_driving_data['installment']>600, ['installment_grp']] = 'Very High'"
   ]
  },
  {
   "cell_type": "code",
   "execution_count": 988,
   "metadata": {
    "scrolled": true
   },
   "outputs": [
    {
     "data": {
      "text/html": [
       "<div>\n",
       "<style scoped>\n",
       "    .dataframe tbody tr th:only-of-type {\n",
       "        vertical-align: middle;\n",
       "    }\n",
       "\n",
       "    .dataframe tbody tr th {\n",
       "        vertical-align: top;\n",
       "    }\n",
       "\n",
       "    .dataframe thead th {\n",
       "        text-align: right;\n",
       "    }\n",
       "</style>\n",
       "<table border=\"1\" class=\"dataframe\">\n",
       "  <thead>\n",
       "    <tr style=\"text-align: right;\">\n",
       "      <th></th>\n",
       "      <th>id</th>\n",
       "      <th>member_id</th>\n",
       "      <th>funded_amnt</th>\n",
       "      <th>term</th>\n",
       "      <th>int_rate</th>\n",
       "      <th>installment</th>\n",
       "      <th>grade</th>\n",
       "      <th>emp_length</th>\n",
       "      <th>home_ownership</th>\n",
       "      <th>annual_inc</th>\n",
       "      <th>verification_status</th>\n",
       "      <th>issue_d</th>\n",
       "      <th>loan_status</th>\n",
       "      <th>purpose</th>\n",
       "      <th>dti</th>\n",
       "      <th>revol_util</th>\n",
       "      <th>emp_length_grp</th>\n",
       "      <th>funded_amnt_grp</th>\n",
       "      <th>int_rate_grp</th>\n",
       "      <th>installment_grp</th>\n",
       "    </tr>\n",
       "  </thead>\n",
       "  <tbody>\n",
       "    <tr>\n",
       "      <th>0</th>\n",
       "      <td>1077501</td>\n",
       "      <td>1296599</td>\n",
       "      <td>5000</td>\n",
       "      <td>36 months</td>\n",
       "      <td>10.65</td>\n",
       "      <td>162.87</td>\n",
       "      <td>B</td>\n",
       "      <td>10+ years</td>\n",
       "      <td>RENT</td>\n",
       "      <td>24000.0</td>\n",
       "      <td>Verified</td>\n",
       "      <td>Dec-11</td>\n",
       "      <td>Fully Paid</td>\n",
       "      <td>credit_card</td>\n",
       "      <td>27.65</td>\n",
       "      <td>83.7</td>\n",
       "      <td>Senior</td>\n",
       "      <td>Low</td>\n",
       "      <td>Medium</td>\n",
       "      <td>Low</td>\n",
       "    </tr>\n",
       "    <tr>\n",
       "      <th>1</th>\n",
       "      <td>1077430</td>\n",
       "      <td>1314167</td>\n",
       "      <td>2500</td>\n",
       "      <td>60 months</td>\n",
       "      <td>15.27</td>\n",
       "      <td>59.83</td>\n",
       "      <td>C</td>\n",
       "      <td>&lt; 1 year</td>\n",
       "      <td>RENT</td>\n",
       "      <td>30000.0</td>\n",
       "      <td>Source Verified</td>\n",
       "      <td>Dec-11</td>\n",
       "      <td>Charged Off</td>\n",
       "      <td>car</td>\n",
       "      <td>1.00</td>\n",
       "      <td>9.4</td>\n",
       "      <td>Junior</td>\n",
       "      <td>Low</td>\n",
       "      <td>High</td>\n",
       "      <td>Low</td>\n",
       "    </tr>\n",
       "    <tr>\n",
       "      <th>2</th>\n",
       "      <td>1077175</td>\n",
       "      <td>1313524</td>\n",
       "      <td>2400</td>\n",
       "      <td>36 months</td>\n",
       "      <td>15.96</td>\n",
       "      <td>84.33</td>\n",
       "      <td>C</td>\n",
       "      <td>10+ years</td>\n",
       "      <td>RENT</td>\n",
       "      <td>12252.0</td>\n",
       "      <td>Not Verified</td>\n",
       "      <td>Dec-11</td>\n",
       "      <td>Fully Paid</td>\n",
       "      <td>small_business</td>\n",
       "      <td>8.72</td>\n",
       "      <td>98.5</td>\n",
       "      <td>Senior</td>\n",
       "      <td>Low</td>\n",
       "      <td>High</td>\n",
       "      <td>Low</td>\n",
       "    </tr>\n",
       "    <tr>\n",
       "      <th>3</th>\n",
       "      <td>1076863</td>\n",
       "      <td>1277178</td>\n",
       "      <td>10000</td>\n",
       "      <td>36 months</td>\n",
       "      <td>13.49</td>\n",
       "      <td>339.31</td>\n",
       "      <td>C</td>\n",
       "      <td>10+ years</td>\n",
       "      <td>RENT</td>\n",
       "      <td>49200.0</td>\n",
       "      <td>Source Verified</td>\n",
       "      <td>Dec-11</td>\n",
       "      <td>Fully Paid</td>\n",
       "      <td>other</td>\n",
       "      <td>20.00</td>\n",
       "      <td>21.0</td>\n",
       "      <td>Senior</td>\n",
       "      <td>Medium</td>\n",
       "      <td>Medium</td>\n",
       "      <td>Medium</td>\n",
       "    </tr>\n",
       "    <tr>\n",
       "      <th>4</th>\n",
       "      <td>1075358</td>\n",
       "      <td>1311748</td>\n",
       "      <td>3000</td>\n",
       "      <td>60 months</td>\n",
       "      <td>12.69</td>\n",
       "      <td>67.79</td>\n",
       "      <td>B</td>\n",
       "      <td>1 year</td>\n",
       "      <td>RENT</td>\n",
       "      <td>80000.0</td>\n",
       "      <td>Source Verified</td>\n",
       "      <td>Dec-11</td>\n",
       "      <td>Current</td>\n",
       "      <td>other</td>\n",
       "      <td>17.94</td>\n",
       "      <td>53.9</td>\n",
       "      <td>Junior</td>\n",
       "      <td>Low</td>\n",
       "      <td>Medium</td>\n",
       "      <td>Low</td>\n",
       "    </tr>\n",
       "  </tbody>\n",
       "</table>\n",
       "</div>"
      ],
      "text/plain": [
       "        id  member_id  funded_amnt        term  int_rate  installment grade  \\\n",
       "0  1077501    1296599         5000   36 months     10.65       162.87     B   \n",
       "1  1077430    1314167         2500   60 months     15.27        59.83     C   \n",
       "2  1077175    1313524         2400   36 months     15.96        84.33     C   \n",
       "3  1076863    1277178        10000   36 months     13.49       339.31     C   \n",
       "4  1075358    1311748         3000   60 months     12.69        67.79     B   \n",
       "\n",
       "  emp_length home_ownership  annual_inc verification_status issue_d  \\\n",
       "0  10+ years           RENT     24000.0            Verified  Dec-11   \n",
       "1   < 1 year           RENT     30000.0     Source Verified  Dec-11   \n",
       "2  10+ years           RENT     12252.0        Not Verified  Dec-11   \n",
       "3  10+ years           RENT     49200.0     Source Verified  Dec-11   \n",
       "4     1 year           RENT     80000.0     Source Verified  Dec-11   \n",
       "\n",
       "   loan_status         purpose    dti  revol_util emp_length_grp  \\\n",
       "0   Fully Paid     credit_card  27.65        83.7         Senior   \n",
       "1  Charged Off             car   1.00         9.4         Junior   \n",
       "2   Fully Paid  small_business   8.72        98.5         Senior   \n",
       "3   Fully Paid           other  20.00        21.0         Senior   \n",
       "4      Current           other  17.94        53.9         Junior   \n",
       "\n",
       "  funded_amnt_grp int_rate_grp installment_grp  \n",
       "0             Low       Medium             Low  \n",
       "1             Low         High             Low  \n",
       "2             Low         High             Low  \n",
       "3          Medium       Medium          Medium  \n",
       "4             Low       Medium             Low  "
      ]
     },
     "execution_count": 988,
     "metadata": {},
     "output_type": "execute_result"
    }
   ],
   "source": [
    "loan_driving_data.head()"
   ]
  },
  {
   "cell_type": "code",
   "execution_count": 989,
   "metadata": {},
   "outputs": [],
   "source": [
    "#putting annual income in to bins\n",
    "#Annual income <= 50000 as Low\n",
    "#Annual income >50000 and <=100000 as medium\n",
    "#Annual income >100000 and <=150000 as High\n",
    "#Annual income >150000 as very high\n",
    "\n",
    "loan_driving_data['annual_income_grp'] = loan_driving_data['annual_inc']\n",
    "\n",
    "loan_driving_data.loc[loan_driving_data['annual_inc']<=50000, ['annual_income_grp']] = 'Low'\n",
    "loan_driving_data.loc[((loan_driving_data['annual_inc']>50000) & (loan_driving_data['annual_inc']<=100000)), ['annual_income_grp']] = 'Medium'\n",
    "loan_driving_data.loc[((loan_driving_data['annual_inc']>100000) & (loan_driving_data['annual_inc']<=150000)), ['annual_income_grp']] = 'High'\n",
    "loan_driving_data.loc[loan_driving_data['annual_inc']>150000, ['annual_income_grp']] = 'Very High'"
   ]
  },
  {
   "cell_type": "code",
   "execution_count": 990,
   "metadata": {},
   "outputs": [
    {
     "data": {
      "text/plain": [
       "Medium       18281\n",
       "Low          15702\n",
       "High          4134\n",
       "Very High     1550\n",
       "Name: annual_income_grp, dtype: int64"
      ]
     },
     "execution_count": 990,
     "metadata": {},
     "output_type": "execute_result"
    }
   ],
   "source": [
    "loan_driving_data['annual_income_grp'].value_counts()"
   ]
  },
  {
   "cell_type": "code",
   "execution_count": 991,
   "metadata": {},
   "outputs": [],
   "source": [
    "#converting issue date to correct format \n",
    "from datetime import datetime\n",
    "loan_driving_data['issue_d'] = loan_driving_data['issue_d'].apply(lambda x: datetime.strptime(x, '%b-%y'))\n",
    "# extracting month and year from issue_date\n",
    "loan_driving_data['issue_month'] = loan_driving_data['issue_d'].apply(lambda x: x.month)\n",
    "loan_driving_data['issue_year'] = loan_driving_data['issue_d'].apply(lambda x: x.year)"
   ]
  },
  {
   "cell_type": "code",
   "execution_count": 992,
   "metadata": {
    "scrolled": true
   },
   "outputs": [
    {
     "data": {
      "text/html": [
       "<div>\n",
       "<style scoped>\n",
       "    .dataframe tbody tr th:only-of-type {\n",
       "        vertical-align: middle;\n",
       "    }\n",
       "\n",
       "    .dataframe tbody tr th {\n",
       "        vertical-align: top;\n",
       "    }\n",
       "\n",
       "    .dataframe thead th {\n",
       "        text-align: right;\n",
       "    }\n",
       "</style>\n",
       "<table border=\"1\" class=\"dataframe\">\n",
       "  <thead>\n",
       "    <tr style=\"text-align: right;\">\n",
       "      <th></th>\n",
       "      <th>id</th>\n",
       "      <th>member_id</th>\n",
       "      <th>funded_amnt</th>\n",
       "      <th>term</th>\n",
       "      <th>int_rate</th>\n",
       "      <th>installment</th>\n",
       "      <th>grade</th>\n",
       "      <th>emp_length</th>\n",
       "      <th>home_ownership</th>\n",
       "      <th>annual_inc</th>\n",
       "      <th>...</th>\n",
       "      <th>purpose</th>\n",
       "      <th>dti</th>\n",
       "      <th>revol_util</th>\n",
       "      <th>emp_length_grp</th>\n",
       "      <th>funded_amnt_grp</th>\n",
       "      <th>int_rate_grp</th>\n",
       "      <th>installment_grp</th>\n",
       "      <th>annual_income_grp</th>\n",
       "      <th>issue_month</th>\n",
       "      <th>issue_year</th>\n",
       "    </tr>\n",
       "  </thead>\n",
       "  <tbody>\n",
       "    <tr>\n",
       "      <th>0</th>\n",
       "      <td>1077501</td>\n",
       "      <td>1296599</td>\n",
       "      <td>5000</td>\n",
       "      <td>36 months</td>\n",
       "      <td>10.65</td>\n",
       "      <td>162.87</td>\n",
       "      <td>B</td>\n",
       "      <td>10+ years</td>\n",
       "      <td>RENT</td>\n",
       "      <td>24000.0</td>\n",
       "      <td>...</td>\n",
       "      <td>credit_card</td>\n",
       "      <td>27.65</td>\n",
       "      <td>83.7</td>\n",
       "      <td>Senior</td>\n",
       "      <td>Low</td>\n",
       "      <td>Medium</td>\n",
       "      <td>Low</td>\n",
       "      <td>Low</td>\n",
       "      <td>12</td>\n",
       "      <td>2011</td>\n",
       "    </tr>\n",
       "    <tr>\n",
       "      <th>1</th>\n",
       "      <td>1077430</td>\n",
       "      <td>1314167</td>\n",
       "      <td>2500</td>\n",
       "      <td>60 months</td>\n",
       "      <td>15.27</td>\n",
       "      <td>59.83</td>\n",
       "      <td>C</td>\n",
       "      <td>&lt; 1 year</td>\n",
       "      <td>RENT</td>\n",
       "      <td>30000.0</td>\n",
       "      <td>...</td>\n",
       "      <td>car</td>\n",
       "      <td>1.00</td>\n",
       "      <td>9.4</td>\n",
       "      <td>Junior</td>\n",
       "      <td>Low</td>\n",
       "      <td>High</td>\n",
       "      <td>Low</td>\n",
       "      <td>Low</td>\n",
       "      <td>12</td>\n",
       "      <td>2011</td>\n",
       "    </tr>\n",
       "    <tr>\n",
       "      <th>2</th>\n",
       "      <td>1077175</td>\n",
       "      <td>1313524</td>\n",
       "      <td>2400</td>\n",
       "      <td>36 months</td>\n",
       "      <td>15.96</td>\n",
       "      <td>84.33</td>\n",
       "      <td>C</td>\n",
       "      <td>10+ years</td>\n",
       "      <td>RENT</td>\n",
       "      <td>12252.0</td>\n",
       "      <td>...</td>\n",
       "      <td>small_business</td>\n",
       "      <td>8.72</td>\n",
       "      <td>98.5</td>\n",
       "      <td>Senior</td>\n",
       "      <td>Low</td>\n",
       "      <td>High</td>\n",
       "      <td>Low</td>\n",
       "      <td>Low</td>\n",
       "      <td>12</td>\n",
       "      <td>2011</td>\n",
       "    </tr>\n",
       "    <tr>\n",
       "      <th>3</th>\n",
       "      <td>1076863</td>\n",
       "      <td>1277178</td>\n",
       "      <td>10000</td>\n",
       "      <td>36 months</td>\n",
       "      <td>13.49</td>\n",
       "      <td>339.31</td>\n",
       "      <td>C</td>\n",
       "      <td>10+ years</td>\n",
       "      <td>RENT</td>\n",
       "      <td>49200.0</td>\n",
       "      <td>...</td>\n",
       "      <td>other</td>\n",
       "      <td>20.00</td>\n",
       "      <td>21.0</td>\n",
       "      <td>Senior</td>\n",
       "      <td>Medium</td>\n",
       "      <td>Medium</td>\n",
       "      <td>Medium</td>\n",
       "      <td>Low</td>\n",
       "      <td>12</td>\n",
       "      <td>2011</td>\n",
       "    </tr>\n",
       "    <tr>\n",
       "      <th>4</th>\n",
       "      <td>1075358</td>\n",
       "      <td>1311748</td>\n",
       "      <td>3000</td>\n",
       "      <td>60 months</td>\n",
       "      <td>12.69</td>\n",
       "      <td>67.79</td>\n",
       "      <td>B</td>\n",
       "      <td>1 year</td>\n",
       "      <td>RENT</td>\n",
       "      <td>80000.0</td>\n",
       "      <td>...</td>\n",
       "      <td>other</td>\n",
       "      <td>17.94</td>\n",
       "      <td>53.9</td>\n",
       "      <td>Junior</td>\n",
       "      <td>Low</td>\n",
       "      <td>Medium</td>\n",
       "      <td>Low</td>\n",
       "      <td>Medium</td>\n",
       "      <td>12</td>\n",
       "      <td>2011</td>\n",
       "    </tr>\n",
       "  </tbody>\n",
       "</table>\n",
       "<p>5 rows × 23 columns</p>\n",
       "</div>"
      ],
      "text/plain": [
       "        id  member_id  funded_amnt        term  int_rate  installment grade  \\\n",
       "0  1077501    1296599         5000   36 months     10.65       162.87     B   \n",
       "1  1077430    1314167         2500   60 months     15.27        59.83     C   \n",
       "2  1077175    1313524         2400   36 months     15.96        84.33     C   \n",
       "3  1076863    1277178        10000   36 months     13.49       339.31     C   \n",
       "4  1075358    1311748         3000   60 months     12.69        67.79     B   \n",
       "\n",
       "  emp_length home_ownership  annual_inc    ...             purpose    dti  \\\n",
       "0  10+ years           RENT     24000.0    ...         credit_card  27.65   \n",
       "1   < 1 year           RENT     30000.0    ...                 car   1.00   \n",
       "2  10+ years           RENT     12252.0    ...      small_business   8.72   \n",
       "3  10+ years           RENT     49200.0    ...               other  20.00   \n",
       "4     1 year           RENT     80000.0    ...               other  17.94   \n",
       "\n",
       "  revol_util emp_length_grp  funded_amnt_grp  int_rate_grp installment_grp  \\\n",
       "0       83.7         Senior              Low        Medium             Low   \n",
       "1        9.4         Junior              Low          High             Low   \n",
       "2       98.5         Senior              Low          High             Low   \n",
       "3       21.0         Senior           Medium        Medium          Medium   \n",
       "4       53.9         Junior              Low        Medium             Low   \n",
       "\n",
       "  annual_income_grp issue_month issue_year  \n",
       "0               Low          12       2011  \n",
       "1               Low          12       2011  \n",
       "2               Low          12       2011  \n",
       "3               Low          12       2011  \n",
       "4            Medium          12       2011  \n",
       "\n",
       "[5 rows x 23 columns]"
      ]
     },
     "execution_count": 992,
     "metadata": {},
     "output_type": "execute_result"
    }
   ],
   "source": [
    "loan_driving_data.head()"
   ]
  },
  {
   "cell_type": "code",
   "execution_count": 993,
   "metadata": {
    "scrolled": true
   },
   "outputs": [
    {
     "data": {
      "text/plain": [
       "Fully Paid     32916\n",
       "Charged Off     5611\n",
       "Current         1140\n",
       "Name: loan_status, dtype: int64"
      ]
     },
     "execution_count": 993,
     "metadata": {},
     "output_type": "execute_result"
    }
   ],
   "source": [
    "loan_driving_data['loan_status'].value_counts()"
   ]
  },
  {
   "cell_type": "code",
   "execution_count": 994,
   "metadata": {},
   "outputs": [],
   "source": [
    "#As we are mainly need to focus on the default people we can ignore, fully paid people as they are no risky people,\n",
    "#current status people neither fully paid or defaulted so these can be ignored. We mainly focus on charged off people\n",
    "#Hence Charged off people given the value 1 rest of the both as 0.\n",
    "loan_driving_data['loan_status_grp'] = loan_driving_data['loan_status']\n",
    "\n",
    "loan_driving_data.loc[loan_driving_data['loan_status']=='Charged Off', ['loan_status_grp']] = 1\n",
    "loan_driving_data.loc[((loan_driving_data['loan_status']=='Fully Paid') | (loan_driving_data['loan_status']=='Current')),['loan_status_grp']] = 0"
   ]
  },
  {
   "cell_type": "code",
   "execution_count": 995,
   "metadata": {
    "scrolled": true
   },
   "outputs": [
    {
     "data": {
      "text/plain": [
       "0    34056\n",
       "1     5611\n",
       "Name: loan_status_grp, dtype: int64"
      ]
     },
     "execution_count": 995,
     "metadata": {},
     "output_type": "execute_result"
    }
   ],
   "source": [
    "loan_driving_data['loan_status_grp'].value_counts()"
   ]
  },
  {
   "cell_type": "code",
   "execution_count": 997,
   "metadata": {},
   "outputs": [],
   "source": [
    "#Taking the charge off data in to seperate data frame loan_data_sample\n",
    "loan_data_sample = loan_driving_data.loc[loan_driving_data['loan_status']=='Charged Off']"
   ]
  },
  {
   "cell_type": "code",
   "execution_count": 998,
   "metadata": {},
   "outputs": [],
   "source": [
    "loan_driving_data.to_csv(\"loan_driving_data.csv\")"
   ]
  },
  {
   "cell_type": "markdown",
   "metadata": {},
   "source": [
    "**UNIVARIATE ANALYSIS**"
   ]
  },
  {
   "cell_type": "code",
   "execution_count": 999,
   "metadata": {},
   "outputs": [
    {
     "data": {
      "text/plain": [
       "14.000000000000002"
      ]
     },
     "execution_count": 999,
     "metadata": {},
     "output_type": "execute_result"
    }
   ],
   "source": [
    "#Percentage of default people\n",
    "round(loan_driving_data.loan_status_grp.sum()/len(loan_driving_data.loan_status_grp), 2)*100"
   ]
  },
  {
   "cell_type": "markdown",
   "metadata": {},
   "source": [
    "*The overall default people Percentage is about 14%.*"
   ]
  },
  {
   "cell_type": "markdown",
   "metadata": {},
   "source": [
    "**visualisation of the default percent vs categorical variables**   "
   ]
  },
  {
   "cell_type": "markdown",
   "metadata": {},
   "source": [
    "**UNIVARIATE ANALYSIS**"
   ]
  },
  {
   "cell_type": "code",
   "execution_count": 1000,
   "metadata": {
    "scrolled": true
   },
   "outputs": [
    {
     "data": {
      "image/png": "[encoded data removed]",
      "text/plain": [
       "<Figure size 432x288 with 1 Axes>"
      ]
     },
     "metadata": {
      "needs_background": "light"
     },
     "output_type": "display_data"
    }
   ],
   "source": [
    "# plotting default status across term of the loan\n",
    "sns.countplot(loan_data_sample['term'])\n",
    "plt.show()"
   ]
  },
  {
   "cell_type": "markdown",
   "metadata": {},
   "source": [
    "Its clearly seen that the people whose term is 60 months are defaulted more"
   ]
  },
  {
   "cell_type": "code",
   "execution_count": 1001,
   "metadata": {
    "scrolled": true
   },
   "outputs": [
    {
     "data": {
      "image/png": "[encoded data removed]",
      "text/plain": [
       "<Figure size 432x288 with 1 Axes>"
      ]
     },
     "metadata": {
      "needs_background": "light"
     },
     "output_type": "display_data"
    }
   ],
   "source": [
    "# plotting default status across grade of the loan\n",
    "sns.countplot(loan_data_sample['grade'])\n",
    "plt.show()"
   ]
  },
  {
   "cell_type": "markdown",
   "metadata": {},
   "source": [
    "Borrowers with Grade B are more likely to default followed by grade C."
   ]
  },
  {
   "cell_type": "code",
   "execution_count": 1002,
   "metadata": {
    "scrolled": true
   },
   "outputs": [
    {
     "data": {
      "image/png": "[encoded data removed]",
      "text/plain": [
       "<Figure size 432x288 with 1 Axes>"
      ]
     },
     "metadata": {
      "needs_background": "light"
     },
     "output_type": "display_data"
    }
   ],
   "source": [
    "#count plot for home_owner_ship\n",
    "sns.countplot(loan_data_sample['home_ownership'])\n",
    "plt.show()"
   ]
  },
  {
   "cell_type": "markdown",
   "metadata": {},
   "source": [
    "Borrowers living in RENT home ownership are more likely to default"
   ]
  },
  {
   "cell_type": "code",
   "execution_count": 1003,
   "metadata": {},
   "outputs": [
    {
     "data": {
      "image/png": "[encoded data removed]",
      "text/plain": [
       "<Figure size 432x288 with 1 Axes>"
      ]
     },
     "metadata": {
      "needs_background": "light"
     },
     "output_type": "display_data"
    }
   ],
   "source": [
    "#count plot for verification_status\n",
    "sns.countplot(loan_data_sample['verification_status'])\n",
    "plt.show()"
   ]
  },
  {
   "cell_type": "markdown",
   "metadata": {},
   "source": [
    "Borrowers with not verified status are most likely to default. consumer finance company have to be more careful with verification and background checks before lending the loan amount."
   ]
  },
  {
   "cell_type": "code",
   "execution_count": 1005,
   "metadata": {},
   "outputs": [
    {
     "data": {
      "image/png": "[encoded data removed]",
      "text/plain": [
       "<Figure size 1224x360 with 1 Axes>"
      ]
     },
     "metadata": {
      "needs_background": "light"
     },
     "output_type": "display_data"
    }
   ],
   "source": [
    "#count plot for purpose\n",
    "plt.figure(figsize=(17, 5))\n",
    "sns.countplot(loan_data_sample['purpose'])\n",
    "plt.show()"
   ]
  },
  {
   "cell_type": "markdown",
   "metadata": {},
   "source": [
    "Borrowers are most likely to default when the purpose of loan is debt consolidation."
   ]
  },
  {
   "cell_type": "code",
   "execution_count": 1006,
   "metadata": {
    "scrolled": true
   },
   "outputs": [
    {
     "data": {
      "image/png": "[encoded data removed]",
      "text/plain": [
       "<Figure size 432x288 with 1 Axes>"
      ]
     },
     "metadata": {
      "needs_background": "light"
     },
     "output_type": "display_data"
    }
   ],
   "source": [
    "# let's see the distribution of loans across years\n",
    "sns.countplot(loan_data_sample['issue_year'])\n",
    "plt.show()"
   ]
  },
  {
   "cell_type": "markdown",
   "metadata": {},
   "source": [
    "We can see that number of loans has increased across years."
   ]
  },
  {
   "cell_type": "code",
   "execution_count": 1007,
   "metadata": {},
   "outputs": [
    {
     "data": {
      "image/png": "[encoded data removed]",
      "text/plain": [
       "<Figure size 432x288 with 1 Axes>"
      ]
     },
     "metadata": {
      "needs_background": "light"
     },
     "output_type": "display_data"
    }
   ],
   "source": [
    "#Count plot for issue month\n",
    "sns.countplot(loan_data_sample['issue_month'])\n",
    "plt.show()"
   ]
  },
  {
   "cell_type": "markdown",
   "metadata": {},
   "source": [
    "We can see that most of the loans are given in the month of december and maximum of the loans in 2nd half of the year"
   ]
  },
  {
   "cell_type": "code",
   "execution_count": 1008,
   "metadata": {
    "scrolled": true
   },
   "outputs": [
    {
     "data": {
      "image/png": "[encoded data removed]",
      "text/plain": [
       "<Figure size 432x288 with 1 Axes>"
      ]
     },
     "metadata": {
      "needs_background": "light"
     },
     "output_type": "display_data"
    }
   ],
   "source": [
    "#count plot for funded_amnt_grp\n",
    "sns.countplot(loan_data_sample['funded_amnt_grp'])\n",
    "plt.show()"
   ]
  },
  {
   "cell_type": "code",
   "execution_count": 1009,
   "metadata": {},
   "outputs": [
    {
     "data": {
      "image/png": "[encoded data removed]",
      "text/plain": [
       "<Figure size 432x288 with 1 Axes>"
      ]
     },
     "metadata": {
      "needs_background": "light"
     },
     "output_type": "display_data"
    }
   ],
   "source": [
    "#distribution plot for histogram\n",
    "sns.distplot(loan_data_sample['funded_amnt'])\n",
    "plt.show()"
   ]
  },
  {
   "cell_type": "markdown",
   "metadata": {},
   "source": [
    "From both the above graphs - bar and distribution plot, we can conclude that borrowers are most likely default when the fund amount group is in medium sector i.e 5000 - 10k USD, followed by lower sector."
   ]
  },
  {
   "cell_type": "code",
   "execution_count": 1010,
   "metadata": {
    "scrolled": true
   },
   "outputs": [
    {
     "data": {
      "image/png": "[encoded data removed]",
      "text/plain": [
       "<Figure size 432x288 with 1 Axes>"
      ]
     },
     "metadata": {
      "needs_background": "light"
     },
     "output_type": "display_data"
    }
   ],
   "source": [
    "#count plot for interest rate group\n",
    "sns.countplot(loan_data_sample['int_rate_grp'])\n",
    "plt.show()"
   ]
  },
  {
   "cell_type": "code",
   "execution_count": 1011,
   "metadata": {},
   "outputs": [
    {
     "data": {
      "image/png": "[encoded data removed]",
      "text/plain": [
       "<Figure size 432x288 with 1 Axes>"
      ]
     },
     "metadata": {
      "needs_background": "light"
     },
     "output_type": "display_data"
    }
   ],
   "source": [
    "#distribution plot for interst rate\n",
    "sns.distplot(loan_data_sample['int_rate'])\n",
    "plt.show()"
   ]
  },
  {
   "cell_type": "markdown",
   "metadata": {},
   "source": [
    "From both the above graphs - bar and distribution plot, we can conclude that borrowers are most likely default when the rate of interest is between 10-15%."
   ]
  },
  {
   "cell_type": "code",
   "execution_count": 1012,
   "metadata": {},
   "outputs": [
    {
     "data": {
      "image/png": "[encoded data removed]",
      "text/plain": [
       "<Figure size 432x288 with 1 Axes>"
      ]
     },
     "metadata": {
      "needs_background": "light"
     },
     "output_type": "display_data"
    }
   ],
   "source": [
    "# count plot for installments groups\n",
    "sns.countplot(loan_data_sample['installment_grp'])\n",
    "plt.show()"
   ]
  },
  {
   "cell_type": "code",
   "execution_count": 1013,
   "metadata": {
    "scrolled": true
   },
   "outputs": [
    {
     "data": {
      "image/png": "[encoded data removed]",
      "text/plain": [
       "<Figure size 432x288 with 1 Axes>"
      ]
     },
     "metadata": {
      "needs_background": "light"
     },
     "output_type": "display_data"
    }
   ],
   "source": [
    "#distribution plot for installment\n",
    "sns.distplot(loan_data_sample['installment'])\n",
    "plt.show()"
   ]
  },
  {
   "cell_type": "markdown",
   "metadata": {},
   "source": [
    "From both the above graphs - bar and distribution plot, we can conclude that borrowers are most likely default when the installment is between 200-400k USD and with lesser than 200k USD."
   ]
  },
  {
   "cell_type": "code",
   "execution_count": 1014,
   "metadata": {},
   "outputs": [
    {
     "data": {
      "image/png": "[encoded data removed]",
      "text/plain": [
       "<Figure size 432x288 with 1 Axes>"
      ]
     },
     "metadata": {
      "needs_background": "light"
     },
     "output_type": "display_data"
    }
   ],
   "source": [
    "#distribution plot for revol utilasation \n",
    "sns.distplot(loan_data_sample['revol_util'])\n",
    "plt.show()"
   ]
  },
  {
   "cell_type": "markdown",
   "metadata": {},
   "source": [
    "Borrowers with higher revolving utilisation are most likely to default."
   ]
  },
  {
   "cell_type": "code",
   "execution_count": 1015,
   "metadata": {},
   "outputs": [
    {
     "data": {
      "image/png": "[encoded data removed]",
      "text/plain": [
       "<Figure size 432x288 with 1 Axes>"
      ]
     },
     "metadata": {
      "needs_background": "light"
     },
     "output_type": "display_data"
    }
   ],
   "source": [
    "#count plot for annual income group\n",
    "sns.countplot(loan_data_sample['annual_income_grp'])\n",
    "plt.show()"
   ]
  },
  {
   "cell_type": "markdown",
   "metadata": {},
   "source": [
    "Borrowers with lower income group i.e less than 50000 USD are most likely to default"
   ]
  },
  {
   "cell_type": "code",
   "execution_count": 1016,
   "metadata": {},
   "outputs": [
    {
     "data": {
      "image/png": "[encoded data removed]",
      "text/plain": [
       "<Figure size 432x288 with 1 Axes>"
      ]
     },
     "metadata": {
      "needs_background": "light"
     },
     "output_type": "display_data"
    }
   ],
   "source": [
    "#count plot for emp_length group\n",
    "sns.countplot(loan_data_sample['emp_length_grp'])\n",
    "plt.show()"
   ]
  },
  {
   "cell_type": "markdown",
   "metadata": {},
   "source": [
    "Borrowers with junior employment length group are most likely to default as they fall under lower annual income group"
   ]
  },
  {
   "cell_type": "markdown",
   "metadata": {},
   "source": [
    "**Segmented Univariate Analysis**"
   ]
  },
  {
   "cell_type": "code",
   "execution_count": 1017,
   "metadata": {},
   "outputs": [],
   "source": [
    "#defining and assigning a new dataframe 'loan_main_purpose'\n",
    "loan_main_purpose = loan_driving_data"
   ]
  },
  {
   "cell_type": "code",
   "execution_count": 1018,
   "metadata": {},
   "outputs": [
    {
     "data": {
      "text/plain": [
       "debt_consolidation    18629\n",
       "credit_card            5128\n",
       "home_improvement       2971\n",
       "major_purchase         2181\n",
       "small_business         1827\n",
       "Name: purpose, dtype: int64"
      ]
     },
     "execution_count": 1018,
     "metadata": {},
     "output_type": "execute_result"
    }
   ],
   "source": [
    "# filtering the df for the 4 types of loans mentioned above\n",
    "filter_purposes = [\"credit_card\",\"debt_consolidation\",\"home_improvement\",\"major_purchase\",\"small_business\"]\n",
    "loan_main_purpose = loan_main_purpose[loan_main_purpose['purpose'].isin(filter_purposes)]\n",
    "loan_main_purpose['purpose'].value_counts()"
   ]
  },
  {
   "cell_type": "code",
   "execution_count": 1019,
   "metadata": {},
   "outputs": [
    {
     "data": {
      "image/png": "[encoded data removed]",
      "text/plain": [
       "<Figure size 720x432 with 1 Axes>"
      ]
     },
     "metadata": {
      "needs_background": "light"
     },
     "output_type": "display_data"
    }
   ],
   "source": [
    "#count plot for funded amount for every purpose \n",
    "\n",
    "loan_main_purpose = loan_data_sample[loan_data_sample['purpose'].isin(filter_purposes)]\n",
    "\n",
    "plt.figure(figsize=[10, 6])\n",
    "sns.countplot(x=\"funded_amnt_grp\",hue=\"purpose\", data=loan_main_purpose)\n",
    "plt.show()"
   ]
  },
  {
   "cell_type": "markdown",
   "metadata": {},
   "source": [
    "Borrowers are most likely to default when the amount funded is medium and their purpose is debt consolidation."
   ]
  },
  {
   "cell_type": "code",
   "execution_count": 1020,
   "metadata": {
    "scrolled": true
   },
   "outputs": [
    {
     "data": {
      "image/png": "[encoded data removed]",
      "text/plain": [
       "<Figure size 720x432 with 1 Axes>"
      ]
     },
     "metadata": {
      "needs_background": "light"
     },
     "output_type": "display_data"
    }
   ],
   "source": [
    "#count plot for term for every purpose\n",
    "plt.figure(figsize=[10, 6])\n",
    "sns.countplot(x=\"term\",hue=\"purpose\", data=loan_main_purpose)\n",
    "plt.show()"
   ]
  },
  {
   "cell_type": "markdown",
   "metadata": {},
   "source": [
    "Borrowers are most likely to default when the tenure is shorter and the purpose is debt consolidation"
   ]
  },
  {
   "cell_type": "code",
   "execution_count": 1021,
   "metadata": {},
   "outputs": [
    {
     "data": {
      "image/png": "[encoded data removed]",
      "text/plain": [
       "<Figure size 720x432 with 1 Axes>"
      ]
     },
     "metadata": {
      "needs_background": "light"
     },
     "output_type": "display_data"
    }
   ],
   "source": [
    "#plot showing variation in Interest rates for various purposes.\n",
    "plt.figure(figsize=[10, 6])\n",
    "sns.countplot(x=\"int_rate_grp\",hue=\"purpose\", data=loan_main_purpose)\n",
    "plt.show()"
   ]
  },
  {
   "cell_type": "markdown",
   "metadata": {},
   "source": [
    "Plot revelas that interset rate is highest for debt consolidation purpose among all brackets of interest rates namely low,medium and high . "
   ]
  },
  {
   "cell_type": "code",
   "execution_count": 1022,
   "metadata": {},
   "outputs": [
    {
     "data": {
      "image/png": "[encoded data removed]",
      "text/plain": [
       "<Figure size 720x432 with 1 Axes>"
      ]
     },
     "metadata": {
      "needs_background": "light"
     },
     "output_type": "display_data"
    }
   ],
   "source": [
    "#Plot showing variation in installment group across various purposes\n",
    "plt.figure(figsize=[10, 6])\n",
    "sns.countplot(x=\"installment_grp\",hue=\"purpose\", data=loan_main_purpose)\n",
    "plt.show()"
   ]
  },
  {
   "cell_type": "markdown",
   "metadata": {},
   "source": [
    "Plot shows that as chances of likely default is maximum for medium installment group."
   ]
  },
  {
   "cell_type": "code",
   "execution_count": 1023,
   "metadata": {},
   "outputs": [
    {
     "data": {
      "image/png": "[encoded data removed]",
      "text/plain": [
       "<Figure size 720x432 with 1 Axes>"
      ]
     },
     "metadata": {
      "needs_background": "light"
     },
     "output_type": "display_data"
    }
   ],
   "source": [
    "#plot for variation in grade across various purposes.\n",
    "plt.figure(figsize=[10, 6])\n",
    "sns.countplot(x=\"grade\",hue=\"purpose\", data=loan_main_purpose)\n",
    "plt.show()"
   ]
  },
  {
   "cell_type": "markdown",
   "metadata": {},
   "source": [
    "As the grade detoriates the chance of likely default increase. Though the variation in default varies across various purposes, the number of defaults increase as grade changes."
   ]
  },
  {
   "cell_type": "code",
   "execution_count": 1024,
   "metadata": {},
   "outputs": [
    {
     "data": {
      "image/png": "[encoded data removed]",
      "text/plain": [
       "<Figure size 432x288 with 1 Axes>"
      ]
     },
     "metadata": {
      "needs_background": "light"
     },
     "output_type": "display_data"
    }
   ],
   "source": [
    "# Plot showing variation in home/asseet ownership when lending is for various purposes. \n",
    "sns.countplot(x=\"home_ownership\",hue=\"purpose\", data=loan_main_purpose)\n",
    "plt.show()"
   ]
  },
  {
   "cell_type": "markdown",
   "metadata": {},
   "source": [
    "Plot indicates that Rented borrowers are more likely to default in case of repayment compared to others.Among the purposes lent debt consolidation is more likely case for default. "
   ]
  },
  {
   "cell_type": "code",
   "execution_count": 1025,
   "metadata": {},
   "outputs": [
    {
     "data": {
      "image/png": "[encoded data removed]",
      "text/plain": [
       "<Figure size 720x432 with 1 Axes>"
      ]
     },
     "metadata": {
      "needs_background": "light"
     },
     "output_type": "display_data"
    }
   ],
   "source": [
    "#count plot for annual income\n",
    "plt.figure(figsize=[10, 6])\n",
    "sns.countplot(x=\"annual_income_grp\",hue=\"purpose\", data=loan_main_purpose)\n",
    "plt.show()"
   ]
  },
  {
   "cell_type": "markdown",
   "metadata": {},
   "source": [
    "Borrowers are most likely to default when the debt consolidation is high and annual income group is for low and medium sectors"
   ]
  },
  {
   "cell_type": "code",
   "execution_count": 1026,
   "metadata": {
    "scrolled": true
   },
   "outputs": [
    {
     "data": {
      "image/png": "[encoded data removed]",
      "text/plain": [
       "<Figure size 720x432 with 1 Axes>"
      ]
     },
     "metadata": {
      "needs_background": "light"
     },
     "output_type": "display_data"
    }
   ],
   "source": [
    "#count plot for issue year for each purpose\n",
    "plt.figure(figsize=[10, 6])\n",
    "sns.countplot(x=\"issue_year\",hue=\"purpose\", data=loan_main_purpose)\n",
    "plt.show()"
   ]
  },
  {
   "cell_type": "markdown",
   "metadata": {},
   "source": [
    "Borrowers from issue year 2011 have defaulted the highest who had borrowed the loan with a purpose of debt consolidation"
   ]
  },
  {
   "cell_type": "code",
   "execution_count": 1027,
   "metadata": {},
   "outputs": [
    {
     "data": {
      "image/png": "[encoded data removed]",
      "text/plain": [
       "<Figure size 720x432 with 1 Axes>"
      ]
     },
     "metadata": {
      "needs_background": "light"
     },
     "output_type": "display_data"
    }
   ],
   "source": [
    "#count plot for employement length group for each purpose\n",
    "plt.figure(figsize=[10, 6])\n",
    "sns.countplot(x=\"emp_length_grp\",hue=\"purpose\", data=loan_main_purpose)\n",
    "plt.show()"
   ]
  },
  {
   "cell_type": "markdown",
   "metadata": {},
   "source": [
    "Borrower with junior level of employment are most likely to default when the purpose of loan taken is debt consolidation."
   ]
  },
  {
   "cell_type": "markdown",
   "metadata": {},
   "source": [
    "### BIVARIATE ANALYSIS"
   ]
  },
  {
   "cell_type": "code",
   "execution_count": 1028,
   "metadata": {
    "scrolled": true
   },
   "outputs": [
    {
     "data": {
      "image/png": "[encoded data removed]",
      "text/plain": [
       "<Figure size 432x288 with 1 Axes>"
      ]
     },
     "metadata": {
      "needs_background": "light"
     },
     "output_type": "display_data"
    }
   ],
   "source": [
    "#Box plot between interest rate group and funded amount\n",
    "\n",
    "sns.boxplot(x='int_rate_grp',y='funded_amnt',data=loan_data_sample)\n",
    "plt.show()"
   ]
  },
  {
   "cell_type": "markdown",
   "metadata": {},
   "source": [
    "We observe more outliers in lower rate of interest bracket. Bank should avoid lending higher funded amount with lower interest rate as this would lead to significant business loss."
   ]
  },
  {
   "cell_type": "code",
   "execution_count": 1029,
   "metadata": {},
   "outputs": [
    {
     "data": {
      "image/png": "[encoded data removed]",
      "text/plain": [
       "<Figure size 432x288 with 1 Axes>"
      ]
     },
     "metadata": {
      "needs_background": "light"
     },
     "output_type": "display_data"
    }
   ],
   "source": [
    "#Box plot between interest rate group and installment\n",
    "\n",
    "#Outliers have been identified in this plot which can be ignored. \n",
    "\n",
    "sns.boxplot(x='int_rate_grp',y='installment',data=loan_data_sample)\n",
    "plt.show()"
   ]
  },
  {
   "cell_type": "code",
   "execution_count": 1030,
   "metadata": {},
   "outputs": [
    {
     "data": {
      "image/png": "[encoded data removed]",
      "text/plain": [
       "<Figure size 432x288 with 1 Axes>"
      ]
     },
     "metadata": {
      "needs_background": "light"
     },
     "output_type": "display_data"
    }
   ],
   "source": [
    "#Boxplot between interest rate group and revol util\n",
    "\n",
    "sns.boxplot(x='int_rate_grp',y='revol_util',data=loan_data_sample)\n",
    "plt.show()"
   ]
  },
  {
   "cell_type": "code",
   "execution_count": 1031,
   "metadata": {},
   "outputs": [
    {
     "data": {
      "text/html": [
       "<div>\n",
       "<style scoped>\n",
       "    .dataframe tbody tr th:only-of-type {\n",
       "        vertical-align: middle;\n",
       "    }\n",
       "\n",
       "    .dataframe tbody tr th {\n",
       "        vertical-align: top;\n",
       "    }\n",
       "\n",
       "    .dataframe thead th {\n",
       "        text-align: right;\n",
       "    }\n",
       "</style>\n",
       "<table border=\"1\" class=\"dataframe\">\n",
       "  <thead>\n",
       "    <tr style=\"text-align: right;\">\n",
       "      <th></th>\n",
       "      <th>installment</th>\n",
       "      <th>funded_amnt</th>\n",
       "    </tr>\n",
       "  </thead>\n",
       "  <tbody>\n",
       "    <tr>\n",
       "      <th>1</th>\n",
       "      <td>59.83</td>\n",
       "      <td>2500</td>\n",
       "    </tr>\n",
       "    <tr>\n",
       "      <th>8</th>\n",
       "      <td>152.39</td>\n",
       "      <td>5600</td>\n",
       "    </tr>\n",
       "    <tr>\n",
       "      <th>9</th>\n",
       "      <td>121.45</td>\n",
       "      <td>5375</td>\n",
       "    </tr>\n",
       "    <tr>\n",
       "      <th>12</th>\n",
       "      <td>305.38</td>\n",
       "      <td>9000</td>\n",
       "    </tr>\n",
       "    <tr>\n",
       "      <th>14</th>\n",
       "      <td>325.74</td>\n",
       "      <td>10000</td>\n",
       "    </tr>\n",
       "  </tbody>\n",
       "</table>\n",
       "</div>"
      ],
      "text/plain": [
       "    installment  funded_amnt\n",
       "1         59.83         2500\n",
       "8        152.39         5600\n",
       "9        121.45         5375\n",
       "12       305.38         9000\n",
       "14       325.74        10000"
      ]
     },
     "execution_count": 1031,
     "metadata": {},
     "output_type": "execute_result"
    }
   ],
   "source": [
    "#New dataframe curr is created with just 2 columns - installment and funded amount\n",
    "\n",
    "curr = loan_data_sample[[\"installment\", \"funded_amnt\"]]\n",
    "curr.head()"
   ]
  },
  {
   "cell_type": "code",
   "execution_count": 1032,
   "metadata": {
    "scrolled": true
   },
   "outputs": [
    {
     "data": {
      "image/png": "[encoded data removed]",
      "text/plain": [
       "<Figure size 360x360 with 6 Axes>"
      ]
     },
     "metadata": {
      "needs_background": "light"
     },
     "output_type": "display_data"
    }
   ],
   "source": [
    "#Pair plot between installment and loan fund amount\n",
    "sns.pairplot(curr)\n",
    "plt.show()"
   ]
  },
  {
   "cell_type": "code",
   "execution_count": 1033,
   "metadata": {
    "scrolled": true
   },
   "outputs": [
    {
     "data": {
      "text/html": [
       "<div>\n",
       "<style scoped>\n",
       "    .dataframe tbody tr th:only-of-type {\n",
       "        vertical-align: middle;\n",
       "    }\n",
       "\n",
       "    .dataframe tbody tr th {\n",
       "        vertical-align: top;\n",
       "    }\n",
       "\n",
       "    .dataframe thead th {\n",
       "        text-align: right;\n",
       "    }\n",
       "</style>\n",
       "<table border=\"1\" class=\"dataframe\">\n",
       "  <thead>\n",
       "    <tr style=\"text-align: right;\">\n",
       "      <th></th>\n",
       "      <th>installment</th>\n",
       "      <th>funded_amnt</th>\n",
       "    </tr>\n",
       "  </thead>\n",
       "  <tbody>\n",
       "    <tr>\n",
       "      <th>installment</th>\n",
       "      <td>1.000</td>\n",
       "      <td>0.954</td>\n",
       "    </tr>\n",
       "    <tr>\n",
       "      <th>funded_amnt</th>\n",
       "      <td>0.954</td>\n",
       "      <td>1.000</td>\n",
       "    </tr>\n",
       "  </tbody>\n",
       "</table>\n",
       "</div>"
      ],
      "text/plain": [
       "             installment  funded_amnt\n",
       "installment        1.000        0.954\n",
       "funded_amnt        0.954        1.000"
      ]
     },
     "execution_count": 1033,
     "metadata": {},
     "output_type": "execute_result"
    }
   ],
   "source": [
    "#Finding correlation between loan fund amount and installment\n",
    "cor = curr.corr()\n",
    "round(cor, 3)"
   ]
  },
  {
   "cell_type": "markdown",
   "metadata": {},
   "source": [
    "We observe that installment and funded amount for loan is highly correlated with value 0.95.\n",
    "Hene, when loan fund amount increase, installment value also increases."
   ]
  },
  {
   "cell_type": "code",
   "execution_count": 1034,
   "metadata": {
    "scrolled": false
   },
   "outputs": [
    {
     "data": {
      "image/png": "[encoded data removed]",
      "text/plain": [
       "<Figure size 432x288 with 1 Axes>"
      ]
     },
     "metadata": {
      "needs_background": "light"
     },
     "output_type": "display_data"
    }
   ],
   "source": [
    "#Bar plot between funded amount and annual income\n",
    "\n",
    "sns.barplot(x='funded_amnt_grp', y='annual_inc', data=loan_data_sample)\n",
    "plt.show()"
   ]
  },
  {
   "cell_type": "markdown",
   "metadata": {},
   "source": [
    "Borrowers with very high annual income are most likely to get more loan fund amount and are likely to default.\n",
    "<br> consumer finance company should consider to lend lower loan fund amount to higher sectors of annual income."
   ]
  },
  {
   "cell_type": "code",
   "execution_count": 1035,
   "metadata": {
    "scrolled": true
   },
   "outputs": [
    {
     "data": {
      "image/png": "[encoded data removed]",
      "text/plain": [
       "<Figure size 432x288 with 1 Axes>"
      ]
     },
     "metadata": {
      "needs_background": "light"
     },
     "output_type": "display_data"
    }
   ],
   "source": [
    "#Bar plot between funded amount group and interest rate for each term\n",
    "sns.barplot(x='funded_amnt_grp', y='int_rate',hue='term', data=loan_data_sample)\n",
    "plt.show()"
   ]
  },
  {
   "cell_type": "markdown",
   "metadata": {},
   "source": [
    "We observe that the borrower's who are funded VERY HIGH, pay higher rate of interest when the tenure is more. \n",
    "<br> consumer finance company have consider to lower the interest rate for borrowers opting for higher tenure loans. "
   ]
  },
  {
   "cell_type": "code",
   "execution_count": 1036,
   "metadata": {
    "scrolled": true
   },
   "outputs": [
    {
     "data": {
      "image/png": "[encoded data removed]",
      "text/plain": [
       "<Figure size 432x288 with 1 Axes>"
      ]
     },
     "metadata": {
      "needs_background": "light"
     },
     "output_type": "display_data"
    }
   ],
   "source": [
    "#Bar plot funded amount group and installment\n",
    "sns.barplot(x='funded_amnt_grp', y='installment', data=loan_data_sample)\n",
    "plt.show()"
   ]
  },
  {
   "cell_type": "markdown",
   "metadata": {},
   "source": [
    "Borrowers falling in VERY HIGH funded amount group are paying higher installments. Hence, they are most likely to default.\n",
    "<br> consumer finance company have to either lower the installment amount or increase the number of installments for these sectors."
   ]
  },
  {
   "cell_type": "code",
   "execution_count": 1037,
   "metadata": {},
   "outputs": [
    {
     "data": {
      "image/png": "[encoded data removed]",
      "text/plain": [
       "<Figure size 432x288 with 1 Axes>"
      ]
     },
     "metadata": {
      "needs_background": "light"
     },
     "output_type": "display_data"
    }
   ],
   "source": [
    "#Bar plot between home ownership and funded amount\n",
    "\n",
    "sns.barplot(x='home_ownership', y='funded_amnt',data=loan_data_sample)\n",
    "plt.show() "
   ]
  },
  {
   "cell_type": "markdown",
   "metadata": {},
   "source": [
    "We observe that borrower's with MORTGAGE and RENTED home ownership are given considerably higher funded amount. \n",
    "<br> To prevent defauters, consumer finance company should consider providing lower fund amount to MORTGAGE and RENTED home ownership as bank does not have any leverage in this case if defaulted. "
   ]
  },
  {
   "cell_type": "code",
   "execution_count": 1043,
   "metadata": {},
   "outputs": [
    {
     "data": {
      "image/png": "[encoded data removed]",
      "text/plain": [
       "<Figure size 576x360 with 1 Axes>"
      ]
     },
     "metadata": {
      "needs_background": "light"
     },
     "output_type": "display_data"
    }
   ],
   "source": [
    "#Bar plot between purpose and funded amount\n",
    "plt.figure(figsize=[8, 5])\n",
    "sns.barplot(x='purpose', y='funded_amnt',data=loan_main_purpose)\n",
    "plt.show() "
   ]
  },
  {
   "cell_type": "markdown",
   "metadata": {},
   "source": [
    "We observe that small business sectors are sanction with higher fund amount and are likely to default compared to other purpose/sectors.\n",
    "<br> consumer finance company should consider to lend the amount to small business sectors more carefully. "
   ]
  },
  {
   "cell_type": "code",
   "execution_count": 1042,
   "metadata": {
    "scrolled": false
   },
   "outputs": [
    {
     "data": {
      "image/png": "[encoded data removed]",
      "text/plain": [
       "<Figure size 576x360 with 1 Axes>"
      ]
     },
     "metadata": {
      "needs_background": "light"
     },
     "output_type": "display_data"
    }
   ],
   "source": [
    "#Bar plot between Purpose and revol util\n",
    "plt.figure(figsize=[8, 5])\n",
    "sns.barplot(x='purpose', y='revol_util',data=loan_main_purpose)\n",
    "plt.show() "
   ]
  },
  {
   "cell_type": "markdown",
   "metadata": {},
   "source": [
    "This plot reveals that the revolving utilization factor is higher for credit card loans.\n",
    "Conventionally, the revolving utilization factor has to be lower for better repayments.\n",
    "\n",
    "<br> In this case, consumer finance company have to consider to decrease the exposure to credit card loans."
   ]
  }
 ],
 "metadata": {
  "kernelspec": {
   "display_name": "Python 3",
   "language": "python",
   "name": "python3"
  },
  "language_info": {
   "codemirror_mode": {
    "name": "ipython",
    "version": 3
   },
   "file_extension": ".py",
   "mimetype": "text/x-python",
   "name": "python",
   "nbconvert_exporter": "python",
   "pygments_lexer": "ipython3",
   "version": "3.7.1"
  }
 },
 "nbformat": 4,
 "nbformat_minor": 2
}
