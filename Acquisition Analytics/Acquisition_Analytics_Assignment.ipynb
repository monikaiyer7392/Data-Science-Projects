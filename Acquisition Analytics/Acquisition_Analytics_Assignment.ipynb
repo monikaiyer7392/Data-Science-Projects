{
 "cells": [
  {
   "cell_type": "markdown",
   "metadata": {},
   "source": [
    "## Acquisition Analytics : Bank Marketing\n",
    "We will understand the business objective and understand the data using univariate and multivariate analysis. Then we'll build multiple supervised learning models, choose the best among them and analyze the financial benefits of the analytics project.\n",
    "\n",
    "Data Understanding\n",
    "Data Cleaning\n",
    "Data Preparation\n",
    "Data Modelling\n",
    "Model Evaluation"
   ]
  },
  {
   "cell_type": "markdown",
   "metadata": {},
   "source": [
    "### Data Understanding"
   ]
  },
  {
   "cell_type": "code",
   "execution_count": 1,
   "metadata": {},
   "outputs": [],
   "source": [
    "import warnings\n",
    "warnings.filterwarnings('ignore')"
   ]
  },
  {
   "cell_type": "code",
   "execution_count": 2,
   "metadata": {},
   "outputs": [
    {
     "name": "stdout",
     "output_type": "stream",
     "text": [
      "<class 'pandas.core.frame.DataFrame'>\n",
      "RangeIndex: 41188 entries, 0 to 41187\n",
      "Data columns (total 21 columns):\n",
      "age               41188 non-null int64\n",
      "job               41188 non-null object\n",
      "marital           41188 non-null object\n",
      "education         41188 non-null object\n",
      "default           41188 non-null object\n",
      "housing           41188 non-null object\n",
      "loan              41188 non-null object\n",
      "contact           41188 non-null object\n",
      "month             41188 non-null object\n",
      "day_of_week       41188 non-null object\n",
      "duration          41188 non-null int64\n",
      "campaign          41188 non-null int64\n",
      "pdays             41188 non-null int64\n",
      "previous          41188 non-null int64\n",
      "poutcome          41188 non-null object\n",
      "emp.var.rate      41188 non-null float64\n",
      "cons.price.idx    41188 non-null float64\n",
      "cons.conf.idx     41188 non-null float64\n",
      "euribor3m         41188 non-null float64\n",
      "nr.employed       41188 non-null float64\n",
      "response          41188 non-null object\n",
      "dtypes: float64(5), int64(5), object(11)\n",
      "memory usage: 6.6+ MB\n"
     ]
    }
   ],
   "source": [
    "import numpy as np\n",
    "import pandas as pd\n",
    "import matplotlib.pyplot as plt\n",
    "import seaborn as sns\n",
    "\n",
    "loan = pd.read_csv(\"bank_marketing.csv\", sep=\",\")\n",
    "loan.info()"
   ]
  },
  {
   "cell_type": "code",
   "execution_count": 3,
   "metadata": {},
   "outputs": [
    {
     "data": {
      "text/plain": [
       "age               0\n",
       "job               0\n",
       "marital           0\n",
       "education         0\n",
       "default           0\n",
       "housing           0\n",
       "loan              0\n",
       "contact           0\n",
       "month             0\n",
       "day_of_week       0\n",
       "duration          0\n",
       "campaign          0\n",
       "pdays             0\n",
       "previous          0\n",
       "poutcome          0\n",
       "emp.var.rate      0\n",
       "cons.price.idx    0\n",
       "cons.conf.idx     0\n",
       "euribor3m         0\n",
       "nr.employed       0\n",
       "response          0\n",
       "dtype: int64"
      ]
     },
     "execution_count": 3,
     "metadata": {},
     "output_type": "execute_result"
    }
   ],
   "source": [
    "loan.isnull().sum()"
   ]
  },
  {
   "cell_type": "code",
   "execution_count": 4,
   "metadata": {
    "scrolled": true
   },
   "outputs": [
    {
     "data": {
      "text/html": [
       "<div>\n",
       "<style scoped>\n",
       "    .dataframe tbody tr th:only-of-type {\n",
       "        vertical-align: middle;\n",
       "    }\n",
       "\n",
       "    .dataframe tbody tr th {\n",
       "        vertical-align: top;\n",
       "    }\n",
       "\n",
       "    .dataframe thead th {\n",
       "        text-align: right;\n",
       "    }\n",
       "</style>\n",
       "<table border=\"1\" class=\"dataframe\">\n",
       "  <thead>\n",
       "    <tr style=\"text-align: right;\">\n",
       "      <th></th>\n",
       "      <th>age</th>\n",
       "      <th>job</th>\n",
       "      <th>marital</th>\n",
       "      <th>education</th>\n",
       "      <th>default</th>\n",
       "      <th>housing</th>\n",
       "      <th>loan</th>\n",
       "      <th>contact</th>\n",
       "      <th>month</th>\n",
       "      <th>day_of_week</th>\n",
       "      <th>...</th>\n",
       "      <th>campaign</th>\n",
       "      <th>pdays</th>\n",
       "      <th>previous</th>\n",
       "      <th>poutcome</th>\n",
       "      <th>emp.var.rate</th>\n",
       "      <th>cons.price.idx</th>\n",
       "      <th>cons.conf.idx</th>\n",
       "      <th>euribor3m</th>\n",
       "      <th>nr.employed</th>\n",
       "      <th>response</th>\n",
       "    </tr>\n",
       "  </thead>\n",
       "  <tbody>\n",
       "    <tr>\n",
       "      <th>0</th>\n",
       "      <td>56</td>\n",
       "      <td>housemaid</td>\n",
       "      <td>married</td>\n",
       "      <td>basic.4y</td>\n",
       "      <td>no</td>\n",
       "      <td>no</td>\n",
       "      <td>no</td>\n",
       "      <td>telephone</td>\n",
       "      <td>may</td>\n",
       "      <td>mon</td>\n",
       "      <td>...</td>\n",
       "      <td>1</td>\n",
       "      <td>999</td>\n",
       "      <td>0</td>\n",
       "      <td>nonexistent</td>\n",
       "      <td>1.1</td>\n",
       "      <td>93.994</td>\n",
       "      <td>-36.4</td>\n",
       "      <td>4.857</td>\n",
       "      <td>5191.0</td>\n",
       "      <td>no</td>\n",
       "    </tr>\n",
       "    <tr>\n",
       "      <th>1</th>\n",
       "      <td>57</td>\n",
       "      <td>services</td>\n",
       "      <td>married</td>\n",
       "      <td>high.school</td>\n",
       "      <td>unknown</td>\n",
       "      <td>no</td>\n",
       "      <td>no</td>\n",
       "      <td>telephone</td>\n",
       "      <td>may</td>\n",
       "      <td>mon</td>\n",
       "      <td>...</td>\n",
       "      <td>1</td>\n",
       "      <td>999</td>\n",
       "      <td>0</td>\n",
       "      <td>nonexistent</td>\n",
       "      <td>1.1</td>\n",
       "      <td>93.994</td>\n",
       "      <td>-36.4</td>\n",
       "      <td>4.857</td>\n",
       "      <td>5191.0</td>\n",
       "      <td>no</td>\n",
       "    </tr>\n",
       "    <tr>\n",
       "      <th>2</th>\n",
       "      <td>37</td>\n",
       "      <td>services</td>\n",
       "      <td>married</td>\n",
       "      <td>high.school</td>\n",
       "      <td>no</td>\n",
       "      <td>yes</td>\n",
       "      <td>no</td>\n",
       "      <td>telephone</td>\n",
       "      <td>may</td>\n",
       "      <td>mon</td>\n",
       "      <td>...</td>\n",
       "      <td>1</td>\n",
       "      <td>999</td>\n",
       "      <td>0</td>\n",
       "      <td>nonexistent</td>\n",
       "      <td>1.1</td>\n",
       "      <td>93.994</td>\n",
       "      <td>-36.4</td>\n",
       "      <td>4.857</td>\n",
       "      <td>5191.0</td>\n",
       "      <td>no</td>\n",
       "    </tr>\n",
       "    <tr>\n",
       "      <th>3</th>\n",
       "      <td>40</td>\n",
       "      <td>admin.</td>\n",
       "      <td>married</td>\n",
       "      <td>basic.6y</td>\n",
       "      <td>no</td>\n",
       "      <td>no</td>\n",
       "      <td>no</td>\n",
       "      <td>telephone</td>\n",
       "      <td>may</td>\n",
       "      <td>mon</td>\n",
       "      <td>...</td>\n",
       "      <td>1</td>\n",
       "      <td>999</td>\n",
       "      <td>0</td>\n",
       "      <td>nonexistent</td>\n",
       "      <td>1.1</td>\n",
       "      <td>93.994</td>\n",
       "      <td>-36.4</td>\n",
       "      <td>4.857</td>\n",
       "      <td>5191.0</td>\n",
       "      <td>no</td>\n",
       "    </tr>\n",
       "    <tr>\n",
       "      <th>4</th>\n",
       "      <td>56</td>\n",
       "      <td>services</td>\n",
       "      <td>married</td>\n",
       "      <td>high.school</td>\n",
       "      <td>no</td>\n",
       "      <td>no</td>\n",
       "      <td>yes</td>\n",
       "      <td>telephone</td>\n",
       "      <td>may</td>\n",
       "      <td>mon</td>\n",
       "      <td>...</td>\n",
       "      <td>1</td>\n",
       "      <td>999</td>\n",
       "      <td>0</td>\n",
       "      <td>nonexistent</td>\n",
       "      <td>1.1</td>\n",
       "      <td>93.994</td>\n",
       "      <td>-36.4</td>\n",
       "      <td>4.857</td>\n",
       "      <td>5191.0</td>\n",
       "      <td>no</td>\n",
       "    </tr>\n",
       "  </tbody>\n",
       "</table>\n",
       "<p>5 rows × 21 columns</p>\n",
       "</div>"
      ],
      "text/plain": [
       "   age        job  marital    education  default housing loan    contact  \\\n",
       "0   56  housemaid  married     basic.4y       no      no   no  telephone   \n",
       "1   57   services  married  high.school  unknown      no   no  telephone   \n",
       "2   37   services  married  high.school       no     yes   no  telephone   \n",
       "3   40     admin.  married     basic.6y       no      no   no  telephone   \n",
       "4   56   services  married  high.school       no      no  yes  telephone   \n",
       "\n",
       "  month day_of_week  ...  campaign  pdays  previous     poutcome emp.var.rate  \\\n",
       "0   may         mon  ...         1    999         0  nonexistent          1.1   \n",
       "1   may         mon  ...         1    999         0  nonexistent          1.1   \n",
       "2   may         mon  ...         1    999         0  nonexistent          1.1   \n",
       "3   may         mon  ...         1    999         0  nonexistent          1.1   \n",
       "4   may         mon  ...         1    999         0  nonexistent          1.1   \n",
       "\n",
       "   cons.price.idx  cons.conf.idx  euribor3m  nr.employed  response  \n",
       "0          93.994          -36.4      4.857       5191.0        no  \n",
       "1          93.994          -36.4      4.857       5191.0        no  \n",
       "2          93.994          -36.4      4.857       5191.0        no  \n",
       "3          93.994          -36.4      4.857       5191.0        no  \n",
       "4          93.994          -36.4      4.857       5191.0        no  \n",
       "\n",
       "[5 rows x 21 columns]"
      ]
     },
     "execution_count": 4,
     "metadata": {},
     "output_type": "execute_result"
    }
   ],
   "source": [
    "# let's look at the first few rows of the dataframe\n",
    "loan.head()"
   ]
  },
  {
   "cell_type": "code",
   "execution_count": 5,
   "metadata": {},
   "outputs": [
    {
     "data": {
      "text/plain": [
       "(41188, 21)"
      ]
     },
     "execution_count": 5,
     "metadata": {},
     "output_type": "execute_result"
    }
   ],
   "source": [
    "loan.shape"
   ]
  },
  {
   "cell_type": "code",
   "execution_count": 6,
   "metadata": {},
   "outputs": [],
   "source": [
    "#Create Unique id for each column\n",
    "loan['prospectID'] = loan['age'].astype(str)+'_'+loan['job']+'_'+loan['education']"
   ]
  },
  {
   "cell_type": "code",
   "execution_count": 7,
   "metadata": {
    "scrolled": true
   },
   "outputs": [
    {
     "data": {
      "text/html": [
       "<div>\n",
       "<style scoped>\n",
       "    .dataframe tbody tr th:only-of-type {\n",
       "        vertical-align: middle;\n",
       "    }\n",
       "\n",
       "    .dataframe tbody tr th {\n",
       "        vertical-align: top;\n",
       "    }\n",
       "\n",
       "    .dataframe thead th {\n",
       "        text-align: right;\n",
       "    }\n",
       "</style>\n",
       "<table border=\"1\" class=\"dataframe\">\n",
       "  <thead>\n",
       "    <tr style=\"text-align: right;\">\n",
       "      <th></th>\n",
       "      <th>age</th>\n",
       "      <th>job</th>\n",
       "      <th>marital</th>\n",
       "      <th>education</th>\n",
       "      <th>default</th>\n",
       "      <th>housing</th>\n",
       "      <th>loan</th>\n",
       "      <th>contact</th>\n",
       "      <th>month</th>\n",
       "      <th>day_of_week</th>\n",
       "      <th>...</th>\n",
       "      <th>pdays</th>\n",
       "      <th>previous</th>\n",
       "      <th>poutcome</th>\n",
       "      <th>emp.var.rate</th>\n",
       "      <th>cons.price.idx</th>\n",
       "      <th>cons.conf.idx</th>\n",
       "      <th>euribor3m</th>\n",
       "      <th>nr.employed</th>\n",
       "      <th>response</th>\n",
       "      <th>prospectID</th>\n",
       "    </tr>\n",
       "  </thead>\n",
       "  <tbody>\n",
       "    <tr>\n",
       "      <th>1266</th>\n",
       "      <td>39</td>\n",
       "      <td>blue-collar</td>\n",
       "      <td>married</td>\n",
       "      <td>basic.6y</td>\n",
       "      <td>no</td>\n",
       "      <td>no</td>\n",
       "      <td>no</td>\n",
       "      <td>telephone</td>\n",
       "      <td>may</td>\n",
       "      <td>thu</td>\n",
       "      <td>...</td>\n",
       "      <td>999</td>\n",
       "      <td>0</td>\n",
       "      <td>nonexistent</td>\n",
       "      <td>1.1</td>\n",
       "      <td>93.994</td>\n",
       "      <td>-36.4</td>\n",
       "      <td>4.855</td>\n",
       "      <td>5191.0</td>\n",
       "      <td>no</td>\n",
       "      <td>39_blue-collar_basic.6y</td>\n",
       "    </tr>\n",
       "    <tr>\n",
       "      <th>12261</th>\n",
       "      <td>36</td>\n",
       "      <td>retired</td>\n",
       "      <td>married</td>\n",
       "      <td>unknown</td>\n",
       "      <td>no</td>\n",
       "      <td>no</td>\n",
       "      <td>no</td>\n",
       "      <td>telephone</td>\n",
       "      <td>jul</td>\n",
       "      <td>thu</td>\n",
       "      <td>...</td>\n",
       "      <td>999</td>\n",
       "      <td>0</td>\n",
       "      <td>nonexistent</td>\n",
       "      <td>1.4</td>\n",
       "      <td>93.918</td>\n",
       "      <td>-42.7</td>\n",
       "      <td>4.966</td>\n",
       "      <td>5228.1</td>\n",
       "      <td>no</td>\n",
       "      <td>36_retired_unknown</td>\n",
       "    </tr>\n",
       "    <tr>\n",
       "      <th>14234</th>\n",
       "      <td>27</td>\n",
       "      <td>technician</td>\n",
       "      <td>single</td>\n",
       "      <td>professional.course</td>\n",
       "      <td>no</td>\n",
       "      <td>no</td>\n",
       "      <td>no</td>\n",
       "      <td>cellular</td>\n",
       "      <td>jul</td>\n",
       "      <td>mon</td>\n",
       "      <td>...</td>\n",
       "      <td>999</td>\n",
       "      <td>0</td>\n",
       "      <td>nonexistent</td>\n",
       "      <td>1.4</td>\n",
       "      <td>93.918</td>\n",
       "      <td>-42.7</td>\n",
       "      <td>4.962</td>\n",
       "      <td>5228.1</td>\n",
       "      <td>no</td>\n",
       "      <td>27_technician_professional.course</td>\n",
       "    </tr>\n",
       "    <tr>\n",
       "      <th>16956</th>\n",
       "      <td>47</td>\n",
       "      <td>technician</td>\n",
       "      <td>divorced</td>\n",
       "      <td>high.school</td>\n",
       "      <td>no</td>\n",
       "      <td>yes</td>\n",
       "      <td>no</td>\n",
       "      <td>cellular</td>\n",
       "      <td>jul</td>\n",
       "      <td>thu</td>\n",
       "      <td>...</td>\n",
       "      <td>999</td>\n",
       "      <td>0</td>\n",
       "      <td>nonexistent</td>\n",
       "      <td>1.4</td>\n",
       "      <td>93.918</td>\n",
       "      <td>-42.7</td>\n",
       "      <td>4.962</td>\n",
       "      <td>5228.1</td>\n",
       "      <td>no</td>\n",
       "      <td>47_technician_high.school</td>\n",
       "    </tr>\n",
       "    <tr>\n",
       "      <th>18465</th>\n",
       "      <td>32</td>\n",
       "      <td>technician</td>\n",
       "      <td>single</td>\n",
       "      <td>professional.course</td>\n",
       "      <td>no</td>\n",
       "      <td>yes</td>\n",
       "      <td>no</td>\n",
       "      <td>cellular</td>\n",
       "      <td>jul</td>\n",
       "      <td>thu</td>\n",
       "      <td>...</td>\n",
       "      <td>999</td>\n",
       "      <td>0</td>\n",
       "      <td>nonexistent</td>\n",
       "      <td>1.4</td>\n",
       "      <td>93.918</td>\n",
       "      <td>-42.7</td>\n",
       "      <td>4.968</td>\n",
       "      <td>5228.1</td>\n",
       "      <td>no</td>\n",
       "      <td>32_technician_professional.course</td>\n",
       "    </tr>\n",
       "    <tr>\n",
       "      <th>20216</th>\n",
       "      <td>55</td>\n",
       "      <td>services</td>\n",
       "      <td>married</td>\n",
       "      <td>high.school</td>\n",
       "      <td>unknown</td>\n",
       "      <td>no</td>\n",
       "      <td>no</td>\n",
       "      <td>cellular</td>\n",
       "      <td>aug</td>\n",
       "      <td>mon</td>\n",
       "      <td>...</td>\n",
       "      <td>999</td>\n",
       "      <td>0</td>\n",
       "      <td>nonexistent</td>\n",
       "      <td>1.4</td>\n",
       "      <td>93.444</td>\n",
       "      <td>-36.1</td>\n",
       "      <td>4.965</td>\n",
       "      <td>5228.1</td>\n",
       "      <td>no</td>\n",
       "      <td>55_services_high.school</td>\n",
       "    </tr>\n",
       "    <tr>\n",
       "      <th>20534</th>\n",
       "      <td>41</td>\n",
       "      <td>technician</td>\n",
       "      <td>married</td>\n",
       "      <td>professional.course</td>\n",
       "      <td>no</td>\n",
       "      <td>yes</td>\n",
       "      <td>no</td>\n",
       "      <td>cellular</td>\n",
       "      <td>aug</td>\n",
       "      <td>tue</td>\n",
       "      <td>...</td>\n",
       "      <td>999</td>\n",
       "      <td>0</td>\n",
       "      <td>nonexistent</td>\n",
       "      <td>1.4</td>\n",
       "      <td>93.444</td>\n",
       "      <td>-36.1</td>\n",
       "      <td>4.966</td>\n",
       "      <td>5228.1</td>\n",
       "      <td>no</td>\n",
       "      <td>41_technician_professional.course</td>\n",
       "    </tr>\n",
       "    <tr>\n",
       "      <th>25217</th>\n",
       "      <td>39</td>\n",
       "      <td>admin.</td>\n",
       "      <td>married</td>\n",
       "      <td>university.degree</td>\n",
       "      <td>no</td>\n",
       "      <td>no</td>\n",
       "      <td>no</td>\n",
       "      <td>cellular</td>\n",
       "      <td>nov</td>\n",
       "      <td>tue</td>\n",
       "      <td>...</td>\n",
       "      <td>999</td>\n",
       "      <td>0</td>\n",
       "      <td>nonexistent</td>\n",
       "      <td>-0.1</td>\n",
       "      <td>93.200</td>\n",
       "      <td>-42.0</td>\n",
       "      <td>4.153</td>\n",
       "      <td>5195.8</td>\n",
       "      <td>no</td>\n",
       "      <td>39_admin._university.degree</td>\n",
       "    </tr>\n",
       "    <tr>\n",
       "      <th>28477</th>\n",
       "      <td>24</td>\n",
       "      <td>services</td>\n",
       "      <td>single</td>\n",
       "      <td>high.school</td>\n",
       "      <td>no</td>\n",
       "      <td>yes</td>\n",
       "      <td>no</td>\n",
       "      <td>cellular</td>\n",
       "      <td>apr</td>\n",
       "      <td>tue</td>\n",
       "      <td>...</td>\n",
       "      <td>999</td>\n",
       "      <td>0</td>\n",
       "      <td>nonexistent</td>\n",
       "      <td>-1.8</td>\n",
       "      <td>93.075</td>\n",
       "      <td>-47.1</td>\n",
       "      <td>1.423</td>\n",
       "      <td>5099.1</td>\n",
       "      <td>no</td>\n",
       "      <td>24_services_high.school</td>\n",
       "    </tr>\n",
       "    <tr>\n",
       "      <th>32516</th>\n",
       "      <td>35</td>\n",
       "      <td>admin.</td>\n",
       "      <td>married</td>\n",
       "      <td>university.degree</td>\n",
       "      <td>no</td>\n",
       "      <td>yes</td>\n",
       "      <td>no</td>\n",
       "      <td>cellular</td>\n",
       "      <td>may</td>\n",
       "      <td>fri</td>\n",
       "      <td>...</td>\n",
       "      <td>999</td>\n",
       "      <td>0</td>\n",
       "      <td>nonexistent</td>\n",
       "      <td>-1.8</td>\n",
       "      <td>92.893</td>\n",
       "      <td>-46.2</td>\n",
       "      <td>1.313</td>\n",
       "      <td>5099.1</td>\n",
       "      <td>no</td>\n",
       "      <td>35_admin._university.degree</td>\n",
       "    </tr>\n",
       "    <tr>\n",
       "      <th>36951</th>\n",
       "      <td>45</td>\n",
       "      <td>admin.</td>\n",
       "      <td>married</td>\n",
       "      <td>university.degree</td>\n",
       "      <td>no</td>\n",
       "      <td>no</td>\n",
       "      <td>no</td>\n",
       "      <td>cellular</td>\n",
       "      <td>jul</td>\n",
       "      <td>thu</td>\n",
       "      <td>...</td>\n",
       "      <td>999</td>\n",
       "      <td>0</td>\n",
       "      <td>nonexistent</td>\n",
       "      <td>-2.9</td>\n",
       "      <td>92.469</td>\n",
       "      <td>-33.6</td>\n",
       "      <td>1.072</td>\n",
       "      <td>5076.2</td>\n",
       "      <td>yes</td>\n",
       "      <td>45_admin._university.degree</td>\n",
       "    </tr>\n",
       "    <tr>\n",
       "      <th>38281</th>\n",
       "      <td>71</td>\n",
       "      <td>retired</td>\n",
       "      <td>single</td>\n",
       "      <td>university.degree</td>\n",
       "      <td>no</td>\n",
       "      <td>no</td>\n",
       "      <td>no</td>\n",
       "      <td>telephone</td>\n",
       "      <td>oct</td>\n",
       "      <td>tue</td>\n",
       "      <td>...</td>\n",
       "      <td>999</td>\n",
       "      <td>0</td>\n",
       "      <td>nonexistent</td>\n",
       "      <td>-3.4</td>\n",
       "      <td>92.431</td>\n",
       "      <td>-26.9</td>\n",
       "      <td>0.742</td>\n",
       "      <td>5017.5</td>\n",
       "      <td>no</td>\n",
       "      <td>71_retired_university.degree</td>\n",
       "    </tr>\n",
       "  </tbody>\n",
       "</table>\n",
       "<p>12 rows × 22 columns</p>\n",
       "</div>"
      ],
      "text/plain": [
       "       age          job   marital            education  default housing loan  \\\n",
       "1266    39  blue-collar   married             basic.6y       no      no   no   \n",
       "12261   36      retired   married              unknown       no      no   no   \n",
       "14234   27   technician    single  professional.course       no      no   no   \n",
       "16956   47   technician  divorced          high.school       no     yes   no   \n",
       "18465   32   technician    single  professional.course       no     yes   no   \n",
       "20216   55     services   married          high.school  unknown      no   no   \n",
       "20534   41   technician   married  professional.course       no     yes   no   \n",
       "25217   39       admin.   married    university.degree       no      no   no   \n",
       "28477   24     services    single          high.school       no     yes   no   \n",
       "32516   35       admin.   married    university.degree       no     yes   no   \n",
       "36951   45       admin.   married    university.degree       no      no   no   \n",
       "38281   71      retired    single    university.degree       no      no   no   \n",
       "\n",
       "         contact month day_of_week  ...  pdays  previous     poutcome  \\\n",
       "1266   telephone   may         thu  ...    999         0  nonexistent   \n",
       "12261  telephone   jul         thu  ...    999         0  nonexistent   \n",
       "14234   cellular   jul         mon  ...    999         0  nonexistent   \n",
       "16956   cellular   jul         thu  ...    999         0  nonexistent   \n",
       "18465   cellular   jul         thu  ...    999         0  nonexistent   \n",
       "20216   cellular   aug         mon  ...    999         0  nonexistent   \n",
       "20534   cellular   aug         tue  ...    999         0  nonexistent   \n",
       "25217   cellular   nov         tue  ...    999         0  nonexistent   \n",
       "28477   cellular   apr         tue  ...    999         0  nonexistent   \n",
       "32516   cellular   may         fri  ...    999         0  nonexistent   \n",
       "36951   cellular   jul         thu  ...    999         0  nonexistent   \n",
       "38281  telephone   oct         tue  ...    999         0  nonexistent   \n",
       "\n",
       "       emp.var.rate cons.price.idx  cons.conf.idx  euribor3m  nr.employed  \\\n",
       "1266            1.1         93.994          -36.4      4.855       5191.0   \n",
       "12261           1.4         93.918          -42.7      4.966       5228.1   \n",
       "14234           1.4         93.918          -42.7      4.962       5228.1   \n",
       "16956           1.4         93.918          -42.7      4.962       5228.1   \n",
       "18465           1.4         93.918          -42.7      4.968       5228.1   \n",
       "20216           1.4         93.444          -36.1      4.965       5228.1   \n",
       "20534           1.4         93.444          -36.1      4.966       5228.1   \n",
       "25217          -0.1         93.200          -42.0      4.153       5195.8   \n",
       "28477          -1.8         93.075          -47.1      1.423       5099.1   \n",
       "32516          -1.8         92.893          -46.2      1.313       5099.1   \n",
       "36951          -2.9         92.469          -33.6      1.072       5076.2   \n",
       "38281          -3.4         92.431          -26.9      0.742       5017.5   \n",
       "\n",
       "       response                         prospectID  \n",
       "1266         no            39_blue-collar_basic.6y  \n",
       "12261        no                 36_retired_unknown  \n",
       "14234        no  27_technician_professional.course  \n",
       "16956        no          47_technician_high.school  \n",
       "18465        no  32_technician_professional.course  \n",
       "20216        no            55_services_high.school  \n",
       "20534        no  41_technician_professional.course  \n",
       "25217        no        39_admin._university.degree  \n",
       "28477        no            24_services_high.school  \n",
       "32516        no        35_admin._university.degree  \n",
       "36951       yes        45_admin._university.degree  \n",
       "38281        no       71_retired_university.degree  \n",
       "\n",
       "[12 rows x 22 columns]"
      ]
     },
     "execution_count": 7,
     "metadata": {},
     "output_type": "execute_result"
    }
   ],
   "source": [
    "loan[loan.duplicated()]"
   ]
  },
  {
   "cell_type": "markdown",
   "metadata": {},
   "source": [
    "We see that there are duplicates after creating the new unique id column. Hence we shall drop the duplicates."
   ]
  },
  {
   "cell_type": "code",
   "execution_count": 8,
   "metadata": {},
   "outputs": [],
   "source": [
    "loan = loan.drop_duplicates()"
   ]
  },
  {
   "cell_type": "code",
   "execution_count": 9,
   "metadata": {},
   "outputs": [
    {
     "data": {
      "text/plain": [
       "(41176, 22)"
      ]
     },
     "execution_count": 9,
     "metadata": {},
     "output_type": "execute_result"
    }
   ],
   "source": [
    "loan.shape"
   ]
  },
  {
   "cell_type": "code",
   "execution_count": 10,
   "metadata": {},
   "outputs": [
    {
     "data": {
      "text/plain": [
       "Index(['age', 'job', 'marital', 'education', 'default', 'housing', 'loan',\n",
       "       'contact', 'month', 'day_of_week', 'duration', 'campaign', 'pdays',\n",
       "       'previous', 'poutcome', 'emp.var.rate', 'cons.price.idx',\n",
       "       'cons.conf.idx', 'euribor3m', 'nr.employed', 'response', 'prospectID'],\n",
       "      dtype='object')"
      ]
     },
     "execution_count": 10,
     "metadata": {},
     "output_type": "execute_result"
    }
   ],
   "source": [
    "# Looking at all the column names\n",
    "loan.columns"
   ]
  },
  {
   "cell_type": "code",
   "execution_count": 11,
   "metadata": {},
   "outputs": [
    {
     "data": {
      "text/plain": [
       "0"
      ]
     },
     "execution_count": 11,
     "metadata": {},
     "output_type": "execute_result"
    }
   ],
   "source": [
    "sum(loan.duplicated())"
   ]
  },
  {
   "cell_type": "code",
   "execution_count": 12,
   "metadata": {},
   "outputs": [
    {
     "data": {
      "text/plain": [
       "no     36537\n",
       "yes     4639\n",
       "Name: response, dtype: int64"
      ]
     },
     "execution_count": 12,
     "metadata": {},
     "output_type": "execute_result"
    }
   ],
   "source": [
    "loan['response'].value_counts()"
   ]
  },
  {
   "cell_type": "code",
   "execution_count": 13,
   "metadata": {},
   "outputs": [],
   "source": [
    "loan['response'] = loan['response'].map({'yes': 1, 'no': 0})"
   ]
  },
  {
   "cell_type": "code",
   "execution_count": 14,
   "metadata": {},
   "outputs": [
    {
     "data": {
      "text/plain": [
       "0    0\n",
       "1    0\n",
       "2    0\n",
       "3    0\n",
       "4    0\n",
       "Name: response, dtype: int64"
      ]
     },
     "execution_count": 14,
     "metadata": {},
     "output_type": "execute_result"
    }
   ],
   "source": [
    "loan['response'].head()"
   ]
  },
  {
   "cell_type": "code",
   "execution_count": 15,
   "metadata": {},
   "outputs": [
    {
     "data": {
      "text/plain": [
       "0    36537\n",
       "1     4639\n",
       "Name: response, dtype: int64"
      ]
     },
     "execution_count": 15,
     "metadata": {},
     "output_type": "execute_result"
    }
   ],
   "source": [
    "loan['response'].value_counts()"
   ]
  },
  {
   "cell_type": "code",
   "execution_count": 16,
   "metadata": {},
   "outputs": [],
   "source": [
    "# Copy the dataset into a back up dataframe for future use\n",
    "\n",
    "loan_copy = loan"
   ]
  },
  {
   "cell_type": "code",
   "execution_count": 17,
   "metadata": {},
   "outputs": [
    {
     "data": {
      "text/plain": [
       "11.27"
      ]
     },
     "execution_count": 17,
     "metadata": {},
     "output_type": "execute_result"
    }
   ],
   "source": [
    "# Determine the percentage of people who have bought the investment product, that is those who have the response varibale as 1\n",
    "\n",
    "100*(loan['response'].sum()/loan['response'].count()).round(4)"
   ]
  },
  {
   "cell_type": "markdown",
   "metadata": {},
   "source": [
    "### Exploratory Data Analysis\n",
    "\n",
    "Now, we will do Exploratory Data Analysis on individual features and look for patterns."
   ]
  },
  {
   "cell_type": "markdown",
   "metadata": {},
   "source": [
    "First, we will look at the client data.\n",
    "\n",
    "- Age\n",
    "- Job : type of job\n",
    "- Marital : marital status\n",
    "- Education\n",
    "- Default: has credit in default?\n",
    "- Housing: has housing loan?\n",
    "- Loan: has personal loan?\n",
    "\n",
    "#### Age"
   ]
  },
  {
   "cell_type": "code",
   "execution_count": 18,
   "metadata": {},
   "outputs": [
    {
     "data": {
      "image/png": "[encoded data removed]",
      "text/plain": [
       "<Figure size 432x288 with 1 Axes>"
      ]
     },
     "metadata": {
      "needs_background": "light"
     },
     "output_type": "display_data"
    }
   ],
   "source": [
    "sns.boxplot(x='age', data=loan)\n",
    "plt.show()"
   ]
  },
  {
   "cell_type": "code",
   "execution_count": 19,
   "metadata": {},
   "outputs": [],
   "source": [
    "# Since there are a fair few data entries with age > 71, we will club all of those ages at 71 (since we can assume \n",
    "# that the behaviour will not change significantly with age at age above 70)\n",
    "\n",
    "loan['age'][loan['age']>71] =71"
   ]
  },
  {
   "cell_type": "code",
   "execution_count": 20,
   "metadata": {},
   "outputs": [
    {
     "data": {
      "image/png": "[encoded data removed]",
      "text/plain": [
       "<Figure size 432x288 with 1 Axes>"
      ]
     },
     "metadata": {
      "needs_background": "light"
     },
     "output_type": "display_data"
    }
   ],
   "source": [
    "sns.boxplot(x='age', data=loan)\n",
    "plt.show()"
   ]
  },
  {
   "cell_type": "code",
   "execution_count": 21,
   "metadata": {},
   "outputs": [],
   "source": [
    "# To understand the behaviour of people with age, we are going to bucket the age groups into brackets of 10 and \n",
    "# study the response rates\n",
    "\n",
    "bins = np.arange(10,loan['age'].max() + 10, 10)\n",
    "loan['age_bins'] = pd.cut(loan['age'], bins, include_lowest=True)"
   ]
  },
  {
   "cell_type": "code",
   "execution_count": 22,
   "metadata": {},
   "outputs": [],
   "source": [
    "No_of_prospect = loan.groupby('age_bins')['response'].count().reset_index(name = 'No.of_prospect')\n",
    "count_prospects = loan[loan['response']==1].groupby('age_bins')['response'].count().reset_index(name = 'count_prospects')\n",
    "agg_age = No_of_prospect.merge(count_prospects, on='age_bins')\n",
    "agg_age['response_rate'] = 100*(agg_age['count_prospects']/agg_age['No.of_prospect']).round(3)"
   ]
  },
  {
   "cell_type": "code",
   "execution_count": 23,
   "metadata": {},
   "outputs": [
    {
     "data": {
      "text/html": [
       "<div>\n",
       "<style scoped>\n",
       "    .dataframe tbody tr th:only-of-type {\n",
       "        vertical-align: middle;\n",
       "    }\n",
       "\n",
       "    .dataframe tbody tr th {\n",
       "        vertical-align: top;\n",
       "    }\n",
       "\n",
       "    .dataframe thead th {\n",
       "        text-align: right;\n",
       "    }\n",
       "</style>\n",
       "<table border=\"1\" class=\"dataframe\">\n",
       "  <thead>\n",
       "    <tr style=\"text-align: right;\">\n",
       "      <th></th>\n",
       "      <th>age_bins</th>\n",
       "      <th>No.of_prospect</th>\n",
       "      <th>count_prospects</th>\n",
       "      <th>response_rate</th>\n",
       "    </tr>\n",
       "  </thead>\n",
       "  <tbody>\n",
       "    <tr>\n",
       "      <th>0</th>\n",
       "      <td>(9.999, 20.0]</td>\n",
       "      <td>140</td>\n",
       "      <td>57</td>\n",
       "      <td>40.7</td>\n",
       "    </tr>\n",
       "    <tr>\n",
       "      <th>1</th>\n",
       "      <td>(20.0, 30.0]</td>\n",
       "      <td>7241</td>\n",
       "      <td>1067</td>\n",
       "      <td>14.7</td>\n",
       "    </tr>\n",
       "    <tr>\n",
       "      <th>2</th>\n",
       "      <td>(30.0, 40.0]</td>\n",
       "      <td>16380</td>\n",
       "      <td>1597</td>\n",
       "      <td>9.7</td>\n",
       "    </tr>\n",
       "    <tr>\n",
       "      <th>3</th>\n",
       "      <td>(40.0, 50.0]</td>\n",
       "      <td>10237</td>\n",
       "      <td>836</td>\n",
       "      <td>8.2</td>\n",
       "    </tr>\n",
       "    <tr>\n",
       "      <th>4</th>\n",
       "      <td>(50.0, 60.0]</td>\n",
       "      <td>6269</td>\n",
       "      <td>668</td>\n",
       "      <td>10.7</td>\n",
       "    </tr>\n",
       "    <tr>\n",
       "      <th>5</th>\n",
       "      <td>(60.0, 70.0]</td>\n",
       "      <td>488</td>\n",
       "      <td>212</td>\n",
       "      <td>43.4</td>\n",
       "    </tr>\n",
       "    <tr>\n",
       "      <th>6</th>\n",
       "      <td>(70.0, 80.0]</td>\n",
       "      <td>421</td>\n",
       "      <td>202</td>\n",
       "      <td>48.0</td>\n",
       "    </tr>\n",
       "  </tbody>\n",
       "</table>\n",
       "</div>"
      ],
      "text/plain": [
       "        age_bins  No.of_prospect  count_prospects  response_rate\n",
       "0  (9.999, 20.0]             140               57           40.7\n",
       "1   (20.0, 30.0]            7241             1067           14.7\n",
       "2   (30.0, 40.0]           16380             1597            9.7\n",
       "3   (40.0, 50.0]           10237              836            8.2\n",
       "4   (50.0, 60.0]            6269              668           10.7\n",
       "5   (60.0, 70.0]             488              212           43.4\n",
       "6   (70.0, 80.0]             421              202           48.0"
      ]
     },
     "execution_count": 23,
     "metadata": {},
     "output_type": "execute_result"
    }
   ],
   "source": [
    "agg_age"
   ]
  },
  {
   "cell_type": "code",
   "execution_count": 24,
   "metadata": {},
   "outputs": [
    {
     "data": {
      "image/png": "[encoded data removed]",
      "text/plain": [
       "<Figure size 432x288 with 1 Axes>"
      ]
     },
     "metadata": {
      "needs_background": "light"
     },
     "output_type": "display_data"
    }
   ],
   "source": [
    "ax = sns.barplot(x='age_bins', y='response_rate', data=agg_age)\n",
    "ax.set_xticklabels(ax.get_xticklabels(),rotation=30)\n",
    "plt.show()"
   ]
  },
  {
   "cell_type": "markdown",
   "metadata": {},
   "source": [
    "As we can see, the youngest and the eldest are the most likely to buy the investment product being offered by the bank."
   ]
  },
  {
   "cell_type": "code",
   "execution_count": 25,
   "metadata": {},
   "outputs": [
    {
     "data": {
      "text/html": [
       "<div>\n",
       "<style scoped>\n",
       "    .dataframe tbody tr th:only-of-type {\n",
       "        vertical-align: middle;\n",
       "    }\n",
       "\n",
       "    .dataframe tbody tr th {\n",
       "        vertical-align: top;\n",
       "    }\n",
       "\n",
       "    .dataframe thead th {\n",
       "        text-align: right;\n",
       "    }\n",
       "</style>\n",
       "<table border=\"1\" class=\"dataframe\">\n",
       "  <thead>\n",
       "    <tr style=\"text-align: right;\">\n",
       "      <th></th>\n",
       "      <th>age</th>\n",
       "      <th>job</th>\n",
       "      <th>marital</th>\n",
       "      <th>education</th>\n",
       "      <th>default</th>\n",
       "      <th>housing</th>\n",
       "      <th>loan</th>\n",
       "      <th>contact</th>\n",
       "      <th>month</th>\n",
       "      <th>day_of_week</th>\n",
       "      <th>...</th>\n",
       "      <th>previous</th>\n",
       "      <th>poutcome</th>\n",
       "      <th>emp.var.rate</th>\n",
       "      <th>cons.price.idx</th>\n",
       "      <th>cons.conf.idx</th>\n",
       "      <th>euribor3m</th>\n",
       "      <th>nr.employed</th>\n",
       "      <th>response</th>\n",
       "      <th>prospectID</th>\n",
       "      <th>age_bins</th>\n",
       "    </tr>\n",
       "  </thead>\n",
       "  <tbody>\n",
       "    <tr>\n",
       "      <th>0</th>\n",
       "      <td>56</td>\n",
       "      <td>housemaid</td>\n",
       "      <td>married</td>\n",
       "      <td>basic.4y</td>\n",
       "      <td>no</td>\n",
       "      <td>no</td>\n",
       "      <td>no</td>\n",
       "      <td>telephone</td>\n",
       "      <td>may</td>\n",
       "      <td>mon</td>\n",
       "      <td>...</td>\n",
       "      <td>0</td>\n",
       "      <td>nonexistent</td>\n",
       "      <td>1.1</td>\n",
       "      <td>93.994</td>\n",
       "      <td>-36.4</td>\n",
       "      <td>4.857</td>\n",
       "      <td>5191.0</td>\n",
       "      <td>0</td>\n",
       "      <td>56_housemaid_basic.4y</td>\n",
       "      <td>(50.0, 60.0]</td>\n",
       "    </tr>\n",
       "    <tr>\n",
       "      <th>1</th>\n",
       "      <td>57</td>\n",
       "      <td>services</td>\n",
       "      <td>married</td>\n",
       "      <td>high.school</td>\n",
       "      <td>unknown</td>\n",
       "      <td>no</td>\n",
       "      <td>no</td>\n",
       "      <td>telephone</td>\n",
       "      <td>may</td>\n",
       "      <td>mon</td>\n",
       "      <td>...</td>\n",
       "      <td>0</td>\n",
       "      <td>nonexistent</td>\n",
       "      <td>1.1</td>\n",
       "      <td>93.994</td>\n",
       "      <td>-36.4</td>\n",
       "      <td>4.857</td>\n",
       "      <td>5191.0</td>\n",
       "      <td>0</td>\n",
       "      <td>57_services_high.school</td>\n",
       "      <td>(50.0, 60.0]</td>\n",
       "    </tr>\n",
       "    <tr>\n",
       "      <th>2</th>\n",
       "      <td>37</td>\n",
       "      <td>services</td>\n",
       "      <td>married</td>\n",
       "      <td>high.school</td>\n",
       "      <td>no</td>\n",
       "      <td>yes</td>\n",
       "      <td>no</td>\n",
       "      <td>telephone</td>\n",
       "      <td>may</td>\n",
       "      <td>mon</td>\n",
       "      <td>...</td>\n",
       "      <td>0</td>\n",
       "      <td>nonexistent</td>\n",
       "      <td>1.1</td>\n",
       "      <td>93.994</td>\n",
       "      <td>-36.4</td>\n",
       "      <td>4.857</td>\n",
       "      <td>5191.0</td>\n",
       "      <td>0</td>\n",
       "      <td>37_services_high.school</td>\n",
       "      <td>(30.0, 40.0]</td>\n",
       "    </tr>\n",
       "    <tr>\n",
       "      <th>3</th>\n",
       "      <td>40</td>\n",
       "      <td>admin.</td>\n",
       "      <td>married</td>\n",
       "      <td>basic.6y</td>\n",
       "      <td>no</td>\n",
       "      <td>no</td>\n",
       "      <td>no</td>\n",
       "      <td>telephone</td>\n",
       "      <td>may</td>\n",
       "      <td>mon</td>\n",
       "      <td>...</td>\n",
       "      <td>0</td>\n",
       "      <td>nonexistent</td>\n",
       "      <td>1.1</td>\n",
       "      <td>93.994</td>\n",
       "      <td>-36.4</td>\n",
       "      <td>4.857</td>\n",
       "      <td>5191.0</td>\n",
       "      <td>0</td>\n",
       "      <td>40_admin._basic.6y</td>\n",
       "      <td>(30.0, 40.0]</td>\n",
       "    </tr>\n",
       "    <tr>\n",
       "      <th>4</th>\n",
       "      <td>56</td>\n",
       "      <td>services</td>\n",
       "      <td>married</td>\n",
       "      <td>high.school</td>\n",
       "      <td>no</td>\n",
       "      <td>no</td>\n",
       "      <td>yes</td>\n",
       "      <td>telephone</td>\n",
       "      <td>may</td>\n",
       "      <td>mon</td>\n",
       "      <td>...</td>\n",
       "      <td>0</td>\n",
       "      <td>nonexistent</td>\n",
       "      <td>1.1</td>\n",
       "      <td>93.994</td>\n",
       "      <td>-36.4</td>\n",
       "      <td>4.857</td>\n",
       "      <td>5191.0</td>\n",
       "      <td>0</td>\n",
       "      <td>56_services_high.school</td>\n",
       "      <td>(50.0, 60.0]</td>\n",
       "    </tr>\n",
       "  </tbody>\n",
       "</table>\n",
       "<p>5 rows × 23 columns</p>\n",
       "</div>"
      ],
      "text/plain": [
       "   age        job  marital    education  default housing loan    contact  \\\n",
       "0   56  housemaid  married     basic.4y       no      no   no  telephone   \n",
       "1   57   services  married  high.school  unknown      no   no  telephone   \n",
       "2   37   services  married  high.school       no     yes   no  telephone   \n",
       "3   40     admin.  married     basic.6y       no      no   no  telephone   \n",
       "4   56   services  married  high.school       no      no  yes  telephone   \n",
       "\n",
       "  month day_of_week  ...  previous     poutcome  emp.var.rate  cons.price.idx  \\\n",
       "0   may         mon  ...         0  nonexistent           1.1          93.994   \n",
       "1   may         mon  ...         0  nonexistent           1.1          93.994   \n",
       "2   may         mon  ...         0  nonexistent           1.1          93.994   \n",
       "3   may         mon  ...         0  nonexistent           1.1          93.994   \n",
       "4   may         mon  ...         0  nonexistent           1.1          93.994   \n",
       "\n",
       "  cons.conf.idx  euribor3m  nr.employed  response               prospectID  \\\n",
       "0         -36.4      4.857       5191.0         0    56_housemaid_basic.4y   \n",
       "1         -36.4      4.857       5191.0         0  57_services_high.school   \n",
       "2         -36.4      4.857       5191.0         0  37_services_high.school   \n",
       "3         -36.4      4.857       5191.0         0       40_admin._basic.6y   \n",
       "4         -36.4      4.857       5191.0         0  56_services_high.school   \n",
       "\n",
       "       age_bins  \n",
       "0  (50.0, 60.0]  \n",
       "1  (50.0, 60.0]  \n",
       "2  (30.0, 40.0]  \n",
       "3  (30.0, 40.0]  \n",
       "4  (50.0, 60.0]  \n",
       "\n",
       "[5 rows x 23 columns]"
      ]
     },
     "execution_count": 25,
     "metadata": {},
     "output_type": "execute_result"
    }
   ],
   "source": [
    "# Note that we have added a new column named age bucket to the table\n",
    "\n",
    "loan.head()"
   ]
  },
  {
   "cell_type": "markdown",
   "metadata": {},
   "source": [
    "Similarly, we will look at the relation between response rate and job. Note that since job is already a categorical variable, we don't need to bucket the data"
   ]
  },
  {
   "cell_type": "markdown",
   "metadata": {},
   "source": [
    "#### Job"
   ]
  },
  {
   "cell_type": "code",
   "execution_count": 26,
   "metadata": {},
   "outputs": [
    {
     "data": {
      "text/plain": [
       "admin.           10419\n",
       "blue-collar       9253\n",
       "technician        6739\n",
       "services          3967\n",
       "management        2924\n",
       "retired           1718\n",
       "entrepreneur      1456\n",
       "self-employed     1421\n",
       "housemaid         1060\n",
       "unemployed        1014\n",
       "student            875\n",
       "unknown            330\n",
       "Name: job, dtype: int64"
      ]
     },
     "execution_count": 26,
     "metadata": {},
     "output_type": "execute_result"
    }
   ],
   "source": [
    "loan['job'].value_counts()"
   ]
  },
  {
   "cell_type": "code",
   "execution_count": 27,
   "metadata": {},
   "outputs": [],
   "source": [
    "count_prospects_job = loan.groupby('job')['response'].sum().reset_index(name = 'count_prospects')\n",
    "No_of_prospect_job = loan.groupby('job')['response'].count().reset_index(name = 'No_of_prospects')\n",
    "agg_job = count_prospects_job.merge(No_of_prospect_job, on = 'job')\n",
    "agg_job['response_rate'] = 100*(agg_job['count_prospects']/agg_job['No_of_prospects']).round(4)"
   ]
  },
  {
   "cell_type": "code",
   "execution_count": 28,
   "metadata": {},
   "outputs": [
    {
     "data": {
      "text/html": [
       "<div>\n",
       "<style scoped>\n",
       "    .dataframe tbody tr th:only-of-type {\n",
       "        vertical-align: middle;\n",
       "    }\n",
       "\n",
       "    .dataframe tbody tr th {\n",
       "        vertical-align: top;\n",
       "    }\n",
       "\n",
       "    .dataframe thead th {\n",
       "        text-align: right;\n",
       "    }\n",
       "</style>\n",
       "<table border=\"1\" class=\"dataframe\">\n",
       "  <thead>\n",
       "    <tr style=\"text-align: right;\">\n",
       "      <th></th>\n",
       "      <th>job</th>\n",
       "      <th>count_prospects</th>\n",
       "      <th>No_of_prospects</th>\n",
       "      <th>response_rate</th>\n",
       "    </tr>\n",
       "  </thead>\n",
       "  <tbody>\n",
       "    <tr>\n",
       "      <th>0</th>\n",
       "      <td>admin.</td>\n",
       "      <td>1351</td>\n",
       "      <td>10419</td>\n",
       "      <td>12.97</td>\n",
       "    </tr>\n",
       "    <tr>\n",
       "      <th>1</th>\n",
       "      <td>blue-collar</td>\n",
       "      <td>638</td>\n",
       "      <td>9253</td>\n",
       "      <td>6.90</td>\n",
       "    </tr>\n",
       "    <tr>\n",
       "      <th>2</th>\n",
       "      <td>entrepreneur</td>\n",
       "      <td>124</td>\n",
       "      <td>1456</td>\n",
       "      <td>8.52</td>\n",
       "    </tr>\n",
       "    <tr>\n",
       "      <th>3</th>\n",
       "      <td>housemaid</td>\n",
       "      <td>106</td>\n",
       "      <td>1060</td>\n",
       "      <td>10.00</td>\n",
       "    </tr>\n",
       "    <tr>\n",
       "      <th>4</th>\n",
       "      <td>management</td>\n",
       "      <td>328</td>\n",
       "      <td>2924</td>\n",
       "      <td>11.22</td>\n",
       "    </tr>\n",
       "    <tr>\n",
       "      <th>5</th>\n",
       "      <td>retired</td>\n",
       "      <td>434</td>\n",
       "      <td>1718</td>\n",
       "      <td>25.26</td>\n",
       "    </tr>\n",
       "    <tr>\n",
       "      <th>6</th>\n",
       "      <td>self-employed</td>\n",
       "      <td>149</td>\n",
       "      <td>1421</td>\n",
       "      <td>10.49</td>\n",
       "    </tr>\n",
       "    <tr>\n",
       "      <th>7</th>\n",
       "      <td>services</td>\n",
       "      <td>323</td>\n",
       "      <td>3967</td>\n",
       "      <td>8.14</td>\n",
       "    </tr>\n",
       "    <tr>\n",
       "      <th>8</th>\n",
       "      <td>student</td>\n",
       "      <td>275</td>\n",
       "      <td>875</td>\n",
       "      <td>31.43</td>\n",
       "    </tr>\n",
       "    <tr>\n",
       "      <th>9</th>\n",
       "      <td>technician</td>\n",
       "      <td>730</td>\n",
       "      <td>6739</td>\n",
       "      <td>10.83</td>\n",
       "    </tr>\n",
       "    <tr>\n",
       "      <th>10</th>\n",
       "      <td>unemployed</td>\n",
       "      <td>144</td>\n",
       "      <td>1014</td>\n",
       "      <td>14.20</td>\n",
       "    </tr>\n",
       "    <tr>\n",
       "      <th>11</th>\n",
       "      <td>unknown</td>\n",
       "      <td>37</td>\n",
       "      <td>330</td>\n",
       "      <td>11.21</td>\n",
       "    </tr>\n",
       "  </tbody>\n",
       "</table>\n",
       "</div>"
      ],
      "text/plain": [
       "              job  count_prospects  No_of_prospects  response_rate\n",
       "0          admin.             1351            10419          12.97\n",
       "1     blue-collar              638             9253           6.90\n",
       "2    entrepreneur              124             1456           8.52\n",
       "3       housemaid              106             1060          10.00\n",
       "4      management              328             2924          11.22\n",
       "5         retired              434             1718          25.26\n",
       "6   self-employed              149             1421          10.49\n",
       "7        services              323             3967           8.14\n",
       "8         student              275              875          31.43\n",
       "9      technician              730             6739          10.83\n",
       "10     unemployed              144             1014          14.20\n",
       "11        unknown               37              330          11.21"
      ]
     },
     "execution_count": 28,
     "metadata": {},
     "output_type": "execute_result"
    }
   ],
   "source": [
    "agg_job"
   ]
  },
  {
   "cell_type": "code",
   "execution_count": 29,
   "metadata": {},
   "outputs": [
    {
     "data": {
      "image/png": "[encoded data removed]",
      "text/plain": [
       "<Figure size 432x288 with 1 Axes>"
      ]
     },
     "metadata": {
      "needs_background": "light"
     },
     "output_type": "display_data"
    }
   ],
   "source": [
    "ax = sns.barplot(x='job', y='response_rate', data=agg_job)\n",
    "ax.set_xticklabels(ax.get_xticklabels(),rotation=90)\n",
    "plt.show()"
   ]
  },
  {
   "cell_type": "markdown",
   "metadata": {},
   "source": [
    "We can draw similarities from the age response analysis where we found that the youngest and eldest were most likely to respond in a positive manner. It is reiterated by the above analysis, where we notice that student and retired have the highest response rates."
   ]
  },
  {
   "cell_type": "code",
   "execution_count": 30,
   "metadata": {},
   "outputs": [],
   "source": [
    "## We shall replace unknown profession with student, as that is the highest.\n",
    "loan.replace({'job' : { 'unknown' : 'student'}}, inplace=True)"
   ]
  },
  {
   "cell_type": "markdown",
   "metadata": {},
   "source": [
    "#### Marital"
   ]
  },
  {
   "cell_type": "code",
   "execution_count": 31,
   "metadata": {},
   "outputs": [
    {
     "data": {
      "text/plain": [
       "married     24921\n",
       "single      11564\n",
       "divorced     4611\n",
       "unknown        80\n",
       "Name: marital, dtype: int64"
      ]
     },
     "execution_count": 31,
     "metadata": {},
     "output_type": "execute_result"
    }
   ],
   "source": [
    "loan['marital'].value_counts()"
   ]
  },
  {
   "cell_type": "markdown",
   "metadata": {},
   "source": [
    "Since there are 80 entries which list marital status as 'unknown', we will assign them to the biggest group, which is, 'married'."
   ]
  },
  {
   "cell_type": "code",
   "execution_count": 32,
   "metadata": {},
   "outputs": [],
   "source": [
    "loan.replace({'marital' : { 'unknown' : 'married'}}, inplace=True)"
   ]
  },
  {
   "cell_type": "code",
   "execution_count": 33,
   "metadata": {},
   "outputs": [],
   "source": [
    "count_prospects_marital = loan.groupby('marital')['response'].sum().reset_index(name = 'count_prospects')\n",
    "No_of_prospect_job = loan.groupby('marital')['response'].count().reset_index(name = 'No_of_prospects')\n",
    "agg_marital = count_prospects_marital.merge(No_of_prospect_job, on = 'marital')\n",
    "agg_marital['response_rate'] = 100*(agg_marital['count_prospects']/agg_marital['No_of_prospects']).round(4)"
   ]
  },
  {
   "cell_type": "code",
   "execution_count": 34,
   "metadata": {},
   "outputs": [
    {
     "data": {
      "text/html": [
       "<div>\n",
       "<style scoped>\n",
       "    .dataframe tbody tr th:only-of-type {\n",
       "        vertical-align: middle;\n",
       "    }\n",
       "\n",
       "    .dataframe tbody tr th {\n",
       "        vertical-align: top;\n",
       "    }\n",
       "\n",
       "    .dataframe thead th {\n",
       "        text-align: right;\n",
       "    }\n",
       "</style>\n",
       "<table border=\"1\" class=\"dataframe\">\n",
       "  <thead>\n",
       "    <tr style=\"text-align: right;\">\n",
       "      <th></th>\n",
       "      <th>marital</th>\n",
       "      <th>count_prospects</th>\n",
       "      <th>No_of_prospects</th>\n",
       "      <th>response_rate</th>\n",
       "    </tr>\n",
       "  </thead>\n",
       "  <tbody>\n",
       "    <tr>\n",
       "      <th>0</th>\n",
       "      <td>divorced</td>\n",
       "      <td>476</td>\n",
       "      <td>4611</td>\n",
       "      <td>10.32</td>\n",
       "    </tr>\n",
       "    <tr>\n",
       "      <th>1</th>\n",
       "      <td>married</td>\n",
       "      <td>2543</td>\n",
       "      <td>25001</td>\n",
       "      <td>10.17</td>\n",
       "    </tr>\n",
       "    <tr>\n",
       "      <th>2</th>\n",
       "      <td>single</td>\n",
       "      <td>1620</td>\n",
       "      <td>11564</td>\n",
       "      <td>14.01</td>\n",
       "    </tr>\n",
       "  </tbody>\n",
       "</table>\n",
       "</div>"
      ],
      "text/plain": [
       "    marital  count_prospects  No_of_prospects  response_rate\n",
       "0  divorced              476             4611          10.32\n",
       "1   married             2543            25001          10.17\n",
       "2    single             1620            11564          14.01"
      ]
     },
     "execution_count": 34,
     "metadata": {},
     "output_type": "execute_result"
    }
   ],
   "source": [
    "agg_marital"
   ]
  },
  {
   "cell_type": "code",
   "execution_count": 35,
   "metadata": {},
   "outputs": [
    {
     "data": {
      "image/png": "[encoded data removed]",
      "text/plain": [
       "<Figure size 432x288 with 1 Axes>"
      ]
     },
     "metadata": {
      "needs_background": "light"
     },
     "output_type": "display_data"
    }
   ],
   "source": [
    "ax = sns.barplot(x='marital', y='response_rate', data=agg_marital)\n",
    "ax.set_xticklabels(ax.get_xticklabels(),rotation=0)\n",
    "plt.show()"
   ]
  },
  {
   "cell_type": "markdown",
   "metadata": {},
   "source": [
    "You may note that there is a slight uptick in response rate for single customers, this can be attributed in part to the fact that people under the age of 20 have a very high response rate. "
   ]
  },
  {
   "cell_type": "markdown",
   "metadata": {},
   "source": [
    "#### Education"
   ]
  },
  {
   "cell_type": "code",
   "execution_count": 36,
   "metadata": {},
   "outputs": [
    {
     "data": {
      "text/plain": [
       "university.degree      12164\n",
       "high.school             9512\n",
       "basic.9y                6045\n",
       "professional.course     5240\n",
       "basic.4y                4176\n",
       "basic.6y                2291\n",
       "unknown                 1730\n",
       "illiterate                18\n",
       "Name: education, dtype: int64"
      ]
     },
     "execution_count": 36,
     "metadata": {},
     "output_type": "execute_result"
    }
   ],
   "source": [
    "loan['education'].value_counts()"
   ]
  },
  {
   "cell_type": "markdown",
   "metadata": {},
   "source": [
    "To simplify the problem, we are going to convert the educational qualifications to simple buckets of primary educations, secondary education, tertiary education and professional courses. Also note that there are 18 entries listing the educational status as illiterate. Since the closest group to them is primary education, we are going to assign all entries with educational status as illiterate to primary education."
   ]
  },
  {
   "cell_type": "code",
   "execution_count": 37,
   "metadata": {},
   "outputs": [],
   "source": [
    "loan.replace({'education' : { 'basic.9y' : 'Primary_Education', 'basic.4y' : 'Primary_Education','basic.6y' : 'Primary_Education','illiterate' : 'Primary_Education',\n",
    "                             'high.school' : 'Secondary_Education', 'university.degree' : 'Tertiary_Education' }}, inplace=True)"
   ]
  },
  {
   "cell_type": "code",
   "execution_count": 38,
   "metadata": {
    "scrolled": true
   },
   "outputs": [
    {
     "data": {
      "text/plain": [
       "Primary_Education      12530\n",
       "Tertiary_Education     12164\n",
       "Secondary_Education     9512\n",
       "professional.course     5240\n",
       "unknown                 1730\n",
       "Name: education, dtype: int64"
      ]
     },
     "execution_count": 38,
     "metadata": {},
     "output_type": "execute_result"
    }
   ],
   "source": [
    "loan['education'].value_counts()"
   ]
  },
  {
   "cell_type": "code",
   "execution_count": 39,
   "metadata": {},
   "outputs": [],
   "source": [
    "## As there are many cases where the education is unknown, lets replace them with primary education\n",
    "condition3 = (loan['education'] == 'unknown')\n",
    "loan = loan.drop(loan[condition3].index, axis = 0, inplace = False)"
   ]
  },
  {
   "cell_type": "code",
   "execution_count": 40,
   "metadata": {},
   "outputs": [],
   "source": [
    "count_prospects_education = loan.groupby('education')['response'].sum().reset_index(name = 'count_prospects')\n",
    "No_of_prospect_education = loan.groupby('education')['response'].count().reset_index(name = 'No_of_prospects')\n",
    "agg_education = count_prospects_education.merge(No_of_prospect_education, on = 'education')\n",
    "agg_education['response_rate'] = 100*(agg_education['count_prospects']/agg_education['No_of_prospects']).round(4)"
   ]
  },
  {
   "cell_type": "code",
   "execution_count": 41,
   "metadata": {},
   "outputs": [
    {
     "data": {
      "text/html": [
       "<div>\n",
       "<style scoped>\n",
       "    .dataframe tbody tr th:only-of-type {\n",
       "        vertical-align: middle;\n",
       "    }\n",
       "\n",
       "    .dataframe tbody tr th {\n",
       "        vertical-align: top;\n",
       "    }\n",
       "\n",
       "    .dataframe thead th {\n",
       "        text-align: right;\n",
       "    }\n",
       "</style>\n",
       "<table border=\"1\" class=\"dataframe\">\n",
       "  <thead>\n",
       "    <tr style=\"text-align: right;\">\n",
       "      <th></th>\n",
       "      <th>education</th>\n",
       "      <th>count_prospects</th>\n",
       "      <th>No_of_prospects</th>\n",
       "      <th>response_rate</th>\n",
       "    </tr>\n",
       "  </thead>\n",
       "  <tbody>\n",
       "    <tr>\n",
       "      <th>0</th>\n",
       "      <td>Primary_Education</td>\n",
       "      <td>1093</td>\n",
       "      <td>12530</td>\n",
       "      <td>8.72</td>\n",
       "    </tr>\n",
       "    <tr>\n",
       "      <th>1</th>\n",
       "      <td>Secondary_Education</td>\n",
       "      <td>1031</td>\n",
       "      <td>9512</td>\n",
       "      <td>10.84</td>\n",
       "    </tr>\n",
       "    <tr>\n",
       "      <th>2</th>\n",
       "      <td>Tertiary_Education</td>\n",
       "      <td>1669</td>\n",
       "      <td>12164</td>\n",
       "      <td>13.72</td>\n",
       "    </tr>\n",
       "    <tr>\n",
       "      <th>3</th>\n",
       "      <td>professional.course</td>\n",
       "      <td>595</td>\n",
       "      <td>5240</td>\n",
       "      <td>11.35</td>\n",
       "    </tr>\n",
       "  </tbody>\n",
       "</table>\n",
       "</div>"
      ],
      "text/plain": [
       "             education  count_prospects  No_of_prospects  response_rate\n",
       "0    Primary_Education             1093            12530           8.72\n",
       "1  Secondary_Education             1031             9512          10.84\n",
       "2   Tertiary_Education             1669            12164          13.72\n",
       "3  professional.course              595             5240          11.35"
      ]
     },
     "execution_count": 41,
     "metadata": {},
     "output_type": "execute_result"
    }
   ],
   "source": [
    "agg_education"
   ]
  },
  {
   "cell_type": "code",
   "execution_count": 42,
   "metadata": {},
   "outputs": [
    {
     "data": {
      "image/png": "[encoded data removed]",
      "text/plain": [
       "<Figure size 432x288 with 1 Axes>"
      ]
     },
     "metadata": {
      "needs_background": "light"
     },
     "output_type": "display_data"
    }
   ],
   "source": [
    "ax = sns.barplot(x='education', y='response_rate', data=agg_education)\n",
    "ax.set_xticklabels(ax.get_xticklabels(),rotation=30)\n",
    "plt.show()"
   ]
  },
  {
   "cell_type": "markdown",
   "metadata": {},
   "source": [
    "You can note that the response rate is lowest for people with highest education qualification as primary education, which may be attributed, in part, to lack of awareness and a lack of trust between the bank and the customer. It is the highest for people with tertiary education."
   ]
  },
  {
   "cell_type": "markdown",
   "metadata": {},
   "source": [
    "#### Previous Default"
   ]
  },
  {
   "cell_type": "code",
   "execution_count": 43,
   "metadata": {
    "scrolled": true
   },
   "outputs": [
    {
     "data": {
      "text/plain": [
       "no         31395\n",
       "unknown     8048\n",
       "yes            3\n",
       "Name: default, dtype: int64"
      ]
     },
     "execution_count": 43,
     "metadata": {},
     "output_type": "execute_result"
    }
   ],
   "source": [
    "loan['default'].value_counts()"
   ]
  },
  {
   "cell_type": "code",
   "execution_count": 44,
   "metadata": {},
   "outputs": [],
   "source": [
    "count_prospects_default = loan.groupby('default')['response'].sum().reset_index(name = 'count_prospects')\n",
    "No_of_prospect_default = loan.groupby('default')['response'].count().reset_index(name = 'No_of_prospects')\n",
    "agg_default = count_prospects_default.merge(No_of_prospect_default, on = 'default')\n",
    "agg_default['response_rate'] = 100*(agg_default['count_prospects']/agg_default['No_of_prospects']).round(4)"
   ]
  },
  {
   "cell_type": "code",
   "execution_count": 45,
   "metadata": {},
   "outputs": [
    {
     "data": {
      "text/html": [
       "<div>\n",
       "<style scoped>\n",
       "    .dataframe tbody tr th:only-of-type {\n",
       "        vertical-align: middle;\n",
       "    }\n",
       "\n",
       "    .dataframe tbody tr th {\n",
       "        vertical-align: top;\n",
       "    }\n",
       "\n",
       "    .dataframe thead th {\n",
       "        text-align: right;\n",
       "    }\n",
       "</style>\n",
       "<table border=\"1\" class=\"dataframe\">\n",
       "  <thead>\n",
       "    <tr style=\"text-align: right;\">\n",
       "      <th></th>\n",
       "      <th>default</th>\n",
       "      <th>count_prospects</th>\n",
       "      <th>No_of_prospects</th>\n",
       "      <th>response_rate</th>\n",
       "    </tr>\n",
       "  </thead>\n",
       "  <tbody>\n",
       "    <tr>\n",
       "      <th>0</th>\n",
       "      <td>no</td>\n",
       "      <td>3976</td>\n",
       "      <td>31395</td>\n",
       "      <td>12.66</td>\n",
       "    </tr>\n",
       "    <tr>\n",
       "      <th>1</th>\n",
       "      <td>unknown</td>\n",
       "      <td>412</td>\n",
       "      <td>8048</td>\n",
       "      <td>5.12</td>\n",
       "    </tr>\n",
       "    <tr>\n",
       "      <th>2</th>\n",
       "      <td>yes</td>\n",
       "      <td>0</td>\n",
       "      <td>3</td>\n",
       "      <td>0.00</td>\n",
       "    </tr>\n",
       "  </tbody>\n",
       "</table>\n",
       "</div>"
      ],
      "text/plain": [
       "   default  count_prospects  No_of_prospects  response_rate\n",
       "0       no             3976            31395          12.66\n",
       "1  unknown              412             8048           5.12\n",
       "2      yes                0                3           0.00"
      ]
     },
     "execution_count": 45,
     "metadata": {},
     "output_type": "execute_result"
    }
   ],
   "source": [
    "agg_default"
   ]
  },
  {
   "cell_type": "code",
   "execution_count": 46,
   "metadata": {
    "scrolled": true
   },
   "outputs": [
    {
     "data": {
      "image/png": "[encoded data removed]",
      "text/plain": [
       "<Figure size 432x288 with 1 Axes>"
      ]
     },
     "metadata": {
      "needs_background": "light"
     },
     "output_type": "display_data"
    }
   ],
   "source": [
    "ax = sns.barplot(x='default', y='response_rate', data=agg_default)\n",
    "ax.set_xticklabels(ax.get_xticklabels(),rotation=0)\n",
    "plt.show()"
   ]
  },
  {
   "cell_type": "markdown",
   "metadata": {},
   "source": [
    "#### Housing"
   ]
  },
  {
   "cell_type": "code",
   "execution_count": 47,
   "metadata": {},
   "outputs": [
    {
     "data": {
      "text/plain": [
       "yes        20696\n",
       "no         17800\n",
       "unknown      950\n",
       "Name: housing, dtype: int64"
      ]
     },
     "execution_count": 47,
     "metadata": {},
     "output_type": "execute_result"
    }
   ],
   "source": [
    "loan['housing'].value_counts()"
   ]
  },
  {
   "cell_type": "code",
   "execution_count": 48,
   "metadata": {},
   "outputs": [],
   "source": [
    "count_prospects_housing = loan.groupby('housing')['response'].sum().reset_index(name = 'count_prospects')\n",
    "No_of_prospect_housing = loan.groupby('housing')['response'].count().reset_index(name = 'No_of_prospects')\n",
    "agg_housing = count_prospects_housing.merge(No_of_prospect_housing, on = 'housing')\n",
    "agg_housing['response_rate'] = 100*(agg_housing['count_prospects']/agg_housing['No_of_prospects']).round(4)"
   ]
  },
  {
   "cell_type": "code",
   "execution_count": 49,
   "metadata": {},
   "outputs": [
    {
     "data": {
      "text/html": [
       "<div>\n",
       "<style scoped>\n",
       "    .dataframe tbody tr th:only-of-type {\n",
       "        vertical-align: middle;\n",
       "    }\n",
       "\n",
       "    .dataframe tbody tr th {\n",
       "        vertical-align: top;\n",
       "    }\n",
       "\n",
       "    .dataframe thead th {\n",
       "        text-align: right;\n",
       "    }\n",
       "</style>\n",
       "<table border=\"1\" class=\"dataframe\">\n",
       "  <thead>\n",
       "    <tr style=\"text-align: right;\">\n",
       "      <th></th>\n",
       "      <th>housing</th>\n",
       "      <th>count_prospects</th>\n",
       "      <th>No_of_prospects</th>\n",
       "      <th>response_rate</th>\n",
       "    </tr>\n",
       "  </thead>\n",
       "  <tbody>\n",
       "    <tr>\n",
       "      <th>0</th>\n",
       "      <td>no</td>\n",
       "      <td>1921</td>\n",
       "      <td>17800</td>\n",
       "      <td>10.79</td>\n",
       "    </tr>\n",
       "    <tr>\n",
       "      <th>1</th>\n",
       "      <td>unknown</td>\n",
       "      <td>102</td>\n",
       "      <td>950</td>\n",
       "      <td>10.74</td>\n",
       "    </tr>\n",
       "    <tr>\n",
       "      <th>2</th>\n",
       "      <td>yes</td>\n",
       "      <td>2365</td>\n",
       "      <td>20696</td>\n",
       "      <td>11.43</td>\n",
       "    </tr>\n",
       "  </tbody>\n",
       "</table>\n",
       "</div>"
      ],
      "text/plain": [
       "   housing  count_prospects  No_of_prospects  response_rate\n",
       "0       no             1921            17800          10.79\n",
       "1  unknown              102              950          10.74\n",
       "2      yes             2365            20696          11.43"
      ]
     },
     "execution_count": 49,
     "metadata": {},
     "output_type": "execute_result"
    }
   ],
   "source": [
    "agg_housing"
   ]
  },
  {
   "cell_type": "code",
   "execution_count": 50,
   "metadata": {
    "scrolled": true
   },
   "outputs": [
    {
     "data": {
      "image/png": "[encoded data removed]",
      "text/plain": [
       "<Figure size 432x288 with 1 Axes>"
      ]
     },
     "metadata": {
      "needs_background": "light"
     },
     "output_type": "display_data"
    }
   ],
   "source": [
    "ax = sns.barplot(x='housing', y='response_rate', data=agg_housing)\n",
    "ax.set_xticklabels(ax.get_xticklabels(),rotation=0)\n",
    "plt.show()"
   ]
  },
  {
   "cell_type": "markdown",
   "metadata": {},
   "source": [
    "You can see that there is a slight uptick in the response rate for people with housing, though it is probably not very significant"
   ]
  },
  {
   "cell_type": "markdown",
   "metadata": {},
   "source": [
    "#### Loan"
   ]
  },
  {
   "cell_type": "code",
   "execution_count": 51,
   "metadata": {},
   "outputs": [
    {
     "data": {
      "text/plain": [
       "no         32490\n",
       "yes         6006\n",
       "unknown      950\n",
       "Name: loan, dtype: int64"
      ]
     },
     "execution_count": 51,
     "metadata": {},
     "output_type": "execute_result"
    }
   ],
   "source": [
    "loan['loan'].value_counts()"
   ]
  },
  {
   "cell_type": "code",
   "execution_count": 52,
   "metadata": {},
   "outputs": [],
   "source": [
    "count_prospects_loan = loan.groupby('loan')['response'].sum().reset_index(name = 'count_prospects')\n",
    "No_of_prospect_loan = loan.groupby('loan')['response'].count().reset_index(name = 'No_of_prospects')\n",
    "agg_loan = count_prospects_loan.merge(No_of_prospect_loan, on = 'loan')\n",
    "agg_loan['response_rate'] = 100*(agg_loan['count_prospects']/agg_loan['No_of_prospects']).round(4)"
   ]
  },
  {
   "cell_type": "code",
   "execution_count": 53,
   "metadata": {},
   "outputs": [
    {
     "data": {
      "text/html": [
       "<div>\n",
       "<style scoped>\n",
       "    .dataframe tbody tr th:only-of-type {\n",
       "        vertical-align: middle;\n",
       "    }\n",
       "\n",
       "    .dataframe tbody tr th {\n",
       "        vertical-align: top;\n",
       "    }\n",
       "\n",
       "    .dataframe thead th {\n",
       "        text-align: right;\n",
       "    }\n",
       "</style>\n",
       "<table border=\"1\" class=\"dataframe\">\n",
       "  <thead>\n",
       "    <tr style=\"text-align: right;\">\n",
       "      <th></th>\n",
       "      <th>loan</th>\n",
       "      <th>count_prospects</th>\n",
       "      <th>No_of_prospects</th>\n",
       "      <th>response_rate</th>\n",
       "    </tr>\n",
       "  </thead>\n",
       "  <tbody>\n",
       "    <tr>\n",
       "      <th>0</th>\n",
       "      <td>no</td>\n",
       "      <td>3645</td>\n",
       "      <td>32490</td>\n",
       "      <td>11.22</td>\n",
       "    </tr>\n",
       "    <tr>\n",
       "      <th>1</th>\n",
       "      <td>unknown</td>\n",
       "      <td>102</td>\n",
       "      <td>950</td>\n",
       "      <td>10.74</td>\n",
       "    </tr>\n",
       "    <tr>\n",
       "      <th>2</th>\n",
       "      <td>yes</td>\n",
       "      <td>641</td>\n",
       "      <td>6006</td>\n",
       "      <td>10.67</td>\n",
       "    </tr>\n",
       "  </tbody>\n",
       "</table>\n",
       "</div>"
      ],
      "text/plain": [
       "      loan  count_prospects  No_of_prospects  response_rate\n",
       "0       no             3645            32490          11.22\n",
       "1  unknown              102              950          10.74\n",
       "2      yes              641             6006          10.67"
      ]
     },
     "execution_count": 53,
     "metadata": {},
     "output_type": "execute_result"
    }
   ],
   "source": [
    "agg_loan"
   ]
  },
  {
   "cell_type": "code",
   "execution_count": 54,
   "metadata": {},
   "outputs": [
    {
     "data": {
      "image/png": "[encoded data removed]",
      "text/plain": [
       "<Figure size 432x288 with 1 Axes>"
      ]
     },
     "metadata": {
      "needs_background": "light"
     },
     "output_type": "display_data"
    }
   ],
   "source": [
    "ax = sns.barplot(x='loan', y='response_rate', data=agg_loan)\n",
    "ax.set_xticklabels(ax.get_xticklabels(),rotation=0)\n",
    "plt.show()"
   ]
  },
  {
   "cell_type": "markdown",
   "metadata": {},
   "source": [
    "As you can see there seems to be very little correlation between a prospect having a personal loan and the likelihood of him/her responding positively to the investment product"
   ]
  },
  {
   "cell_type": "markdown",
   "metadata": {},
   "source": [
    "Now that we have had a look at the client data, we will move to the last contact information.\n",
    "\n",
    "There are four features in the given dataset which cover this information. (Refer to the data dictionary for the same)\n",
    "\n",
    "- Contact: contact communication type\n",
    "- Month: last contact month of year\n",
    "- Day_of_week: last contact day of the week\n",
    "- Duration: last contact duration, in seconds \n",
    "\n",
    "Please note that the attribute, duration highly affects the output target (e.g., if duration=0 then y='no'). Yet, the duration is not known before a call is performed. Also, after the end of the call y is obviously known. Since this is a realistic predictive model, we are discarding the column duration for analysis now."
   ]
  },
  {
   "cell_type": "markdown",
   "metadata": {},
   "source": [
    "#### Contact"
   ]
  },
  {
   "cell_type": "code",
   "execution_count": 55,
   "metadata": {},
   "outputs": [
    {
     "data": {
      "text/plain": [
       "cellular     25118\n",
       "telephone    14328\n",
       "Name: contact, dtype: int64"
      ]
     },
     "execution_count": 55,
     "metadata": {},
     "output_type": "execute_result"
    }
   ],
   "source": [
    "loan['contact'].value_counts()"
   ]
  },
  {
   "cell_type": "code",
   "execution_count": 56,
   "metadata": {},
   "outputs": [],
   "source": [
    "count_prospects_contact = loan.groupby('contact')['response'].sum().reset_index(name = 'count_prospects')\n",
    "No_of_prospect_contact = loan.groupby('contact')['response'].count().reset_index(name = 'No_of_prospects')\n",
    "agg_contact = count_prospects_contact.merge(No_of_prospect_contact, on = 'contact')\n",
    "agg_contact['response_rate'] = 100*(agg_contact['count_prospects']/agg_contact['No_of_prospects']).round(4)"
   ]
  },
  {
   "cell_type": "code",
   "execution_count": 57,
   "metadata": {},
   "outputs": [
    {
     "data": {
      "text/html": [
       "<div>\n",
       "<style scoped>\n",
       "    .dataframe tbody tr th:only-of-type {\n",
       "        vertical-align: middle;\n",
       "    }\n",
       "\n",
       "    .dataframe tbody tr th {\n",
       "        vertical-align: top;\n",
       "    }\n",
       "\n",
       "    .dataframe thead th {\n",
       "        text-align: right;\n",
       "    }\n",
       "</style>\n",
       "<table border=\"1\" class=\"dataframe\">\n",
       "  <thead>\n",
       "    <tr style=\"text-align: right;\">\n",
       "      <th></th>\n",
       "      <th>contact</th>\n",
       "      <th>count_prospects</th>\n",
       "      <th>No_of_prospects</th>\n",
       "      <th>response_rate</th>\n",
       "    </tr>\n",
       "  </thead>\n",
       "  <tbody>\n",
       "    <tr>\n",
       "      <th>0</th>\n",
       "      <td>cellular</td>\n",
       "      <td>3646</td>\n",
       "      <td>25118</td>\n",
       "      <td>14.52</td>\n",
       "    </tr>\n",
       "    <tr>\n",
       "      <th>1</th>\n",
       "      <td>telephone</td>\n",
       "      <td>742</td>\n",
       "      <td>14328</td>\n",
       "      <td>5.18</td>\n",
       "    </tr>\n",
       "  </tbody>\n",
       "</table>\n",
       "</div>"
      ],
      "text/plain": [
       "     contact  count_prospects  No_of_prospects  response_rate\n",
       "0   cellular             3646            25118          14.52\n",
       "1  telephone              742            14328           5.18"
      ]
     },
     "execution_count": 57,
     "metadata": {},
     "output_type": "execute_result"
    }
   ],
   "source": [
    "agg_contact"
   ]
  },
  {
   "cell_type": "code",
   "execution_count": 58,
   "metadata": {},
   "outputs": [
    {
     "data": {
      "image/png": "[encoded data removed]",
      "text/plain": [
       "<Figure size 432x288 with 1 Axes>"
      ]
     },
     "metadata": {
      "needs_background": "light"
     },
     "output_type": "display_data"
    }
   ],
   "source": [
    "ax = sns.barplot(x='contact', y='response_rate', data=agg_contact)\n",
    "ax.set_xticklabels(ax.get_xticklabels(),rotation=0)\n",
    "plt.show()"
   ]
  },
  {
   "cell_type": "markdown",
   "metadata": {},
   "source": [
    "You can see that the prospective customers contacted through cellular medium are significantly ore likely to opt in to the investment scheme compared to customers contacted through telephonic medium."
   ]
  },
  {
   "cell_type": "markdown",
   "metadata": {},
   "source": [
    "#### Month"
   ]
  },
  {
   "cell_type": "code",
   "execution_count": 59,
   "metadata": {},
   "outputs": [
    {
     "data": {
      "text/plain": [
       "may    13236\n",
       "jul     6796\n",
       "aug     5981\n",
       "jun     5063\n",
       "nov     3982\n",
       "apr     2502\n",
       "oct      686\n",
       "sep      519\n",
       "mar      513\n",
       "dec      168\n",
       "Name: month, dtype: int64"
      ]
     },
     "execution_count": 59,
     "metadata": {},
     "output_type": "execute_result"
    }
   ],
   "source": [
    "loan['month'].value_counts()"
   ]
  },
  {
   "cell_type": "code",
   "execution_count": 60,
   "metadata": {},
   "outputs": [],
   "source": [
    "count_prospects_month = loan.groupby('month')['response'].sum().reset_index(name = 'count_prospects')\n",
    "No_of_prospect_month = loan.groupby('month')['response'].count().reset_index(name = 'No_of_prospects')\n",
    "agg_month = count_prospects_month.merge(No_of_prospect_month, on = 'month')\n",
    "agg_month['response_rate'] = 100*(agg_month['count_prospects']/agg_month['No_of_prospects']).round(4)"
   ]
  },
  {
   "cell_type": "code",
   "execution_count": 61,
   "metadata": {},
   "outputs": [
    {
     "data": {
      "text/html": [
       "<div>\n",
       "<style scoped>\n",
       "    .dataframe tbody tr th:only-of-type {\n",
       "        vertical-align: middle;\n",
       "    }\n",
       "\n",
       "    .dataframe tbody tr th {\n",
       "        vertical-align: top;\n",
       "    }\n",
       "\n",
       "    .dataframe thead th {\n",
       "        text-align: right;\n",
       "    }\n",
       "</style>\n",
       "<table border=\"1\" class=\"dataframe\">\n",
       "  <thead>\n",
       "    <tr style=\"text-align: right;\">\n",
       "      <th></th>\n",
       "      <th>month</th>\n",
       "      <th>count_prospects</th>\n",
       "      <th>No_of_prospects</th>\n",
       "      <th>response_rate</th>\n",
       "    </tr>\n",
       "  </thead>\n",
       "  <tbody>\n",
       "    <tr>\n",
       "      <th>0</th>\n",
       "      <td>apr</td>\n",
       "      <td>502</td>\n",
       "      <td>2502</td>\n",
       "      <td>20.06</td>\n",
       "    </tr>\n",
       "    <tr>\n",
       "      <th>1</th>\n",
       "      <td>aug</td>\n",
       "      <td>620</td>\n",
       "      <td>5981</td>\n",
       "      <td>10.37</td>\n",
       "    </tr>\n",
       "    <tr>\n",
       "      <th>2</th>\n",
       "      <td>dec</td>\n",
       "      <td>81</td>\n",
       "      <td>168</td>\n",
       "      <td>48.21</td>\n",
       "    </tr>\n",
       "    <tr>\n",
       "      <th>3</th>\n",
       "      <td>jul</td>\n",
       "      <td>612</td>\n",
       "      <td>6796</td>\n",
       "      <td>9.01</td>\n",
       "    </tr>\n",
       "    <tr>\n",
       "      <th>4</th>\n",
       "      <td>jun</td>\n",
       "      <td>531</td>\n",
       "      <td>5063</td>\n",
       "      <td>10.49</td>\n",
       "    </tr>\n",
       "    <tr>\n",
       "      <th>5</th>\n",
       "      <td>mar</td>\n",
       "      <td>259</td>\n",
       "      <td>513</td>\n",
       "      <td>50.49</td>\n",
       "    </tr>\n",
       "    <tr>\n",
       "      <th>6</th>\n",
       "      <td>may</td>\n",
       "      <td>851</td>\n",
       "      <td>13236</td>\n",
       "      <td>6.43</td>\n",
       "    </tr>\n",
       "    <tr>\n",
       "      <th>7</th>\n",
       "      <td>nov</td>\n",
       "      <td>391</td>\n",
       "      <td>3982</td>\n",
       "      <td>9.82</td>\n",
       "    </tr>\n",
       "    <tr>\n",
       "      <th>8</th>\n",
       "      <td>oct</td>\n",
       "      <td>308</td>\n",
       "      <td>686</td>\n",
       "      <td>44.90</td>\n",
       "    </tr>\n",
       "    <tr>\n",
       "      <th>9</th>\n",
       "      <td>sep</td>\n",
       "      <td>233</td>\n",
       "      <td>519</td>\n",
       "      <td>44.89</td>\n",
       "    </tr>\n",
       "  </tbody>\n",
       "</table>\n",
       "</div>"
      ],
      "text/plain": [
       "  month  count_prospects  No_of_prospects  response_rate\n",
       "0   apr              502             2502          20.06\n",
       "1   aug              620             5981          10.37\n",
       "2   dec               81              168          48.21\n",
       "3   jul              612             6796           9.01\n",
       "4   jun              531             5063          10.49\n",
       "5   mar              259              513          50.49\n",
       "6   may              851            13236           6.43\n",
       "7   nov              391             3982           9.82\n",
       "8   oct              308              686          44.90\n",
       "9   sep              233              519          44.89"
      ]
     },
     "execution_count": 61,
     "metadata": {},
     "output_type": "execute_result"
    }
   ],
   "source": [
    "agg_month"
   ]
  },
  {
   "cell_type": "code",
   "execution_count": 62,
   "metadata": {},
   "outputs": [
    {
     "data": {
      "image/png": "[encoded data removed]",
      "text/plain": [
       "<Figure size 432x288 with 1 Axes>"
      ]
     },
     "metadata": {
      "needs_background": "light"
     },
     "output_type": "display_data"
    }
   ],
   "source": [
    "ax = sns.barplot(x='month', y='response_rate', data=agg_month)\n",
    "ax.set_xticklabels(ax.get_xticklabels(),rotation=0)\n",
    "plt.show()"
   ]
  },
  {
   "cell_type": "markdown",
   "metadata": {},
   "source": [
    "We can note that the four months of december, march, october and september appear to be the best to contact the potential customers. However, please note that these our months have the fewest data entries as well, so it is not certain, how well it would behave when calls are made at a high volume."
   ]
  },
  {
   "cell_type": "markdown",
   "metadata": {},
   "source": [
    "#### Day of the week"
   ]
  },
  {
   "cell_type": "code",
   "execution_count": 63,
   "metadata": {
    "scrolled": true
   },
   "outputs": [
    {
     "data": {
      "text/plain": [
       "thu    8251\n",
       "mon    8166\n",
       "wed    7847\n",
       "tue    7738\n",
       "fri    7444\n",
       "Name: day_of_week, dtype: int64"
      ]
     },
     "execution_count": 63,
     "metadata": {},
     "output_type": "execute_result"
    }
   ],
   "source": [
    "loan['day_of_week'].value_counts()"
   ]
  },
  {
   "cell_type": "code",
   "execution_count": 64,
   "metadata": {},
   "outputs": [],
   "source": [
    "count_prospects_day = loan.groupby('day_of_week')['response'].sum().reset_index(name = 'count_prospects')\n",
    "No_of_prospect_day = loan.groupby('day_of_week')['response'].count().reset_index(name = 'No_of_prospects')\n",
    "agg_day = count_prospects_day.merge(No_of_prospect_day, on = 'day_of_week')\n",
    "agg_day['response_rate'] = 100*(agg_day['count_prospects']/agg_day['No_of_prospects']).round(4)"
   ]
  },
  {
   "cell_type": "code",
   "execution_count": 65,
   "metadata": {},
   "outputs": [
    {
     "data": {
      "text/html": [
       "<div>\n",
       "<style scoped>\n",
       "    .dataframe tbody tr th:only-of-type {\n",
       "        vertical-align: middle;\n",
       "    }\n",
       "\n",
       "    .dataframe tbody tr th {\n",
       "        vertical-align: top;\n",
       "    }\n",
       "\n",
       "    .dataframe thead th {\n",
       "        text-align: right;\n",
       "    }\n",
       "</style>\n",
       "<table border=\"1\" class=\"dataframe\">\n",
       "  <thead>\n",
       "    <tr style=\"text-align: right;\">\n",
       "      <th></th>\n",
       "      <th>day_of_week</th>\n",
       "      <th>count_prospects</th>\n",
       "      <th>No_of_prospects</th>\n",
       "      <th>response_rate</th>\n",
       "    </tr>\n",
       "  </thead>\n",
       "  <tbody>\n",
       "    <tr>\n",
       "      <th>0</th>\n",
       "      <td>fri</td>\n",
       "      <td>793</td>\n",
       "      <td>7444</td>\n",
       "      <td>10.65</td>\n",
       "    </tr>\n",
       "    <tr>\n",
       "      <th>1</th>\n",
       "      <td>mon</td>\n",
       "      <td>805</td>\n",
       "      <td>8166</td>\n",
       "      <td>9.86</td>\n",
       "    </tr>\n",
       "    <tr>\n",
       "      <th>2</th>\n",
       "      <td>thu</td>\n",
       "      <td>995</td>\n",
       "      <td>8251</td>\n",
       "      <td>12.06</td>\n",
       "    </tr>\n",
       "    <tr>\n",
       "      <th>3</th>\n",
       "      <td>tue</td>\n",
       "      <td>900</td>\n",
       "      <td>7738</td>\n",
       "      <td>11.63</td>\n",
       "    </tr>\n",
       "    <tr>\n",
       "      <th>4</th>\n",
       "      <td>wed</td>\n",
       "      <td>895</td>\n",
       "      <td>7847</td>\n",
       "      <td>11.41</td>\n",
       "    </tr>\n",
       "  </tbody>\n",
       "</table>\n",
       "</div>"
      ],
      "text/plain": [
       "  day_of_week  count_prospects  No_of_prospects  response_rate\n",
       "0         fri              793             7444          10.65\n",
       "1         mon              805             8166           9.86\n",
       "2         thu              995             8251          12.06\n",
       "3         tue              900             7738          11.63\n",
       "4         wed              895             7847          11.41"
      ]
     },
     "execution_count": 65,
     "metadata": {},
     "output_type": "execute_result"
    }
   ],
   "source": [
    "agg_day"
   ]
  },
  {
   "cell_type": "code",
   "execution_count": 66,
   "metadata": {},
   "outputs": [
    {
     "data": {
      "image/png": "[encoded data removed]",
      "text/plain": [
       "<Figure size 432x288 with 1 Axes>"
      ]
     },
     "metadata": {
      "needs_background": "light"
     },
     "output_type": "display_data"
    }
   ],
   "source": [
    "ax = sns.barplot(x='day_of_week', y='response_rate', data=agg_day)\n",
    "ax.set_xticklabels(ax.get_xticklabels(),rotation=0)\n",
    "plt.show()"
   ]
  },
  {
   "cell_type": "markdown",
   "metadata": {},
   "source": [
    "As you can note that response rate is lowest on monday, while being highest on thursday. However, the gap isn't very big."
   ]
  },
  {
   "cell_type": "markdown",
   "metadata": {},
   "source": [
    "#### Duration of the call"
   ]
  },
  {
   "cell_type": "code",
   "execution_count": 67,
   "metadata": {},
   "outputs": [
    {
     "data": {
      "image/png": "[encoded data removed]",
      "text/plain": [
       "<Figure size 432x288 with 1 Axes>"
      ]
     },
     "metadata": {
      "needs_background": "light"
     },
     "output_type": "display_data"
    }
   ],
   "source": [
    "sns.distplot(loan['duration'])\n",
    "plt.show()"
   ]
  },
  {
   "cell_type": "markdown",
   "metadata": {},
   "source": [
    "Now that we have looked at client data and the data related to last contact, we will look at some of the other attributes.\n",
    "\n",
    "- Campaign: number of contacts performed during this campaign and for this client\n",
    "- Pdays: number of days that passed by after the client was last contacted from a previous campaign\n",
    "- Previous: number of contacts performed before this campaign and for this client\n",
    "- Poutcome: outcome of the previous marketing campaign"
   ]
  },
  {
   "cell_type": "markdown",
   "metadata": {},
   "source": [
    "#### Campaign"
   ]
  },
  {
   "cell_type": "code",
   "execution_count": 68,
   "metadata": {
    "scrolled": true
   },
   "outputs": [
    {
     "data": {
      "text/plain": [
       "1     16895\n",
       "2     10128\n",
       "3      5115\n",
       "4      2535\n",
       "5      1538\n",
       "6       938\n",
       "7       603\n",
       "8       383\n",
       "9       270\n",
       "10      217\n",
       "11      167\n",
       "12      121\n",
       "13       80\n",
       "14       67\n",
       "17       56\n",
       "15       50\n",
       "16       47\n",
       "18       32\n",
       "20       30\n",
       "19       23\n",
       "21       21\n",
       "22       17\n",
       "23       16\n",
       "24       15\n",
       "27       11\n",
       "29        9\n",
       "28        8\n",
       "30        7\n",
       "25        7\n",
       "26        7\n",
       "31        7\n",
       "35        5\n",
       "33        4\n",
       "32        4\n",
       "34        3\n",
       "40        2\n",
       "42        2\n",
       "43        2\n",
       "37        1\n",
       "39        1\n",
       "41        1\n",
       "56        1\n",
       "Name: campaign, dtype: int64"
      ]
     },
     "execution_count": 68,
     "metadata": {},
     "output_type": "execute_result"
    }
   ],
   "source": [
    "loan['campaign'].value_counts()"
   ]
  },
  {
   "cell_type": "code",
   "execution_count": 69,
   "metadata": {},
   "outputs": [
    {
     "data": {
      "image/png": "[encoded data removed]",
      "text/plain": [
       "<Figure size 432x288 with 1 Axes>"
      ]
     },
     "metadata": {
      "needs_background": "light"
     },
     "output_type": "display_data"
    }
   ],
   "source": [
    "sns.distplot(loan['campaign'])\n",
    "plt.show()"
   ]
  },
  {
   "cell_type": "code",
   "execution_count": 70,
   "metadata": {},
   "outputs": [
    {
     "data": {
      "image/png": "[encoded data removed]",
      "text/plain": [
       "<Figure size 432x288 with 1 Axes>"
      ]
     },
     "metadata": {
      "needs_background": "light"
     },
     "output_type": "display_data"
    }
   ],
   "source": [
    "# We will create a box plot\n",
    "\n",
    "sns.boxplot(x='campaign', data=loan)\n",
    "plt.show()"
   ]
  },
  {
   "cell_type": "code",
   "execution_count": 71,
   "metadata": {},
   "outputs": [
    {
     "data": {
      "text/plain": [
       "count    39446.000000\n",
       "mean         2.566597\n",
       "std          2.772420\n",
       "min          1.000000\n",
       "25%          1.000000\n",
       "50%          2.000000\n",
       "75%          3.000000\n",
       "95%          7.000000\n",
       "99%         14.000000\n",
       "max         56.000000\n",
       "Name: campaign, dtype: float64"
      ]
     },
     "execution_count": 71,
     "metadata": {},
     "output_type": "execute_result"
    }
   ],
   "source": [
    "loan['campaign'].describe(percentiles = [0.25,0.50,0.75,0.95,0.99])"
   ]
  },
  {
   "cell_type": "markdown",
   "metadata": {},
   "source": [
    "Once again, we can merga all data entries with contacts greater than 14 as having campaign contact as 14"
   ]
  },
  {
   "cell_type": "code",
   "execution_count": 72,
   "metadata": {},
   "outputs": [],
   "source": [
    "loan['campaign'][loan['campaign']>14] =14"
   ]
  },
  {
   "cell_type": "code",
   "execution_count": 73,
   "metadata": {},
   "outputs": [
    {
     "data": {
      "image/png": "[encoded data removed]",
      "text/plain": [
       "<Figure size 432x288 with 1 Axes>"
      ]
     },
     "metadata": {
      "needs_background": "light"
     },
     "output_type": "display_data"
    }
   ],
   "source": [
    "sns.countplot(loan['campaign'])\n",
    "plt.show()"
   ]
  },
  {
   "cell_type": "code",
   "execution_count": 74,
   "metadata": {},
   "outputs": [],
   "source": [
    "count_prospects_campaign = loan.groupby('campaign')['response'].sum().reset_index(name = 'count_prospects')\n",
    "No_of_prospect_campaign = loan.groupby('campaign')['response'].count().reset_index(name = 'No_of_prospects')\n",
    "agg_campaign = count_prospects_campaign.merge(No_of_prospect_campaign, on = 'campaign')\n",
    "agg_campaign['response_rate'] = 100*(agg_campaign['count_prospects']/agg_campaign['No_of_prospects']).round(4)"
   ]
  },
  {
   "cell_type": "code",
   "execution_count": 75,
   "metadata": {},
   "outputs": [
    {
     "data": {
      "text/html": [
       "<div>\n",
       "<style scoped>\n",
       "    .dataframe tbody tr th:only-of-type {\n",
       "        vertical-align: middle;\n",
       "    }\n",
       "\n",
       "    .dataframe tbody tr th {\n",
       "        vertical-align: top;\n",
       "    }\n",
       "\n",
       "    .dataframe thead th {\n",
       "        text-align: right;\n",
       "    }\n",
       "</style>\n",
       "<table border=\"1\" class=\"dataframe\">\n",
       "  <thead>\n",
       "    <tr style=\"text-align: right;\">\n",
       "      <th></th>\n",
       "      <th>campaign</th>\n",
       "      <th>count_prospects</th>\n",
       "      <th>No_of_prospects</th>\n",
       "      <th>response_rate</th>\n",
       "    </tr>\n",
       "  </thead>\n",
       "  <tbody>\n",
       "    <tr>\n",
       "      <th>0</th>\n",
       "      <td>1</td>\n",
       "      <td>2167</td>\n",
       "      <td>16895</td>\n",
       "      <td>12.83</td>\n",
       "    </tr>\n",
       "    <tr>\n",
       "      <th>1</th>\n",
       "      <td>2</td>\n",
       "      <td>1151</td>\n",
       "      <td>10128</td>\n",
       "      <td>11.36</td>\n",
       "    </tr>\n",
       "    <tr>\n",
       "      <th>2</th>\n",
       "      <td>3</td>\n",
       "      <td>546</td>\n",
       "      <td>5115</td>\n",
       "      <td>10.67</td>\n",
       "    </tr>\n",
       "    <tr>\n",
       "      <th>3</th>\n",
       "      <td>4</td>\n",
       "      <td>232</td>\n",
       "      <td>2535</td>\n",
       "      <td>9.15</td>\n",
       "    </tr>\n",
       "    <tr>\n",
       "      <th>4</th>\n",
       "      <td>5</td>\n",
       "      <td>114</td>\n",
       "      <td>1538</td>\n",
       "      <td>7.41</td>\n",
       "    </tr>\n",
       "    <tr>\n",
       "      <th>5</th>\n",
       "      <td>6</td>\n",
       "      <td>74</td>\n",
       "      <td>938</td>\n",
       "      <td>7.89</td>\n",
       "    </tr>\n",
       "    <tr>\n",
       "      <th>6</th>\n",
       "      <td>7</td>\n",
       "      <td>36</td>\n",
       "      <td>603</td>\n",
       "      <td>5.97</td>\n",
       "    </tr>\n",
       "    <tr>\n",
       "      <th>7</th>\n",
       "      <td>8</td>\n",
       "      <td>16</td>\n",
       "      <td>383</td>\n",
       "      <td>4.18</td>\n",
       "    </tr>\n",
       "    <tr>\n",
       "      <th>8</th>\n",
       "      <td>9</td>\n",
       "      <td>16</td>\n",
       "      <td>270</td>\n",
       "      <td>5.93</td>\n",
       "    </tr>\n",
       "    <tr>\n",
       "      <th>9</th>\n",
       "      <td>10</td>\n",
       "      <td>12</td>\n",
       "      <td>217</td>\n",
       "      <td>5.53</td>\n",
       "    </tr>\n",
       "    <tr>\n",
       "      <th>10</th>\n",
       "      <td>11</td>\n",
       "      <td>12</td>\n",
       "      <td>167</td>\n",
       "      <td>7.19</td>\n",
       "    </tr>\n",
       "    <tr>\n",
       "      <th>11</th>\n",
       "      <td>12</td>\n",
       "      <td>3</td>\n",
       "      <td>121</td>\n",
       "      <td>2.48</td>\n",
       "    </tr>\n",
       "    <tr>\n",
       "      <th>12</th>\n",
       "      <td>13</td>\n",
       "      <td>1</td>\n",
       "      <td>80</td>\n",
       "      <td>1.25</td>\n",
       "    </tr>\n",
       "    <tr>\n",
       "      <th>13</th>\n",
       "      <td>14</td>\n",
       "      <td>8</td>\n",
       "      <td>456</td>\n",
       "      <td>1.75</td>\n",
       "    </tr>\n",
       "  </tbody>\n",
       "</table>\n",
       "</div>"
      ],
      "text/plain": [
       "    campaign  count_prospects  No_of_prospects  response_rate\n",
       "0          1             2167            16895          12.83\n",
       "1          2             1151            10128          11.36\n",
       "2          3              546             5115          10.67\n",
       "3          4              232             2535           9.15\n",
       "4          5              114             1538           7.41\n",
       "5          6               74              938           7.89\n",
       "6          7               36              603           5.97\n",
       "7          8               16              383           4.18\n",
       "8          9               16              270           5.93\n",
       "9         10               12              217           5.53\n",
       "10        11               12              167           7.19\n",
       "11        12                3              121           2.48\n",
       "12        13                1               80           1.25\n",
       "13        14                8              456           1.75"
      ]
     },
     "execution_count": 75,
     "metadata": {},
     "output_type": "execute_result"
    }
   ],
   "source": [
    "agg_campaign"
   ]
  },
  {
   "cell_type": "code",
   "execution_count": 76,
   "metadata": {},
   "outputs": [
    {
     "data": {
      "image/png": "[encoded data removed]",
      "text/plain": [
       "<Figure size 432x288 with 1 Axes>"
      ]
     },
     "metadata": {
      "needs_background": "light"
     },
     "output_type": "display_data"
    }
   ],
   "source": [
    "ax = sns.barplot(x='campaign', y='response_rate', data=agg_campaign)\n",
    "ax.set_xticklabels(ax.get_xticklabels(),rotation=0)\n",
    "plt.show()"
   ]
  },
  {
   "cell_type": "markdown",
   "metadata": {},
   "source": [
    "Interesting to note, that the response rate gradually decreases as the number of campaign contacts increases."
   ]
  },
  {
   "cell_type": "markdown",
   "metadata": {},
   "source": [
    "#### Gap after the last contact"
   ]
  },
  {
   "cell_type": "code",
   "execution_count": 77,
   "metadata": {},
   "outputs": [
    {
     "data": {
      "text/plain": [
       "999    38029\n",
       "3        410\n",
       "6        390\n",
       "4        110\n",
       "2         60\n",
       "9         57\n",
       "12        55\n",
       "7         54\n",
       "10        48\n",
       "5         45\n",
       "13        34\n",
       "11        27\n",
       "1         25\n",
       "15        22\n",
       "14        18\n",
       "8         16\n",
       "0         15\n",
       "16         9\n",
       "17         6\n",
       "18         5\n",
       "19         3\n",
       "22         3\n",
       "21         2\n",
       "26         1\n",
       "25         1\n",
       "27         1\n",
       "Name: pdays, dtype: int64"
      ]
     },
     "execution_count": 77,
     "metadata": {},
     "output_type": "execute_result"
    }
   ],
   "source": [
    "loan['pdays'].value_counts()"
   ]
  },
  {
   "cell_type": "markdown",
   "metadata": {},
   "source": [
    "We are going to divide the pdays into three buckets, that is contacted within the first ten days, contacted after first ten days and first time contacted. Note that the pdays value of 999 means client was bot previously contacted."
   ]
  },
  {
   "cell_type": "code",
   "execution_count": 78,
   "metadata": {},
   "outputs": [],
   "source": [
    "loan['pdays'][loan['pdays'].isin([0,1,2,3,4,5,6,7,8,9,10])]='Contacted_in_first_10days'\n",
    "\n",
    "loan['pdays'][loan['pdays'].isin([999])]='First_time_contacted'\n",
    "\n",
    "loan['pdays'][~loan['pdays'].isin(['Contacted_in_first_10days','First_time_contacted'])]='Contacted_after_10days'"
   ]
  },
  {
   "cell_type": "code",
   "execution_count": 79,
   "metadata": {},
   "outputs": [
    {
     "data": {
      "text/plain": [
       "First_time_contacted         38029\n",
       "Contacted_in_first_10days     1230\n",
       "Contacted_after_10days         187\n",
       "Name: pdays, dtype: int64"
      ]
     },
     "execution_count": 79,
     "metadata": {},
     "output_type": "execute_result"
    }
   ],
   "source": [
    "loan['pdays'].value_counts()"
   ]
  },
  {
   "cell_type": "code",
   "execution_count": 80,
   "metadata": {},
   "outputs": [],
   "source": [
    "count_prospects_pdays = loan.groupby('pdays')['response'].sum().reset_index(name = 'count_prospects')\n",
    "No_of_prospect_pdays = loan.groupby('pdays')['response'].count().reset_index(name = 'No_of_prospects')\n",
    "agg_pdays = count_prospects_pdays.merge(No_of_prospect_pdays, on = 'pdays')\n",
    "agg_pdays['response_rate'] = 100*(agg_pdays['count_prospects']/agg_pdays['No_of_prospects']).round(4)"
   ]
  },
  {
   "cell_type": "code",
   "execution_count": 81,
   "metadata": {},
   "outputs": [
    {
     "data": {
      "text/html": [
       "<div>\n",
       "<style scoped>\n",
       "    .dataframe tbody tr th:only-of-type {\n",
       "        vertical-align: middle;\n",
       "    }\n",
       "\n",
       "    .dataframe tbody tr th {\n",
       "        vertical-align: top;\n",
       "    }\n",
       "\n",
       "    .dataframe thead th {\n",
       "        text-align: right;\n",
       "    }\n",
       "</style>\n",
       "<table border=\"1\" class=\"dataframe\">\n",
       "  <thead>\n",
       "    <tr style=\"text-align: right;\">\n",
       "      <th></th>\n",
       "      <th>pdays</th>\n",
       "      <th>count_prospects</th>\n",
       "      <th>No_of_prospects</th>\n",
       "      <th>response_rate</th>\n",
       "    </tr>\n",
       "  </thead>\n",
       "  <tbody>\n",
       "    <tr>\n",
       "      <th>0</th>\n",
       "      <td>Contacted_after_10days</td>\n",
       "      <td>107</td>\n",
       "      <td>187</td>\n",
       "      <td>57.22</td>\n",
       "    </tr>\n",
       "    <tr>\n",
       "      <th>1</th>\n",
       "      <td>Contacted_in_first_10days</td>\n",
       "      <td>788</td>\n",
       "      <td>1230</td>\n",
       "      <td>64.07</td>\n",
       "    </tr>\n",
       "    <tr>\n",
       "      <th>2</th>\n",
       "      <td>First_time_contacted</td>\n",
       "      <td>3493</td>\n",
       "      <td>38029</td>\n",
       "      <td>9.19</td>\n",
       "    </tr>\n",
       "  </tbody>\n",
       "</table>\n",
       "</div>"
      ],
      "text/plain": [
       "                       pdays  count_prospects  No_of_prospects  response_rate\n",
       "0     Contacted_after_10days              107              187          57.22\n",
       "1  Contacted_in_first_10days              788             1230          64.07\n",
       "2       First_time_contacted             3493            38029           9.19"
      ]
     },
     "execution_count": 81,
     "metadata": {},
     "output_type": "execute_result"
    }
   ],
   "source": [
    "agg_pdays"
   ]
  },
  {
   "cell_type": "code",
   "execution_count": 82,
   "metadata": {},
   "outputs": [
    {
     "data": {
      "image/png": "[encoded data removed]",
      "text/plain": [
       "<Figure size 432x288 with 1 Axes>"
      ]
     },
     "metadata": {
      "needs_background": "light"
     },
     "output_type": "display_data"
    }
   ],
   "source": [
    "ax = sns.barplot(x='pdays', y='response_rate', data=agg_pdays)\n",
    "ax.set_xticklabels(ax.get_xticklabels(),rotation=10)\n",
    "plt.show()"
   ]
  },
  {
   "cell_type": "markdown",
   "metadata": {},
   "source": [
    "Though there is a huge difference in the response rates of the three categories, it is important to note that there is also a huge difference in the volume of data entries in these categories"
   ]
  },
  {
   "cell_type": "markdown",
   "metadata": {},
   "source": [
    "#### Previous"
   ]
  },
  {
   "cell_type": "code",
   "execution_count": 83,
   "metadata": {},
   "outputs": [
    {
     "data": {
      "text/plain": [
       "0    34091\n",
       "1     4371\n",
       "2      700\n",
       "3      202\n",
       "4       61\n",
       "5       16\n",
       "6        4\n",
       "7        1\n",
       "Name: previous, dtype: int64"
      ]
     },
     "execution_count": 83,
     "metadata": {},
     "output_type": "execute_result"
    }
   ],
   "source": [
    "loan['previous'].value_counts()"
   ]
  },
  {
   "cell_type": "markdown",
   "metadata": {},
   "source": [
    "Since the data ranges from 0 to 7, we are going to break it into three categories, that is never contacted, contacted less than three times and contacted greater than three times"
   ]
  },
  {
   "cell_type": "code",
   "execution_count": 84,
   "metadata": {},
   "outputs": [],
   "source": [
    "loan['previous'][loan['previous'].isin([0])]='Never contacted'\n",
    "loan['previous'][loan['previous'].isin([1,2,3])]='Less_than_3_times'\n",
    "loan['previous'][loan['previous'].isin([4,5,6,7])]='More than_3_times'"
   ]
  },
  {
   "cell_type": "code",
   "execution_count": 85,
   "metadata": {},
   "outputs": [
    {
     "data": {
      "text/plain": [
       "Never contacted      34091\n",
       "Less_than_3_times     5273\n",
       "More than_3_times       82\n",
       "Name: previous, dtype: int64"
      ]
     },
     "execution_count": 85,
     "metadata": {},
     "output_type": "execute_result"
    }
   ],
   "source": [
    "loan['previous'].value_counts()"
   ]
  },
  {
   "cell_type": "code",
   "execution_count": 86,
   "metadata": {},
   "outputs": [],
   "source": [
    "count_prospects_previous = loan.groupby('previous')['response'].sum().reset_index(name = 'count_prospects')\n",
    "No_of_prospect_previous = loan.groupby('previous')['response'].count().reset_index(name = 'No_of_prospects')\n",
    "agg_previous = count_prospects_previous.merge(No_of_prospect_previous, on = 'previous')\n",
    "agg_previous['response_rate'] = 100*(agg_previous['count_prospects']/agg_previous['No_of_prospects']).round(4)"
   ]
  },
  {
   "cell_type": "code",
   "execution_count": 87,
   "metadata": {},
   "outputs": [
    {
     "data": {
      "text/html": [
       "<div>\n",
       "<style scoped>\n",
       "    .dataframe tbody tr th:only-of-type {\n",
       "        vertical-align: middle;\n",
       "    }\n",
       "\n",
       "    .dataframe tbody tr th {\n",
       "        vertical-align: top;\n",
       "    }\n",
       "\n",
       "    .dataframe thead th {\n",
       "        text-align: right;\n",
       "    }\n",
       "</style>\n",
       "<table border=\"1\" class=\"dataframe\">\n",
       "  <thead>\n",
       "    <tr style=\"text-align: right;\">\n",
       "      <th></th>\n",
       "      <th>previous</th>\n",
       "      <th>count_prospects</th>\n",
       "      <th>No_of_prospects</th>\n",
       "      <th>response_rate</th>\n",
       "    </tr>\n",
       "  </thead>\n",
       "  <tbody>\n",
       "    <tr>\n",
       "      <th>0</th>\n",
       "      <td>Less_than_3_times</td>\n",
       "      <td>1342</td>\n",
       "      <td>5273</td>\n",
       "      <td>25.45</td>\n",
       "    </tr>\n",
       "    <tr>\n",
       "      <th>1</th>\n",
       "      <td>More than_3_times</td>\n",
       "      <td>45</td>\n",
       "      <td>82</td>\n",
       "      <td>54.88</td>\n",
       "    </tr>\n",
       "    <tr>\n",
       "      <th>2</th>\n",
       "      <td>Never contacted</td>\n",
       "      <td>3001</td>\n",
       "      <td>34091</td>\n",
       "      <td>8.80</td>\n",
       "    </tr>\n",
       "  </tbody>\n",
       "</table>\n",
       "</div>"
      ],
      "text/plain": [
       "            previous  count_prospects  No_of_prospects  response_rate\n",
       "0  Less_than_3_times             1342             5273          25.45\n",
       "1  More than_3_times               45               82          54.88\n",
       "2    Never contacted             3001            34091           8.80"
      ]
     },
     "execution_count": 87,
     "metadata": {},
     "output_type": "execute_result"
    }
   ],
   "source": [
    "agg_previous"
   ]
  },
  {
   "cell_type": "code",
   "execution_count": 88,
   "metadata": {},
   "outputs": [
    {
     "data": {
      "image/png": "[encoded data removed]",
      "text/plain": [
       "<Figure size 432x288 with 1 Axes>"
      ]
     },
     "metadata": {
      "needs_background": "light"
     },
     "output_type": "display_data"
    }
   ],
   "source": [
    "ax = sns.barplot(x='previous', y='response_rate', data=agg_previous)\n",
    "ax.set_xticklabels(ax.get_xticklabels(),rotation=0)\n",
    "plt.show()"
   ]
  },
  {
   "cell_type": "markdown",
   "metadata": {},
   "source": [
    "We can note that the response rate is greatest for the the potential customers having previous contact of more than three. However, please note that  the number of data entries is very low for such cases, hence it's difficult to draw any inferences."
   ]
  },
  {
   "cell_type": "markdown",
   "metadata": {},
   "source": [
    "Now that we have analysed all the client related information, we will move to the wider social and economic variables, which gives us a clue of the conditions when a client is more likely to buy the product.\n",
    "\n",
    "- emp.var.rate: Employment Variation Rate - Quarterly Indicator\n",
    "- cons.price.idx: Consumer Price Index - Monthly Indicator \n",
    "- cons.conf.idx: Consumer Confidence Index - Monthly Indicator \n",
    "- euribor3m: Euribor 3 Month Rate - Daily Indicator\n",
    "- nr.employed: Number of Employees - Quarterly Indicator"
   ]
  },
  {
   "cell_type": "code",
   "execution_count": 89,
   "metadata": {},
   "outputs": [
    {
     "data": {
      "text/plain": [
       "Index(['age', 'job', 'marital', 'education', 'default', 'housing', 'loan',\n",
       "       'contact', 'month', 'day_of_week', 'duration', 'campaign', 'pdays',\n",
       "       'previous', 'poutcome', 'emp.var.rate', 'cons.price.idx',\n",
       "       'cons.conf.idx', 'euribor3m', 'nr.employed', 'response', 'prospectID',\n",
       "       'age_bins'],\n",
       "      dtype='object')"
      ]
     },
     "execution_count": 89,
     "metadata": {},
     "output_type": "execute_result"
    }
   ],
   "source": [
    "loan.columns"
   ]
  },
  {
   "cell_type": "markdown",
   "metadata": {},
   "source": [
    "#### Employment Variation Rate"
   ]
  },
  {
   "cell_type": "code",
   "execution_count": 90,
   "metadata": {},
   "outputs": [
    {
     "data": {
      "image/png": "[encoded data removed]",
      "text/plain": [
       "<Figure size 432x288 with 1 Axes>"
      ]
     },
     "metadata": {
      "needs_background": "light"
     },
     "output_type": "display_data"
    }
   ],
   "source": [
    "sns.distplot(loan['emp.var.rate'])\n",
    "plt.show()"
   ]
  },
  {
   "cell_type": "code",
   "execution_count": 91,
   "metadata": {},
   "outputs": [
    {
     "data": {
      "text/plain": [
       "count    39446.000000\n",
       "mean         0.082956\n",
       "std          1.567300\n",
       "min         -3.400000\n",
       "25%         -1.800000\n",
       "50%          1.100000\n",
       "75%          1.400000\n",
       "95%          1.400000\n",
       "99%          1.400000\n",
       "max          1.400000\n",
       "Name: emp.var.rate, dtype: float64"
      ]
     },
     "execution_count": 91,
     "metadata": {},
     "output_type": "execute_result"
    }
   ],
   "source": [
    "loan['emp.var.rate'].describe(percentiles = [0.25,0.50,0.75,0.95,0.99])"
   ]
  },
  {
   "cell_type": "code",
   "execution_count": 92,
   "metadata": {},
   "outputs": [
    {
     "data": {
      "text/plain": [
       " 1.4    15552\n",
       "-1.8     8866\n",
       " 1.1     7385\n",
       "-0.1     3591\n",
       "-2.9     1565\n",
       "-3.4     1003\n",
       "-1.7      723\n",
       "-1.1      593\n",
       "-3.0      158\n",
       "-0.2       10\n",
       "Name: emp.var.rate, dtype: int64"
      ]
     },
     "execution_count": 92,
     "metadata": {},
     "output_type": "execute_result"
    }
   ],
   "source": [
    "loan['emp.var.rate'].value_counts()"
   ]
  },
  {
   "cell_type": "code",
   "execution_count": 93,
   "metadata": {},
   "outputs": [],
   "source": [
    "count_prospects_emp_var_rate = loan.groupby('emp.var.rate')['response'].sum().reset_index(name = 'count_prospects')\n",
    "No_of_prospect_emp_var_rate = loan.groupby('emp.var.rate')['response'].count().reset_index(name = 'No_of_prospects')\n",
    "agg_emp_var_rate = count_prospects_emp_var_rate.merge(No_of_prospect_emp_var_rate, on = 'emp.var.rate')\n",
    "agg_emp_var_rate['response_rate'] = 100*(agg_emp_var_rate['count_prospects']/agg_emp_var_rate['No_of_prospects']).round(4)"
   ]
  },
  {
   "cell_type": "code",
   "execution_count": 94,
   "metadata": {},
   "outputs": [
    {
     "data": {
      "text/html": [
       "<div>\n",
       "<style scoped>\n",
       "    .dataframe tbody tr th:only-of-type {\n",
       "        vertical-align: middle;\n",
       "    }\n",
       "\n",
       "    .dataframe tbody tr th {\n",
       "        vertical-align: top;\n",
       "    }\n",
       "\n",
       "    .dataframe thead th {\n",
       "        text-align: right;\n",
       "    }\n",
       "</style>\n",
       "<table border=\"1\" class=\"dataframe\">\n",
       "  <thead>\n",
       "    <tr style=\"text-align: right;\">\n",
       "      <th></th>\n",
       "      <th>emp.var.rate</th>\n",
       "      <th>count_prospects</th>\n",
       "      <th>No_of_prospects</th>\n",
       "      <th>response_rate</th>\n",
       "    </tr>\n",
       "  </thead>\n",
       "  <tbody>\n",
       "    <tr>\n",
       "      <th>0</th>\n",
       "      <td>-3.4</td>\n",
       "      <td>424</td>\n",
       "      <td>1003</td>\n",
       "      <td>42.27</td>\n",
       "    </tr>\n",
       "    <tr>\n",
       "      <th>1</th>\n",
       "      <td>-3.0</td>\n",
       "      <td>80</td>\n",
       "      <td>158</td>\n",
       "      <td>50.63</td>\n",
       "    </tr>\n",
       "    <tr>\n",
       "      <th>2</th>\n",
       "      <td>-2.9</td>\n",
       "      <td>559</td>\n",
       "      <td>1565</td>\n",
       "      <td>35.72</td>\n",
       "    </tr>\n",
       "    <tr>\n",
       "      <th>3</th>\n",
       "      <td>-1.8</td>\n",
       "      <td>1380</td>\n",
       "      <td>8866</td>\n",
       "      <td>15.57</td>\n",
       "    </tr>\n",
       "    <tr>\n",
       "      <th>4</th>\n",
       "      <td>-1.7</td>\n",
       "      <td>371</td>\n",
       "      <td>723</td>\n",
       "      <td>51.31</td>\n",
       "    </tr>\n",
       "    <tr>\n",
       "      <th>5</th>\n",
       "      <td>-1.1</td>\n",
       "      <td>285</td>\n",
       "      <td>593</td>\n",
       "      <td>48.06</td>\n",
       "    </tr>\n",
       "    <tr>\n",
       "      <th>6</th>\n",
       "      <td>-0.2</td>\n",
       "      <td>1</td>\n",
       "      <td>10</td>\n",
       "      <td>10.00</td>\n",
       "    </tr>\n",
       "    <tr>\n",
       "      <th>7</th>\n",
       "      <td>-0.1</td>\n",
       "      <td>223</td>\n",
       "      <td>3591</td>\n",
       "      <td>6.21</td>\n",
       "    </tr>\n",
       "    <tr>\n",
       "      <th>8</th>\n",
       "      <td>1.1</td>\n",
       "      <td>232</td>\n",
       "      <td>7385</td>\n",
       "      <td>3.14</td>\n",
       "    </tr>\n",
       "    <tr>\n",
       "      <th>9</th>\n",
       "      <td>1.4</td>\n",
       "      <td>833</td>\n",
       "      <td>15552</td>\n",
       "      <td>5.36</td>\n",
       "    </tr>\n",
       "  </tbody>\n",
       "</table>\n",
       "</div>"
      ],
      "text/plain": [
       "   emp.var.rate  count_prospects  No_of_prospects  response_rate\n",
       "0          -3.4              424             1003          42.27\n",
       "1          -3.0               80              158          50.63\n",
       "2          -2.9              559             1565          35.72\n",
       "3          -1.8             1380             8866          15.57\n",
       "4          -1.7              371              723          51.31\n",
       "5          -1.1              285              593          48.06\n",
       "6          -0.2                1               10          10.00\n",
       "7          -0.1              223             3591           6.21\n",
       "8           1.1              232             7385           3.14\n",
       "9           1.4              833            15552           5.36"
      ]
     },
     "execution_count": 94,
     "metadata": {},
     "output_type": "execute_result"
    }
   ],
   "source": [
    "agg_emp_var_rate"
   ]
  },
  {
   "cell_type": "code",
   "execution_count": 95,
   "metadata": {},
   "outputs": [
    {
     "data": {
      "image/png": "[encoded data removed]",
      "text/plain": [
       "<Figure size 432x288 with 1 Axes>"
      ]
     },
     "metadata": {
      "needs_background": "light"
     },
     "output_type": "display_data"
    }
   ],
   "source": [
    "ax = sns.barplot(x='emp.var.rate', y='response_rate', data=agg_emp_var_rate)\n",
    "ax.set_xticklabels(ax.get_xticklabels(),rotation=0)\n",
    "plt.show()"
   ]
  },
  {
   "cell_type": "markdown",
   "metadata": {},
   "source": [
    "You can note that a negative employment variation rate seems to be related to higher response rates."
   ]
  },
  {
   "cell_type": "markdown",
   "metadata": {},
   "source": [
    "#### Consumer Price Index"
   ]
  },
  {
   "cell_type": "code",
   "execution_count": 96,
   "metadata": {},
   "outputs": [
    {
     "data": {
      "image/png": "[encoded data removed]",
      "text/plain": [
       "<Figure size 432x288 with 1 Axes>"
      ]
     },
     "metadata": {
      "needs_background": "light"
     },
     "output_type": "display_data"
    }
   ],
   "source": [
    "sns.distplot(loan['cons.price.idx'])\n",
    "plt.show()"
   ]
  },
  {
   "cell_type": "code",
   "execution_count": 97,
   "metadata": {},
   "outputs": [
    {
     "data": {
      "text/plain": [
       "count    39446.000000\n",
       "mean        93.572091\n",
       "std          0.577238\n",
       "min         92.201000\n",
       "25%         93.075000\n",
       "50%         93.444000\n",
       "75%         93.994000\n",
       "95%         94.465000\n",
       "99%         94.465000\n",
       "max         94.767000\n",
       "Name: cons.price.idx, dtype: float64"
      ]
     },
     "execution_count": 97,
     "metadata": {},
     "output_type": "execute_result"
    }
   ],
   "source": [
    "loan['cons.price.idx'].describe(percentiles = [0.25,0.50,0.75,0.95,0.99])"
   ]
  },
  {
   "cell_type": "code",
   "execution_count": 98,
   "metadata": {},
   "outputs": [
    {
     "data": {
      "text/plain": [
       "-36.4    7385\n",
       "-42.7    6344\n",
       "-46.2    5659\n",
       "-36.1    5050\n",
       "-41.8    4158\n",
       "-42.0    3527\n",
       "-47.1    2350\n",
       "-31.4     720\n",
       "-40.8     683\n",
       "-26.9     426\n",
       "-30.1     338\n",
       "-40.3     290\n",
       "-37.5     280\n",
       "-50.0     277\n",
       "-29.8     239\n",
       "-34.8     236\n",
       "-39.8     222\n",
       "-38.3     211\n",
       "-49.5     196\n",
       "-40.0     192\n",
       "-33.6     162\n",
       "-33.0     158\n",
       "-34.6     152\n",
       "-50.8     117\n",
       "-40.4      64\n",
       "-45.9      10\n",
       "Name: cons.conf.idx, dtype: int64"
      ]
     },
     "execution_count": 98,
     "metadata": {},
     "output_type": "execute_result"
    }
   ],
   "source": [
    "loan['cons.conf.idx'].value_counts()"
   ]
  },
  {
   "cell_type": "markdown",
   "metadata": {},
   "source": [
    "#### Euribor three month rate"
   ]
  },
  {
   "cell_type": "code",
   "execution_count": 99,
   "metadata": {},
   "outputs": [
    {
     "data": {
      "image/png": "[encoded data removed]",
      "text/plain": [
       "<Figure size 432x288 with 1 Axes>"
      ]
     },
     "metadata": {
      "needs_background": "light"
     },
     "output_type": "display_data"
    }
   ],
   "source": [
    "sns.distplot(loan['euribor3m'])\n",
    "plt.show()"
   ]
  },
  {
   "cell_type": "code",
   "execution_count": 100,
   "metadata": {},
   "outputs": [
    {
     "data": {
      "text/plain": [
       "count    39446.000000\n",
       "mean         3.623530\n",
       "std          1.730839\n",
       "min          0.634000\n",
       "25%          1.344000\n",
       "50%          4.857000\n",
       "75%          4.961000\n",
       "95%          4.966000\n",
       "99%          4.968000\n",
       "max          5.045000\n",
       "Name: euribor3m, dtype: float64"
      ]
     },
     "execution_count": 100,
     "metadata": {},
     "output_type": "execute_result"
    }
   ],
   "source": [
    "loan['euribor3m'].describe(percentiles = [0.25,0.50,0.75,0.95,0.99])"
   ]
  },
  {
   "cell_type": "markdown",
   "metadata": {},
   "source": [
    "#### Number of employeees"
   ]
  },
  {
   "cell_type": "code",
   "execution_count": 101,
   "metadata": {},
   "outputs": [
    {
     "data": {
      "image/png": "[encoded data removed]",
      "text/plain": [
       "<Figure size 432x288 with 1 Axes>"
      ]
     },
     "metadata": {
      "needs_background": "light"
     },
     "output_type": "display_data"
    }
   ],
   "source": [
    "sns.distplot(loan['nr.employed'])\n",
    "plt.show()"
   ]
  },
  {
   "cell_type": "code",
   "execution_count": 102,
   "metadata": {},
   "outputs": [
    {
     "data": {
      "text/plain": [
       "5228.1    15552\n",
       "5099.1     8286\n",
       "5191.0     7385\n",
       "5195.8     3591\n",
       "5076.2     1565\n",
       "5017.5     1003\n",
       "4991.6      723\n",
       "4963.6      593\n",
       "5008.7      580\n",
       "5023.5      158\n",
       "5176.3       10\n",
       "Name: nr.employed, dtype: int64"
      ]
     },
     "execution_count": 102,
     "metadata": {},
     "output_type": "execute_result"
    }
   ],
   "source": [
    "loan['nr.employed'].value_counts()"
   ]
  },
  {
   "cell_type": "code",
   "execution_count": 103,
   "metadata": {},
   "outputs": [
    {
     "data": {
      "text/plain": [
       "count    39446.000000\n",
       "mean      5167.364896\n",
       "std         71.804348\n",
       "min       4963.600000\n",
       "25%       5099.100000\n",
       "50%       5191.000000\n",
       "75%       5228.100000\n",
       "95%       5228.100000\n",
       "99%       5228.100000\n",
       "max       5228.100000\n",
       "Name: nr.employed, dtype: float64"
      ]
     },
     "execution_count": 103,
     "metadata": {},
     "output_type": "execute_result"
    }
   ],
   "source": [
    "loan['nr.employed'].describe(percentiles = [0.25,0.50,0.75,0.95,0.99])"
   ]
  },
  {
   "cell_type": "markdown",
   "metadata": {},
   "source": [
    "Now that we have completed basic exploratory analysis, we can move to the next stage, that is data cleaning and data preparation"
   ]
  },
  {
   "cell_type": "markdown",
   "metadata": {},
   "source": [
    "#### Data Preparation\n",
    "\n",
    "Once Exploratory Data anlysis has been performed, we move to data preparation for the purpose of modelling."
   ]
  },
  {
   "cell_type": "code",
   "execution_count": 104,
   "metadata": {
    "scrolled": true
   },
   "outputs": [
    {
     "data": {
      "text/plain": [
       "Index(['age', 'job', 'marital', 'education', 'default', 'housing', 'loan',\n",
       "       'contact', 'month', 'day_of_week', 'duration', 'campaign', 'pdays',\n",
       "       'previous', 'poutcome', 'emp.var.rate', 'cons.price.idx',\n",
       "       'cons.conf.idx', 'euribor3m', 'nr.employed', 'response', 'prospectID',\n",
       "       'age_bins'],\n",
       "      dtype='object')"
      ]
     },
     "execution_count": 104,
     "metadata": {},
     "output_type": "execute_result"
    }
   ],
   "source": [
    "# inspect the columns\n",
    "\n",
    "loan.columns"
   ]
  },
  {
   "cell_type": "code",
   "execution_count": 105,
   "metadata": {},
   "outputs": [],
   "source": [
    "#Drop rows where poutcome - other\n",
    "condition = loan.poutcome == 'other'\n",
    "loan = loan.drop(loan[condition].index, axis = 0, inplace = False)"
   ]
  },
  {
   "cell_type": "code",
   "execution_count": 106,
   "metadata": {},
   "outputs": [],
   "source": [
    "# Change the unit of 'duration' from seconds to minutes\n",
    "loan['duration'] = loan['duration'].apply(lambda n:n/60).round(2)"
   ]
  },
  {
   "cell_type": "code",
   "execution_count": 107,
   "metadata": {},
   "outputs": [],
   "source": [
    "# Drop rows that 'duration' < 5s\n",
    "condition2 = (loan['duration']<5/60)\n",
    "loan = loan.drop(loan[condition2].index, axis = 0, inplace = False)"
   ]
  },
  {
   "cell_type": "code",
   "execution_count": 108,
   "metadata": {},
   "outputs": [],
   "source": [
    "# Droping the column age_bins we had created for the purpose of data visualisation\n",
    "\n",
    "loan.drop(columns = 'age_bins', inplace = True)\n"
   ]
  },
  {
   "cell_type": "code",
   "execution_count": 109,
   "metadata": {},
   "outputs": [],
   "source": [
    "# Creating a dummy variable for the variable 'job' and dropping the first one.\n",
    "\n",
    "job = pd.get_dummies(loan['job'],prefix='job',drop_first=True)\n",
    "\n",
    "#Adding the results to the master dataframe\n",
    "\n",
    "loan = pd.concat([loan,job],axis=1)"
   ]
  },
  {
   "cell_type": "markdown",
   "metadata": {},
   "source": [
    "Notice that we have created a set of dummy columns for the feature job. Similarly, we are going to do the same for other categorical variables."
   ]
  },
  {
   "cell_type": "code",
   "execution_count": 110,
   "metadata": {},
   "outputs": [],
   "source": [
    "# Creating dummy variable for marital column\n",
    "\n",
    "marital = pd.get_dummies(loan['marital'],prefix='marital',drop_first=True)\n",
    "loan = pd.concat([loan,marital],axis=1)"
   ]
  },
  {
   "cell_type": "code",
   "execution_count": 111,
   "metadata": {},
   "outputs": [],
   "source": [
    "# Creating dummy variable for education column\n",
    "\n",
    "education = pd.get_dummies(loan['education'],prefix='education',drop_first=True)\n",
    "loan = pd.concat([loan,education],axis=1)"
   ]
  },
  {
   "cell_type": "code",
   "execution_count": 112,
   "metadata": {},
   "outputs": [],
   "source": [
    "# Creating dummy variable for default column\n",
    "\n",
    "default = pd.get_dummies(loan['default'],prefix='default',drop_first=True)\n",
    "loan = pd.concat([loan,default],axis=1)"
   ]
  },
  {
   "cell_type": "code",
   "execution_count": 113,
   "metadata": {},
   "outputs": [],
   "source": [
    "# Creating dummy variable for housing column\n",
    "\n",
    "housing = pd.get_dummies(loan['housing'],prefix='housing',drop_first=True)\n",
    "loan = pd.concat([loan,housing],axis=1)"
   ]
  },
  {
   "cell_type": "code",
   "execution_count": 114,
   "metadata": {},
   "outputs": [],
   "source": [
    "# Creating dummy variable for loan column\n",
    "\n",
    "loan_v= pd.get_dummies(loan['loan'],prefix='loan',drop_first=True)\n",
    "loan = pd.concat([loan,loan_v],axis=1)"
   ]
  },
  {
   "cell_type": "code",
   "execution_count": 115,
   "metadata": {},
   "outputs": [],
   "source": [
    "# Creating dummy variable for contact column\n",
    "\n",
    "contact = pd.get_dummies(loan['contact'],prefix='contact',drop_first=True)\n",
    "loan = pd.concat([loan,contact],axis=1)"
   ]
  },
  {
   "cell_type": "code",
   "execution_count": 116,
   "metadata": {},
   "outputs": [],
   "source": [
    "# Creating dummy variable for month column\n",
    "\n",
    "month = pd.get_dummies(loan['month'],prefix='month',drop_first=True)\n",
    "loan = pd.concat([loan,month],axis=1)"
   ]
  },
  {
   "cell_type": "code",
   "execution_count": 117,
   "metadata": {},
   "outputs": [],
   "source": [
    "# Creating dummy variable for day_of_week column\n",
    "\n",
    "day_of_week = pd.get_dummies(loan['day_of_week'],prefix='day_of_week',drop_first=True)\n",
    "loan = pd.concat([loan,day_of_week],axis=1)"
   ]
  },
  {
   "cell_type": "code",
   "execution_count": 118,
   "metadata": {},
   "outputs": [],
   "source": [
    "# Creating dummy variable for pdays column\n",
    "\n",
    "pdays = pd.get_dummies(loan['pdays'],prefix='pdays',drop_first=True)\n",
    "loan = pd.concat([loan,pdays],axis=1)"
   ]
  },
  {
   "cell_type": "code",
   "execution_count": 119,
   "metadata": {},
   "outputs": [],
   "source": [
    "# Creating dummy variable for previous column\n",
    "\n",
    "previous = pd.get_dummies(loan['previous'],prefix='previous',drop_first=True)\n",
    "loan = pd.concat([loan,previous],axis=1)"
   ]
  },
  {
   "cell_type": "code",
   "execution_count": 120,
   "metadata": {},
   "outputs": [],
   "source": [
    "# Creating dummy variable for poutcome column\n",
    "\n",
    "poutcome = pd.get_dummies(loan['poutcome'],prefix='poutcome',drop_first=True)\n",
    "loan = pd.concat([loan,poutcome],axis=1)"
   ]
  },
  {
   "cell_type": "code",
   "execution_count": 121,
   "metadata": {},
   "outputs": [
    {
     "data": {
      "text/html": [
       "<div>\n",
       "<style scoped>\n",
       "    .dataframe tbody tr th:only-of-type {\n",
       "        vertical-align: middle;\n",
       "    }\n",
       "\n",
       "    .dataframe tbody tr th {\n",
       "        vertical-align: top;\n",
       "    }\n",
       "\n",
       "    .dataframe thead th {\n",
       "        text-align: right;\n",
       "    }\n",
       "</style>\n",
       "<table border=\"1\" class=\"dataframe\">\n",
       "  <thead>\n",
       "    <tr style=\"text-align: right;\">\n",
       "      <th></th>\n",
       "      <th>age</th>\n",
       "      <th>job</th>\n",
       "      <th>marital</th>\n",
       "      <th>education</th>\n",
       "      <th>default</th>\n",
       "      <th>housing</th>\n",
       "      <th>loan</th>\n",
       "      <th>contact</th>\n",
       "      <th>month</th>\n",
       "      <th>day_of_week</th>\n",
       "      <th>...</th>\n",
       "      <th>day_of_week_mon</th>\n",
       "      <th>day_of_week_thu</th>\n",
       "      <th>day_of_week_tue</th>\n",
       "      <th>day_of_week_wed</th>\n",
       "      <th>pdays_Contacted_in_first_10days</th>\n",
       "      <th>pdays_First_time_contacted</th>\n",
       "      <th>previous_More than_3_times</th>\n",
       "      <th>previous_Never contacted</th>\n",
       "      <th>poutcome_nonexistent</th>\n",
       "      <th>poutcome_success</th>\n",
       "    </tr>\n",
       "  </thead>\n",
       "  <tbody>\n",
       "    <tr>\n",
       "      <th>0</th>\n",
       "      <td>56</td>\n",
       "      <td>housemaid</td>\n",
       "      <td>married</td>\n",
       "      <td>Primary_Education</td>\n",
       "      <td>no</td>\n",
       "      <td>no</td>\n",
       "      <td>no</td>\n",
       "      <td>telephone</td>\n",
       "      <td>may</td>\n",
       "      <td>mon</td>\n",
       "      <td>...</td>\n",
       "      <td>1</td>\n",
       "      <td>0</td>\n",
       "      <td>0</td>\n",
       "      <td>0</td>\n",
       "      <td>0</td>\n",
       "      <td>1</td>\n",
       "      <td>0</td>\n",
       "      <td>1</td>\n",
       "      <td>1</td>\n",
       "      <td>0</td>\n",
       "    </tr>\n",
       "    <tr>\n",
       "      <th>1</th>\n",
       "      <td>57</td>\n",
       "      <td>services</td>\n",
       "      <td>married</td>\n",
       "      <td>Secondary_Education</td>\n",
       "      <td>unknown</td>\n",
       "      <td>no</td>\n",
       "      <td>no</td>\n",
       "      <td>telephone</td>\n",
       "      <td>may</td>\n",
       "      <td>mon</td>\n",
       "      <td>...</td>\n",
       "      <td>1</td>\n",
       "      <td>0</td>\n",
       "      <td>0</td>\n",
       "      <td>0</td>\n",
       "      <td>0</td>\n",
       "      <td>1</td>\n",
       "      <td>0</td>\n",
       "      <td>1</td>\n",
       "      <td>1</td>\n",
       "      <td>0</td>\n",
       "    </tr>\n",
       "    <tr>\n",
       "      <th>2</th>\n",
       "      <td>37</td>\n",
       "      <td>services</td>\n",
       "      <td>married</td>\n",
       "      <td>Secondary_Education</td>\n",
       "      <td>no</td>\n",
       "      <td>yes</td>\n",
       "      <td>no</td>\n",
       "      <td>telephone</td>\n",
       "      <td>may</td>\n",
       "      <td>mon</td>\n",
       "      <td>...</td>\n",
       "      <td>1</td>\n",
       "      <td>0</td>\n",
       "      <td>0</td>\n",
       "      <td>0</td>\n",
       "      <td>0</td>\n",
       "      <td>1</td>\n",
       "      <td>0</td>\n",
       "      <td>1</td>\n",
       "      <td>1</td>\n",
       "      <td>0</td>\n",
       "    </tr>\n",
       "    <tr>\n",
       "      <th>3</th>\n",
       "      <td>40</td>\n",
       "      <td>admin.</td>\n",
       "      <td>married</td>\n",
       "      <td>Primary_Education</td>\n",
       "      <td>no</td>\n",
       "      <td>no</td>\n",
       "      <td>no</td>\n",
       "      <td>telephone</td>\n",
       "      <td>may</td>\n",
       "      <td>mon</td>\n",
       "      <td>...</td>\n",
       "      <td>1</td>\n",
       "      <td>0</td>\n",
       "      <td>0</td>\n",
       "      <td>0</td>\n",
       "      <td>0</td>\n",
       "      <td>1</td>\n",
       "      <td>0</td>\n",
       "      <td>1</td>\n",
       "      <td>1</td>\n",
       "      <td>0</td>\n",
       "    </tr>\n",
       "    <tr>\n",
       "      <th>4</th>\n",
       "      <td>56</td>\n",
       "      <td>services</td>\n",
       "      <td>married</td>\n",
       "      <td>Secondary_Education</td>\n",
       "      <td>no</td>\n",
       "      <td>no</td>\n",
       "      <td>yes</td>\n",
       "      <td>telephone</td>\n",
       "      <td>may</td>\n",
       "      <td>mon</td>\n",
       "      <td>...</td>\n",
       "      <td>1</td>\n",
       "      <td>0</td>\n",
       "      <td>0</td>\n",
       "      <td>0</td>\n",
       "      <td>0</td>\n",
       "      <td>1</td>\n",
       "      <td>0</td>\n",
       "      <td>1</td>\n",
       "      <td>1</td>\n",
       "      <td>0</td>\n",
       "    </tr>\n",
       "  </tbody>\n",
       "</table>\n",
       "<p>5 rows × 63 columns</p>\n",
       "</div>"
      ],
      "text/plain": [
       "   age        job  marital            education  default housing loan  \\\n",
       "0   56  housemaid  married    Primary_Education       no      no   no   \n",
       "1   57   services  married  Secondary_Education  unknown      no   no   \n",
       "2   37   services  married  Secondary_Education       no     yes   no   \n",
       "3   40     admin.  married    Primary_Education       no      no   no   \n",
       "4   56   services  married  Secondary_Education       no      no  yes   \n",
       "\n",
       "     contact month day_of_week  ...  day_of_week_mon  day_of_week_thu  \\\n",
       "0  telephone   may         mon  ...                1                0   \n",
       "1  telephone   may         mon  ...                1                0   \n",
       "2  telephone   may         mon  ...                1                0   \n",
       "3  telephone   may         mon  ...                1                0   \n",
       "4  telephone   may         mon  ...                1                0   \n",
       "\n",
       "  day_of_week_tue day_of_week_wed pdays_Contacted_in_first_10days  \\\n",
       "0               0               0                               0   \n",
       "1               0               0                               0   \n",
       "2               0               0                               0   \n",
       "3               0               0                               0   \n",
       "4               0               0                               0   \n",
       "\n",
       "   pdays_First_time_contacted  previous_More than_3_times  \\\n",
       "0                           1                           0   \n",
       "1                           1                           0   \n",
       "2                           1                           0   \n",
       "3                           1                           0   \n",
       "4                           1                           0   \n",
       "\n",
       "   previous_Never contacted  poutcome_nonexistent  poutcome_success  \n",
       "0                         1                     1                 0  \n",
       "1                         1                     1                 0  \n",
       "2                         1                     1                 0  \n",
       "3                         1                     1                 0  \n",
       "4                         1                     1                 0  \n",
       "\n",
       "[5 rows x 63 columns]"
      ]
     },
     "execution_count": 121,
     "metadata": {},
     "output_type": "execute_result"
    }
   ],
   "source": [
    "# inspect the dataframe\n",
    "\n",
    "loan.head()"
   ]
  },
  {
   "cell_type": "code",
   "execution_count": 122,
   "metadata": {},
   "outputs": [],
   "source": [
    "# Drop all features for whom dummy variable has been created\n",
    "loan.drop(columns = ['job','marital','education','default','housing','loan','contact','month','day_of_week','pdays','previous','poutcome'], inplace=True)"
   ]
  },
  {
   "cell_type": "code",
   "execution_count": 123,
   "metadata": {
    "scrolled": true
   },
   "outputs": [
    {
     "data": {
      "text/html": [
       "<div>\n",
       "<style scoped>\n",
       "    .dataframe tbody tr th:only-of-type {\n",
       "        vertical-align: middle;\n",
       "    }\n",
       "\n",
       "    .dataframe tbody tr th {\n",
       "        vertical-align: top;\n",
       "    }\n",
       "\n",
       "    .dataframe thead th {\n",
       "        text-align: right;\n",
       "    }\n",
       "</style>\n",
       "<table border=\"1\" class=\"dataframe\">\n",
       "  <thead>\n",
       "    <tr style=\"text-align: right;\">\n",
       "      <th></th>\n",
       "      <th>age</th>\n",
       "      <th>duration</th>\n",
       "      <th>campaign</th>\n",
       "      <th>emp.var.rate</th>\n",
       "      <th>cons.price.idx</th>\n",
       "      <th>cons.conf.idx</th>\n",
       "      <th>euribor3m</th>\n",
       "      <th>nr.employed</th>\n",
       "      <th>response</th>\n",
       "      <th>prospectID</th>\n",
       "      <th>...</th>\n",
       "      <th>day_of_week_mon</th>\n",
       "      <th>day_of_week_thu</th>\n",
       "      <th>day_of_week_tue</th>\n",
       "      <th>day_of_week_wed</th>\n",
       "      <th>pdays_Contacted_in_first_10days</th>\n",
       "      <th>pdays_First_time_contacted</th>\n",
       "      <th>previous_More than_3_times</th>\n",
       "      <th>previous_Never contacted</th>\n",
       "      <th>poutcome_nonexistent</th>\n",
       "      <th>poutcome_success</th>\n",
       "    </tr>\n",
       "  </thead>\n",
       "  <tbody>\n",
       "    <tr>\n",
       "      <th>0</th>\n",
       "      <td>56</td>\n",
       "      <td>4.35</td>\n",
       "      <td>1</td>\n",
       "      <td>1.1</td>\n",
       "      <td>93.994</td>\n",
       "      <td>-36.4</td>\n",
       "      <td>4.857</td>\n",
       "      <td>5191.0</td>\n",
       "      <td>0</td>\n",
       "      <td>56_housemaid_basic.4y</td>\n",
       "      <td>...</td>\n",
       "      <td>1</td>\n",
       "      <td>0</td>\n",
       "      <td>0</td>\n",
       "      <td>0</td>\n",
       "      <td>0</td>\n",
       "      <td>1</td>\n",
       "      <td>0</td>\n",
       "      <td>1</td>\n",
       "      <td>1</td>\n",
       "      <td>0</td>\n",
       "    </tr>\n",
       "    <tr>\n",
       "      <th>1</th>\n",
       "      <td>57</td>\n",
       "      <td>2.48</td>\n",
       "      <td>1</td>\n",
       "      <td>1.1</td>\n",
       "      <td>93.994</td>\n",
       "      <td>-36.4</td>\n",
       "      <td>4.857</td>\n",
       "      <td>5191.0</td>\n",
       "      <td>0</td>\n",
       "      <td>57_services_high.school</td>\n",
       "      <td>...</td>\n",
       "      <td>1</td>\n",
       "      <td>0</td>\n",
       "      <td>0</td>\n",
       "      <td>0</td>\n",
       "      <td>0</td>\n",
       "      <td>1</td>\n",
       "      <td>0</td>\n",
       "      <td>1</td>\n",
       "      <td>1</td>\n",
       "      <td>0</td>\n",
       "    </tr>\n",
       "    <tr>\n",
       "      <th>2</th>\n",
       "      <td>37</td>\n",
       "      <td>3.77</td>\n",
       "      <td>1</td>\n",
       "      <td>1.1</td>\n",
       "      <td>93.994</td>\n",
       "      <td>-36.4</td>\n",
       "      <td>4.857</td>\n",
       "      <td>5191.0</td>\n",
       "      <td>0</td>\n",
       "      <td>37_services_high.school</td>\n",
       "      <td>...</td>\n",
       "      <td>1</td>\n",
       "      <td>0</td>\n",
       "      <td>0</td>\n",
       "      <td>0</td>\n",
       "      <td>0</td>\n",
       "      <td>1</td>\n",
       "      <td>0</td>\n",
       "      <td>1</td>\n",
       "      <td>1</td>\n",
       "      <td>0</td>\n",
       "    </tr>\n",
       "    <tr>\n",
       "      <th>3</th>\n",
       "      <td>40</td>\n",
       "      <td>2.52</td>\n",
       "      <td>1</td>\n",
       "      <td>1.1</td>\n",
       "      <td>93.994</td>\n",
       "      <td>-36.4</td>\n",
       "      <td>4.857</td>\n",
       "      <td>5191.0</td>\n",
       "      <td>0</td>\n",
       "      <td>40_admin._basic.6y</td>\n",
       "      <td>...</td>\n",
       "      <td>1</td>\n",
       "      <td>0</td>\n",
       "      <td>0</td>\n",
       "      <td>0</td>\n",
       "      <td>0</td>\n",
       "      <td>1</td>\n",
       "      <td>0</td>\n",
       "      <td>1</td>\n",
       "      <td>1</td>\n",
       "      <td>0</td>\n",
       "    </tr>\n",
       "    <tr>\n",
       "      <th>4</th>\n",
       "      <td>56</td>\n",
       "      <td>5.12</td>\n",
       "      <td>1</td>\n",
       "      <td>1.1</td>\n",
       "      <td>93.994</td>\n",
       "      <td>-36.4</td>\n",
       "      <td>4.857</td>\n",
       "      <td>5191.0</td>\n",
       "      <td>0</td>\n",
       "      <td>56_services_high.school</td>\n",
       "      <td>...</td>\n",
       "      <td>1</td>\n",
       "      <td>0</td>\n",
       "      <td>0</td>\n",
       "      <td>0</td>\n",
       "      <td>0</td>\n",
       "      <td>1</td>\n",
       "      <td>0</td>\n",
       "      <td>1</td>\n",
       "      <td>1</td>\n",
       "      <td>0</td>\n",
       "    </tr>\n",
       "  </tbody>\n",
       "</table>\n",
       "<p>5 rows × 51 columns</p>\n",
       "</div>"
      ],
      "text/plain": [
       "   age  duration  campaign  emp.var.rate  cons.price.idx  cons.conf.idx  \\\n",
       "0   56      4.35         1           1.1          93.994          -36.4   \n",
       "1   57      2.48         1           1.1          93.994          -36.4   \n",
       "2   37      3.77         1           1.1          93.994          -36.4   \n",
       "3   40      2.52         1           1.1          93.994          -36.4   \n",
       "4   56      5.12         1           1.1          93.994          -36.4   \n",
       "\n",
       "   euribor3m  nr.employed  response               prospectID  ...  \\\n",
       "0      4.857       5191.0         0    56_housemaid_basic.4y  ...   \n",
       "1      4.857       5191.0         0  57_services_high.school  ...   \n",
       "2      4.857       5191.0         0  37_services_high.school  ...   \n",
       "3      4.857       5191.0         0       40_admin._basic.6y  ...   \n",
       "4      4.857       5191.0         0  56_services_high.school  ...   \n",
       "\n",
       "   day_of_week_mon  day_of_week_thu  day_of_week_tue  day_of_week_wed  \\\n",
       "0                1                0                0                0   \n",
       "1                1                0                0                0   \n",
       "2                1                0                0                0   \n",
       "3                1                0                0                0   \n",
       "4                1                0                0                0   \n",
       "\n",
       "   pdays_Contacted_in_first_10days  pdays_First_time_contacted  \\\n",
       "0                                0                           1   \n",
       "1                                0                           1   \n",
       "2                                0                           1   \n",
       "3                                0                           1   \n",
       "4                                0                           1   \n",
       "\n",
       "   previous_More than_3_times  previous_Never contacted  poutcome_nonexistent  \\\n",
       "0                           0                         1                     1   \n",
       "1                           0                         1                     1   \n",
       "2                           0                         1                     1   \n",
       "3                           0                         1                     1   \n",
       "4                           0                         1                     1   \n",
       "\n",
       "   poutcome_success  \n",
       "0                 0  \n",
       "1                 0  \n",
       "2                 0  \n",
       "3                 0  \n",
       "4                 0  \n",
       "\n",
       "[5 rows x 51 columns]"
      ]
     },
     "execution_count": 123,
     "metadata": {},
     "output_type": "execute_result"
    }
   ],
   "source": [
    "loan.head()"
   ]
  },
  {
   "cell_type": "code",
   "execution_count": 124,
   "metadata": {},
   "outputs": [
    {
     "data": {
      "text/plain": [
       "Index(['age', 'duration', 'campaign', 'emp.var.rate', 'cons.price.idx',\n",
       "       'cons.conf.idx', 'euribor3m', 'nr.employed', 'response', 'prospectID',\n",
       "       'job_blue-collar', 'job_entrepreneur', 'job_housemaid',\n",
       "       'job_management', 'job_retired', 'job_self-employed', 'job_services',\n",
       "       'job_student', 'job_technician', 'job_unemployed', 'marital_married',\n",
       "       'marital_single', 'education_Secondary_Education',\n",
       "       'education_Tertiary_Education', 'education_professional.course',\n",
       "       'default_unknown', 'default_yes', 'housing_unknown', 'housing_yes',\n",
       "       'loan_unknown', 'loan_yes', 'contact_telephone', 'month_aug',\n",
       "       'month_dec', 'month_jul', 'month_jun', 'month_mar', 'month_may',\n",
       "       'month_nov', 'month_oct', 'month_sep', 'day_of_week_mon',\n",
       "       'day_of_week_thu', 'day_of_week_tue', 'day_of_week_wed',\n",
       "       'pdays_Contacted_in_first_10days', 'pdays_First_time_contacted',\n",
       "       'previous_More than_3_times', 'previous_Never contacted',\n",
       "       'poutcome_nonexistent', 'poutcome_success'],\n",
       "      dtype='object')"
      ]
     },
     "execution_count": 124,
     "metadata": {},
     "output_type": "execute_result"
    }
   ],
   "source": [
    "loan.columns"
   ]
  },
  {
   "cell_type": "code",
   "execution_count": 125,
   "metadata": {},
   "outputs": [],
   "source": [
    "# Import library to split the dataset into test and train\n",
    "\n",
    "from sklearn.model_selection import train_test_split"
   ]
  },
  {
   "cell_type": "code",
   "execution_count": 126,
   "metadata": {},
   "outputs": [],
   "source": [
    "# Putting feature variable to X\n",
    "X = loan.drop(['response','prospectID','default_unknown','housing_unknown','loan_unknown','poutcome_nonexistent'],axis=1)\n",
    "\n",
    "# Putting response variable to y\n",
    "y = loan['response']"
   ]
  },
  {
   "cell_type": "code",
   "execution_count": 127,
   "metadata": {},
   "outputs": [],
   "source": [
    "# Splitting the data into train and test\n",
    "X_train, X_test, y_train, y_test = train_test_split(X,y, train_size=0.7,test_size=0.3,random_state=100)"
   ]
  },
  {
   "cell_type": "markdown",
   "metadata": {},
   "source": [
    "#### Standardisation"
   ]
  },
  {
   "cell_type": "code",
   "execution_count": 128,
   "metadata": {},
   "outputs": [
    {
     "data": {
      "text/html": [
       "<div>\n",
       "<style scoped>\n",
       "    .dataframe tbody tr th:only-of-type {\n",
       "        vertical-align: middle;\n",
       "    }\n",
       "\n",
       "    .dataframe tbody tr th {\n",
       "        vertical-align: top;\n",
       "    }\n",
       "\n",
       "    .dataframe thead th {\n",
       "        text-align: right;\n",
       "    }\n",
       "</style>\n",
       "<table border=\"1\" class=\"dataframe\">\n",
       "  <thead>\n",
       "    <tr style=\"text-align: right;\">\n",
       "      <th></th>\n",
       "      <th>age</th>\n",
       "      <th>duration</th>\n",
       "      <th>campaign</th>\n",
       "      <th>emp.var.rate</th>\n",
       "      <th>cons.price.idx</th>\n",
       "      <th>cons.conf.idx</th>\n",
       "      <th>euribor3m</th>\n",
       "      <th>nr.employed</th>\n",
       "      <th>job_blue-collar</th>\n",
       "      <th>job_entrepreneur</th>\n",
       "      <th>...</th>\n",
       "      <th>month_sep</th>\n",
       "      <th>day_of_week_mon</th>\n",
       "      <th>day_of_week_thu</th>\n",
       "      <th>day_of_week_tue</th>\n",
       "      <th>day_of_week_wed</th>\n",
       "      <th>pdays_Contacted_in_first_10days</th>\n",
       "      <th>pdays_First_time_contacted</th>\n",
       "      <th>previous_More than_3_times</th>\n",
       "      <th>previous_Never contacted</th>\n",
       "      <th>poutcome_success</th>\n",
       "    </tr>\n",
       "  </thead>\n",
       "  <tbody>\n",
       "    <tr>\n",
       "      <th>14450</th>\n",
       "      <td>37</td>\n",
       "      <td>0.93</td>\n",
       "      <td>4</td>\n",
       "      <td>1.4</td>\n",
       "      <td>93.918</td>\n",
       "      <td>-42.7</td>\n",
       "      <td>4.961</td>\n",
       "      <td>5228.1</td>\n",
       "      <td>0</td>\n",
       "      <td>0</td>\n",
       "      <td>...</td>\n",
       "      <td>0</td>\n",
       "      <td>0</td>\n",
       "      <td>0</td>\n",
       "      <td>1</td>\n",
       "      <td>0</td>\n",
       "      <td>0</td>\n",
       "      <td>1</td>\n",
       "      <td>0</td>\n",
       "      <td>1</td>\n",
       "      <td>0</td>\n",
       "    </tr>\n",
       "    <tr>\n",
       "      <th>39042</th>\n",
       "      <td>71</td>\n",
       "      <td>5.85</td>\n",
       "      <td>1</td>\n",
       "      <td>-3.0</td>\n",
       "      <td>92.713</td>\n",
       "      <td>-33.0</td>\n",
       "      <td>0.715</td>\n",
       "      <td>5023.5</td>\n",
       "      <td>0</td>\n",
       "      <td>0</td>\n",
       "      <td>...</td>\n",
       "      <td>0</td>\n",
       "      <td>0</td>\n",
       "      <td>0</td>\n",
       "      <td>1</td>\n",
       "      <td>0</td>\n",
       "      <td>0</td>\n",
       "      <td>1</td>\n",
       "      <td>0</td>\n",
       "      <td>1</td>\n",
       "      <td>0</td>\n",
       "    </tr>\n",
       "    <tr>\n",
       "      <th>9459</th>\n",
       "      <td>42</td>\n",
       "      <td>2.90</td>\n",
       "      <td>1</td>\n",
       "      <td>1.4</td>\n",
       "      <td>94.465</td>\n",
       "      <td>-41.8</td>\n",
       "      <td>4.967</td>\n",
       "      <td>5228.1</td>\n",
       "      <td>0</td>\n",
       "      <td>0</td>\n",
       "      <td>...</td>\n",
       "      <td>0</td>\n",
       "      <td>0</td>\n",
       "      <td>0</td>\n",
       "      <td>0</td>\n",
       "      <td>0</td>\n",
       "      <td>0</td>\n",
       "      <td>1</td>\n",
       "      <td>0</td>\n",
       "      <td>1</td>\n",
       "      <td>0</td>\n",
       "    </tr>\n",
       "    <tr>\n",
       "      <th>23264</th>\n",
       "      <td>43</td>\n",
       "      <td>2.43</td>\n",
       "      <td>4</td>\n",
       "      <td>1.4</td>\n",
       "      <td>93.444</td>\n",
       "      <td>-36.1</td>\n",
       "      <td>4.964</td>\n",
       "      <td>5228.1</td>\n",
       "      <td>0</td>\n",
       "      <td>0</td>\n",
       "      <td>...</td>\n",
       "      <td>0</td>\n",
       "      <td>0</td>\n",
       "      <td>0</td>\n",
       "      <td>0</td>\n",
       "      <td>1</td>\n",
       "      <td>0</td>\n",
       "      <td>1</td>\n",
       "      <td>0</td>\n",
       "      <td>1</td>\n",
       "      <td>0</td>\n",
       "    </tr>\n",
       "    <tr>\n",
       "      <th>24062</th>\n",
       "      <td>42</td>\n",
       "      <td>10.25</td>\n",
       "      <td>1</td>\n",
       "      <td>-0.1</td>\n",
       "      <td>93.798</td>\n",
       "      <td>-40.4</td>\n",
       "      <td>4.760</td>\n",
       "      <td>5195.8</td>\n",
       "      <td>0</td>\n",
       "      <td>0</td>\n",
       "      <td>...</td>\n",
       "      <td>0</td>\n",
       "      <td>0</td>\n",
       "      <td>0</td>\n",
       "      <td>0</td>\n",
       "      <td>0</td>\n",
       "      <td>0</td>\n",
       "      <td>1</td>\n",
       "      <td>0</td>\n",
       "      <td>1</td>\n",
       "      <td>0</td>\n",
       "    </tr>\n",
       "  </tbody>\n",
       "</table>\n",
       "<p>5 rows × 45 columns</p>\n",
       "</div>"
      ],
      "text/plain": [
       "       age  duration  campaign  emp.var.rate  cons.price.idx  cons.conf.idx  \\\n",
       "14450   37      0.93         4           1.4          93.918          -42.7   \n",
       "39042   71      5.85         1          -3.0          92.713          -33.0   \n",
       "9459    42      2.90         1           1.4          94.465          -41.8   \n",
       "23264   43      2.43         4           1.4          93.444          -36.1   \n",
       "24062   42     10.25         1          -0.1          93.798          -40.4   \n",
       "\n",
       "       euribor3m  nr.employed  job_blue-collar  job_entrepreneur  ...  \\\n",
       "14450      4.961       5228.1                0                 0  ...   \n",
       "39042      0.715       5023.5                0                 0  ...   \n",
       "9459       4.967       5228.1                0                 0  ...   \n",
       "23264      4.964       5228.1                0                 0  ...   \n",
       "24062      4.760       5195.8                0                 0  ...   \n",
       "\n",
       "       month_sep  day_of_week_mon  day_of_week_thu  day_of_week_tue  \\\n",
       "14450          0                0                0                1   \n",
       "39042          0                0                0                1   \n",
       "9459           0                0                0                0   \n",
       "23264          0                0                0                0   \n",
       "24062          0                0                0                0   \n",
       "\n",
       "       day_of_week_wed  pdays_Contacted_in_first_10days  \\\n",
       "14450                0                                0   \n",
       "39042                0                                0   \n",
       "9459                 0                                0   \n",
       "23264                1                                0   \n",
       "24062                0                                0   \n",
       "\n",
       "       pdays_First_time_contacted  previous_More than_3_times  \\\n",
       "14450                           1                           0   \n",
       "39042                           1                           0   \n",
       "9459                            1                           0   \n",
       "23264                           1                           0   \n",
       "24062                           1                           0   \n",
       "\n",
       "       previous_Never contacted  poutcome_success  \n",
       "14450                         1                 0  \n",
       "39042                         1                 0  \n",
       "9459                          1                 0  \n",
       "23264                         1                 0  \n",
       "24062                         1                 0  \n",
       "\n",
       "[5 rows x 45 columns]"
      ]
     },
     "execution_count": 128,
     "metadata": {},
     "output_type": "execute_result"
    }
   ],
   "source": [
    "X_train.head()"
   ]
  },
  {
   "cell_type": "code",
   "execution_count": 129,
   "metadata": {},
   "outputs": [],
   "source": [
    "# Standardisation continuous features for X_train\n",
    "X_train_df = X_train[['age','campaign','emp.var.rate','cons.price.idx','cons.conf.idx','euribor3m','nr.employed']]"
   ]
  },
  {
   "cell_type": "code",
   "execution_count": 130,
   "metadata": {},
   "outputs": [],
   "source": [
    "std_X_train_df=(X_train_df-X_train_df.mean())/X_train_df.std()"
   ]
  },
  {
   "cell_type": "code",
   "execution_count": 131,
   "metadata": {},
   "outputs": [],
   "source": [
    "X_train = X_train.drop(['age','campaign','emp.var.rate','cons.price.idx','cons.conf.idx','euribor3m','nr.employed'], 1)"
   ]
  },
  {
   "cell_type": "code",
   "execution_count": 132,
   "metadata": {},
   "outputs": [],
   "source": [
    "X_train = pd.concat([X_train,std_X_train_df],axis=1)"
   ]
  },
  {
   "cell_type": "code",
   "execution_count": 133,
   "metadata": {},
   "outputs": [
    {
     "data": {
      "text/html": [
       "<div>\n",
       "<style scoped>\n",
       "    .dataframe tbody tr th:only-of-type {\n",
       "        vertical-align: middle;\n",
       "    }\n",
       "\n",
       "    .dataframe tbody tr th {\n",
       "        vertical-align: top;\n",
       "    }\n",
       "\n",
       "    .dataframe thead th {\n",
       "        text-align: right;\n",
       "    }\n",
       "</style>\n",
       "<table border=\"1\" class=\"dataframe\">\n",
       "  <thead>\n",
       "    <tr style=\"text-align: right;\">\n",
       "      <th></th>\n",
       "      <th>duration</th>\n",
       "      <th>job_blue-collar</th>\n",
       "      <th>job_entrepreneur</th>\n",
       "      <th>job_housemaid</th>\n",
       "      <th>job_management</th>\n",
       "      <th>job_retired</th>\n",
       "      <th>job_self-employed</th>\n",
       "      <th>job_services</th>\n",
       "      <th>job_student</th>\n",
       "      <th>job_technician</th>\n",
       "      <th>...</th>\n",
       "      <th>previous_More than_3_times</th>\n",
       "      <th>previous_Never contacted</th>\n",
       "      <th>poutcome_success</th>\n",
       "      <th>age</th>\n",
       "      <th>campaign</th>\n",
       "      <th>emp.var.rate</th>\n",
       "      <th>cons.price.idx</th>\n",
       "      <th>cons.conf.idx</th>\n",
       "      <th>euribor3m</th>\n",
       "      <th>nr.employed</th>\n",
       "    </tr>\n",
       "  </thead>\n",
       "  <tbody>\n",
       "    <tr>\n",
       "      <th>14450</th>\n",
       "      <td>0.93</td>\n",
       "      <td>0</td>\n",
       "      <td>0</td>\n",
       "      <td>1</td>\n",
       "      <td>0</td>\n",
       "      <td>0</td>\n",
       "      <td>0</td>\n",
       "      <td>0</td>\n",
       "      <td>0</td>\n",
       "      <td>0</td>\n",
       "      <td>...</td>\n",
       "      <td>0</td>\n",
       "      <td>1</td>\n",
       "      <td>0</td>\n",
       "      <td>-0.282207</td>\n",
       "      <td>0.657285</td>\n",
       "      <td>0.840356</td>\n",
       "      <td>0.599897</td>\n",
       "      <td>-0.470606</td>\n",
       "      <td>0.771713</td>\n",
       "      <td>0.846213</td>\n",
       "    </tr>\n",
       "    <tr>\n",
       "      <th>39042</th>\n",
       "      <td>5.85</td>\n",
       "      <td>0</td>\n",
       "      <td>0</td>\n",
       "      <td>0</td>\n",
       "      <td>0</td>\n",
       "      <td>1</td>\n",
       "      <td>0</td>\n",
       "      <td>0</td>\n",
       "      <td>0</td>\n",
       "      <td>0</td>\n",
       "      <td>...</td>\n",
       "      <td>0</td>\n",
       "      <td>1</td>\n",
       "      <td>0</td>\n",
       "      <td>3.093825</td>\n",
       "      <td>-0.650881</td>\n",
       "      <td>-1.970128</td>\n",
       "      <td>-1.491453</td>\n",
       "      <td>1.628942</td>\n",
       "      <td>-1.684313</td>\n",
       "      <td>-2.008177</td>\n",
       "    </tr>\n",
       "    <tr>\n",
       "      <th>9459</th>\n",
       "      <td>2.90</td>\n",
       "      <td>0</td>\n",
       "      <td>0</td>\n",
       "      <td>0</td>\n",
       "      <td>0</td>\n",
       "      <td>0</td>\n",
       "      <td>0</td>\n",
       "      <td>1</td>\n",
       "      <td>0</td>\n",
       "      <td>0</td>\n",
       "      <td>...</td>\n",
       "      <td>0</td>\n",
       "      <td>1</td>\n",
       "      <td>0</td>\n",
       "      <td>0.214268</td>\n",
       "      <td>-0.650881</td>\n",
       "      <td>0.840356</td>\n",
       "      <td>1.549249</td>\n",
       "      <td>-0.275803</td>\n",
       "      <td>0.775183</td>\n",
       "      <td>0.846213</td>\n",
       "    </tr>\n",
       "    <tr>\n",
       "      <th>23264</th>\n",
       "      <td>2.43</td>\n",
       "      <td>0</td>\n",
       "      <td>0</td>\n",
       "      <td>0</td>\n",
       "      <td>0</td>\n",
       "      <td>0</td>\n",
       "      <td>0</td>\n",
       "      <td>0</td>\n",
       "      <td>0</td>\n",
       "      <td>1</td>\n",
       "      <td>...</td>\n",
       "      <td>0</td>\n",
       "      <td>1</td>\n",
       "      <td>0</td>\n",
       "      <td>0.313564</td>\n",
       "      <td>0.657285</td>\n",
       "      <td>0.840356</td>\n",
       "      <td>-0.222758</td>\n",
       "      <td>0.957953</td>\n",
       "      <td>0.773448</td>\n",
       "      <td>0.846213</td>\n",
       "    </tr>\n",
       "    <tr>\n",
       "      <th>24062</th>\n",
       "      <td>10.25</td>\n",
       "      <td>0</td>\n",
       "      <td>0</td>\n",
       "      <td>0</td>\n",
       "      <td>1</td>\n",
       "      <td>0</td>\n",
       "      <td>0</td>\n",
       "      <td>0</td>\n",
       "      <td>0</td>\n",
       "      <td>0</td>\n",
       "      <td>...</td>\n",
       "      <td>0</td>\n",
       "      <td>1</td>\n",
       "      <td>0</td>\n",
       "      <td>0.214268</td>\n",
       "      <td>-0.650881</td>\n",
       "      <td>-0.117763</td>\n",
       "      <td>0.391630</td>\n",
       "      <td>0.027225</td>\n",
       "      <td>0.655448</td>\n",
       "      <td>0.395593</td>\n",
       "    </tr>\n",
       "  </tbody>\n",
       "</table>\n",
       "<p>5 rows × 45 columns</p>\n",
       "</div>"
      ],
      "text/plain": [
       "       duration  job_blue-collar  job_entrepreneur  job_housemaid  \\\n",
       "14450      0.93                0                 0              1   \n",
       "39042      5.85                0                 0              0   \n",
       "9459       2.90                0                 0              0   \n",
       "23264      2.43                0                 0              0   \n",
       "24062     10.25                0                 0              0   \n",
       "\n",
       "       job_management  job_retired  job_self-employed  job_services  \\\n",
       "14450               0            0                  0             0   \n",
       "39042               0            1                  0             0   \n",
       "9459                0            0                  0             1   \n",
       "23264               0            0                  0             0   \n",
       "24062               1            0                  0             0   \n",
       "\n",
       "       job_student  job_technician  ...  previous_More than_3_times  \\\n",
       "14450            0               0  ...                           0   \n",
       "39042            0               0  ...                           0   \n",
       "9459             0               0  ...                           0   \n",
       "23264            0               1  ...                           0   \n",
       "24062            0               0  ...                           0   \n",
       "\n",
       "       previous_Never contacted  poutcome_success       age  campaign  \\\n",
       "14450                         1                 0 -0.282207  0.657285   \n",
       "39042                         1                 0  3.093825 -0.650881   \n",
       "9459                          1                 0  0.214268 -0.650881   \n",
       "23264                         1                 0  0.313564  0.657285   \n",
       "24062                         1                 0  0.214268 -0.650881   \n",
       "\n",
       "       emp.var.rate  cons.price.idx  cons.conf.idx  euribor3m  nr.employed  \n",
       "14450      0.840356        0.599897      -0.470606   0.771713     0.846213  \n",
       "39042     -1.970128       -1.491453       1.628942  -1.684313    -2.008177  \n",
       "9459       0.840356        1.549249      -0.275803   0.775183     0.846213  \n",
       "23264      0.840356       -0.222758       0.957953   0.773448     0.846213  \n",
       "24062     -0.117763        0.391630       0.027225   0.655448     0.395593  \n",
       "\n",
       "[5 rows x 45 columns]"
      ]
     },
     "execution_count": 133,
     "metadata": {},
     "output_type": "execute_result"
    }
   ],
   "source": [
    "X_train.head()"
   ]
  },
  {
   "cell_type": "code",
   "execution_count": 134,
   "metadata": {},
   "outputs": [],
   "source": [
    "# Standardisation continuous features for X_train\n",
    "X_test_df = X_test[['age','campaign','emp.var.rate','cons.price.idx','cons.conf.idx','euribor3m','nr.employed']]"
   ]
  },
  {
   "cell_type": "code",
   "execution_count": 135,
   "metadata": {},
   "outputs": [],
   "source": [
    "std_X_test_df=(X_test_df-X_test_df.mean())/X_test_df.std()"
   ]
  },
  {
   "cell_type": "code",
   "execution_count": 136,
   "metadata": {},
   "outputs": [],
   "source": [
    "X_test = X_test.drop(['age','campaign','emp.var.rate','cons.price.idx','cons.conf.idx','euribor3m','nr.employed'], 1)"
   ]
  },
  {
   "cell_type": "code",
   "execution_count": 137,
   "metadata": {},
   "outputs": [],
   "source": [
    "X_test = pd.concat([X_test,std_X_test_df],axis=1)"
   ]
  },
  {
   "cell_type": "code",
   "execution_count": 138,
   "metadata": {},
   "outputs": [
    {
     "data": {
      "text/html": [
       "<div>\n",
       "<style scoped>\n",
       "    .dataframe tbody tr th:only-of-type {\n",
       "        vertical-align: middle;\n",
       "    }\n",
       "\n",
       "    .dataframe tbody tr th {\n",
       "        vertical-align: top;\n",
       "    }\n",
       "\n",
       "    .dataframe thead th {\n",
       "        text-align: right;\n",
       "    }\n",
       "</style>\n",
       "<table border=\"1\" class=\"dataframe\">\n",
       "  <thead>\n",
       "    <tr style=\"text-align: right;\">\n",
       "      <th></th>\n",
       "      <th>duration</th>\n",
       "      <th>job_blue-collar</th>\n",
       "      <th>job_entrepreneur</th>\n",
       "      <th>job_housemaid</th>\n",
       "      <th>job_management</th>\n",
       "      <th>job_retired</th>\n",
       "      <th>job_self-employed</th>\n",
       "      <th>job_services</th>\n",
       "      <th>job_student</th>\n",
       "      <th>job_technician</th>\n",
       "      <th>...</th>\n",
       "      <th>previous_More than_3_times</th>\n",
       "      <th>previous_Never contacted</th>\n",
       "      <th>poutcome_success</th>\n",
       "      <th>age</th>\n",
       "      <th>campaign</th>\n",
       "      <th>emp.var.rate</th>\n",
       "      <th>cons.price.idx</th>\n",
       "      <th>cons.conf.idx</th>\n",
       "      <th>euribor3m</th>\n",
       "      <th>nr.employed</th>\n",
       "    </tr>\n",
       "  </thead>\n",
       "  <tbody>\n",
       "    <tr>\n",
       "      <th>32054</th>\n",
       "      <td>5.67</td>\n",
       "      <td>1</td>\n",
       "      <td>0</td>\n",
       "      <td>0</td>\n",
       "      <td>0</td>\n",
       "      <td>0</td>\n",
       "      <td>0</td>\n",
       "      <td>0</td>\n",
       "      <td>0</td>\n",
       "      <td>0</td>\n",
       "      <td>...</td>\n",
       "      <td>0</td>\n",
       "      <td>1</td>\n",
       "      <td>0</td>\n",
       "      <td>-0.969033</td>\n",
       "      <td>-0.656530</td>\n",
       "      <td>-1.196959</td>\n",
       "      <td>-1.167817</td>\n",
       "      <td>-1.222274</td>\n",
       "      <td>-1.322568</td>\n",
       "      <td>-0.953818</td>\n",
       "    </tr>\n",
       "    <tr>\n",
       "      <th>2449</th>\n",
       "      <td>14.08</td>\n",
       "      <td>0</td>\n",
       "      <td>0</td>\n",
       "      <td>0</td>\n",
       "      <td>0</td>\n",
       "      <td>0</td>\n",
       "      <td>0</td>\n",
       "      <td>0</td>\n",
       "      <td>0</td>\n",
       "      <td>1</td>\n",
       "      <td>...</td>\n",
       "      <td>0</td>\n",
       "      <td>1</td>\n",
       "      <td>0</td>\n",
       "      <td>0.523539</td>\n",
       "      <td>-0.656530</td>\n",
       "      <td>0.647539</td>\n",
       "      <td>0.731393</td>\n",
       "      <td>0.893596</td>\n",
       "      <td>0.712998</td>\n",
       "      <td>0.327488</td>\n",
       "    </tr>\n",
       "    <tr>\n",
       "      <th>15625</th>\n",
       "      <td>1.83</td>\n",
       "      <td>1</td>\n",
       "      <td>0</td>\n",
       "      <td>0</td>\n",
       "      <td>0</td>\n",
       "      <td>0</td>\n",
       "      <td>0</td>\n",
       "      <td>0</td>\n",
       "      <td>0</td>\n",
       "      <td>0</td>\n",
       "      <td>...</td>\n",
       "      <td>0</td>\n",
       "      <td>1</td>\n",
       "      <td>0</td>\n",
       "      <td>-1.765071</td>\n",
       "      <td>1.948505</td>\n",
       "      <td>0.838350</td>\n",
       "      <td>0.600294</td>\n",
       "      <td>-0.466606</td>\n",
       "      <td>0.772986</td>\n",
       "      <td>0.844751</td>\n",
       "    </tr>\n",
       "    <tr>\n",
       "      <th>16602</th>\n",
       "      <td>4.32</td>\n",
       "      <td>0</td>\n",
       "      <td>0</td>\n",
       "      <td>0</td>\n",
       "      <td>0</td>\n",
       "      <td>0</td>\n",
       "      <td>0</td>\n",
       "      <td>0</td>\n",
       "      <td>0</td>\n",
       "      <td>1</td>\n",
       "      <td>...</td>\n",
       "      <td>0</td>\n",
       "      <td>1</td>\n",
       "      <td>0</td>\n",
       "      <td>-1.068538</td>\n",
       "      <td>-0.656530</td>\n",
       "      <td>0.838350</td>\n",
       "      <td>0.600294</td>\n",
       "      <td>-0.466606</td>\n",
       "      <td>0.774717</td>\n",
       "      <td>0.844751</td>\n",
       "    </tr>\n",
       "    <tr>\n",
       "      <th>20047</th>\n",
       "      <td>2.40</td>\n",
       "      <td>0</td>\n",
       "      <td>0</td>\n",
       "      <td>0</td>\n",
       "      <td>0</td>\n",
       "      <td>0</td>\n",
       "      <td>0</td>\n",
       "      <td>0</td>\n",
       "      <td>0</td>\n",
       "      <td>0</td>\n",
       "      <td>...</td>\n",
       "      <td>0</td>\n",
       "      <td>1</td>\n",
       "      <td>0</td>\n",
       "      <td>0.026015</td>\n",
       "      <td>-0.656530</td>\n",
       "      <td>0.838350</td>\n",
       "      <td>-0.217349</td>\n",
       "      <td>0.958367</td>\n",
       "      <td>0.775870</td>\n",
       "      <td>0.844751</td>\n",
       "    </tr>\n",
       "  </tbody>\n",
       "</table>\n",
       "<p>5 rows × 45 columns</p>\n",
       "</div>"
      ],
      "text/plain": [
       "       duration  job_blue-collar  job_entrepreneur  job_housemaid  \\\n",
       "32054      5.67                1                 0              0   \n",
       "2449      14.08                0                 0              0   \n",
       "15625      1.83                1                 0              0   \n",
       "16602      4.32                0                 0              0   \n",
       "20047      2.40                0                 0              0   \n",
       "\n",
       "       job_management  job_retired  job_self-employed  job_services  \\\n",
       "32054               0            0                  0             0   \n",
       "2449                0            0                  0             0   \n",
       "15625               0            0                  0             0   \n",
       "16602               0            0                  0             0   \n",
       "20047               0            0                  0             0   \n",
       "\n",
       "       job_student  job_technician  ...  previous_More than_3_times  \\\n",
       "32054            0               0  ...                           0   \n",
       "2449             0               1  ...                           0   \n",
       "15625            0               0  ...                           0   \n",
       "16602            0               1  ...                           0   \n",
       "20047            0               0  ...                           0   \n",
       "\n",
       "       previous_Never contacted  poutcome_success       age  campaign  \\\n",
       "32054                         1                 0 -0.969033 -0.656530   \n",
       "2449                          1                 0  0.523539 -0.656530   \n",
       "15625                         1                 0 -1.765071  1.948505   \n",
       "16602                         1                 0 -1.068538 -0.656530   \n",
       "20047                         1                 0  0.026015 -0.656530   \n",
       "\n",
       "       emp.var.rate  cons.price.idx  cons.conf.idx  euribor3m  nr.employed  \n",
       "32054     -1.196959       -1.167817      -1.222274  -1.322568    -0.953818  \n",
       "2449       0.647539        0.731393       0.893596   0.712998     0.327488  \n",
       "15625      0.838350        0.600294      -0.466606   0.772986     0.844751  \n",
       "16602      0.838350        0.600294      -0.466606   0.774717     0.844751  \n",
       "20047      0.838350       -0.217349       0.958367   0.775870     0.844751  \n",
       "\n",
       "[5 rows x 45 columns]"
      ]
     },
     "execution_count": 138,
     "metadata": {},
     "output_type": "execute_result"
    }
   ],
   "source": [
    "X_test.head()"
   ]
  },
  {
   "cell_type": "code",
   "execution_count": 139,
   "metadata": {},
   "outputs": [],
   "source": [
    "import statsmodels.api as sm"
   ]
  },
  {
   "cell_type": "markdown",
   "metadata": {},
   "source": [
    "### Modelling- Logistic Regression\n",
    "\n",
    "Now that the data preparation step is complete, we will jump straight into Logistic Regression modelling"
   ]
  },
  {
   "cell_type": "code",
   "execution_count": 140,
   "metadata": {},
   "outputs": [],
   "source": [
    "# Importing LogisticRegression and metrics from sklearn library\n",
    "from sklearn.linear_model import LogisticRegression\n",
    "from sklearn import metrics"
   ]
  },
  {
   "cell_type": "code",
   "execution_count": 141,
   "metadata": {
    "scrolled": true
   },
   "outputs": [
    {
     "data": {
      "text/plain": [
       "LogisticRegression(C=1.0, class_weight=None, dual=False, fit_intercept=True,\n",
       "                   intercept_scaling=1, l1_ratio=None, max_iter=100,\n",
       "                   multi_class='warn', n_jobs=None, penalty='l2',\n",
       "                   random_state=None, solver='warn', tol=0.0001, verbose=0,\n",
       "                   warm_start=False)"
      ]
     },
     "execution_count": 141,
     "metadata": {},
     "output_type": "execute_result"
    }
   ],
   "source": [
    "# Fitting the model\n",
    "logreg = LogisticRegression()\n",
    "logreg.fit(X_train, y_train)"
   ]
  },
  {
   "cell_type": "code",
   "execution_count": 142,
   "metadata": {},
   "outputs": [
    {
     "data": {
      "text/html": [
       "<table class=\"simpletable\">\n",
       "<caption>Generalized Linear Model Regression Results</caption>\n",
       "<tr>\n",
       "  <th>Dep. Variable:</th>       <td>response</td>     <th>  No. Observations:  </th>  <td> 27575</td> \n",
       "</tr>\n",
       "<tr>\n",
       "  <th>Model:</th>                  <td>GLM</td>       <th>  Df Residuals:      </th>  <td> 27529</td> \n",
       "</tr>\n",
       "<tr>\n",
       "  <th>Model Family:</th>        <td>Binomial</td>     <th>  Df Model:          </th>  <td>    45</td> \n",
       "</tr>\n",
       "<tr>\n",
       "  <th>Link Function:</th>         <td>logit</td>      <th>  Scale:             </th> <td>  1.0000</td>\n",
       "</tr>\n",
       "<tr>\n",
       "  <th>Method:</th>                <td>IRLS</td>       <th>  Log-Likelihood:    </th> <td> -5688.9</td>\n",
       "</tr>\n",
       "<tr>\n",
       "  <th>Date:</th>            <td>Wed, 06 Nov 2019</td> <th>  Deviance:          </th> <td>  11378.</td>\n",
       "</tr>\n",
       "<tr>\n",
       "  <th>Time:</th>                <td>22:49:19</td>     <th>  Pearson chi2:      </th> <td>6.84e+07</td>\n",
       "</tr>\n",
       "<tr>\n",
       "  <th>No. Iterations:</th>         <td>20</td>        <th>                     </th>     <td> </td>   \n",
       "</tr>\n",
       "<tr>\n",
       "  <th>Covariance Type:</th>     <td>nonrobust</td>    <th>                     </th>     <td> </td>   \n",
       "</tr>\n",
       "</table>\n",
       "<table class=\"simpletable\">\n",
       "<tr>\n",
       "                 <td></td>                    <th>coef</th>     <th>std err</th>      <th>z</th>      <th>P>|z|</th>  <th>[0.025</th>    <th>0.975]</th>  \n",
       "</tr>\n",
       "<tr>\n",
       "  <th>const</th>                           <td>   -3.9638</td> <td>    0.329</td> <td>  -12.053</td> <td> 0.000</td> <td>   -4.608</td> <td>   -3.319</td>\n",
       "</tr>\n",
       "<tr>\n",
       "  <th>duration</th>                        <td>    0.2804</td> <td>    0.005</td> <td>   51.476</td> <td> 0.000</td> <td>    0.270</td> <td>    0.291</td>\n",
       "</tr>\n",
       "<tr>\n",
       "  <th>job_blue-collar</th>                 <td>   -0.1752</td> <td>    0.098</td> <td>   -1.786</td> <td> 0.074</td> <td>   -0.367</td> <td>    0.017</td>\n",
       "</tr>\n",
       "<tr>\n",
       "  <th>job_entrepreneur</th>                <td>   -0.0028</td> <td>    0.153</td> <td>   -0.018</td> <td> 0.985</td> <td>   -0.303</td> <td>    0.297</td>\n",
       "</tr>\n",
       "<tr>\n",
       "  <th>job_housemaid</th>                   <td>    0.0433</td> <td>    0.174</td> <td>    0.248</td> <td> 0.804</td> <td>   -0.299</td> <td>    0.385</td>\n",
       "</tr>\n",
       "<tr>\n",
       "  <th>job_management</th>                  <td>    0.0358</td> <td>    0.104</td> <td>    0.344</td> <td> 0.731</td> <td>   -0.169</td> <td>    0.240</td>\n",
       "</tr>\n",
       "<tr>\n",
       "  <th>job_retired</th>                     <td>    0.3280</td> <td>    0.129</td> <td>    2.542</td> <td> 0.011</td> <td>    0.075</td> <td>    0.581</td>\n",
       "</tr>\n",
       "<tr>\n",
       "  <th>job_self-employed</th>               <td>    0.0297</td> <td>    0.140</td> <td>    0.212</td> <td> 0.832</td> <td>   -0.244</td> <td>    0.304</td>\n",
       "</tr>\n",
       "<tr>\n",
       "  <th>job_services</th>                    <td>   -0.2343</td> <td>    0.107</td> <td>   -2.196</td> <td> 0.028</td> <td>   -0.444</td> <td>   -0.025</td>\n",
       "</tr>\n",
       "<tr>\n",
       "  <th>job_student</th>                     <td>    0.1746</td> <td>    0.138</td> <td>    1.266</td> <td> 0.205</td> <td>   -0.096</td> <td>    0.445</td>\n",
       "</tr>\n",
       "<tr>\n",
       "  <th>job_technician</th>                  <td>    0.0782</td> <td>    0.087</td> <td>    0.893</td> <td> 0.372</td> <td>   -0.093</td> <td>    0.250</td>\n",
       "</tr>\n",
       "<tr>\n",
       "  <th>job_unemployed</th>                  <td>    0.0105</td> <td>    0.156</td> <td>    0.067</td> <td> 0.946</td> <td>   -0.295</td> <td>    0.316</td>\n",
       "</tr>\n",
       "<tr>\n",
       "  <th>marital_married</th>                 <td>    0.0167</td> <td>    0.084</td> <td>    0.200</td> <td> 0.842</td> <td>   -0.147</td> <td>    0.181</td>\n",
       "</tr>\n",
       "<tr>\n",
       "  <th>marital_single</th>                  <td>   -0.0018</td> <td>    0.096</td> <td>   -0.019</td> <td> 0.985</td> <td>   -0.189</td> <td>    0.186</td>\n",
       "</tr>\n",
       "<tr>\n",
       "  <th>education_Secondary_Education</th>   <td>    0.0547</td> <td>    0.083</td> <td>    0.659</td> <td> 0.510</td> <td>   -0.108</td> <td>    0.217</td>\n",
       "</tr>\n",
       "<tr>\n",
       "  <th>education_Tertiary_Education</th>    <td>    0.1627</td> <td>    0.085</td> <td>    1.921</td> <td> 0.055</td> <td>   -0.003</td> <td>    0.329</td>\n",
       "</tr>\n",
       "<tr>\n",
       "  <th>education_professional.course</th>   <td>    0.0655</td> <td>    0.100</td> <td>    0.656</td> <td> 0.512</td> <td>   -0.130</td> <td>    0.261</td>\n",
       "</tr>\n",
       "<tr>\n",
       "  <th>default_yes</th>                     <td>  -17.3176</td> <td> 1.68e+04</td> <td>   -0.001</td> <td> 0.999</td> <td> -3.3e+04</td> <td>  3.3e+04</td>\n",
       "</tr>\n",
       "<tr>\n",
       "  <th>housing_yes</th>                     <td>    0.0170</td> <td>    0.050</td> <td>    0.339</td> <td> 0.734</td> <td>   -0.081</td> <td>    0.115</td>\n",
       "</tr>\n",
       "<tr>\n",
       "  <th>loan_yes</th>                        <td>    0.0118</td> <td>    0.069</td> <td>    0.170</td> <td> 0.865</td> <td>   -0.124</td> <td>    0.148</td>\n",
       "</tr>\n",
       "<tr>\n",
       "  <th>contact_telephone</th>               <td>   -0.6716</td> <td>    0.096</td> <td>   -7.024</td> <td> 0.000</td> <td>   -0.859</td> <td>   -0.484</td>\n",
       "</tr>\n",
       "<tr>\n",
       "  <th>month_aug</th>                       <td>    0.8706</td> <td>    0.150</td> <td>    5.793</td> <td> 0.000</td> <td>    0.576</td> <td>    1.165</td>\n",
       "</tr>\n",
       "<tr>\n",
       "  <th>month_dec</th>                       <td>    0.3235</td> <td>    0.262</td> <td>    1.233</td> <td> 0.218</td> <td>   -0.191</td> <td>    0.838</td>\n",
       "</tr>\n",
       "<tr>\n",
       "  <th>month_jul</th>                       <td>    0.0975</td> <td>    0.120</td> <td>    0.814</td> <td> 0.415</td> <td>   -0.137</td> <td>    0.332</td>\n",
       "</tr>\n",
       "<tr>\n",
       "  <th>month_jun</th>                       <td>   -0.4718</td> <td>    0.155</td> <td>   -3.046</td> <td> 0.002</td> <td>   -0.775</td> <td>   -0.168</td>\n",
       "</tr>\n",
       "<tr>\n",
       "  <th>month_mar</th>                       <td>    2.0428</td> <td>    0.178</td> <td>   11.454</td> <td> 0.000</td> <td>    1.693</td> <td>    2.392</td>\n",
       "</tr>\n",
       "<tr>\n",
       "  <th>month_may</th>                       <td>   -0.4620</td> <td>    0.102</td> <td>   -4.551</td> <td> 0.000</td> <td>   -0.661</td> <td>   -0.263</td>\n",
       "</tr>\n",
       "<tr>\n",
       "  <th>month_nov</th>                       <td>   -0.3834</td> <td>    0.148</td> <td>   -2.593</td> <td> 0.010</td> <td>   -0.673</td> <td>   -0.094</td>\n",
       "</tr>\n",
       "<tr>\n",
       "  <th>month_oct</th>                       <td>    0.1978</td> <td>    0.189</td> <td>    1.045</td> <td> 0.296</td> <td>   -0.173</td> <td>    0.569</td>\n",
       "</tr>\n",
       "<tr>\n",
       "  <th>month_sep</th>                       <td>    0.3543</td> <td>    0.221</td> <td>    1.600</td> <td> 0.110</td> <td>   -0.080</td> <td>    0.788</td>\n",
       "</tr>\n",
       "<tr>\n",
       "  <th>day_of_week_mon</th>                 <td>   -0.1098</td> <td>    0.081</td> <td>   -1.364</td> <td> 0.173</td> <td>   -0.268</td> <td>    0.048</td>\n",
       "</tr>\n",
       "<tr>\n",
       "  <th>day_of_week_thu</th>                 <td>    0.0468</td> <td>    0.079</td> <td>    0.595</td> <td> 0.552</td> <td>   -0.107</td> <td>    0.201</td>\n",
       "</tr>\n",
       "<tr>\n",
       "  <th>day_of_week_tue</th>                 <td>    0.0482</td> <td>    0.081</td> <td>    0.596</td> <td> 0.551</td> <td>   -0.110</td> <td>    0.207</td>\n",
       "</tr>\n",
       "<tr>\n",
       "  <th>day_of_week_wed</th>                 <td>    0.1198</td> <td>    0.081</td> <td>    1.475</td> <td> 0.140</td> <td>   -0.039</td> <td>    0.279</td>\n",
       "</tr>\n",
       "<tr>\n",
       "  <th>pdays_Contacted_in_first_10days</th> <td>    0.2942</td> <td>    0.237</td> <td>    1.241</td> <td> 0.215</td> <td>   -0.170</td> <td>    0.759</td>\n",
       "</tr>\n",
       "<tr>\n",
       "  <th>pdays_First_time_contacted</th>      <td>   -0.6315</td> <td>    0.291</td> <td>   -2.172</td> <td> 0.030</td> <td>   -1.201</td> <td>   -0.062</td>\n",
       "</tr>\n",
       "<tr>\n",
       "  <th>previous_More than_3_times</th>      <td>   -0.4377</td> <td>    0.315</td> <td>   -1.387</td> <td> 0.165</td> <td>   -1.056</td> <td>    0.181</td>\n",
       "</tr>\n",
       "<tr>\n",
       "  <th>previous_Never contacted</th>        <td>    0.5005</td> <td>    0.079</td> <td>    6.322</td> <td> 0.000</td> <td>    0.345</td> <td>    0.656</td>\n",
       "</tr>\n",
       "<tr>\n",
       "  <th>poutcome_success</th>                <td>    1.0620</td> <td>    0.262</td> <td>    4.056</td> <td> 0.000</td> <td>    0.549</td> <td>    1.575</td>\n",
       "</tr>\n",
       "<tr>\n",
       "  <th>age</th>                             <td>   -0.0415</td> <td>    0.031</td> <td>   -1.354</td> <td> 0.176</td> <td>   -0.102</td> <td>    0.019</td>\n",
       "</tr>\n",
       "<tr>\n",
       "  <th>campaign</th>                        <td>   -0.0943</td> <td>    0.034</td> <td>   -2.759</td> <td> 0.006</td> <td>   -0.161</td> <td>   -0.027</td>\n",
       "</tr>\n",
       "<tr>\n",
       "  <th>emp.var.rate</th>                    <td>   -2.5164</td> <td>    0.274</td> <td>   -9.189</td> <td> 0.000</td> <td>   -3.053</td> <td>   -1.980</td>\n",
       "</tr>\n",
       "<tr>\n",
       "  <th>cons.price.idx</th>                  <td>    1.1644</td> <td>    0.178</td> <td>    6.534</td> <td> 0.000</td> <td>    0.815</td> <td>    1.514</td>\n",
       "</tr>\n",
       "<tr>\n",
       "  <th>cons.conf.idx</th>                   <td>    0.1108</td> <td>    0.045</td> <td>    2.477</td> <td> 0.013</td> <td>    0.023</td> <td>    0.199</td>\n",
       "</tr>\n",
       "<tr>\n",
       "  <th>euribor3m</th>                       <td>    0.4855</td> <td>    0.278</td> <td>    1.744</td> <td> 0.081</td> <td>   -0.060</td> <td>    1.031</td>\n",
       "</tr>\n",
       "<tr>\n",
       "  <th>nr.employed</th>                     <td>    0.3043</td> <td>    0.273</td> <td>    1.114</td> <td> 0.265</td> <td>   -0.231</td> <td>    0.840</td>\n",
       "</tr>\n",
       "</table>"
      ],
      "text/plain": [
       "<class 'statsmodels.iolib.summary.Summary'>\n",
       "\"\"\"\n",
       "                 Generalized Linear Model Regression Results                  \n",
       "==============================================================================\n",
       "Dep. Variable:               response   No. Observations:                27575\n",
       "Model:                            GLM   Df Residuals:                    27529\n",
       "Model Family:                Binomial   Df Model:                           45\n",
       "Link Function:                  logit   Scale:                          1.0000\n",
       "Method:                          IRLS   Log-Likelihood:                -5688.9\n",
       "Date:                Wed, 06 Nov 2019   Deviance:                       11378.\n",
       "Time:                        22:49:19   Pearson chi2:                 6.84e+07\n",
       "No. Iterations:                    20                                         \n",
       "Covariance Type:            nonrobust                                         \n",
       "===================================================================================================\n",
       "                                      coef    std err          z      P>|z|      [0.025      0.975]\n",
       "---------------------------------------------------------------------------------------------------\n",
       "const                              -3.9638      0.329    -12.053      0.000      -4.608      -3.319\n",
       "duration                            0.2804      0.005     51.476      0.000       0.270       0.291\n",
       "job_blue-collar                    -0.1752      0.098     -1.786      0.074      -0.367       0.017\n",
       "job_entrepreneur                   -0.0028      0.153     -0.018      0.985      -0.303       0.297\n",
       "job_housemaid                       0.0433      0.174      0.248      0.804      -0.299       0.385\n",
       "job_management                      0.0358      0.104      0.344      0.731      -0.169       0.240\n",
       "job_retired                         0.3280      0.129      2.542      0.011       0.075       0.581\n",
       "job_self-employed                   0.0297      0.140      0.212      0.832      -0.244       0.304\n",
       "job_services                       -0.2343      0.107     -2.196      0.028      -0.444      -0.025\n",
       "job_student                         0.1746      0.138      1.266      0.205      -0.096       0.445\n",
       "job_technician                      0.0782      0.087      0.893      0.372      -0.093       0.250\n",
       "job_unemployed                      0.0105      0.156      0.067      0.946      -0.295       0.316\n",
       "marital_married                     0.0167      0.084      0.200      0.842      -0.147       0.181\n",
       "marital_single                     -0.0018      0.096     -0.019      0.985      -0.189       0.186\n",
       "education_Secondary_Education       0.0547      0.083      0.659      0.510      -0.108       0.217\n",
       "education_Tertiary_Education        0.1627      0.085      1.921      0.055      -0.003       0.329\n",
       "education_professional.course       0.0655      0.100      0.656      0.512      -0.130       0.261\n",
       "default_yes                       -17.3176   1.68e+04     -0.001      0.999    -3.3e+04     3.3e+04\n",
       "housing_yes                         0.0170      0.050      0.339      0.734      -0.081       0.115\n",
       "loan_yes                            0.0118      0.069      0.170      0.865      -0.124       0.148\n",
       "contact_telephone                  -0.6716      0.096     -7.024      0.000      -0.859      -0.484\n",
       "month_aug                           0.8706      0.150      5.793      0.000       0.576       1.165\n",
       "month_dec                           0.3235      0.262      1.233      0.218      -0.191       0.838\n",
       "month_jul                           0.0975      0.120      0.814      0.415      -0.137       0.332\n",
       "month_jun                          -0.4718      0.155     -3.046      0.002      -0.775      -0.168\n",
       "month_mar                           2.0428      0.178     11.454      0.000       1.693       2.392\n",
       "month_may                          -0.4620      0.102     -4.551      0.000      -0.661      -0.263\n",
       "month_nov                          -0.3834      0.148     -2.593      0.010      -0.673      -0.094\n",
       "month_oct                           0.1978      0.189      1.045      0.296      -0.173       0.569\n",
       "month_sep                           0.3543      0.221      1.600      0.110      -0.080       0.788\n",
       "day_of_week_mon                    -0.1098      0.081     -1.364      0.173      -0.268       0.048\n",
       "day_of_week_thu                     0.0468      0.079      0.595      0.552      -0.107       0.201\n",
       "day_of_week_tue                     0.0482      0.081      0.596      0.551      -0.110       0.207\n",
       "day_of_week_wed                     0.1198      0.081      1.475      0.140      -0.039       0.279\n",
       "pdays_Contacted_in_first_10days     0.2942      0.237      1.241      0.215      -0.170       0.759\n",
       "pdays_First_time_contacted         -0.6315      0.291     -2.172      0.030      -1.201      -0.062\n",
       "previous_More than_3_times         -0.4377      0.315     -1.387      0.165      -1.056       0.181\n",
       "previous_Never contacted            0.5005      0.079      6.322      0.000       0.345       0.656\n",
       "poutcome_success                    1.0620      0.262      4.056      0.000       0.549       1.575\n",
       "age                                -0.0415      0.031     -1.354      0.176      -0.102       0.019\n",
       "campaign                           -0.0943      0.034     -2.759      0.006      -0.161      -0.027\n",
       "emp.var.rate                       -2.5164      0.274     -9.189      0.000      -3.053      -1.980\n",
       "cons.price.idx                      1.1644      0.178      6.534      0.000       0.815       1.514\n",
       "cons.conf.idx                       0.1108      0.045      2.477      0.013       0.023       0.199\n",
       "euribor3m                           0.4855      0.278      1.744      0.081      -0.060       1.031\n",
       "nr.employed                         0.3043      0.273      1.114      0.265      -0.231       0.840\n",
       "===================================================================================================\n",
       "\"\"\""
      ]
     },
     "execution_count": 142,
     "metadata": {},
     "output_type": "execute_result"
    }
   ],
   "source": [
    "# Logistic regression model\n",
    "X_train_sm = sm.add_constant(X_train)\n",
    "logm1 = sm.GLM(y_train,(sm.add_constant(X_train)), family = sm.families.Binomial())\n",
    "res = logm1.fit()\n",
    "res.summary()"
   ]
  },
  {
   "cell_type": "code",
   "execution_count": 143,
   "metadata": {},
   "outputs": [],
   "source": [
    "from sklearn.pipeline import Pipeline\n",
    "from sklearn.decomposition import PCA\n",
    "from sklearn.metrics import confusion_matrix\n",
    "from imblearn.metrics import sensitivity_specificity_support\n",
    "from sklearn.metrics import roc_auc_score\n",
    "from sklearn.model_selection import StratifiedKFold\n",
    "from sklearn.model_selection import GridSearchCV\n",
    "from sklearn.ensemble import RandomForestClassifier"
   ]
  },
  {
   "cell_type": "markdown",
   "metadata": {},
   "source": [
    "#### Principal Component Analysis"
   ]
  },
  {
   "cell_type": "code",
   "execution_count": 144,
   "metadata": {},
   "outputs": [],
   "source": [
    "pca = PCA()\n",
    "pca.fit(X_train)\n",
    "churn_pca = pca.fit_transform(X_train)"
   ]
  },
  {
   "cell_type": "code",
   "execution_count": 145,
   "metadata": {},
   "outputs": [
    {
     "name": "stdout",
     "output_type": "stream",
     "text": [
      "0      63.56\n",
      "1      75.80\n",
      "2      79.85\n",
      "3      83.19\n",
      "4      86.23\n",
      "5      88.38\n",
      "6      89.62\n",
      "7      90.61\n",
      "8      91.49\n",
      "9      92.33\n",
      "10     93.06\n",
      "11     93.77\n",
      "12     94.45\n",
      "13     95.12\n",
      "14     95.79\n",
      "15     96.35\n",
      "16     96.78\n",
      "17     97.19\n",
      "18     97.58\n",
      "19     97.85\n",
      "20     98.12\n",
      "21     98.34\n",
      "22     98.53\n",
      "23     98.69\n",
      "24     98.85\n",
      "25     99.00\n",
      "26     99.13\n",
      "27     99.25\n",
      "28     99.37\n",
      "29     99.48\n",
      "30     99.58\n",
      "31     99.66\n",
      "32     99.73\n",
      "33     99.79\n",
      "34     99.84\n",
      "35     99.89\n",
      "36     99.93\n",
      "37     99.95\n",
      "38     99.96\n",
      "39     99.97\n",
      "40     99.98\n",
      "41     99.99\n",
      "42    100.00\n",
      "43    100.00\n",
      "44    100.00\n",
      "dtype: float64\n"
     ]
    }
   ],
   "source": [
    "print(pd.Series(np.round(pca.explained_variance_ratio_.cumsum(), 4)*100))"
   ]
  },
  {
   "cell_type": "code",
   "execution_count": 146,
   "metadata": {
    "scrolled": false
   },
   "outputs": [
    {
     "data": {
      "text/plain": [
       "[<matplotlib.lines.Line2D at 0x1cd87c83a20>]"
      ]
     },
     "execution_count": 146,
     "metadata": {},
     "output_type": "execute_result"
    },
    {
     "data": {
      "image/png": "[encoded data removed]",
      "text/plain": [
       "<Figure size 630x360 with 1 Axes>"
      ]
     },
     "metadata": {
      "needs_background": "light"
     },
     "output_type": "display_data"
    }
   ],
   "source": [
    "# plot feature variance\n",
    "features = range(pca.n_components_)\n",
    "cumulative_variance = np.round(np.cumsum(pca.explained_variance_ratio_)*100, decimals=4)\n",
    "plt.figure(figsize=(175/20,100/20)) # 100 elements on y-axis; 175 elements on x-axis; 20 is normalising factor\n",
    "plt.plot(cumulative_variance)"
   ]
  },
  {
   "cell_type": "code",
   "execution_count": 147,
   "metadata": {},
   "outputs": [],
   "source": [
    "# create pipeline\n",
    "PCA_VARS = 16\n",
    "steps = [(\"pca\", PCA(n_components=PCA_VARS)),\n",
    "         (\"logistic\", LogisticRegression(class_weight='balanced'))\n",
    "        ]\n",
    "pipeline = Pipeline(steps)"
   ]
  },
  {
   "cell_type": "code",
   "execution_count": 148,
   "metadata": {},
   "outputs": [
    {
     "data": {
      "text/plain": [
       "0.8522212148685403"
      ]
     },
     "execution_count": 148,
     "metadata": {},
     "output_type": "execute_result"
    }
   ],
   "source": [
    "# fit model\n",
    "pipeline.fit(X_train, y_train)\n",
    "\n",
    "# check score on train data\n",
    "pipeline.score(X_train, y_train)"
   ]
  },
  {
   "cell_type": "code",
   "execution_count": 149,
   "metadata": {},
   "outputs": [
    {
     "name": "stdout",
     "output_type": "stream",
     "text": [
      "[[8939 1534]\n",
      " [ 160 1186]]\n",
      "Sensitivity: \t0.88\n",
      "Specificity: \t0.85\n",
      "AUC:    \t 0.93\n"
     ]
    }
   ],
   "source": [
    "# predict churn on test data\n",
    "y_pred = pipeline.predict(X_test)\n",
    "\n",
    "# create onfusion matrix\n",
    "cm = confusion_matrix(y_test, y_pred)\n",
    "print(cm)\n",
    "\n",
    "# check sensitivity and specificity\n",
    "sensitivity, specificity, _ = sensitivity_specificity_support(y_test, y_pred, average='binary')\n",
    "print(\"Sensitivity: \\t\", round(sensitivity, 2), \"\\n\", \"Specificity: \\t\", round(specificity, 2), sep='')\n",
    "\n",
    "# check area under curve\n",
    "y_pred_prob = pipeline.predict_proba(X_test)[:, 1]\n",
    "print(\"AUC:    \\t\", round(roc_auc_score(y_test, y_pred_prob),2))"
   ]
  },
  {
   "cell_type": "code",
   "execution_count": 150,
   "metadata": {},
   "outputs": [
    {
     "data": {
      "text/plain": [
       "0    0.889683\n",
       "1    0.110317\n",
       "Name: response, dtype: float64"
      ]
     },
     "execution_count": 150,
     "metadata": {},
     "output_type": "execute_result"
    }
   ],
   "source": [
    "# class imbalance\n",
    "y_train.value_counts()/y_train.shape"
   ]
  },
  {
   "cell_type": "code",
   "execution_count": 151,
   "metadata": {},
   "outputs": [],
   "source": [
    "# PCA\n",
    "pca = PCA()\n",
    "\n",
    "# logistic regression - the class weight is used to handle class imbalance - it adjusts the cost function\n",
    "logistic = LogisticRegression(class_weight='balanced')\n",
    "\n",
    "# create pipeline\n",
    "steps = [(\"pca\", pca),\n",
    "         (\"logistic\", logistic)\n",
    "        ]\n",
    "\n",
    "# compile pipeline\n",
    "pca_logistic = Pipeline(steps)\n",
    "\n",
    "# hyperparameter space\n",
    "params = {'pca__n_components': [16,17,18,19,20], 'logistic__C': [0.1, 0.5, 1, 2, 3, 4, 5, 10], 'logistic__penalty': ['l1', 'l2']}\n",
    "\n",
    "# create 5 folds\n",
    "folds = StratifiedKFold(n_splits = 5, shuffle = True, random_state = 4)\n",
    "\n",
    "# create gridsearch object\n",
    "model = GridSearchCV(estimator=pca_logistic, cv=folds, param_grid=params, scoring='roc_auc')"
   ]
  },
  {
   "cell_type": "code",
   "execution_count": 152,
   "metadata": {
    "scrolled": true
   },
   "outputs": [
    {
     "data": {
      "text/plain": [
       "GridSearchCV(cv=StratifiedKFold(n_splits=5, random_state=4, shuffle=True),\n",
       "             error_score='raise-deprecating',\n",
       "             estimator=Pipeline(memory=None,\n",
       "                                steps=[('pca',\n",
       "                                        PCA(copy=True, iterated_power='auto',\n",
       "                                            n_components=None,\n",
       "                                            random_state=None,\n",
       "                                            svd_solver='auto', tol=0.0,\n",
       "                                            whiten=False)),\n",
       "                                       ('logistic',\n",
       "                                        LogisticRegression(C=1.0,\n",
       "                                                           class_weight='balanced',\n",
       "                                                           dual=False,\n",
       "                                                           fit_intercept=Tr...\n",
       "                                                           multi_class='warn',\n",
       "                                                           n_jobs=None,\n",
       "                                                           penalty='l2',\n",
       "                                                           random_state=None,\n",
       "                                                           solver='warn',\n",
       "                                                           tol=0.0001,\n",
       "                                                           verbose=0,\n",
       "                                                           warm_start=False))],\n",
       "                                verbose=False),\n",
       "             iid='warn', n_jobs=None,\n",
       "             param_grid={'logistic__C': [0.1, 0.5, 1, 2, 3, 4, 5, 10],\n",
       "                         'logistic__penalty': ['l1', 'l2'],\n",
       "                         'pca__n_components': [16, 17, 18, 19, 20]},\n",
       "             pre_dispatch='2*n_jobs', refit=True, return_train_score=False,\n",
       "             scoring='roc_auc', verbose=0)"
      ]
     },
     "execution_count": 152,
     "metadata": {},
     "output_type": "execute_result"
    }
   ],
   "source": [
    "# fit model\n",
    "model.fit(X_train, y_train)"
   ]
  },
  {
   "cell_type": "code",
   "execution_count": 153,
   "metadata": {},
   "outputs": [
    {
     "data": {
      "text/html": [
       "<div>\n",
       "<style scoped>\n",
       "    .dataframe tbody tr th:only-of-type {\n",
       "        vertical-align: middle;\n",
       "    }\n",
       "\n",
       "    .dataframe tbody tr th {\n",
       "        vertical-align: top;\n",
       "    }\n",
       "\n",
       "    .dataframe thead th {\n",
       "        text-align: right;\n",
       "    }\n",
       "</style>\n",
       "<table border=\"1\" class=\"dataframe\">\n",
       "  <thead>\n",
       "    <tr style=\"text-align: right;\">\n",
       "      <th></th>\n",
       "      <th>mean_fit_time</th>\n",
       "      <th>std_fit_time</th>\n",
       "      <th>mean_score_time</th>\n",
       "      <th>std_score_time</th>\n",
       "      <th>param_logistic__C</th>\n",
       "      <th>param_logistic__penalty</th>\n",
       "      <th>param_pca__n_components</th>\n",
       "      <th>params</th>\n",
       "      <th>split0_test_score</th>\n",
       "      <th>split1_test_score</th>\n",
       "      <th>split2_test_score</th>\n",
       "      <th>split3_test_score</th>\n",
       "      <th>split4_test_score</th>\n",
       "      <th>mean_test_score</th>\n",
       "      <th>std_test_score</th>\n",
       "      <th>rank_test_score</th>\n",
       "    </tr>\n",
       "  </thead>\n",
       "  <tbody>\n",
       "    <tr>\n",
       "      <th>0</th>\n",
       "      <td>0.382963</td>\n",
       "      <td>0.013607</td>\n",
       "      <td>0.015623</td>\n",
       "      <td>1.658681e-06</td>\n",
       "      <td>0.1</td>\n",
       "      <td>l1</td>\n",
       "      <td>16</td>\n",
       "      <td>{'logistic__C': 0.1, 'logistic__penalty': 'l1'...</td>\n",
       "      <td>0.927322</td>\n",
       "      <td>0.924288</td>\n",
       "      <td>0.931101</td>\n",
       "      <td>0.936644</td>\n",
       "      <td>0.930051</td>\n",
       "      <td>0.929881</td>\n",
       "      <td>0.004125</td>\n",
       "      <td>2</td>\n",
       "    </tr>\n",
       "    <tr>\n",
       "      <th>1</th>\n",
       "      <td>0.381424</td>\n",
       "      <td>0.012404</td>\n",
       "      <td>0.012500</td>\n",
       "      <td>6.250024e-03</td>\n",
       "      <td>0.1</td>\n",
       "      <td>l1</td>\n",
       "      <td>17</td>\n",
       "      <td>{'logistic__C': 0.1, 'logistic__penalty': 'l1'...</td>\n",
       "      <td>0.927307</td>\n",
       "      <td>0.924290</td>\n",
       "      <td>0.930871</td>\n",
       "      <td>0.936639</td>\n",
       "      <td>0.930043</td>\n",
       "      <td>0.929829</td>\n",
       "      <td>0.004112</td>\n",
       "      <td>17</td>\n",
       "    </tr>\n",
       "    <tr>\n",
       "      <th>2</th>\n",
       "      <td>0.506536</td>\n",
       "      <td>0.231873</td>\n",
       "      <td>0.012499</td>\n",
       "      <td>6.249380e-03</td>\n",
       "      <td>0.1</td>\n",
       "      <td>l1</td>\n",
       "      <td>18</td>\n",
       "      <td>{'logistic__C': 0.1, 'logistic__penalty': 'l1'...</td>\n",
       "      <td>0.927227</td>\n",
       "      <td>0.924286</td>\n",
       "      <td>0.930881</td>\n",
       "      <td>0.936617</td>\n",
       "      <td>0.929971</td>\n",
       "      <td>0.929796</td>\n",
       "      <td>0.004115</td>\n",
       "      <td>21</td>\n",
       "    </tr>\n",
       "    <tr>\n",
       "      <th>3</th>\n",
       "      <td>0.519432</td>\n",
       "      <td>0.126316</td>\n",
       "      <td>0.016870</td>\n",
       "      <td>1.817852e-03</td>\n",
       "      <td>0.1</td>\n",
       "      <td>l1</td>\n",
       "      <td>19</td>\n",
       "      <td>{'logistic__C': 0.1, 'logistic__penalty': 'l1'...</td>\n",
       "      <td>0.927223</td>\n",
       "      <td>0.924239</td>\n",
       "      <td>0.930881</td>\n",
       "      <td>0.936618</td>\n",
       "      <td>0.929977</td>\n",
       "      <td>0.929787</td>\n",
       "      <td>0.004129</td>\n",
       "      <td>29</td>\n",
       "    </tr>\n",
       "    <tr>\n",
       "      <th>4</th>\n",
       "      <td>1.128957</td>\n",
       "      <td>1.138062</td>\n",
       "      <td>0.021987</td>\n",
       "      <td>7.505912e-03</td>\n",
       "      <td>0.1</td>\n",
       "      <td>l1</td>\n",
       "      <td>20</td>\n",
       "      <td>{'logistic__C': 0.1, 'logistic__penalty': 'l1'...</td>\n",
       "      <td>0.927274</td>\n",
       "      <td>0.924221</td>\n",
       "      <td>0.930948</td>\n",
       "      <td>0.936568</td>\n",
       "      <td>0.929973</td>\n",
       "      <td>0.929796</td>\n",
       "      <td>0.004115</td>\n",
       "      <td>20</td>\n",
       "    </tr>\n",
       "    <tr>\n",
       "      <th>5</th>\n",
       "      <td>1.248679</td>\n",
       "      <td>0.911637</td>\n",
       "      <td>0.019189</td>\n",
       "      <td>6.108315e-03</td>\n",
       "      <td>0.1</td>\n",
       "      <td>l2</td>\n",
       "      <td>16</td>\n",
       "      <td>{'logistic__C': 0.1, 'logistic__penalty': 'l2'...</td>\n",
       "      <td>0.927322</td>\n",
       "      <td>0.924208</td>\n",
       "      <td>0.931083</td>\n",
       "      <td>0.936751</td>\n",
       "      <td>0.930078</td>\n",
       "      <td>0.929888</td>\n",
       "      <td>0.004181</td>\n",
       "      <td>1</td>\n",
       "    </tr>\n",
       "    <tr>\n",
       "      <th>6</th>\n",
       "      <td>0.967447</td>\n",
       "      <td>0.894994</td>\n",
       "      <td>0.048772</td>\n",
       "      <td>4.128258e-02</td>\n",
       "      <td>0.1</td>\n",
       "      <td>l2</td>\n",
       "      <td>17</td>\n",
       "      <td>{'logistic__C': 0.1, 'logistic__penalty': 'l2'...</td>\n",
       "      <td>0.927287</td>\n",
       "      <td>0.924233</td>\n",
       "      <td>0.930771</td>\n",
       "      <td>0.936744</td>\n",
       "      <td>0.930059</td>\n",
       "      <td>0.929818</td>\n",
       "      <td>0.004160</td>\n",
       "      <td>18</td>\n",
       "    </tr>\n",
       "    <tr>\n",
       "      <th>7</th>\n",
       "      <td>0.774950</td>\n",
       "      <td>0.571316</td>\n",
       "      <td>0.015624</td>\n",
       "      <td>9.221592e-07</td>\n",
       "      <td>0.1</td>\n",
       "      <td>l2</td>\n",
       "      <td>18</td>\n",
       "      <td>{'logistic__C': 0.1, 'logistic__penalty': 'l2'...</td>\n",
       "      <td>0.927154</td>\n",
       "      <td>0.924233</td>\n",
       "      <td>0.930780</td>\n",
       "      <td>0.936705</td>\n",
       "      <td>0.929916</td>\n",
       "      <td>0.929757</td>\n",
       "      <td>0.004163</td>\n",
       "      <td>36</td>\n",
       "    </tr>\n",
       "    <tr>\n",
       "      <th>8</th>\n",
       "      <td>0.513382</td>\n",
       "      <td>0.090415</td>\n",
       "      <td>0.015375</td>\n",
       "      <td>9.486921e-03</td>\n",
       "      <td>0.1</td>\n",
       "      <td>l2</td>\n",
       "      <td>19</td>\n",
       "      <td>{'logistic__C': 0.1, 'logistic__penalty': 'l2'...</td>\n",
       "      <td>0.927159</td>\n",
       "      <td>0.924149</td>\n",
       "      <td>0.930760</td>\n",
       "      <td>0.936683</td>\n",
       "      <td>0.929915</td>\n",
       "      <td>0.929733</td>\n",
       "      <td>0.004176</td>\n",
       "      <td>50</td>\n",
       "    </tr>\n",
       "    <tr>\n",
       "      <th>9</th>\n",
       "      <td>1.037744</td>\n",
       "      <td>0.766289</td>\n",
       "      <td>0.021556</td>\n",
       "      <td>1.611065e-02</td>\n",
       "      <td>0.1</td>\n",
       "      <td>l2</td>\n",
       "      <td>20</td>\n",
       "      <td>{'logistic__C': 0.1, 'logistic__penalty': 'l2'...</td>\n",
       "      <td>0.927163</td>\n",
       "      <td>0.924066</td>\n",
       "      <td>0.930836</td>\n",
       "      <td>0.936563</td>\n",
       "      <td>0.929909</td>\n",
       "      <td>0.929707</td>\n",
       "      <td>0.004162</td>\n",
       "      <td>67</td>\n",
       "    </tr>\n",
       "    <tr>\n",
       "      <th>10</th>\n",
       "      <td>0.670486</td>\n",
       "      <td>0.314575</td>\n",
       "      <td>0.018044</td>\n",
       "      <td>3.467714e-03</td>\n",
       "      <td>0.5</td>\n",
       "      <td>l1</td>\n",
       "      <td>16</td>\n",
       "      <td>{'logistic__C': 0.5, 'logistic__penalty': 'l1'...</td>\n",
       "      <td>0.927325</td>\n",
       "      <td>0.924175</td>\n",
       "      <td>0.931058</td>\n",
       "      <td>0.936734</td>\n",
       "      <td>0.930063</td>\n",
       "      <td>0.929870</td>\n",
       "      <td>0.004183</td>\n",
       "      <td>4</td>\n",
       "    </tr>\n",
       "    <tr>\n",
       "      <th>11</th>\n",
       "      <td>0.442508</td>\n",
       "      <td>0.039672</td>\n",
       "      <td>0.015769</td>\n",
       "      <td>1.275699e-03</td>\n",
       "      <td>0.5</td>\n",
       "      <td>l1</td>\n",
       "      <td>17</td>\n",
       "      <td>{'logistic__C': 0.5, 'logistic__penalty': 'l1'...</td>\n",
       "      <td>0.927272</td>\n",
       "      <td>0.924181</td>\n",
       "      <td>0.930762</td>\n",
       "      <td>0.936741</td>\n",
       "      <td>0.930056</td>\n",
       "      <td>0.929802</td>\n",
       "      <td>0.004174</td>\n",
       "      <td>19</td>\n",
       "    </tr>\n",
       "    <tr>\n",
       "      <th>12</th>\n",
       "      <td>0.464012</td>\n",
       "      <td>0.085348</td>\n",
       "      <td>0.012373</td>\n",
       "      <td>6.191286e-03</td>\n",
       "      <td>0.5</td>\n",
       "      <td>l1</td>\n",
       "      <td>18</td>\n",
       "      <td>{'logistic__C': 0.5, 'logistic__penalty': 'l1'...</td>\n",
       "      <td>0.927167</td>\n",
       "      <td>0.924185</td>\n",
       "      <td>0.930786</td>\n",
       "      <td>0.936694</td>\n",
       "      <td>0.929929</td>\n",
       "      <td>0.929752</td>\n",
       "      <td>0.004171</td>\n",
       "      <td>37</td>\n",
       "    </tr>\n",
       "    <tr>\n",
       "      <th>13</th>\n",
       "      <td>0.713298</td>\n",
       "      <td>0.102100</td>\n",
       "      <td>0.018989</td>\n",
       "      <td>1.672800e-03</td>\n",
       "      <td>0.5</td>\n",
       "      <td>l1</td>\n",
       "      <td>19</td>\n",
       "      <td>{'logistic__C': 0.5, 'logistic__penalty': 'l1'...</td>\n",
       "      <td>0.927164</td>\n",
       "      <td>0.924106</td>\n",
       "      <td>0.930764</td>\n",
       "      <td>0.936690</td>\n",
       "      <td>0.929926</td>\n",
       "      <td>0.929729</td>\n",
       "      <td>0.004190</td>\n",
       "      <td>52</td>\n",
       "    </tr>\n",
       "    <tr>\n",
       "      <th>14</th>\n",
       "      <td>0.919076</td>\n",
       "      <td>0.248716</td>\n",
       "      <td>0.031381</td>\n",
       "      <td>1.429773e-02</td>\n",
       "      <td>0.5</td>\n",
       "      <td>l1</td>\n",
       "      <td>20</td>\n",
       "      <td>{'logistic__C': 0.5, 'logistic__penalty': 'l1'...</td>\n",
       "      <td>0.927175</td>\n",
       "      <td>0.924045</td>\n",
       "      <td>0.930827</td>\n",
       "      <td>0.936583</td>\n",
       "      <td>0.929921</td>\n",
       "      <td>0.929710</td>\n",
       "      <td>0.004173</td>\n",
       "      <td>65</td>\n",
       "    </tr>\n",
       "    <tr>\n",
       "      <th>15</th>\n",
       "      <td>1.646260</td>\n",
       "      <td>0.589591</td>\n",
       "      <td>0.051170</td>\n",
       "      <td>3.580978e-02</td>\n",
       "      <td>0.5</td>\n",
       "      <td>l2</td>\n",
       "      <td>16</td>\n",
       "      <td>{'logistic__C': 0.5, 'logistic__penalty': 'l2'...</td>\n",
       "      <td>0.927333</td>\n",
       "      <td>0.924151</td>\n",
       "      <td>0.931054</td>\n",
       "      <td>0.936767</td>\n",
       "      <td>0.930069</td>\n",
       "      <td>0.929874</td>\n",
       "      <td>0.004199</td>\n",
       "      <td>3</td>\n",
       "    </tr>\n",
       "    <tr>\n",
       "      <th>16</th>\n",
       "      <td>1.304254</td>\n",
       "      <td>0.672437</td>\n",
       "      <td>0.033580</td>\n",
       "      <td>8.110069e-03</td>\n",
       "      <td>0.5</td>\n",
       "      <td>l2</td>\n",
       "      <td>17</td>\n",
       "      <td>{'logistic__C': 0.5, 'logistic__penalty': 'l2'...</td>\n",
       "      <td>0.927267</td>\n",
       "      <td>0.924163</td>\n",
       "      <td>0.930716</td>\n",
       "      <td>0.936760</td>\n",
       "      <td>0.930044</td>\n",
       "      <td>0.929790</td>\n",
       "      <td>0.004184</td>\n",
       "      <td>25</td>\n",
       "    </tr>\n",
       "    <tr>\n",
       "      <th>17</th>\n",
       "      <td>1.010423</td>\n",
       "      <td>0.216061</td>\n",
       "      <td>0.020387</td>\n",
       "      <td>1.492469e-03</td>\n",
       "      <td>0.5</td>\n",
       "      <td>l2</td>\n",
       "      <td>18</td>\n",
       "      <td>{'logistic__C': 0.5, 'logistic__penalty': 'l2'...</td>\n",
       "      <td>0.927144</td>\n",
       "      <td>0.924156</td>\n",
       "      <td>0.930731</td>\n",
       "      <td>0.936711</td>\n",
       "      <td>0.929921</td>\n",
       "      <td>0.929732</td>\n",
       "      <td>0.004184</td>\n",
       "      <td>51</td>\n",
       "    </tr>\n",
       "    <tr>\n",
       "      <th>18</th>\n",
       "      <td>0.666618</td>\n",
       "      <td>0.074428</td>\n",
       "      <td>0.015990</td>\n",
       "      <td>1.788058e-03</td>\n",
       "      <td>0.5</td>\n",
       "      <td>l2</td>\n",
       "      <td>19</td>\n",
       "      <td>{'logistic__C': 0.5, 'logistic__penalty': 'l2'...</td>\n",
       "      <td>0.927149</td>\n",
       "      <td>0.924082</td>\n",
       "      <td>0.930727</td>\n",
       "      <td>0.936696</td>\n",
       "      <td>0.929916</td>\n",
       "      <td>0.929713</td>\n",
       "      <td>0.004198</td>\n",
       "      <td>56</td>\n",
       "    </tr>\n",
       "    <tr>\n",
       "      <th>19</th>\n",
       "      <td>0.778755</td>\n",
       "      <td>0.122069</td>\n",
       "      <td>0.014992</td>\n",
       "      <td>8.937761e-04</td>\n",
       "      <td>0.5</td>\n",
       "      <td>l2</td>\n",
       "      <td>20</td>\n",
       "      <td>{'logistic__C': 0.5, 'logistic__penalty': 'l2'...</td>\n",
       "      <td>0.927160</td>\n",
       "      <td>0.924025</td>\n",
       "      <td>0.930821</td>\n",
       "      <td>0.936565</td>\n",
       "      <td>0.929910</td>\n",
       "      <td>0.929696</td>\n",
       "      <td>0.004173</td>\n",
       "      <td>69</td>\n",
       "    </tr>\n",
       "    <tr>\n",
       "      <th>20</th>\n",
       "      <td>0.544688</td>\n",
       "      <td>0.131817</td>\n",
       "      <td>0.024186</td>\n",
       "      <td>1.133182e-02</td>\n",
       "      <td>1</td>\n",
       "      <td>l1</td>\n",
       "      <td>16</td>\n",
       "      <td>{'logistic__C': 1, 'logistic__penalty': 'l1', ...</td>\n",
       "      <td>0.927327</td>\n",
       "      <td>0.924153</td>\n",
       "      <td>0.931057</td>\n",
       "      <td>0.936744</td>\n",
       "      <td>0.930066</td>\n",
       "      <td>0.929869</td>\n",
       "      <td>0.004191</td>\n",
       "      <td>5</td>\n",
       "    </tr>\n",
       "    <tr>\n",
       "      <th>21</th>\n",
       "      <td>0.720587</td>\n",
       "      <td>0.227937</td>\n",
       "      <td>0.038379</td>\n",
       "      <td>4.283591e-02</td>\n",
       "      <td>1</td>\n",
       "      <td>l1</td>\n",
       "      <td>17</td>\n",
       "      <td>{'logistic__C': 1, 'logistic__penalty': 'l1', ...</td>\n",
       "      <td>0.927279</td>\n",
       "      <td>0.924156</td>\n",
       "      <td>0.930740</td>\n",
       "      <td>0.936748</td>\n",
       "      <td>0.930057</td>\n",
       "      <td>0.929795</td>\n",
       "      <td>0.004181</td>\n",
       "      <td>22</td>\n",
       "    </tr>\n",
       "    <tr>\n",
       "      <th>22</th>\n",
       "      <td>0.801907</td>\n",
       "      <td>0.441260</td>\n",
       "      <td>0.022387</td>\n",
       "      <td>9.430144e-03</td>\n",
       "      <td>1</td>\n",
       "      <td>l1</td>\n",
       "      <td>18</td>\n",
       "      <td>{'logistic__C': 1, 'logistic__penalty': 'l1', ...</td>\n",
       "      <td>0.927158</td>\n",
       "      <td>0.924169</td>\n",
       "      <td>0.930754</td>\n",
       "      <td>0.936704</td>\n",
       "      <td>0.929926</td>\n",
       "      <td>0.929742</td>\n",
       "      <td>0.004178</td>\n",
       "      <td>38</td>\n",
       "    </tr>\n",
       "    <tr>\n",
       "      <th>23</th>\n",
       "      <td>0.486924</td>\n",
       "      <td>0.006880</td>\n",
       "      <td>0.013591</td>\n",
       "      <td>1.019515e-03</td>\n",
       "      <td>1</td>\n",
       "      <td>l1</td>\n",
       "      <td>19</td>\n",
       "      <td>{'logistic__C': 1, 'logistic__penalty': 'l1', ...</td>\n",
       "      <td>0.927156</td>\n",
       "      <td>0.924085</td>\n",
       "      <td>0.930754</td>\n",
       "      <td>0.936699</td>\n",
       "      <td>0.929924</td>\n",
       "      <td>0.929723</td>\n",
       "      <td>0.004199</td>\n",
       "      <td>53</td>\n",
       "    </tr>\n",
       "    <tr>\n",
       "      <th>24</th>\n",
       "      <td>0.517705</td>\n",
       "      <td>0.055218</td>\n",
       "      <td>0.016292</td>\n",
       "      <td>3.366818e-03</td>\n",
       "      <td>1</td>\n",
       "      <td>l1</td>\n",
       "      <td>20</td>\n",
       "      <td>{'logistic__C': 1, 'logistic__penalty': 'l1', ...</td>\n",
       "      <td>0.927154</td>\n",
       "      <td>0.924021</td>\n",
       "      <td>0.930825</td>\n",
       "      <td>0.936559</td>\n",
       "      <td>0.929923</td>\n",
       "      <td>0.929696</td>\n",
       "      <td>0.004174</td>\n",
       "      <td>68</td>\n",
       "    </tr>\n",
       "    <tr>\n",
       "      <th>25</th>\n",
       "      <td>0.493432</td>\n",
       "      <td>0.017168</td>\n",
       "      <td>0.014195</td>\n",
       "      <td>1.168176e-03</td>\n",
       "      <td>1</td>\n",
       "      <td>l2</td>\n",
       "      <td>16</td>\n",
       "      <td>{'logistic__C': 1, 'logistic__penalty': 'l2', ...</td>\n",
       "      <td>0.927343</td>\n",
       "      <td>0.924141</td>\n",
       "      <td>0.931042</td>\n",
       "      <td>0.936761</td>\n",
       "      <td>0.930057</td>\n",
       "      <td>0.929868</td>\n",
       "      <td>0.004197</td>\n",
       "      <td>6</td>\n",
       "    </tr>\n",
       "    <tr>\n",
       "      <th>26</th>\n",
       "      <td>0.492918</td>\n",
       "      <td>0.011644</td>\n",
       "      <td>0.013392</td>\n",
       "      <td>8.000620e-04</td>\n",
       "      <td>1</td>\n",
       "      <td>l2</td>\n",
       "      <td>17</td>\n",
       "      <td>{'logistic__C': 1, 'logistic__penalty': 'l2', ...</td>\n",
       "      <td>0.927275</td>\n",
       "      <td>0.924155</td>\n",
       "      <td>0.930711</td>\n",
       "      <td>0.936757</td>\n",
       "      <td>0.930046</td>\n",
       "      <td>0.929788</td>\n",
       "      <td>0.004184</td>\n",
       "      <td>26</td>\n",
       "    </tr>\n",
       "    <tr>\n",
       "      <th>27</th>\n",
       "      <td>0.597933</td>\n",
       "      <td>0.044495</td>\n",
       "      <td>0.014792</td>\n",
       "      <td>7.480351e-04</td>\n",
       "      <td>1</td>\n",
       "      <td>l2</td>\n",
       "      <td>18</td>\n",
       "      <td>{'logistic__C': 1, 'logistic__penalty': 'l2', ...</td>\n",
       "      <td>0.927151</td>\n",
       "      <td>0.924154</td>\n",
       "      <td>0.930738</td>\n",
       "      <td>0.936711</td>\n",
       "      <td>0.929918</td>\n",
       "      <td>0.929734</td>\n",
       "      <td>0.004184</td>\n",
       "      <td>43</td>\n",
       "    </tr>\n",
       "    <tr>\n",
       "      <th>28</th>\n",
       "      <td>0.540292</td>\n",
       "      <td>0.017918</td>\n",
       "      <td>0.013192</td>\n",
       "      <td>1.600844e-03</td>\n",
       "      <td>1</td>\n",
       "      <td>l2</td>\n",
       "      <td>19</td>\n",
       "      <td>{'logistic__C': 1, 'logistic__penalty': 'l2', ...</td>\n",
       "      <td>0.927153</td>\n",
       "      <td>0.924068</td>\n",
       "      <td>0.930728</td>\n",
       "      <td>0.936696</td>\n",
       "      <td>0.929917</td>\n",
       "      <td>0.929712</td>\n",
       "      <td>0.004201</td>\n",
       "      <td>59</td>\n",
       "    </tr>\n",
       "    <tr>\n",
       "      <th>29</th>\n",
       "      <td>0.603943</td>\n",
       "      <td>0.044419</td>\n",
       "      <td>0.013392</td>\n",
       "      <td>1.497689e-03</td>\n",
       "      <td>1</td>\n",
       "      <td>l2</td>\n",
       "      <td>20</td>\n",
       "      <td>{'logistic__C': 1, 'logistic__penalty': 'l2', ...</td>\n",
       "      <td>0.927140</td>\n",
       "      <td>0.924009</td>\n",
       "      <td>0.930815</td>\n",
       "      <td>0.936571</td>\n",
       "      <td>0.929919</td>\n",
       "      <td>0.929690</td>\n",
       "      <td>0.004182</td>\n",
       "      <td>78</td>\n",
       "    </tr>\n",
       "    <tr>\n",
       "      <th>...</th>\n",
       "      <td>...</td>\n",
       "      <td>...</td>\n",
       "      <td>...</td>\n",
       "      <td>...</td>\n",
       "      <td>...</td>\n",
       "      <td>...</td>\n",
       "      <td>...</td>\n",
       "      <td>...</td>\n",
       "      <td>...</td>\n",
       "      <td>...</td>\n",
       "      <td>...</td>\n",
       "      <td>...</td>\n",
       "      <td>...</td>\n",
       "      <td>...</td>\n",
       "      <td>...</td>\n",
       "      <td>...</td>\n",
       "    </tr>\n",
       "    <tr>\n",
       "      <th>50</th>\n",
       "      <td>0.459532</td>\n",
       "      <td>0.019213</td>\n",
       "      <td>0.014989</td>\n",
       "      <td>1.408997e-03</td>\n",
       "      <td>4</td>\n",
       "      <td>l1</td>\n",
       "      <td>16</td>\n",
       "      <td>{'logistic__C': 4, 'logistic__penalty': 'l1', ...</td>\n",
       "      <td>0.927349</td>\n",
       "      <td>0.924136</td>\n",
       "      <td>0.931045</td>\n",
       "      <td>0.936747</td>\n",
       "      <td>0.930061</td>\n",
       "      <td>0.929867</td>\n",
       "      <td>0.004194</td>\n",
       "      <td>11</td>\n",
       "    </tr>\n",
       "    <tr>\n",
       "      <th>51</th>\n",
       "      <td>0.492316</td>\n",
       "      <td>0.033466</td>\n",
       "      <td>0.015392</td>\n",
       "      <td>1.496759e-03</td>\n",
       "      <td>4</td>\n",
       "      <td>l1</td>\n",
       "      <td>17</td>\n",
       "      <td>{'logistic__C': 4, 'logistic__penalty': 'l1', ...</td>\n",
       "      <td>0.927288</td>\n",
       "      <td>0.924150</td>\n",
       "      <td>0.930714</td>\n",
       "      <td>0.936758</td>\n",
       "      <td>0.930048</td>\n",
       "      <td>0.929791</td>\n",
       "      <td>0.004184</td>\n",
       "      <td>24</td>\n",
       "    </tr>\n",
       "    <tr>\n",
       "      <th>52</th>\n",
       "      <td>0.478847</td>\n",
       "      <td>0.060640</td>\n",
       "      <td>0.020517</td>\n",
       "      <td>7.904517e-03</td>\n",
       "      <td>4</td>\n",
       "      <td>l1</td>\n",
       "      <td>18</td>\n",
       "      <td>{'logistic__C': 4, 'logistic__penalty': 'l1', ...</td>\n",
       "      <td>0.927163</td>\n",
       "      <td>0.924157</td>\n",
       "      <td>0.930740</td>\n",
       "      <td>0.936708</td>\n",
       "      <td>0.929922</td>\n",
       "      <td>0.929738</td>\n",
       "      <td>0.004181</td>\n",
       "      <td>41</td>\n",
       "    </tr>\n",
       "    <tr>\n",
       "      <th>53</th>\n",
       "      <td>0.425675</td>\n",
       "      <td>0.042085</td>\n",
       "      <td>0.016138</td>\n",
       "      <td>4.397274e-03</td>\n",
       "      <td>4</td>\n",
       "      <td>l1</td>\n",
       "      <td>19</td>\n",
       "      <td>{'logistic__C': 4, 'logistic__penalty': 'l1', ...</td>\n",
       "      <td>0.927150</td>\n",
       "      <td>0.924072</td>\n",
       "      <td>0.930728</td>\n",
       "      <td>0.936697</td>\n",
       "      <td>0.929917</td>\n",
       "      <td>0.929712</td>\n",
       "      <td>0.004201</td>\n",
       "      <td>58</td>\n",
       "    </tr>\n",
       "    <tr>\n",
       "      <th>54</th>\n",
       "      <td>0.440601</td>\n",
       "      <td>0.068177</td>\n",
       "      <td>0.014391</td>\n",
       "      <td>1.536537e-03</td>\n",
       "      <td>4</td>\n",
       "      <td>l1</td>\n",
       "      <td>20</td>\n",
       "      <td>{'logistic__C': 4, 'logistic__penalty': 'l1', ...</td>\n",
       "      <td>0.927147</td>\n",
       "      <td>0.924013</td>\n",
       "      <td>0.930815</td>\n",
       "      <td>0.936571</td>\n",
       "      <td>0.929920</td>\n",
       "      <td>0.929693</td>\n",
       "      <td>0.004180</td>\n",
       "      <td>73</td>\n",
       "    </tr>\n",
       "    <tr>\n",
       "      <th>55</th>\n",
       "      <td>0.392922</td>\n",
       "      <td>0.011068</td>\n",
       "      <td>0.012055</td>\n",
       "      <td>3.119524e-03</td>\n",
       "      <td>4</td>\n",
       "      <td>l2</td>\n",
       "      <td>16</td>\n",
       "      <td>{'logistic__C': 4, 'logistic__penalty': 'l2', ...</td>\n",
       "      <td>0.927355</td>\n",
       "      <td>0.924131</td>\n",
       "      <td>0.931039</td>\n",
       "      <td>0.936757</td>\n",
       "      <td>0.930056</td>\n",
       "      <td>0.929867</td>\n",
       "      <td>0.004197</td>\n",
       "      <td>12</td>\n",
       "    </tr>\n",
       "    <tr>\n",
       "      <th>56</th>\n",
       "      <td>0.443552</td>\n",
       "      <td>0.021272</td>\n",
       "      <td>0.014115</td>\n",
       "      <td>4.217473e-03</td>\n",
       "      <td>4</td>\n",
       "      <td>l2</td>\n",
       "      <td>17</td>\n",
       "      <td>{'logistic__C': 4, 'logistic__penalty': 'l2', ...</td>\n",
       "      <td>0.927280</td>\n",
       "      <td>0.924147</td>\n",
       "      <td>0.930712</td>\n",
       "      <td>0.936756</td>\n",
       "      <td>0.930046</td>\n",
       "      <td>0.929788</td>\n",
       "      <td>0.004185</td>\n",
       "      <td>28</td>\n",
       "    </tr>\n",
       "    <tr>\n",
       "      <th>57</th>\n",
       "      <td>0.435664</td>\n",
       "      <td>0.037303</td>\n",
       "      <td>0.010496</td>\n",
       "      <td>7.962308e-04</td>\n",
       "      <td>4</td>\n",
       "      <td>l2</td>\n",
       "      <td>18</td>\n",
       "      <td>{'logistic__C': 4, 'logistic__penalty': 'l2', ...</td>\n",
       "      <td>0.927155</td>\n",
       "      <td>0.924154</td>\n",
       "      <td>0.930731</td>\n",
       "      <td>0.936708</td>\n",
       "      <td>0.929918</td>\n",
       "      <td>0.929733</td>\n",
       "      <td>0.004182</td>\n",
       "      <td>49</td>\n",
       "    </tr>\n",
       "    <tr>\n",
       "      <th>58</th>\n",
       "      <td>0.455617</td>\n",
       "      <td>0.012601</td>\n",
       "      <td>0.011723</td>\n",
       "      <td>3.184487e-03</td>\n",
       "      <td>4</td>\n",
       "      <td>l2</td>\n",
       "      <td>19</td>\n",
       "      <td>{'logistic__C': 4, 'logistic__penalty': 'l2', ...</td>\n",
       "      <td>0.927150</td>\n",
       "      <td>0.924069</td>\n",
       "      <td>0.930717</td>\n",
       "      <td>0.936700</td>\n",
       "      <td>0.929916</td>\n",
       "      <td>0.929710</td>\n",
       "      <td>0.004202</td>\n",
       "      <td>63</td>\n",
       "    </tr>\n",
       "    <tr>\n",
       "      <th>59</th>\n",
       "      <td>0.478875</td>\n",
       "      <td>0.006812</td>\n",
       "      <td>0.003123</td>\n",
       "      <td>6.246948e-03</td>\n",
       "      <td>4</td>\n",
       "      <td>l2</td>\n",
       "      <td>20</td>\n",
       "      <td>{'logistic__C': 4, 'logistic__penalty': 'l2', ...</td>\n",
       "      <td>0.927143</td>\n",
       "      <td>0.924008</td>\n",
       "      <td>0.930815</td>\n",
       "      <td>0.936573</td>\n",
       "      <td>0.929919</td>\n",
       "      <td>0.929691</td>\n",
       "      <td>0.004183</td>\n",
       "      <td>76</td>\n",
       "    </tr>\n",
       "    <tr>\n",
       "      <th>60</th>\n",
       "      <td>0.343727</td>\n",
       "      <td>0.009879</td>\n",
       "      <td>0.012497</td>\n",
       "      <td>6.248665e-03</td>\n",
       "      <td>5</td>\n",
       "      <td>l1</td>\n",
       "      <td>16</td>\n",
       "      <td>{'logistic__C': 5, 'logistic__penalty': 'l1', ...</td>\n",
       "      <td>0.927353</td>\n",
       "      <td>0.924135</td>\n",
       "      <td>0.931042</td>\n",
       "      <td>0.936750</td>\n",
       "      <td>0.930062</td>\n",
       "      <td>0.929868</td>\n",
       "      <td>0.004195</td>\n",
       "      <td>8</td>\n",
       "    </tr>\n",
       "    <tr>\n",
       "      <th>61</th>\n",
       "      <td>0.365600</td>\n",
       "      <td>0.007654</td>\n",
       "      <td>0.006249</td>\n",
       "      <td>7.653312e-03</td>\n",
       "      <td>5</td>\n",
       "      <td>l1</td>\n",
       "      <td>17</td>\n",
       "      <td>{'logistic__C': 5, 'logistic__penalty': 'l1', ...</td>\n",
       "      <td>0.927284</td>\n",
       "      <td>0.924147</td>\n",
       "      <td>0.930706</td>\n",
       "      <td>0.936752</td>\n",
       "      <td>0.930038</td>\n",
       "      <td>0.929785</td>\n",
       "      <td>0.004183</td>\n",
       "      <td>33</td>\n",
       "    </tr>\n",
       "    <tr>\n",
       "      <th>62</th>\n",
       "      <td>0.368164</td>\n",
       "      <td>0.011529</td>\n",
       "      <td>0.015623</td>\n",
       "      <td>9.246216e-07</td>\n",
       "      <td>5</td>\n",
       "      <td>l1</td>\n",
       "      <td>18</td>\n",
       "      <td>{'logistic__C': 5, 'logistic__penalty': 'l1', ...</td>\n",
       "      <td>0.927159</td>\n",
       "      <td>0.924160</td>\n",
       "      <td>0.930740</td>\n",
       "      <td>0.936711</td>\n",
       "      <td>0.929920</td>\n",
       "      <td>0.929737</td>\n",
       "      <td>0.004181</td>\n",
       "      <td>42</td>\n",
       "    </tr>\n",
       "    <tr>\n",
       "      <th>63</th>\n",
       "      <td>0.381225</td>\n",
       "      <td>0.007655</td>\n",
       "      <td>0.015622</td>\n",
       "      <td>3.640863e-06</td>\n",
       "      <td>5</td>\n",
       "      <td>l1</td>\n",
       "      <td>19</td>\n",
       "      <td>{'logistic__C': 5, 'logistic__penalty': 'l1', ...</td>\n",
       "      <td>0.927152</td>\n",
       "      <td>0.924076</td>\n",
       "      <td>0.930723</td>\n",
       "      <td>0.936699</td>\n",
       "      <td>0.929918</td>\n",
       "      <td>0.929713</td>\n",
       "      <td>0.004200</td>\n",
       "      <td>57</td>\n",
       "    </tr>\n",
       "    <tr>\n",
       "      <th>64</th>\n",
       "      <td>0.434345</td>\n",
       "      <td>0.011692</td>\n",
       "      <td>0.012499</td>\n",
       "      <td>6.249547e-03</td>\n",
       "      <td>5</td>\n",
       "      <td>l1</td>\n",
       "      <td>20</td>\n",
       "      <td>{'logistic__C': 5, 'logistic__penalty': 'l1', ...</td>\n",
       "      <td>0.927146</td>\n",
       "      <td>0.924012</td>\n",
       "      <td>0.930819</td>\n",
       "      <td>0.936569</td>\n",
       "      <td>0.929914</td>\n",
       "      <td>0.929691</td>\n",
       "      <td>0.004180</td>\n",
       "      <td>75</td>\n",
       "    </tr>\n",
       "    <tr>\n",
       "      <th>65</th>\n",
       "      <td>0.398155</td>\n",
       "      <td>0.010290</td>\n",
       "      <td>0.012500</td>\n",
       "      <td>6.249834e-03</td>\n",
       "      <td>5</td>\n",
       "      <td>l2</td>\n",
       "      <td>16</td>\n",
       "      <td>{'logistic__C': 5, 'logistic__penalty': 'l2', ...</td>\n",
       "      <td>0.927351</td>\n",
       "      <td>0.924133</td>\n",
       "      <td>0.931040</td>\n",
       "      <td>0.936758</td>\n",
       "      <td>0.930058</td>\n",
       "      <td>0.929868</td>\n",
       "      <td>0.004198</td>\n",
       "      <td>10</td>\n",
       "    </tr>\n",
       "    <tr>\n",
       "      <th>66</th>\n",
       "      <td>0.418720</td>\n",
       "      <td>0.006239</td>\n",
       "      <td>0.009375</td>\n",
       "      <td>7.654539e-03</td>\n",
       "      <td>5</td>\n",
       "      <td>l2</td>\n",
       "      <td>17</td>\n",
       "      <td>{'logistic__C': 5, 'logistic__penalty': 'l2', ...</td>\n",
       "      <td>0.927282</td>\n",
       "      <td>0.924147</td>\n",
       "      <td>0.930706</td>\n",
       "      <td>0.936752</td>\n",
       "      <td>0.930046</td>\n",
       "      <td>0.929786</td>\n",
       "      <td>0.004183</td>\n",
       "      <td>32</td>\n",
       "    </tr>\n",
       "    <tr>\n",
       "      <th>67</th>\n",
       "      <td>0.424973</td>\n",
       "      <td>0.015306</td>\n",
       "      <td>0.009372</td>\n",
       "      <td>7.651853e-03</td>\n",
       "      <td>5</td>\n",
       "      <td>l2</td>\n",
       "      <td>18</td>\n",
       "      <td>{'logistic__C': 5, 'logistic__penalty': 'l2', ...</td>\n",
       "      <td>0.927154</td>\n",
       "      <td>0.924154</td>\n",
       "      <td>0.930729</td>\n",
       "      <td>0.936711</td>\n",
       "      <td>0.929923</td>\n",
       "      <td>0.929734</td>\n",
       "      <td>0.004183</td>\n",
       "      <td>44</td>\n",
       "    </tr>\n",
       "    <tr>\n",
       "      <th>68</th>\n",
       "      <td>0.443722</td>\n",
       "      <td>0.007656</td>\n",
       "      <td>0.015622</td>\n",
       "      <td>2.119647e-06</td>\n",
       "      <td>5</td>\n",
       "      <td>l2</td>\n",
       "      <td>19</td>\n",
       "      <td>{'logistic__C': 5, 'logistic__penalty': 'l2', ...</td>\n",
       "      <td>0.927152</td>\n",
       "      <td>0.924073</td>\n",
       "      <td>0.930714</td>\n",
       "      <td>0.936702</td>\n",
       "      <td>0.929911</td>\n",
       "      <td>0.929710</td>\n",
       "      <td>0.004201</td>\n",
       "      <td>64</td>\n",
       "    </tr>\n",
       "    <tr>\n",
       "      <th>69</th>\n",
       "      <td>0.471844</td>\n",
       "      <td>0.011694</td>\n",
       "      <td>0.012498</td>\n",
       "      <td>6.248976e-03</td>\n",
       "      <td>5</td>\n",
       "      <td>l2</td>\n",
       "      <td>20</td>\n",
       "      <td>{'logistic__C': 5, 'logistic__penalty': 'l2', ...</td>\n",
       "      <td>0.927159</td>\n",
       "      <td>0.924014</td>\n",
       "      <td>0.930815</td>\n",
       "      <td>0.936571</td>\n",
       "      <td>0.929917</td>\n",
       "      <td>0.929695</td>\n",
       "      <td>0.004178</td>\n",
       "      <td>71</td>\n",
       "    </tr>\n",
       "    <tr>\n",
       "      <th>70</th>\n",
       "      <td>0.343727</td>\n",
       "      <td>0.009880</td>\n",
       "      <td>0.012498</td>\n",
       "      <td>6.248880e-03</td>\n",
       "      <td>10</td>\n",
       "      <td>l1</td>\n",
       "      <td>16</td>\n",
       "      <td>{'logistic__C': 10, 'logistic__penalty': 'l1',...</td>\n",
       "      <td>0.927341</td>\n",
       "      <td>0.924132</td>\n",
       "      <td>0.931044</td>\n",
       "      <td>0.936751</td>\n",
       "      <td>0.930058</td>\n",
       "      <td>0.929865</td>\n",
       "      <td>0.004197</td>\n",
       "      <td>16</td>\n",
       "    </tr>\n",
       "    <tr>\n",
       "      <th>71</th>\n",
       "      <td>0.378101</td>\n",
       "      <td>0.022960</td>\n",
       "      <td>0.015622</td>\n",
       "      <td>1.038148e-06</td>\n",
       "      <td>10</td>\n",
       "      <td>l1</td>\n",
       "      <td>17</td>\n",
       "      <td>{'logistic__C': 10, 'logistic__penalty': 'l1',...</td>\n",
       "      <td>0.927277</td>\n",
       "      <td>0.924148</td>\n",
       "      <td>0.930708</td>\n",
       "      <td>0.936754</td>\n",
       "      <td>0.930046</td>\n",
       "      <td>0.929786</td>\n",
       "      <td>0.004185</td>\n",
       "      <td>31</td>\n",
       "    </tr>\n",
       "    <tr>\n",
       "      <th>72</th>\n",
       "      <td>0.390599</td>\n",
       "      <td>0.034230</td>\n",
       "      <td>0.003125</td>\n",
       "      <td>6.249905e-03</td>\n",
       "      <td>10</td>\n",
       "      <td>l1</td>\n",
       "      <td>18</td>\n",
       "      <td>{'logistic__C': 10, 'logistic__penalty': 'l1',...</td>\n",
       "      <td>0.927148</td>\n",
       "      <td>0.924159</td>\n",
       "      <td>0.930730</td>\n",
       "      <td>0.936708</td>\n",
       "      <td>0.929924</td>\n",
       "      <td>0.929733</td>\n",
       "      <td>0.004182</td>\n",
       "      <td>47</td>\n",
       "    </tr>\n",
       "    <tr>\n",
       "      <th>73</th>\n",
       "      <td>0.387473</td>\n",
       "      <td>0.006249</td>\n",
       "      <td>0.009374</td>\n",
       "      <td>7.654033e-03</td>\n",
       "      <td>10</td>\n",
       "      <td>l1</td>\n",
       "      <td>19</td>\n",
       "      <td>{'logistic__C': 10, 'logistic__penalty': 'l1',...</td>\n",
       "      <td>0.927150</td>\n",
       "      <td>0.924069</td>\n",
       "      <td>0.930724</td>\n",
       "      <td>0.936697</td>\n",
       "      <td>0.929914</td>\n",
       "      <td>0.929710</td>\n",
       "      <td>0.004201</td>\n",
       "      <td>62</td>\n",
       "    </tr>\n",
       "    <tr>\n",
       "      <th>74</th>\n",
       "      <td>0.390601</td>\n",
       "      <td>0.009881</td>\n",
       "      <td>0.015621</td>\n",
       "      <td>2.990799e-06</td>\n",
       "      <td>10</td>\n",
       "      <td>l1</td>\n",
       "      <td>20</td>\n",
       "      <td>{'logistic__C': 10, 'logistic__penalty': 'l1',...</td>\n",
       "      <td>0.927136</td>\n",
       "      <td>0.924012</td>\n",
       "      <td>0.930806</td>\n",
       "      <td>0.936565</td>\n",
       "      <td>0.929912</td>\n",
       "      <td>0.929685</td>\n",
       "      <td>0.004179</td>\n",
       "      <td>80</td>\n",
       "    </tr>\n",
       "    <tr>\n",
       "      <th>75</th>\n",
       "      <td>0.399973</td>\n",
       "      <td>0.007654</td>\n",
       "      <td>0.006249</td>\n",
       "      <td>7.653779e-03</td>\n",
       "      <td>10</td>\n",
       "      <td>l2</td>\n",
       "      <td>16</td>\n",
       "      <td>{'logistic__C': 10, 'logistic__penalty': 'l2',...</td>\n",
       "      <td>0.927349</td>\n",
       "      <td>0.924131</td>\n",
       "      <td>0.931041</td>\n",
       "      <td>0.936754</td>\n",
       "      <td>0.930060</td>\n",
       "      <td>0.929866</td>\n",
       "      <td>0.004197</td>\n",
       "      <td>14</td>\n",
       "    </tr>\n",
       "    <tr>\n",
       "      <th>76</th>\n",
       "      <td>0.406224</td>\n",
       "      <td>0.009881</td>\n",
       "      <td>0.012498</td>\n",
       "      <td>6.248975e-03</td>\n",
       "      <td>10</td>\n",
       "      <td>l2</td>\n",
       "      <td>17</td>\n",
       "      <td>{'logistic__C': 10, 'logistic__penalty': 'l2',...</td>\n",
       "      <td>0.927283</td>\n",
       "      <td>0.924146</td>\n",
       "      <td>0.930711</td>\n",
       "      <td>0.936755</td>\n",
       "      <td>0.930041</td>\n",
       "      <td>0.929787</td>\n",
       "      <td>0.004185</td>\n",
       "      <td>30</td>\n",
       "    </tr>\n",
       "    <tr>\n",
       "      <th>77</th>\n",
       "      <td>0.421851</td>\n",
       "      <td>0.009881</td>\n",
       "      <td>0.009369</td>\n",
       "      <td>7.649597e-03</td>\n",
       "      <td>10</td>\n",
       "      <td>l2</td>\n",
       "      <td>18</td>\n",
       "      <td>{'logistic__C': 10, 'logistic__penalty': 'l2',...</td>\n",
       "      <td>0.927156</td>\n",
       "      <td>0.924154</td>\n",
       "      <td>0.930732</td>\n",
       "      <td>0.936710</td>\n",
       "      <td>0.929918</td>\n",
       "      <td>0.929733</td>\n",
       "      <td>0.004183</td>\n",
       "      <td>46</td>\n",
       "    </tr>\n",
       "    <tr>\n",
       "      <th>78</th>\n",
       "      <td>0.443721</td>\n",
       "      <td>0.018748</td>\n",
       "      <td>0.012498</td>\n",
       "      <td>6.248880e-03</td>\n",
       "      <td>10</td>\n",
       "      <td>l2</td>\n",
       "      <td>19</td>\n",
       "      <td>{'logistic__C': 10, 'logistic__penalty': 'l2',...</td>\n",
       "      <td>0.927149</td>\n",
       "      <td>0.924066</td>\n",
       "      <td>0.930718</td>\n",
       "      <td>0.936698</td>\n",
       "      <td>0.929917</td>\n",
       "      <td>0.929709</td>\n",
       "      <td>0.004202</td>\n",
       "      <td>66</td>\n",
       "    </tr>\n",
       "    <tr>\n",
       "      <th>79</th>\n",
       "      <td>0.511642</td>\n",
       "      <td>0.036264</td>\n",
       "      <td>0.012498</td>\n",
       "      <td>6.248785e-03</td>\n",
       "      <td>10</td>\n",
       "      <td>l2</td>\n",
       "      <td>20</td>\n",
       "      <td>{'logistic__C': 10, 'logistic__penalty': 'l2',...</td>\n",
       "      <td>0.927140</td>\n",
       "      <td>0.924024</td>\n",
       "      <td>0.930821</td>\n",
       "      <td>0.936570</td>\n",
       "      <td>0.929918</td>\n",
       "      <td>0.929694</td>\n",
       "      <td>0.004178</td>\n",
       "      <td>72</td>\n",
       "    </tr>\n",
       "  </tbody>\n",
       "</table>\n",
       "<p>80 rows × 16 columns</p>\n",
       "</div>"
      ],
      "text/plain": [
       "    mean_fit_time  std_fit_time  mean_score_time  std_score_time  \\\n",
       "0        0.382963      0.013607         0.015623    1.658681e-06   \n",
       "1        0.381424      0.012404         0.012500    6.250024e-03   \n",
       "2        0.506536      0.231873         0.012499    6.249380e-03   \n",
       "3        0.519432      0.126316         0.016870    1.817852e-03   \n",
       "4        1.128957      1.138062         0.021987    7.505912e-03   \n",
       "5        1.248679      0.911637         0.019189    6.108315e-03   \n",
       "6        0.967447      0.894994         0.048772    4.128258e-02   \n",
       "7        0.774950      0.571316         0.015624    9.221592e-07   \n",
       "8        0.513382      0.090415         0.015375    9.486921e-03   \n",
       "9        1.037744      0.766289         0.021556    1.611065e-02   \n",
       "10       0.670486      0.314575         0.018044    3.467714e-03   \n",
       "11       0.442508      0.039672         0.015769    1.275699e-03   \n",
       "12       0.464012      0.085348         0.012373    6.191286e-03   \n",
       "13       0.713298      0.102100         0.018989    1.672800e-03   \n",
       "14       0.919076      0.248716         0.031381    1.429773e-02   \n",
       "15       1.646260      0.589591         0.051170    3.580978e-02   \n",
       "16       1.304254      0.672437         0.033580    8.110069e-03   \n",
       "17       1.010423      0.216061         0.020387    1.492469e-03   \n",
       "18       0.666618      0.074428         0.015990    1.788058e-03   \n",
       "19       0.778755      0.122069         0.014992    8.937761e-04   \n",
       "20       0.544688      0.131817         0.024186    1.133182e-02   \n",
       "21       0.720587      0.227937         0.038379    4.283591e-02   \n",
       "22       0.801907      0.441260         0.022387    9.430144e-03   \n",
       "23       0.486924      0.006880         0.013591    1.019515e-03   \n",
       "24       0.517705      0.055218         0.016292    3.366818e-03   \n",
       "25       0.493432      0.017168         0.014195    1.168176e-03   \n",
       "26       0.492918      0.011644         0.013392    8.000620e-04   \n",
       "27       0.597933      0.044495         0.014792    7.480351e-04   \n",
       "28       0.540292      0.017918         0.013192    1.600844e-03   \n",
       "29       0.603943      0.044419         0.013392    1.497689e-03   \n",
       "..            ...           ...              ...             ...   \n",
       "50       0.459532      0.019213         0.014989    1.408997e-03   \n",
       "51       0.492316      0.033466         0.015392    1.496759e-03   \n",
       "52       0.478847      0.060640         0.020517    7.904517e-03   \n",
       "53       0.425675      0.042085         0.016138    4.397274e-03   \n",
       "54       0.440601      0.068177         0.014391    1.536537e-03   \n",
       "55       0.392922      0.011068         0.012055    3.119524e-03   \n",
       "56       0.443552      0.021272         0.014115    4.217473e-03   \n",
       "57       0.435664      0.037303         0.010496    7.962308e-04   \n",
       "58       0.455617      0.012601         0.011723    3.184487e-03   \n",
       "59       0.478875      0.006812         0.003123    6.246948e-03   \n",
       "60       0.343727      0.009879         0.012497    6.248665e-03   \n",
       "61       0.365600      0.007654         0.006249    7.653312e-03   \n",
       "62       0.368164      0.011529         0.015623    9.246216e-07   \n",
       "63       0.381225      0.007655         0.015622    3.640863e-06   \n",
       "64       0.434345      0.011692         0.012499    6.249547e-03   \n",
       "65       0.398155      0.010290         0.012500    6.249834e-03   \n",
       "66       0.418720      0.006239         0.009375    7.654539e-03   \n",
       "67       0.424973      0.015306         0.009372    7.651853e-03   \n",
       "68       0.443722      0.007656         0.015622    2.119647e-06   \n",
       "69       0.471844      0.011694         0.012498    6.248976e-03   \n",
       "70       0.343727      0.009880         0.012498    6.248880e-03   \n",
       "71       0.378101      0.022960         0.015622    1.038148e-06   \n",
       "72       0.390599      0.034230         0.003125    6.249905e-03   \n",
       "73       0.387473      0.006249         0.009374    7.654033e-03   \n",
       "74       0.390601      0.009881         0.015621    2.990799e-06   \n",
       "75       0.399973      0.007654         0.006249    7.653779e-03   \n",
       "76       0.406224      0.009881         0.012498    6.248975e-03   \n",
       "77       0.421851      0.009881         0.009369    7.649597e-03   \n",
       "78       0.443721      0.018748         0.012498    6.248880e-03   \n",
       "79       0.511642      0.036264         0.012498    6.248785e-03   \n",
       "\n",
       "   param_logistic__C param_logistic__penalty param_pca__n_components  \\\n",
       "0                0.1                      l1                      16   \n",
       "1                0.1                      l1                      17   \n",
       "2                0.1                      l1                      18   \n",
       "3                0.1                      l1                      19   \n",
       "4                0.1                      l1                      20   \n",
       "5                0.1                      l2                      16   \n",
       "6                0.1                      l2                      17   \n",
       "7                0.1                      l2                      18   \n",
       "8                0.1                      l2                      19   \n",
       "9                0.1                      l2                      20   \n",
       "10               0.5                      l1                      16   \n",
       "11               0.5                      l1                      17   \n",
       "12               0.5                      l1                      18   \n",
       "13               0.5                      l1                      19   \n",
       "14               0.5                      l1                      20   \n",
       "15               0.5                      l2                      16   \n",
       "16               0.5                      l2                      17   \n",
       "17               0.5                      l2                      18   \n",
       "18               0.5                      l2                      19   \n",
       "19               0.5                      l2                      20   \n",
       "20                 1                      l1                      16   \n",
       "21                 1                      l1                      17   \n",
       "22                 1                      l1                      18   \n",
       "23                 1                      l1                      19   \n",
       "24                 1                      l1                      20   \n",
       "25                 1                      l2                      16   \n",
       "26                 1                      l2                      17   \n",
       "27                 1                      l2                      18   \n",
       "28                 1                      l2                      19   \n",
       "29                 1                      l2                      20   \n",
       "..               ...                     ...                     ...   \n",
       "50                 4                      l1                      16   \n",
       "51                 4                      l1                      17   \n",
       "52                 4                      l1                      18   \n",
       "53                 4                      l1                      19   \n",
       "54                 4                      l1                      20   \n",
       "55                 4                      l2                      16   \n",
       "56                 4                      l2                      17   \n",
       "57                 4                      l2                      18   \n",
       "58                 4                      l2                      19   \n",
       "59                 4                      l2                      20   \n",
       "60                 5                      l1                      16   \n",
       "61                 5                      l1                      17   \n",
       "62                 5                      l1                      18   \n",
       "63                 5                      l1                      19   \n",
       "64                 5                      l1                      20   \n",
       "65                 5                      l2                      16   \n",
       "66                 5                      l2                      17   \n",
       "67                 5                      l2                      18   \n",
       "68                 5                      l2                      19   \n",
       "69                 5                      l2                      20   \n",
       "70                10                      l1                      16   \n",
       "71                10                      l1                      17   \n",
       "72                10                      l1                      18   \n",
       "73                10                      l1                      19   \n",
       "74                10                      l1                      20   \n",
       "75                10                      l2                      16   \n",
       "76                10                      l2                      17   \n",
       "77                10                      l2                      18   \n",
       "78                10                      l2                      19   \n",
       "79                10                      l2                      20   \n",
       "\n",
       "                                               params  split0_test_score  \\\n",
       "0   {'logistic__C': 0.1, 'logistic__penalty': 'l1'...           0.927322   \n",
       "1   {'logistic__C': 0.1, 'logistic__penalty': 'l1'...           0.927307   \n",
       "2   {'logistic__C': 0.1, 'logistic__penalty': 'l1'...           0.927227   \n",
       "3   {'logistic__C': 0.1, 'logistic__penalty': 'l1'...           0.927223   \n",
       "4   {'logistic__C': 0.1, 'logistic__penalty': 'l1'...           0.927274   \n",
       "5   {'logistic__C': 0.1, 'logistic__penalty': 'l2'...           0.927322   \n",
       "6   {'logistic__C': 0.1, 'logistic__penalty': 'l2'...           0.927287   \n",
       "7   {'logistic__C': 0.1, 'logistic__penalty': 'l2'...           0.927154   \n",
       "8   {'logistic__C': 0.1, 'logistic__penalty': 'l2'...           0.927159   \n",
       "9   {'logistic__C': 0.1, 'logistic__penalty': 'l2'...           0.927163   \n",
       "10  {'logistic__C': 0.5, 'logistic__penalty': 'l1'...           0.927325   \n",
       "11  {'logistic__C': 0.5, 'logistic__penalty': 'l1'...           0.927272   \n",
       "12  {'logistic__C': 0.5, 'logistic__penalty': 'l1'...           0.927167   \n",
       "13  {'logistic__C': 0.5, 'logistic__penalty': 'l1'...           0.927164   \n",
       "14  {'logistic__C': 0.5, 'logistic__penalty': 'l1'...           0.927175   \n",
       "15  {'logistic__C': 0.5, 'logistic__penalty': 'l2'...           0.927333   \n",
       "16  {'logistic__C': 0.5, 'logistic__penalty': 'l2'...           0.927267   \n",
       "17  {'logistic__C': 0.5, 'logistic__penalty': 'l2'...           0.927144   \n",
       "18  {'logistic__C': 0.5, 'logistic__penalty': 'l2'...           0.927149   \n",
       "19  {'logistic__C': 0.5, 'logistic__penalty': 'l2'...           0.927160   \n",
       "20  {'logistic__C': 1, 'logistic__penalty': 'l1', ...           0.927327   \n",
       "21  {'logistic__C': 1, 'logistic__penalty': 'l1', ...           0.927279   \n",
       "22  {'logistic__C': 1, 'logistic__penalty': 'l1', ...           0.927158   \n",
       "23  {'logistic__C': 1, 'logistic__penalty': 'l1', ...           0.927156   \n",
       "24  {'logistic__C': 1, 'logistic__penalty': 'l1', ...           0.927154   \n",
       "25  {'logistic__C': 1, 'logistic__penalty': 'l2', ...           0.927343   \n",
       "26  {'logistic__C': 1, 'logistic__penalty': 'l2', ...           0.927275   \n",
       "27  {'logistic__C': 1, 'logistic__penalty': 'l2', ...           0.927151   \n",
       "28  {'logistic__C': 1, 'logistic__penalty': 'l2', ...           0.927153   \n",
       "29  {'logistic__C': 1, 'logistic__penalty': 'l2', ...           0.927140   \n",
       "..                                                ...                ...   \n",
       "50  {'logistic__C': 4, 'logistic__penalty': 'l1', ...           0.927349   \n",
       "51  {'logistic__C': 4, 'logistic__penalty': 'l1', ...           0.927288   \n",
       "52  {'logistic__C': 4, 'logistic__penalty': 'l1', ...           0.927163   \n",
       "53  {'logistic__C': 4, 'logistic__penalty': 'l1', ...           0.927150   \n",
       "54  {'logistic__C': 4, 'logistic__penalty': 'l1', ...           0.927147   \n",
       "55  {'logistic__C': 4, 'logistic__penalty': 'l2', ...           0.927355   \n",
       "56  {'logistic__C': 4, 'logistic__penalty': 'l2', ...           0.927280   \n",
       "57  {'logistic__C': 4, 'logistic__penalty': 'l2', ...           0.927155   \n",
       "58  {'logistic__C': 4, 'logistic__penalty': 'l2', ...           0.927150   \n",
       "59  {'logistic__C': 4, 'logistic__penalty': 'l2', ...           0.927143   \n",
       "60  {'logistic__C': 5, 'logistic__penalty': 'l1', ...           0.927353   \n",
       "61  {'logistic__C': 5, 'logistic__penalty': 'l1', ...           0.927284   \n",
       "62  {'logistic__C': 5, 'logistic__penalty': 'l1', ...           0.927159   \n",
       "63  {'logistic__C': 5, 'logistic__penalty': 'l1', ...           0.927152   \n",
       "64  {'logistic__C': 5, 'logistic__penalty': 'l1', ...           0.927146   \n",
       "65  {'logistic__C': 5, 'logistic__penalty': 'l2', ...           0.927351   \n",
       "66  {'logistic__C': 5, 'logistic__penalty': 'l2', ...           0.927282   \n",
       "67  {'logistic__C': 5, 'logistic__penalty': 'l2', ...           0.927154   \n",
       "68  {'logistic__C': 5, 'logistic__penalty': 'l2', ...           0.927152   \n",
       "69  {'logistic__C': 5, 'logistic__penalty': 'l2', ...           0.927159   \n",
       "70  {'logistic__C': 10, 'logistic__penalty': 'l1',...           0.927341   \n",
       "71  {'logistic__C': 10, 'logistic__penalty': 'l1',...           0.927277   \n",
       "72  {'logistic__C': 10, 'logistic__penalty': 'l1',...           0.927148   \n",
       "73  {'logistic__C': 10, 'logistic__penalty': 'l1',...           0.927150   \n",
       "74  {'logistic__C': 10, 'logistic__penalty': 'l1',...           0.927136   \n",
       "75  {'logistic__C': 10, 'logistic__penalty': 'l2',...           0.927349   \n",
       "76  {'logistic__C': 10, 'logistic__penalty': 'l2',...           0.927283   \n",
       "77  {'logistic__C': 10, 'logistic__penalty': 'l2',...           0.927156   \n",
       "78  {'logistic__C': 10, 'logistic__penalty': 'l2',...           0.927149   \n",
       "79  {'logistic__C': 10, 'logistic__penalty': 'l2',...           0.927140   \n",
       "\n",
       "    split1_test_score  split2_test_score  split3_test_score  \\\n",
       "0            0.924288           0.931101           0.936644   \n",
       "1            0.924290           0.930871           0.936639   \n",
       "2            0.924286           0.930881           0.936617   \n",
       "3            0.924239           0.930881           0.936618   \n",
       "4            0.924221           0.930948           0.936568   \n",
       "5            0.924208           0.931083           0.936751   \n",
       "6            0.924233           0.930771           0.936744   \n",
       "7            0.924233           0.930780           0.936705   \n",
       "8            0.924149           0.930760           0.936683   \n",
       "9            0.924066           0.930836           0.936563   \n",
       "10           0.924175           0.931058           0.936734   \n",
       "11           0.924181           0.930762           0.936741   \n",
       "12           0.924185           0.930786           0.936694   \n",
       "13           0.924106           0.930764           0.936690   \n",
       "14           0.924045           0.930827           0.936583   \n",
       "15           0.924151           0.931054           0.936767   \n",
       "16           0.924163           0.930716           0.936760   \n",
       "17           0.924156           0.930731           0.936711   \n",
       "18           0.924082           0.930727           0.936696   \n",
       "19           0.924025           0.930821           0.936565   \n",
       "20           0.924153           0.931057           0.936744   \n",
       "21           0.924156           0.930740           0.936748   \n",
       "22           0.924169           0.930754           0.936704   \n",
       "23           0.924085           0.930754           0.936699   \n",
       "24           0.924021           0.930825           0.936559   \n",
       "25           0.924141           0.931042           0.936761   \n",
       "26           0.924155           0.930711           0.936757   \n",
       "27           0.924154           0.930738           0.936711   \n",
       "28           0.924068           0.930728           0.936696   \n",
       "29           0.924009           0.930815           0.936571   \n",
       "..                ...                ...                ...   \n",
       "50           0.924136           0.931045           0.936747   \n",
       "51           0.924150           0.930714           0.936758   \n",
       "52           0.924157           0.930740           0.936708   \n",
       "53           0.924072           0.930728           0.936697   \n",
       "54           0.924013           0.930815           0.936571   \n",
       "55           0.924131           0.931039           0.936757   \n",
       "56           0.924147           0.930712           0.936756   \n",
       "57           0.924154           0.930731           0.936708   \n",
       "58           0.924069           0.930717           0.936700   \n",
       "59           0.924008           0.930815           0.936573   \n",
       "60           0.924135           0.931042           0.936750   \n",
       "61           0.924147           0.930706           0.936752   \n",
       "62           0.924160           0.930740           0.936711   \n",
       "63           0.924076           0.930723           0.936699   \n",
       "64           0.924012           0.930819           0.936569   \n",
       "65           0.924133           0.931040           0.936758   \n",
       "66           0.924147           0.930706           0.936752   \n",
       "67           0.924154           0.930729           0.936711   \n",
       "68           0.924073           0.930714           0.936702   \n",
       "69           0.924014           0.930815           0.936571   \n",
       "70           0.924132           0.931044           0.936751   \n",
       "71           0.924148           0.930708           0.936754   \n",
       "72           0.924159           0.930730           0.936708   \n",
       "73           0.924069           0.930724           0.936697   \n",
       "74           0.924012           0.930806           0.936565   \n",
       "75           0.924131           0.931041           0.936754   \n",
       "76           0.924146           0.930711           0.936755   \n",
       "77           0.924154           0.930732           0.936710   \n",
       "78           0.924066           0.930718           0.936698   \n",
       "79           0.924024           0.930821           0.936570   \n",
       "\n",
       "    split4_test_score  mean_test_score  std_test_score  rank_test_score  \n",
       "0            0.930051         0.929881        0.004125                2  \n",
       "1            0.930043         0.929829        0.004112               17  \n",
       "2            0.929971         0.929796        0.004115               21  \n",
       "3            0.929977         0.929787        0.004129               29  \n",
       "4            0.929973         0.929796        0.004115               20  \n",
       "5            0.930078         0.929888        0.004181                1  \n",
       "6            0.930059         0.929818        0.004160               18  \n",
       "7            0.929916         0.929757        0.004163               36  \n",
       "8            0.929915         0.929733        0.004176               50  \n",
       "9            0.929909         0.929707        0.004162               67  \n",
       "10           0.930063         0.929870        0.004183                4  \n",
       "11           0.930056         0.929802        0.004174               19  \n",
       "12           0.929929         0.929752        0.004171               37  \n",
       "13           0.929926         0.929729        0.004190               52  \n",
       "14           0.929921         0.929710        0.004173               65  \n",
       "15           0.930069         0.929874        0.004199                3  \n",
       "16           0.930044         0.929790        0.004184               25  \n",
       "17           0.929921         0.929732        0.004184               51  \n",
       "18           0.929916         0.929713        0.004198               56  \n",
       "19           0.929910         0.929696        0.004173               69  \n",
       "20           0.930066         0.929869        0.004191                5  \n",
       "21           0.930057         0.929795        0.004181               22  \n",
       "22           0.929926         0.929742        0.004178               38  \n",
       "23           0.929924         0.929723        0.004199               53  \n",
       "24           0.929923         0.929696        0.004174               68  \n",
       "25           0.930057         0.929868        0.004197                6  \n",
       "26           0.930046         0.929788        0.004184               26  \n",
       "27           0.929918         0.929734        0.004184               43  \n",
       "28           0.929917         0.929712        0.004201               59  \n",
       "29           0.929919         0.929690        0.004182               78  \n",
       "..                ...              ...             ...              ...  \n",
       "50           0.930061         0.929867        0.004194               11  \n",
       "51           0.930048         0.929791        0.004184               24  \n",
       "52           0.929922         0.929738        0.004181               41  \n",
       "53           0.929917         0.929712        0.004201               58  \n",
       "54           0.929920         0.929693        0.004180               73  \n",
       "55           0.930056         0.929867        0.004197               12  \n",
       "56           0.930046         0.929788        0.004185               28  \n",
       "57           0.929918         0.929733        0.004182               49  \n",
       "58           0.929916         0.929710        0.004202               63  \n",
       "59           0.929919         0.929691        0.004183               76  \n",
       "60           0.930062         0.929868        0.004195                8  \n",
       "61           0.930038         0.929785        0.004183               33  \n",
       "62           0.929920         0.929737        0.004181               42  \n",
       "63           0.929918         0.929713        0.004200               57  \n",
       "64           0.929914         0.929691        0.004180               75  \n",
       "65           0.930058         0.929868        0.004198               10  \n",
       "66           0.930046         0.929786        0.004183               32  \n",
       "67           0.929923         0.929734        0.004183               44  \n",
       "68           0.929911         0.929710        0.004201               64  \n",
       "69           0.929917         0.929695        0.004178               71  \n",
       "70           0.930058         0.929865        0.004197               16  \n",
       "71           0.930046         0.929786        0.004185               31  \n",
       "72           0.929924         0.929733        0.004182               47  \n",
       "73           0.929914         0.929710        0.004201               62  \n",
       "74           0.929912         0.929685        0.004179               80  \n",
       "75           0.930060         0.929866        0.004197               14  \n",
       "76           0.930041         0.929787        0.004185               30  \n",
       "77           0.929918         0.929733        0.004183               46  \n",
       "78           0.929917         0.929709        0.004202               66  \n",
       "79           0.929918         0.929694        0.004178               72  \n",
       "\n",
       "[80 rows x 16 columns]"
      ]
     },
     "execution_count": 153,
     "metadata": {},
     "output_type": "execute_result"
    }
   ],
   "source": [
    "# cross validation results\n",
    "pd.DataFrame(model.cv_results_)"
   ]
  },
  {
   "cell_type": "code",
   "execution_count": 154,
   "metadata": {},
   "outputs": [
    {
     "name": "stdout",
     "output_type": "stream",
     "text": [
      "Best AUC:  0.929887908360555\n",
      "Best hyperparameters:  {'logistic__C': 0.1, 'logistic__penalty': 'l2', 'pca__n_components': 16}\n"
     ]
    }
   ],
   "source": [
    "# print best hyperparameters\n",
    "print(\"Best AUC: \", model.best_score_)\n",
    "print(\"Best hyperparameters: \", model.best_params_)"
   ]
  },
  {
   "cell_type": "code",
   "execution_count": 155,
   "metadata": {
    "scrolled": true
   },
   "outputs": [
    {
     "name": "stdout",
     "output_type": "stream",
     "text": [
      "              precision    recall  f1-score   support\n",
      "\n",
      "           0       0.98      0.85      0.91     10473\n",
      "           1       0.44      0.88      0.58      1346\n",
      "\n",
      "    accuracy                           0.86     11819\n",
      "   macro avg       0.71      0.87      0.75     11819\n",
      "weighted avg       0.92      0.86      0.88     11819\n",
      "\n"
     ]
    }
   ],
   "source": [
    "from sklearn.metrics import classification_report\n",
    "print(classification_report(y_test,y_pred))"
   ]
  },
  {
   "cell_type": "code",
   "execution_count": 156,
   "metadata": {},
   "outputs": [
    {
     "name": "stdout",
     "output_type": "stream",
     "text": [
      "[[8936 1537]\n",
      " [ 160 1186]]\n",
      "Sensitivity: \t0.88\n",
      "Specificity: \t0.85\n",
      "AUC:    \t 0.93\n"
     ]
    }
   ],
   "source": [
    "# predict churn on test data\n",
    "y_pred = model.predict(X_test)\n",
    "\n",
    "# create onfusion matrix\n",
    "cm = confusion_matrix(y_test, y_pred)\n",
    "print(cm)\n",
    "\n",
    "# check sensitivity and specificity\n",
    "sensitivity, specificity, _ = sensitivity_specificity_support(y_test, y_pred, average='binary')\n",
    "print(\"Sensitivity: \\t\", round(sensitivity, 2), \"\\n\", \"Specificity: \\t\", round(specificity, 2), sep='')\n",
    "\n",
    "# check area under curve\n",
    "y_pred_prob = model.predict_proba(X_test)[:, 1]\n",
    "print(\"AUC:    \\t\", round(roc_auc_score(y_test, y_pred_prob),2))"
   ]
  },
  {
   "cell_type": "code",
   "execution_count": 157,
   "metadata": {
    "scrolled": true
   },
   "outputs": [
    {
     "data": {
      "text/plain": [
       "39042    0.555394\n",
       "24062    0.442172\n",
       "29297    0.200111\n",
       "24675    0.136245\n",
       "23264    0.018478\n",
       "9459     0.014405\n",
       "24820    0.011888\n",
       "14450    0.010828\n",
       "11787    0.004888\n",
       "14135    0.004828\n",
       "dtype: float64"
      ]
     },
     "execution_count": 157,
     "metadata": {},
     "output_type": "execute_result"
    }
   ],
   "source": [
    "# Use 'predict' to predict the probabilities on the train set\n",
    "\n",
    "\n",
    "y_train_pred = res.predict(X_train_sm)\n",
    "y_train_pred[:10].sort_values(ascending= False)"
   ]
  },
  {
   "cell_type": "code",
   "execution_count": 158,
   "metadata": {},
   "outputs": [
    {
     "data": {
      "text/plain": [
       "array([0.01082812, 0.55539436, 0.01440483, 0.01847797, 0.44217165,\n",
       "       0.13624468, 0.01188831, 0.20011061, 0.00482753, 0.00488842])"
      ]
     },
     "execution_count": 158,
     "metadata": {},
     "output_type": "execute_result"
    }
   ],
   "source": [
    "# Reshaping it into an array\n",
    "\n",
    "y_train_pred = y_train_pred.values.reshape(-1)\n",
    "y_train_pred[:10]"
   ]
  },
  {
   "cell_type": "code",
   "execution_count": 159,
   "metadata": {},
   "outputs": [
    {
     "data": {
      "text/html": [
       "<div>\n",
       "<style scoped>\n",
       "    .dataframe tbody tr th:only-of-type {\n",
       "        vertical-align: middle;\n",
       "    }\n",
       "\n",
       "    .dataframe tbody tr th {\n",
       "        vertical-align: top;\n",
       "    }\n",
       "\n",
       "    .dataframe thead th {\n",
       "        text-align: right;\n",
       "    }\n",
       "</style>\n",
       "<table border=\"1\" class=\"dataframe\">\n",
       "  <thead>\n",
       "    <tr style=\"text-align: right;\">\n",
       "      <th></th>\n",
       "      <th>Converted</th>\n",
       "      <th>Conversion_Prob</th>\n",
       "    </tr>\n",
       "  </thead>\n",
       "  <tbody>\n",
       "    <tr>\n",
       "      <th>0</th>\n",
       "      <td>0</td>\n",
       "      <td>0.010828</td>\n",
       "    </tr>\n",
       "    <tr>\n",
       "      <th>1</th>\n",
       "      <td>1</td>\n",
       "      <td>0.555394</td>\n",
       "    </tr>\n",
       "    <tr>\n",
       "      <th>2</th>\n",
       "      <td>0</td>\n",
       "      <td>0.014405</td>\n",
       "    </tr>\n",
       "    <tr>\n",
       "      <th>3</th>\n",
       "      <td>0</td>\n",
       "      <td>0.018478</td>\n",
       "    </tr>\n",
       "    <tr>\n",
       "      <th>4</th>\n",
       "      <td>1</td>\n",
       "      <td>0.442172</td>\n",
       "    </tr>\n",
       "  </tbody>\n",
       "</table>\n",
       "</div>"
      ],
      "text/plain": [
       "   Converted  Conversion_Prob\n",
       "0          0         0.010828\n",
       "1          1         0.555394\n",
       "2          0         0.014405\n",
       "3          0         0.018478\n",
       "4          1         0.442172"
      ]
     },
     "execution_count": 159,
     "metadata": {},
     "output_type": "execute_result"
    }
   ],
   "source": [
    "# Create a new dataframe containing the actual conversion flag and the probabilities predicted by the model\n",
    "\n",
    "y_train_pred_final = pd.DataFrame({'Converted':y_train.values, 'Conversion_Prob':y_train_pred})\n",
    "y_train_pred_final.head()"
   ]
  },
  {
   "cell_type": "code",
   "execution_count": 160,
   "metadata": {
    "scrolled": false
   },
   "outputs": [
    {
     "data": {
      "text/html": [
       "<div>\n",
       "<style scoped>\n",
       "    .dataframe tbody tr th:only-of-type {\n",
       "        vertical-align: middle;\n",
       "    }\n",
       "\n",
       "    .dataframe tbody tr th {\n",
       "        vertical-align: top;\n",
       "    }\n",
       "\n",
       "    .dataframe thead th {\n",
       "        text-align: right;\n",
       "    }\n",
       "</style>\n",
       "<table border=\"1\" class=\"dataframe\">\n",
       "  <thead>\n",
       "    <tr style=\"text-align: right;\">\n",
       "      <th></th>\n",
       "      <th>Converted</th>\n",
       "      <th>Conversion_Prob</th>\n",
       "      <th>Predicted</th>\n",
       "    </tr>\n",
       "  </thead>\n",
       "  <tbody>\n",
       "    <tr>\n",
       "      <th>0</th>\n",
       "      <td>0</td>\n",
       "      <td>0.010828</td>\n",
       "      <td>0</td>\n",
       "    </tr>\n",
       "    <tr>\n",
       "      <th>1</th>\n",
       "      <td>1</td>\n",
       "      <td>0.555394</td>\n",
       "      <td>1</td>\n",
       "    </tr>\n",
       "    <tr>\n",
       "      <th>2</th>\n",
       "      <td>0</td>\n",
       "      <td>0.014405</td>\n",
       "      <td>0</td>\n",
       "    </tr>\n",
       "    <tr>\n",
       "      <th>3</th>\n",
       "      <td>0</td>\n",
       "      <td>0.018478</td>\n",
       "      <td>0</td>\n",
       "    </tr>\n",
       "    <tr>\n",
       "      <th>4</th>\n",
       "      <td>1</td>\n",
       "      <td>0.442172</td>\n",
       "      <td>0</td>\n",
       "    </tr>\n",
       "  </tbody>\n",
       "</table>\n",
       "</div>"
      ],
      "text/plain": [
       "   Converted  Conversion_Prob  Predicted\n",
       "0          0         0.010828          0\n",
       "1          1         0.555394          1\n",
       "2          0         0.014405          0\n",
       "3          0         0.018478          0\n",
       "4          1         0.442172          0"
      ]
     },
     "execution_count": 160,
     "metadata": {},
     "output_type": "execute_result"
    }
   ],
   "source": [
    "y_train_pred_final['Predicted'] = y_train_pred_final.Conversion_Prob.map(lambda x: 1 if x > 0.5 else 0)\n",
    "\n",
    "# Let's see the head\n",
    "y_train_pred_final.head()"
   ]
  },
  {
   "cell_type": "markdown",
   "metadata": {},
   "source": [
    "#### Plotting ROC curve"
   ]
  },
  {
   "cell_type": "code",
   "execution_count": 161,
   "metadata": {},
   "outputs": [],
   "source": [
    "# ROC function\n",
    "\n",
    "def draw_roc( actual, probs ):\n",
    "    fpr, tpr, thresholds = metrics.roc_curve( actual, probs,\n",
    "                                              drop_intermediate = False )\n",
    "    auc_score = metrics.roc_auc_score( actual, probs )\n",
    "    plt.figure(figsize=(5, 5))\n",
    "    plt.plot( fpr, tpr, label='ROC curve (area = %0.2f)' % auc_score )\n",
    "    plt.plot([0, 1], [0, 1], 'k--')\n",
    "    plt.xlim([0.0, 1.0])\n",
    "    plt.ylim([0.0, 1.05])\n",
    "    plt.xlabel('False Positive Rate or [1 - True Negative Rate]')\n",
    "    plt.ylabel('True Positive Rate')\n",
    "    plt.title('Receiver operating characteristic example')\n",
    "    plt.legend(loc=\"lower right\")\n",
    "    plt.show()\n",
    "\n",
    "    return None"
   ]
  },
  {
   "cell_type": "code",
   "execution_count": 162,
   "metadata": {},
   "outputs": [],
   "source": [
    "fpr, tpr, thresholds = metrics.roc_curve( y_train_pred_final.Converted, y_train_pred_final.Conversion_Prob, drop_intermediate = False )"
   ]
  },
  {
   "cell_type": "code",
   "execution_count": 163,
   "metadata": {},
   "outputs": [],
   "source": [
    "# Import matplotlib to plot the ROC curve\n",
    "\n",
    "import matplotlib.pyplot as plt"
   ]
  },
  {
   "cell_type": "code",
   "execution_count": 164,
   "metadata": {},
   "outputs": [
    {
     "data": {
      "image/png": "[encoded data removed]",
      "text/plain": [
       "<Figure size 360x360 with 1 Axes>"
      ]
     },
     "metadata": {
      "needs_background": "light"
     },
     "output_type": "display_data"
    }
   ],
   "source": [
    "# Call the ROC function\n",
    "\n",
    "draw_roc(y_train_pred_final.Converted, y_train_pred_final.Conversion_Prob)"
   ]
  },
  {
   "cell_type": "markdown",
   "metadata": {},
   "source": [
    "The area under the curve of the ROC is 0.94 which is quite good. So we seem to have a good model. Let's also check the sensitivity and specificity tradeoff to find the optimal cutoff point."
   ]
  },
  {
   "cell_type": "code",
   "execution_count": 165,
   "metadata": {},
   "outputs": [
    {
     "data": {
      "text/html": [
       "<div>\n",
       "<style scoped>\n",
       "    .dataframe tbody tr th:only-of-type {\n",
       "        vertical-align: middle;\n",
       "    }\n",
       "\n",
       "    .dataframe tbody tr th {\n",
       "        vertical-align: top;\n",
       "    }\n",
       "\n",
       "    .dataframe thead th {\n",
       "        text-align: right;\n",
       "    }\n",
       "</style>\n",
       "<table border=\"1\" class=\"dataframe\">\n",
       "  <thead>\n",
       "    <tr style=\"text-align: right;\">\n",
       "      <th></th>\n",
       "      <th>Converted</th>\n",
       "      <th>Conversion_Prob</th>\n",
       "      <th>Predicted</th>\n",
       "      <th>0.0</th>\n",
       "      <th>0.1</th>\n",
       "      <th>0.2</th>\n",
       "      <th>0.3</th>\n",
       "      <th>0.4</th>\n",
       "      <th>0.5</th>\n",
       "      <th>0.6</th>\n",
       "      <th>0.7</th>\n",
       "      <th>0.8</th>\n",
       "      <th>0.9</th>\n",
       "    </tr>\n",
       "  </thead>\n",
       "  <tbody>\n",
       "    <tr>\n",
       "      <th>0</th>\n",
       "      <td>0</td>\n",
       "      <td>0.010828</td>\n",
       "      <td>0</td>\n",
       "      <td>1</td>\n",
       "      <td>0</td>\n",
       "      <td>0</td>\n",
       "      <td>0</td>\n",
       "      <td>0</td>\n",
       "      <td>0</td>\n",
       "      <td>0</td>\n",
       "      <td>0</td>\n",
       "      <td>0</td>\n",
       "      <td>0</td>\n",
       "    </tr>\n",
       "    <tr>\n",
       "      <th>1</th>\n",
       "      <td>1</td>\n",
       "      <td>0.555394</td>\n",
       "      <td>1</td>\n",
       "      <td>1</td>\n",
       "      <td>1</td>\n",
       "      <td>1</td>\n",
       "      <td>1</td>\n",
       "      <td>1</td>\n",
       "      <td>1</td>\n",
       "      <td>0</td>\n",
       "      <td>0</td>\n",
       "      <td>0</td>\n",
       "      <td>0</td>\n",
       "    </tr>\n",
       "    <tr>\n",
       "      <th>2</th>\n",
       "      <td>0</td>\n",
       "      <td>0.014405</td>\n",
       "      <td>0</td>\n",
       "      <td>1</td>\n",
       "      <td>0</td>\n",
       "      <td>0</td>\n",
       "      <td>0</td>\n",
       "      <td>0</td>\n",
       "      <td>0</td>\n",
       "      <td>0</td>\n",
       "      <td>0</td>\n",
       "      <td>0</td>\n",
       "      <td>0</td>\n",
       "    </tr>\n",
       "    <tr>\n",
       "      <th>3</th>\n",
       "      <td>0</td>\n",
       "      <td>0.018478</td>\n",
       "      <td>0</td>\n",
       "      <td>1</td>\n",
       "      <td>0</td>\n",
       "      <td>0</td>\n",
       "      <td>0</td>\n",
       "      <td>0</td>\n",
       "      <td>0</td>\n",
       "      <td>0</td>\n",
       "      <td>0</td>\n",
       "      <td>0</td>\n",
       "      <td>0</td>\n",
       "    </tr>\n",
       "    <tr>\n",
       "      <th>4</th>\n",
       "      <td>1</td>\n",
       "      <td>0.442172</td>\n",
       "      <td>0</td>\n",
       "      <td>1</td>\n",
       "      <td>1</td>\n",
       "      <td>1</td>\n",
       "      <td>1</td>\n",
       "      <td>1</td>\n",
       "      <td>0</td>\n",
       "      <td>0</td>\n",
       "      <td>0</td>\n",
       "      <td>0</td>\n",
       "      <td>0</td>\n",
       "    </tr>\n",
       "  </tbody>\n",
       "</table>\n",
       "</div>"
      ],
      "text/plain": [
       "   Converted  Conversion_Prob  Predicted  0.0  0.1  0.2  0.3  0.4  0.5  0.6  \\\n",
       "0          0         0.010828          0    1    0    0    0    0    0    0   \n",
       "1          1         0.555394          1    1    1    1    1    1    1    0   \n",
       "2          0         0.014405          0    1    0    0    0    0    0    0   \n",
       "3          0         0.018478          0    1    0    0    0    0    0    0   \n",
       "4          1         0.442172          0    1    1    1    1    1    0    0   \n",
       "\n",
       "   0.7  0.8  0.9  \n",
       "0    0    0    0  \n",
       "1    0    0    0  \n",
       "2    0    0    0  \n",
       "3    0    0    0  \n",
       "4    0    0    0  "
      ]
     },
     "execution_count": 165,
     "metadata": {},
     "output_type": "execute_result"
    }
   ],
   "source": [
    "# Let's create columns with different probability cutoffs \n",
    "\n",
    "numbers = [float(x)/10 for x in range(10)]\n",
    "for i in numbers:\n",
    "    y_train_pred_final[i]= y_train_pred_final.Conversion_Prob.map(lambda x: 1 if x > i else 0)\n",
    "y_train_pred_final.head()"
   ]
  },
  {
   "cell_type": "code",
   "execution_count": 166,
   "metadata": {},
   "outputs": [
    {
     "name": "stdout",
     "output_type": "stream",
     "text": [
      "     prob  accuracy     sensi     speci\n",
      "0.0   0.0  0.110317  1.000000  0.000000\n",
      "0.1   0.1  0.850118  0.897765  0.844210\n",
      "0.2   0.2  0.893817  0.752137  0.911385\n",
      "0.3   0.3  0.910680  0.621631  0.946521\n",
      "0.4   0.4  0.912820  0.503616  0.963559\n",
      "0.5   0.5  0.912167  0.415516  0.973750\n",
      "0.6   0.6  0.908903  0.325773  0.981209\n",
      "0.7   0.7  0.905385  0.244576  0.987323\n",
      "0.8   0.8  0.900780  0.160092  0.992622\n",
      "0.9   0.9  0.895775  0.085141  0.996291\n"
     ]
    }
   ],
   "source": [
    "# Let's create a dataframe to see the values of accuracy, sensitivity, and specificity at different values of probabiity cutoffs\n",
    "\n",
    "cutoff_df = pd.DataFrame( columns = ['prob','accuracy','sensi','speci'])\n",
    "from sklearn.metrics import confusion_matrix\n",
    "\n",
    "# TP = confusion[1,1] # true positive \n",
    "# TN = confusion[0,0] # true negatives\n",
    "# FP = confusion[0,1] # false positives\n",
    "# FN = confusion[1,0] # false negatives\n",
    "\n",
    "num = [0.0,0.1,0.2,0.3,0.4,0.5,0.6,0.7,0.8,0.9]\n",
    "for i in num:\n",
    "    cm1 = metrics.confusion_matrix(y_train_pred_final.Converted, y_train_pred_final[i] )\n",
    "    total1=sum(sum(cm1))\n",
    "    accuracy = (cm1[0,0]+cm1[1,1])/total1\n",
    "    \n",
    "    speci = cm1[0,0]/(cm1[0,0]+cm1[0,1])\n",
    "    sensi = cm1[1,1]/(cm1[1,0]+cm1[1,1])\n",
    "    cutoff_df.loc[i] =[ i ,accuracy,sensi,speci]\n",
    "print(cutoff_df)"
   ]
  },
  {
   "cell_type": "code",
   "execution_count": 167,
   "metadata": {},
   "outputs": [
    {
     "data": {
      "image/png": "[encoded data removed]",
      "text/plain": [
       "<Figure size 432x288 with 1 Axes>"
      ]
     },
     "metadata": {
      "needs_background": "light"
     },
     "output_type": "display_data"
    }
   ],
   "source": [
    "# Let's plot it as well\n",
    "\n",
    "cutoff_df.plot.line(x='prob', y=['accuracy','sensi','speci'])\n",
    "plt.show()"
   ]
  },
  {
   "cell_type": "markdown",
   "metadata": {},
   "source": [
    "As you can see that around 0.13, you get the optimal values of the three metrics. So let's choose 0.13 as our cutoff now."
   ]
  },
  {
   "cell_type": "code",
   "execution_count": 168,
   "metadata": {},
   "outputs": [
    {
     "data": {
      "text/html": [
       "<div>\n",
       "<style scoped>\n",
       "    .dataframe tbody tr th:only-of-type {\n",
       "        vertical-align: middle;\n",
       "    }\n",
       "\n",
       "    .dataframe tbody tr th {\n",
       "        vertical-align: top;\n",
       "    }\n",
       "\n",
       "    .dataframe thead th {\n",
       "        text-align: right;\n",
       "    }\n",
       "</style>\n",
       "<table border=\"1\" class=\"dataframe\">\n",
       "  <thead>\n",
       "    <tr style=\"text-align: right;\">\n",
       "      <th></th>\n",
       "      <th>Converted</th>\n",
       "      <th>Conversion_Prob</th>\n",
       "      <th>Predicted</th>\n",
       "      <th>0.0</th>\n",
       "      <th>0.1</th>\n",
       "      <th>0.2</th>\n",
       "      <th>0.3</th>\n",
       "      <th>0.4</th>\n",
       "      <th>0.5</th>\n",
       "      <th>0.6</th>\n",
       "      <th>0.7</th>\n",
       "      <th>0.8</th>\n",
       "      <th>0.9</th>\n",
       "      <th>final_predicted</th>\n",
       "    </tr>\n",
       "  </thead>\n",
       "  <tbody>\n",
       "    <tr>\n",
       "      <th>0</th>\n",
       "      <td>0</td>\n",
       "      <td>0.010828</td>\n",
       "      <td>0</td>\n",
       "      <td>1</td>\n",
       "      <td>0</td>\n",
       "      <td>0</td>\n",
       "      <td>0</td>\n",
       "      <td>0</td>\n",
       "      <td>0</td>\n",
       "      <td>0</td>\n",
       "      <td>0</td>\n",
       "      <td>0</td>\n",
       "      <td>0</td>\n",
       "      <td>0</td>\n",
       "    </tr>\n",
       "    <tr>\n",
       "      <th>1</th>\n",
       "      <td>1</td>\n",
       "      <td>0.555394</td>\n",
       "      <td>1</td>\n",
       "      <td>1</td>\n",
       "      <td>1</td>\n",
       "      <td>1</td>\n",
       "      <td>1</td>\n",
       "      <td>1</td>\n",
       "      <td>1</td>\n",
       "      <td>0</td>\n",
       "      <td>0</td>\n",
       "      <td>0</td>\n",
       "      <td>0</td>\n",
       "      <td>1</td>\n",
       "    </tr>\n",
       "    <tr>\n",
       "      <th>2</th>\n",
       "      <td>0</td>\n",
       "      <td>0.014405</td>\n",
       "      <td>0</td>\n",
       "      <td>1</td>\n",
       "      <td>0</td>\n",
       "      <td>0</td>\n",
       "      <td>0</td>\n",
       "      <td>0</td>\n",
       "      <td>0</td>\n",
       "      <td>0</td>\n",
       "      <td>0</td>\n",
       "      <td>0</td>\n",
       "      <td>0</td>\n",
       "      <td>0</td>\n",
       "    </tr>\n",
       "    <tr>\n",
       "      <th>3</th>\n",
       "      <td>0</td>\n",
       "      <td>0.018478</td>\n",
       "      <td>0</td>\n",
       "      <td>1</td>\n",
       "      <td>0</td>\n",
       "      <td>0</td>\n",
       "      <td>0</td>\n",
       "      <td>0</td>\n",
       "      <td>0</td>\n",
       "      <td>0</td>\n",
       "      <td>0</td>\n",
       "      <td>0</td>\n",
       "      <td>0</td>\n",
       "      <td>0</td>\n",
       "    </tr>\n",
       "    <tr>\n",
       "      <th>4</th>\n",
       "      <td>1</td>\n",
       "      <td>0.442172</td>\n",
       "      <td>0</td>\n",
       "      <td>1</td>\n",
       "      <td>1</td>\n",
       "      <td>1</td>\n",
       "      <td>1</td>\n",
       "      <td>1</td>\n",
       "      <td>0</td>\n",
       "      <td>0</td>\n",
       "      <td>0</td>\n",
       "      <td>0</td>\n",
       "      <td>0</td>\n",
       "      <td>1</td>\n",
       "    </tr>\n",
       "  </tbody>\n",
       "</table>\n",
       "</div>"
      ],
      "text/plain": [
       "   Converted  Conversion_Prob  Predicted  0.0  0.1  0.2  0.3  0.4  0.5  0.6  \\\n",
       "0          0         0.010828          0    1    0    0    0    0    0    0   \n",
       "1          1         0.555394          1    1    1    1    1    1    1    0   \n",
       "2          0         0.014405          0    1    0    0    0    0    0    0   \n",
       "3          0         0.018478          0    1    0    0    0    0    0    0   \n",
       "4          1         0.442172          0    1    1    1    1    1    0    0   \n",
       "\n",
       "   0.7  0.8  0.9  final_predicted  \n",
       "0    0    0    0                0  \n",
       "1    0    0    0                1  \n",
       "2    0    0    0                0  \n",
       "3    0    0    0                0  \n",
       "4    0    0    0                1  "
      ]
     },
     "execution_count": 168,
     "metadata": {},
     "output_type": "execute_result"
    }
   ],
   "source": [
    "y_train_pred_final['final_predicted'] = y_train_pred_final.Conversion_Prob.map( lambda x: 1 if x > 0.13 else 0)\n",
    "\n",
    "y_train_pred_final.head()"
   ]
  },
  {
   "cell_type": "code",
   "execution_count": 169,
   "metadata": {},
   "outputs": [
    {
     "data": {
      "text/plain": [
       "0.8681414324569356"
      ]
     },
     "execution_count": 169,
     "metadata": {},
     "output_type": "execute_result"
    }
   ],
   "source": [
    "# Let's check the accuracy now\n",
    "\n",
    "metrics.accuracy_score(y_train_pred_final.Converted, y_train_pred_final.final_predicted)"
   ]
  },
  {
   "cell_type": "code",
   "execution_count": 170,
   "metadata": {},
   "outputs": [
    {
     "name": "stdout",
     "output_type": "stream",
     "text": [
      "Best AUC:  0.929887908360555\n",
      "Best hyperparameters:  {'logistic__C': 0.1, 'logistic__penalty': 'l2', 'pca__n_components': 16}\n"
     ]
    }
   ],
   "source": [
    "# print best hyperparameters\n",
    "print(\"Best AUC: \", model.best_score_)\n",
    "print(\"Best hyperparameters: \", model.best_params_)"
   ]
  },
  {
   "cell_type": "code",
   "execution_count": 171,
   "metadata": {
    "scrolled": true
   },
   "outputs": [
    {
     "name": "stdout",
     "output_type": "stream",
     "text": [
      "[[8936 1537]\n",
      " [ 160 1186]]\n",
      "Sensitivity: \t0.88\n",
      "Specificity: \t0.85\n",
      "AUC:    \t 0.93\n"
     ]
    }
   ],
   "source": [
    "# predict churn on test data\n",
    "y_pred = model.predict(X_test)\n",
    "\n",
    "# create onfusion matrix\n",
    "cm = confusion_matrix(y_test, y_pred)\n",
    "print(cm)\n",
    "\n",
    "# check sensitivity and specificity\n",
    "sensitivity, specificity, _ = sensitivity_specificity_support(y_test, y_pred, average='binary')\n",
    "print(\"Sensitivity: \\t\", round(sensitivity, 2), \"\\n\", \"Specificity: \\t\", round(specificity, 2), sep='')\n",
    "\n",
    "# check area under curve\n",
    "y_pred_prob = model.predict_proba(X_test)[:, 1]\n",
    "print(\"AUC:    \\t\", round(roc_auc_score(y_test, y_pred_prob),2))"
   ]
  },
  {
   "cell_type": "markdown",
   "metadata": {},
   "source": [
    "#### Create a new data frame"
   ]
  },
  {
   "cell_type": "code",
   "execution_count": 172,
   "metadata": {},
   "outputs": [],
   "source": [
    "pred_prob = pd.DataFrame(pd.Series(y_pred_prob), columns = ['pred_prob'])"
   ]
  },
  {
   "cell_type": "code",
   "execution_count": 173,
   "metadata": {},
   "outputs": [],
   "source": [
    "decile_df = pd.concat([pd.DataFrame(y_test).reset_index(), pred_prob], ignore_index=True,axis=1)"
   ]
  },
  {
   "cell_type": "code",
   "execution_count": 174,
   "metadata": {},
   "outputs": [],
   "source": [
    "decile_df.drop(0, inplace=True, axis = 1)"
   ]
  },
  {
   "cell_type": "code",
   "execution_count": 175,
   "metadata": {},
   "outputs": [],
   "source": [
    "decile_df.rename({1:'ActualResponse', 2:'PredictedProbabilityResponse'}, axis=1, inplace=True)"
   ]
  },
  {
   "cell_type": "code",
   "execution_count": 176,
   "metadata": {},
   "outputs": [],
   "source": [
    "decile_df['PredictedResponse'] = decile_df.PredictedProbabilityResponse.map( lambda x: 1 if x > 0.13 else 0)"
   ]
  },
  {
   "cell_type": "code",
   "execution_count": 177,
   "metadata": {},
   "outputs": [],
   "source": [
    "decile_df['ProspectID'] = range(1, len(decile_df.index)+1)"
   ]
  },
  {
   "cell_type": "code",
   "execution_count": 178,
   "metadata": {},
   "outputs": [],
   "source": [
    "decile_df['CallDuration']=X_train.duration"
   ]
  },
  {
   "cell_type": "code",
   "execution_count": 179,
   "metadata": {},
   "outputs": [],
   "source": [
    "#lets assume that the call is one rupee per minute\n",
    "decile_df['CostofCall'] = decile_df.CallDuration*1"
   ]
  },
  {
   "cell_type": "code",
   "execution_count": 180,
   "metadata": {},
   "outputs": [],
   "source": [
    "decile_df=decile_df.dropna()"
   ]
  },
  {
   "cell_type": "code",
   "execution_count": 181,
   "metadata": {},
   "outputs": [
    {
     "data": {
      "text/html": [
       "<div>\n",
       "<style scoped>\n",
       "    .dataframe tbody tr th:only-of-type {\n",
       "        vertical-align: middle;\n",
       "    }\n",
       "\n",
       "    .dataframe tbody tr th {\n",
       "        vertical-align: top;\n",
       "    }\n",
       "\n",
       "    .dataframe thead th {\n",
       "        text-align: right;\n",
       "    }\n",
       "</style>\n",
       "<table border=\"1\" class=\"dataframe\">\n",
       "  <thead>\n",
       "    <tr style=\"text-align: right;\">\n",
       "      <th></th>\n",
       "      <th>ActualResponse</th>\n",
       "      <th>PredictedProbabilityResponse</th>\n",
       "      <th>PredictedResponse</th>\n",
       "      <th>ProspectID</th>\n",
       "      <th>CallDuration</th>\n",
       "      <th>CostofCall</th>\n",
       "    </tr>\n",
       "  </thead>\n",
       "  <tbody>\n",
       "    <tr>\n",
       "      <th>11398</th>\n",
       "      <td>1</td>\n",
       "      <td>1.000000</td>\n",
       "      <td>1</td>\n",
       "      <td>11399</td>\n",
       "      <td>2.78</td>\n",
       "      <td>2.78</td>\n",
       "    </tr>\n",
       "    <tr>\n",
       "      <th>1315</th>\n",
       "      <td>1</td>\n",
       "      <td>1.000000</td>\n",
       "      <td>1</td>\n",
       "      <td>1316</td>\n",
       "      <td>6.07</td>\n",
       "      <td>6.07</td>\n",
       "    </tr>\n",
       "    <tr>\n",
       "      <th>7861</th>\n",
       "      <td>0</td>\n",
       "      <td>1.000000</td>\n",
       "      <td>1</td>\n",
       "      <td>7862</td>\n",
       "      <td>7.73</td>\n",
       "      <td>7.73</td>\n",
       "    </tr>\n",
       "    <tr>\n",
       "      <th>11221</th>\n",
       "      <td>1</td>\n",
       "      <td>1.000000</td>\n",
       "      <td>1</td>\n",
       "      <td>11222</td>\n",
       "      <td>0.87</td>\n",
       "      <td>0.87</td>\n",
       "    </tr>\n",
       "    <tr>\n",
       "      <th>11278</th>\n",
       "      <td>1</td>\n",
       "      <td>0.999999</td>\n",
       "      <td>1</td>\n",
       "      <td>11279</td>\n",
       "      <td>0.27</td>\n",
       "      <td>0.27</td>\n",
       "    </tr>\n",
       "    <tr>\n",
       "      <th>350</th>\n",
       "      <td>0</td>\n",
       "      <td>0.999992</td>\n",
       "      <td>1</td>\n",
       "      <td>351</td>\n",
       "      <td>2.90</td>\n",
       "      <td>2.90</td>\n",
       "    </tr>\n",
       "    <tr>\n",
       "      <th>1541</th>\n",
       "      <td>1</td>\n",
       "      <td>0.999988</td>\n",
       "      <td>1</td>\n",
       "      <td>1542</td>\n",
       "      <td>3.33</td>\n",
       "      <td>3.33</td>\n",
       "    </tr>\n",
       "    <tr>\n",
       "      <th>9222</th>\n",
       "      <td>1</td>\n",
       "      <td>0.999988</td>\n",
       "      <td>1</td>\n",
       "      <td>9223</td>\n",
       "      <td>2.27</td>\n",
       "      <td>2.27</td>\n",
       "    </tr>\n",
       "    <tr>\n",
       "      <th>1756</th>\n",
       "      <td>0</td>\n",
       "      <td>0.999983</td>\n",
       "      <td>1</td>\n",
       "      <td>1757</td>\n",
       "      <td>2.42</td>\n",
       "      <td>2.42</td>\n",
       "    </tr>\n",
       "    <tr>\n",
       "      <th>3807</th>\n",
       "      <td>0</td>\n",
       "      <td>0.999981</td>\n",
       "      <td>1</td>\n",
       "      <td>3808</td>\n",
       "      <td>18.80</td>\n",
       "      <td>18.80</td>\n",
       "    </tr>\n",
       "    <tr>\n",
       "      <th>8359</th>\n",
       "      <td>0</td>\n",
       "      <td>0.999965</td>\n",
       "      <td>1</td>\n",
       "      <td>8360</td>\n",
       "      <td>3.35</td>\n",
       "      <td>3.35</td>\n",
       "    </tr>\n",
       "    <tr>\n",
       "      <th>2245</th>\n",
       "      <td>1</td>\n",
       "      <td>0.999949</td>\n",
       "      <td>1</td>\n",
       "      <td>2246</td>\n",
       "      <td>1.35</td>\n",
       "      <td>1.35</td>\n",
       "    </tr>\n",
       "    <tr>\n",
       "      <th>6609</th>\n",
       "      <td>1</td>\n",
       "      <td>0.999941</td>\n",
       "      <td>1</td>\n",
       "      <td>6610</td>\n",
       "      <td>0.13</td>\n",
       "      <td>0.13</td>\n",
       "    </tr>\n",
       "    <tr>\n",
       "      <th>9280</th>\n",
       "      <td>0</td>\n",
       "      <td>0.999926</td>\n",
       "      <td>1</td>\n",
       "      <td>9281</td>\n",
       "      <td>7.67</td>\n",
       "      <td>7.67</td>\n",
       "    </tr>\n",
       "    <tr>\n",
       "      <th>10111</th>\n",
       "      <td>0</td>\n",
       "      <td>0.999850</td>\n",
       "      <td>1</td>\n",
       "      <td>10112</td>\n",
       "      <td>2.23</td>\n",
       "      <td>2.23</td>\n",
       "    </tr>\n",
       "    <tr>\n",
       "      <th>2724</th>\n",
       "      <td>1</td>\n",
       "      <td>0.999843</td>\n",
       "      <td>1</td>\n",
       "      <td>2725</td>\n",
       "      <td>3.97</td>\n",
       "      <td>3.97</td>\n",
       "    </tr>\n",
       "    <tr>\n",
       "      <th>11393</th>\n",
       "      <td>1</td>\n",
       "      <td>0.999838</td>\n",
       "      <td>1</td>\n",
       "      <td>11394</td>\n",
       "      <td>0.70</td>\n",
       "      <td>0.70</td>\n",
       "    </tr>\n",
       "    <tr>\n",
       "      <th>1597</th>\n",
       "      <td>0</td>\n",
       "      <td>0.999818</td>\n",
       "      <td>1</td>\n",
       "      <td>1598</td>\n",
       "      <td>1.62</td>\n",
       "      <td>1.62</td>\n",
       "    </tr>\n",
       "    <tr>\n",
       "      <th>6701</th>\n",
       "      <td>1</td>\n",
       "      <td>0.999813</td>\n",
       "      <td>1</td>\n",
       "      <td>6702</td>\n",
       "      <td>1.48</td>\n",
       "      <td>1.48</td>\n",
       "    </tr>\n",
       "    <tr>\n",
       "      <th>119</th>\n",
       "      <td>1</td>\n",
       "      <td>0.999805</td>\n",
       "      <td>1</td>\n",
       "      <td>120</td>\n",
       "      <td>2.97</td>\n",
       "      <td>2.97</td>\n",
       "    </tr>\n",
       "    <tr>\n",
       "      <th>2748</th>\n",
       "      <td>1</td>\n",
       "      <td>0.999798</td>\n",
       "      <td>1</td>\n",
       "      <td>2749</td>\n",
       "      <td>5.00</td>\n",
       "      <td>5.00</td>\n",
       "    </tr>\n",
       "    <tr>\n",
       "      <th>9687</th>\n",
       "      <td>0</td>\n",
       "      <td>0.999777</td>\n",
       "      <td>1</td>\n",
       "      <td>9688</td>\n",
       "      <td>3.70</td>\n",
       "      <td>3.70</td>\n",
       "    </tr>\n",
       "    <tr>\n",
       "      <th>7153</th>\n",
       "      <td>1</td>\n",
       "      <td>0.999754</td>\n",
       "      <td>1</td>\n",
       "      <td>7154</td>\n",
       "      <td>0.67</td>\n",
       "      <td>0.67</td>\n",
       "    </tr>\n",
       "    <tr>\n",
       "      <th>412</th>\n",
       "      <td>0</td>\n",
       "      <td>0.999646</td>\n",
       "      <td>1</td>\n",
       "      <td>413</td>\n",
       "      <td>3.78</td>\n",
       "      <td>3.78</td>\n",
       "    </tr>\n",
       "    <tr>\n",
       "      <th>7566</th>\n",
       "      <td>1</td>\n",
       "      <td>0.999641</td>\n",
       "      <td>1</td>\n",
       "      <td>7567</td>\n",
       "      <td>8.58</td>\n",
       "      <td>8.58</td>\n",
       "    </tr>\n",
       "    <tr>\n",
       "      <th>389</th>\n",
       "      <td>1</td>\n",
       "      <td>0.999556</td>\n",
       "      <td>1</td>\n",
       "      <td>390</td>\n",
       "      <td>17.17</td>\n",
       "      <td>17.17</td>\n",
       "    </tr>\n",
       "    <tr>\n",
       "      <th>769</th>\n",
       "      <td>1</td>\n",
       "      <td>0.999540</td>\n",
       "      <td>1</td>\n",
       "      <td>770</td>\n",
       "      <td>3.60</td>\n",
       "      <td>3.60</td>\n",
       "    </tr>\n",
       "    <tr>\n",
       "      <th>6482</th>\n",
       "      <td>1</td>\n",
       "      <td>0.999481</td>\n",
       "      <td>1</td>\n",
       "      <td>6483</td>\n",
       "      <td>1.58</td>\n",
       "      <td>1.58</td>\n",
       "    </tr>\n",
       "    <tr>\n",
       "      <th>2821</th>\n",
       "      <td>1</td>\n",
       "      <td>0.999420</td>\n",
       "      <td>1</td>\n",
       "      <td>2822</td>\n",
       "      <td>3.32</td>\n",
       "      <td>3.32</td>\n",
       "    </tr>\n",
       "    <tr>\n",
       "      <th>121</th>\n",
       "      <td>1</td>\n",
       "      <td>0.999391</td>\n",
       "      <td>1</td>\n",
       "      <td>122</td>\n",
       "      <td>7.32</td>\n",
       "      <td>7.32</td>\n",
       "    </tr>\n",
       "    <tr>\n",
       "      <th>...</th>\n",
       "      <td>...</td>\n",
       "      <td>...</td>\n",
       "      <td>...</td>\n",
       "      <td>...</td>\n",
       "      <td>...</td>\n",
       "      <td>...</td>\n",
       "    </tr>\n",
       "    <tr>\n",
       "      <th>10462</th>\n",
       "      <td>0</td>\n",
       "      <td>0.007988</td>\n",
       "      <td>0</td>\n",
       "      <td>10463</td>\n",
       "      <td>5.38</td>\n",
       "      <td>5.38</td>\n",
       "    </tr>\n",
       "    <tr>\n",
       "      <th>7108</th>\n",
       "      <td>0</td>\n",
       "      <td>0.007949</td>\n",
       "      <td>0</td>\n",
       "      <td>7109</td>\n",
       "      <td>3.33</td>\n",
       "      <td>3.33</td>\n",
       "    </tr>\n",
       "    <tr>\n",
       "      <th>1287</th>\n",
       "      <td>0</td>\n",
       "      <td>0.007884</td>\n",
       "      <td>0</td>\n",
       "      <td>1288</td>\n",
       "      <td>1.00</td>\n",
       "      <td>1.00</td>\n",
       "    </tr>\n",
       "    <tr>\n",
       "      <th>379</th>\n",
       "      <td>0</td>\n",
       "      <td>0.007760</td>\n",
       "      <td>0</td>\n",
       "      <td>380</td>\n",
       "      <td>0.30</td>\n",
       "      <td>0.30</td>\n",
       "    </tr>\n",
       "    <tr>\n",
       "      <th>2484</th>\n",
       "      <td>0</td>\n",
       "      <td>0.007749</td>\n",
       "      <td>0</td>\n",
       "      <td>2485</td>\n",
       "      <td>0.32</td>\n",
       "      <td>0.32</td>\n",
       "    </tr>\n",
       "    <tr>\n",
       "      <th>8283</th>\n",
       "      <td>0</td>\n",
       "      <td>0.007717</td>\n",
       "      <td>0</td>\n",
       "      <td>8284</td>\n",
       "      <td>3.22</td>\n",
       "      <td>3.22</td>\n",
       "    </tr>\n",
       "    <tr>\n",
       "      <th>6753</th>\n",
       "      <td>0</td>\n",
       "      <td>0.007625</td>\n",
       "      <td>0</td>\n",
       "      <td>6754</td>\n",
       "      <td>11.12</td>\n",
       "      <td>11.12</td>\n",
       "    </tr>\n",
       "    <tr>\n",
       "      <th>2834</th>\n",
       "      <td>0</td>\n",
       "      <td>0.007579</td>\n",
       "      <td>0</td>\n",
       "      <td>2835</td>\n",
       "      <td>1.48</td>\n",
       "      <td>1.48</td>\n",
       "    </tr>\n",
       "    <tr>\n",
       "      <th>5469</th>\n",
       "      <td>0</td>\n",
       "      <td>0.007463</td>\n",
       "      <td>0</td>\n",
       "      <td>5470</td>\n",
       "      <td>7.60</td>\n",
       "      <td>7.60</td>\n",
       "    </tr>\n",
       "    <tr>\n",
       "      <th>1925</th>\n",
       "      <td>0</td>\n",
       "      <td>0.007169</td>\n",
       "      <td>0</td>\n",
       "      <td>1926</td>\n",
       "      <td>8.05</td>\n",
       "      <td>8.05</td>\n",
       "    </tr>\n",
       "    <tr>\n",
       "      <th>6184</th>\n",
       "      <td>0</td>\n",
       "      <td>0.007169</td>\n",
       "      <td>0</td>\n",
       "      <td>6185</td>\n",
       "      <td>5.08</td>\n",
       "      <td>5.08</td>\n",
       "    </tr>\n",
       "    <tr>\n",
       "      <th>11731</th>\n",
       "      <td>0</td>\n",
       "      <td>0.007166</td>\n",
       "      <td>0</td>\n",
       "      <td>11732</td>\n",
       "      <td>2.62</td>\n",
       "      <td>2.62</td>\n",
       "    </tr>\n",
       "    <tr>\n",
       "      <th>4296</th>\n",
       "      <td>0</td>\n",
       "      <td>0.007102</td>\n",
       "      <td>0</td>\n",
       "      <td>4297</td>\n",
       "      <td>3.38</td>\n",
       "      <td>3.38</td>\n",
       "    </tr>\n",
       "    <tr>\n",
       "      <th>7812</th>\n",
       "      <td>0</td>\n",
       "      <td>0.007099</td>\n",
       "      <td>0</td>\n",
       "      <td>7813</td>\n",
       "      <td>0.35</td>\n",
       "      <td>0.35</td>\n",
       "    </tr>\n",
       "    <tr>\n",
       "      <th>7006</th>\n",
       "      <td>0</td>\n",
       "      <td>0.006667</td>\n",
       "      <td>0</td>\n",
       "      <td>7007</td>\n",
       "      <td>0.80</td>\n",
       "      <td>0.80</td>\n",
       "    </tr>\n",
       "    <tr>\n",
       "      <th>1821</th>\n",
       "      <td>0</td>\n",
       "      <td>0.006643</td>\n",
       "      <td>0</td>\n",
       "      <td>1822</td>\n",
       "      <td>2.78</td>\n",
       "      <td>2.78</td>\n",
       "    </tr>\n",
       "    <tr>\n",
       "      <th>939</th>\n",
       "      <td>0</td>\n",
       "      <td>0.006615</td>\n",
       "      <td>0</td>\n",
       "      <td>940</td>\n",
       "      <td>2.57</td>\n",
       "      <td>2.57</td>\n",
       "    </tr>\n",
       "    <tr>\n",
       "      <th>541</th>\n",
       "      <td>0</td>\n",
       "      <td>0.006585</td>\n",
       "      <td>0</td>\n",
       "      <td>542</td>\n",
       "      <td>7.33</td>\n",
       "      <td>7.33</td>\n",
       "    </tr>\n",
       "    <tr>\n",
       "      <th>1683</th>\n",
       "      <td>0</td>\n",
       "      <td>0.006436</td>\n",
       "      <td>0</td>\n",
       "      <td>1684</td>\n",
       "      <td>6.65</td>\n",
       "      <td>6.65</td>\n",
       "    </tr>\n",
       "    <tr>\n",
       "      <th>7710</th>\n",
       "      <td>0</td>\n",
       "      <td>0.006434</td>\n",
       "      <td>0</td>\n",
       "      <td>7711</td>\n",
       "      <td>4.88</td>\n",
       "      <td>4.88</td>\n",
       "    </tr>\n",
       "    <tr>\n",
       "      <th>7519</th>\n",
       "      <td>0</td>\n",
       "      <td>0.006217</td>\n",
       "      <td>0</td>\n",
       "      <td>7520</td>\n",
       "      <td>2.27</td>\n",
       "      <td>2.27</td>\n",
       "    </tr>\n",
       "    <tr>\n",
       "      <th>4945</th>\n",
       "      <td>0</td>\n",
       "      <td>0.006190</td>\n",
       "      <td>0</td>\n",
       "      <td>4946</td>\n",
       "      <td>4.87</td>\n",
       "      <td>4.87</td>\n",
       "    </tr>\n",
       "    <tr>\n",
       "      <th>10163</th>\n",
       "      <td>0</td>\n",
       "      <td>0.006180</td>\n",
       "      <td>0</td>\n",
       "      <td>10164</td>\n",
       "      <td>3.77</td>\n",
       "      <td>3.77</td>\n",
       "    </tr>\n",
       "    <tr>\n",
       "      <th>5780</th>\n",
       "      <td>0</td>\n",
       "      <td>0.006022</td>\n",
       "      <td>0</td>\n",
       "      <td>5781</td>\n",
       "      <td>7.18</td>\n",
       "      <td>7.18</td>\n",
       "    </tr>\n",
       "    <tr>\n",
       "      <th>2097</th>\n",
       "      <td>0</td>\n",
       "      <td>0.005862</td>\n",
       "      <td>0</td>\n",
       "      <td>2098</td>\n",
       "      <td>13.87</td>\n",
       "      <td>13.87</td>\n",
       "    </tr>\n",
       "    <tr>\n",
       "      <th>1347</th>\n",
       "      <td>0</td>\n",
       "      <td>0.005814</td>\n",
       "      <td>0</td>\n",
       "      <td>1348</td>\n",
       "      <td>2.77</td>\n",
       "      <td>2.77</td>\n",
       "    </tr>\n",
       "    <tr>\n",
       "      <th>62</th>\n",
       "      <td>0</td>\n",
       "      <td>0.005664</td>\n",
       "      <td>0</td>\n",
       "      <td>63</td>\n",
       "      <td>2.73</td>\n",
       "      <td>2.73</td>\n",
       "    </tr>\n",
       "    <tr>\n",
       "      <th>8582</th>\n",
       "      <td>0</td>\n",
       "      <td>0.005430</td>\n",
       "      <td>0</td>\n",
       "      <td>8583</td>\n",
       "      <td>3.52</td>\n",
       "      <td>3.52</td>\n",
       "    </tr>\n",
       "    <tr>\n",
       "      <th>5071</th>\n",
       "      <td>0</td>\n",
       "      <td>0.005212</td>\n",
       "      <td>0</td>\n",
       "      <td>5072</td>\n",
       "      <td>3.63</td>\n",
       "      <td>3.63</td>\n",
       "    </tr>\n",
       "    <tr>\n",
       "      <th>600</th>\n",
       "      <td>0</td>\n",
       "      <td>0.005147</td>\n",
       "      <td>0</td>\n",
       "      <td>601</td>\n",
       "      <td>1.08</td>\n",
       "      <td>1.08</td>\n",
       "    </tr>\n",
       "  </tbody>\n",
       "</table>\n",
       "<p>7891 rows × 6 columns</p>\n",
       "</div>"
      ],
      "text/plain": [
       "       ActualResponse  PredictedProbabilityResponse  PredictedResponse  \\\n",
       "11398               1                      1.000000                  1   \n",
       "1315                1                      1.000000                  1   \n",
       "7861                0                      1.000000                  1   \n",
       "11221               1                      1.000000                  1   \n",
       "11278               1                      0.999999                  1   \n",
       "350                 0                      0.999992                  1   \n",
       "1541                1                      0.999988                  1   \n",
       "9222                1                      0.999988                  1   \n",
       "1756                0                      0.999983                  1   \n",
       "3807                0                      0.999981                  1   \n",
       "8359                0                      0.999965                  1   \n",
       "2245                1                      0.999949                  1   \n",
       "6609                1                      0.999941                  1   \n",
       "9280                0                      0.999926                  1   \n",
       "10111               0                      0.999850                  1   \n",
       "2724                1                      0.999843                  1   \n",
       "11393               1                      0.999838                  1   \n",
       "1597                0                      0.999818                  1   \n",
       "6701                1                      0.999813                  1   \n",
       "119                 1                      0.999805                  1   \n",
       "2748                1                      0.999798                  1   \n",
       "9687                0                      0.999777                  1   \n",
       "7153                1                      0.999754                  1   \n",
       "412                 0                      0.999646                  1   \n",
       "7566                1                      0.999641                  1   \n",
       "389                 1                      0.999556                  1   \n",
       "769                 1                      0.999540                  1   \n",
       "6482                1                      0.999481                  1   \n",
       "2821                1                      0.999420                  1   \n",
       "121                 1                      0.999391                  1   \n",
       "...               ...                           ...                ...   \n",
       "10462               0                      0.007988                  0   \n",
       "7108                0                      0.007949                  0   \n",
       "1287                0                      0.007884                  0   \n",
       "379                 0                      0.007760                  0   \n",
       "2484                0                      0.007749                  0   \n",
       "8283                0                      0.007717                  0   \n",
       "6753                0                      0.007625                  0   \n",
       "2834                0                      0.007579                  0   \n",
       "5469                0                      0.007463                  0   \n",
       "1925                0                      0.007169                  0   \n",
       "6184                0                      0.007169                  0   \n",
       "11731               0                      0.007166                  0   \n",
       "4296                0                      0.007102                  0   \n",
       "7812                0                      0.007099                  0   \n",
       "7006                0                      0.006667                  0   \n",
       "1821                0                      0.006643                  0   \n",
       "939                 0                      0.006615                  0   \n",
       "541                 0                      0.006585                  0   \n",
       "1683                0                      0.006436                  0   \n",
       "7710                0                      0.006434                  0   \n",
       "7519                0                      0.006217                  0   \n",
       "4945                0                      0.006190                  0   \n",
       "10163               0                      0.006180                  0   \n",
       "5780                0                      0.006022                  0   \n",
       "2097                0                      0.005862                  0   \n",
       "1347                0                      0.005814                  0   \n",
       "62                  0                      0.005664                  0   \n",
       "8582                0                      0.005430                  0   \n",
       "5071                0                      0.005212                  0   \n",
       "600                 0                      0.005147                  0   \n",
       "\n",
       "       ProspectID  CallDuration  CostofCall  \n",
       "11398       11399          2.78        2.78  \n",
       "1315         1316          6.07        6.07  \n",
       "7861         7862          7.73        7.73  \n",
       "11221       11222          0.87        0.87  \n",
       "11278       11279          0.27        0.27  \n",
       "350           351          2.90        2.90  \n",
       "1541         1542          3.33        3.33  \n",
       "9222         9223          2.27        2.27  \n",
       "1756         1757          2.42        2.42  \n",
       "3807         3808         18.80       18.80  \n",
       "8359         8360          3.35        3.35  \n",
       "2245         2246          1.35        1.35  \n",
       "6609         6610          0.13        0.13  \n",
       "9280         9281          7.67        7.67  \n",
       "10111       10112          2.23        2.23  \n",
       "2724         2725          3.97        3.97  \n",
       "11393       11394          0.70        0.70  \n",
       "1597         1598          1.62        1.62  \n",
       "6701         6702          1.48        1.48  \n",
       "119           120          2.97        2.97  \n",
       "2748         2749          5.00        5.00  \n",
       "9687         9688          3.70        3.70  \n",
       "7153         7154          0.67        0.67  \n",
       "412           413          3.78        3.78  \n",
       "7566         7567          8.58        8.58  \n",
       "389           390         17.17       17.17  \n",
       "769           770          3.60        3.60  \n",
       "6482         6483          1.58        1.58  \n",
       "2821         2822          3.32        3.32  \n",
       "121           122          7.32        7.32  \n",
       "...           ...           ...         ...  \n",
       "10462       10463          5.38        5.38  \n",
       "7108         7109          3.33        3.33  \n",
       "1287         1288          1.00        1.00  \n",
       "379           380          0.30        0.30  \n",
       "2484         2485          0.32        0.32  \n",
       "8283         8284          3.22        3.22  \n",
       "6753         6754         11.12       11.12  \n",
       "2834         2835          1.48        1.48  \n",
       "5469         5470          7.60        7.60  \n",
       "1925         1926          8.05        8.05  \n",
       "6184         6185          5.08        5.08  \n",
       "11731       11732          2.62        2.62  \n",
       "4296         4297          3.38        3.38  \n",
       "7812         7813          0.35        0.35  \n",
       "7006         7007          0.80        0.80  \n",
       "1821         1822          2.78        2.78  \n",
       "939           940          2.57        2.57  \n",
       "541           542          7.33        7.33  \n",
       "1683         1684          6.65        6.65  \n",
       "7710         7711          4.88        4.88  \n",
       "7519         7520          2.27        2.27  \n",
       "4945         4946          4.87        4.87  \n",
       "10163       10164          3.77        3.77  \n",
       "5780         5781          7.18        7.18  \n",
       "2097         2098         13.87       13.87  \n",
       "1347         1348          2.77        2.77  \n",
       "62             63          2.73        2.73  \n",
       "8582         8583          3.52        3.52  \n",
       "5071         5072          3.63        3.63  \n",
       "600           601          1.08        1.08  \n",
       "\n",
       "[7891 rows x 6 columns]"
      ]
     },
     "execution_count": 181,
     "metadata": {},
     "output_type": "execute_result"
    }
   ],
   "source": [
    "#Sort values in descending order of probability\n",
    "decile_df.sort_values(by='PredictedProbabilityResponse',ascending=False)"
   ]
  },
  {
   "cell_type": "code",
   "execution_count": 182,
   "metadata": {},
   "outputs": [],
   "source": [
    "decile_df['decile'] = pd.qcut(decile_df['PredictedProbabilityResponse'].rank(method='first'), 10, labels=np.arange(10, 0, -1),duplicates='drop')"
   ]
  },
  {
   "cell_type": "markdown",
   "metadata": {},
   "source": [
    "#### Lift chart"
   ]
  },
  {
   "cell_type": "code",
   "execution_count": 183,
   "metadata": {},
   "outputs": [],
   "source": [
    "lift_df = decile_df.groupby('decile')['PredictedProbabilityResponse'].count().reset_index()"
   ]
  },
  {
   "cell_type": "code",
   "execution_count": 184,
   "metadata": {},
   "outputs": [],
   "source": [
    "lift_df.rename({'PredictedProbabilityResponse':'total'}, axis=1, inplace=True)"
   ]
  },
  {
   "cell_type": "code",
   "execution_count": 185,
   "metadata": {},
   "outputs": [],
   "source": [
    "lift_df_pred = decile_df[decile_df['ActualResponse']==1].groupby('decile')['ActualResponse'].count().reset_index()"
   ]
  },
  {
   "cell_type": "code",
   "execution_count": 186,
   "metadata": {},
   "outputs": [
    {
     "name": "stdout",
     "output_type": "stream",
     "text": [
      "<class 'pandas.core.frame.DataFrame'>\n",
      "RangeIndex: 10 entries, 0 to 9\n",
      "Data columns (total 2 columns):\n",
      "decile    10 non-null category\n",
      "total     10 non-null int64\n",
      "dtypes: category(1), int64(1)\n",
      "memory usage: 570.0 bytes\n"
     ]
    }
   ],
   "source": [
    "lift_df.info()"
   ]
  },
  {
   "cell_type": "code",
   "execution_count": 187,
   "metadata": {},
   "outputs": [],
   "source": [
    "lift_df_final = lift_df.merge(lift_df_pred,on = 'decile')"
   ]
  },
  {
   "cell_type": "code",
   "execution_count": 188,
   "metadata": {},
   "outputs": [],
   "source": [
    "lift_df_final = lift_df_final.sort_values(['decile'], ascending=False)"
   ]
  },
  {
   "cell_type": "code",
   "execution_count": 189,
   "metadata": {},
   "outputs": [],
   "source": [
    "lift_df_final['cumresp'] = lift_df_final['ActualResponse'].cumsum()"
   ]
  },
  {
   "cell_type": "code",
   "execution_count": 190,
   "metadata": {},
   "outputs": [],
   "source": [
    "lift_df_final['gain'] = 100*(lift_df_final['cumresp']/sum(lift_df_final['ActualResponse']))"
   ]
  },
  {
   "cell_type": "code",
   "execution_count": 191,
   "metadata": {},
   "outputs": [],
   "source": [
    "lift_df_final['cumlift'] = lift_df_final['gain']/(lift_df_final['decile'].astype('int')*(100/10))"
   ]
  },
  {
   "cell_type": "code",
   "execution_count": 192,
   "metadata": {},
   "outputs": [
    {
     "data": {
      "text/html": [
       "<div>\n",
       "<style scoped>\n",
       "    .dataframe tbody tr th:only-of-type {\n",
       "        vertical-align: middle;\n",
       "    }\n",
       "\n",
       "    .dataframe tbody tr th {\n",
       "        vertical-align: top;\n",
       "    }\n",
       "\n",
       "    .dataframe thead th {\n",
       "        text-align: right;\n",
       "    }\n",
       "</style>\n",
       "<table border=\"1\" class=\"dataframe\">\n",
       "  <thead>\n",
       "    <tr style=\"text-align: right;\">\n",
       "      <th></th>\n",
       "      <th>decile</th>\n",
       "      <th>total</th>\n",
       "      <th>ActualResponse</th>\n",
       "      <th>cumresp</th>\n",
       "      <th>gain</th>\n",
       "      <th>cumlift</th>\n",
       "    </tr>\n",
       "  </thead>\n",
       "  <tbody>\n",
       "    <tr>\n",
       "      <th>9</th>\n",
       "      <td>1</td>\n",
       "      <td>789</td>\n",
       "      <td>494</td>\n",
       "      <td>494</td>\n",
       "      <td>56.009070</td>\n",
       "      <td>5.600907</td>\n",
       "    </tr>\n",
       "    <tr>\n",
       "      <th>8</th>\n",
       "      <td>2</td>\n",
       "      <td>789</td>\n",
       "      <td>238</td>\n",
       "      <td>732</td>\n",
       "      <td>82.993197</td>\n",
       "      <td>4.149660</td>\n",
       "    </tr>\n",
       "    <tr>\n",
       "      <th>7</th>\n",
       "      <td>3</td>\n",
       "      <td>789</td>\n",
       "      <td>109</td>\n",
       "      <td>841</td>\n",
       "      <td>95.351474</td>\n",
       "      <td>3.178382</td>\n",
       "    </tr>\n",
       "    <tr>\n",
       "      <th>6</th>\n",
       "      <td>4</td>\n",
       "      <td>789</td>\n",
       "      <td>26</td>\n",
       "      <td>867</td>\n",
       "      <td>98.299320</td>\n",
       "      <td>2.457483</td>\n",
       "    </tr>\n",
       "    <tr>\n",
       "      <th>5</th>\n",
       "      <td>5</td>\n",
       "      <td>789</td>\n",
       "      <td>7</td>\n",
       "      <td>874</td>\n",
       "      <td>99.092971</td>\n",
       "      <td>1.981859</td>\n",
       "    </tr>\n",
       "    <tr>\n",
       "      <th>4</th>\n",
       "      <td>6</td>\n",
       "      <td>789</td>\n",
       "      <td>3</td>\n",
       "      <td>877</td>\n",
       "      <td>99.433107</td>\n",
       "      <td>1.657218</td>\n",
       "    </tr>\n",
       "    <tr>\n",
       "      <th>3</th>\n",
       "      <td>7</td>\n",
       "      <td>789</td>\n",
       "      <td>4</td>\n",
       "      <td>881</td>\n",
       "      <td>99.886621</td>\n",
       "      <td>1.426952</td>\n",
       "    </tr>\n",
       "    <tr>\n",
       "      <th>2</th>\n",
       "      <td>8</td>\n",
       "      <td>789</td>\n",
       "      <td>1</td>\n",
       "      <td>882</td>\n",
       "      <td>100.000000</td>\n",
       "      <td>1.250000</td>\n",
       "    </tr>\n",
       "    <tr>\n",
       "      <th>1</th>\n",
       "      <td>9</td>\n",
       "      <td>789</td>\n",
       "      <td>0</td>\n",
       "      <td>882</td>\n",
       "      <td>100.000000</td>\n",
       "      <td>1.111111</td>\n",
       "    </tr>\n",
       "    <tr>\n",
       "      <th>0</th>\n",
       "      <td>10</td>\n",
       "      <td>790</td>\n",
       "      <td>0</td>\n",
       "      <td>882</td>\n",
       "      <td>100.000000</td>\n",
       "      <td>1.000000</td>\n",
       "    </tr>\n",
       "  </tbody>\n",
       "</table>\n",
       "</div>"
      ],
      "text/plain": [
       "  decile  total  ActualResponse  cumresp        gain   cumlift\n",
       "9      1    789             494      494   56.009070  5.600907\n",
       "8      2    789             238      732   82.993197  4.149660\n",
       "7      3    789             109      841   95.351474  3.178382\n",
       "6      4    789              26      867   98.299320  2.457483\n",
       "5      5    789               7      874   99.092971  1.981859\n",
       "4      6    789               3      877   99.433107  1.657218\n",
       "3      7    789               4      881   99.886621  1.426952\n",
       "2      8    789               1      882  100.000000  1.250000\n",
       "1      9    789               0      882  100.000000  1.111111\n",
       "0     10    790               0      882  100.000000  1.000000"
      ]
     },
     "execution_count": 192,
     "metadata": {},
     "output_type": "execute_result"
    }
   ],
   "source": [
    "lift_df_final"
   ]
  },
  {
   "cell_type": "markdown",
   "metadata": {},
   "source": [
    "Note that you can attain 98% of total conversions by targeting only 40% of the total client base. This can be used in cost optimization and depending on the cost per call, we can determine, how many people should be part of the tele marketing campaign"
   ]
  },
  {
   "cell_type": "code",
   "execution_count": 193,
   "metadata": {},
   "outputs": [
    {
     "data": {
      "text/plain": [
       "<matplotlib.axes._subplots.AxesSubplot at 0x1cd87b5fc50>"
      ]
     },
     "execution_count": 193,
     "metadata": {},
     "output_type": "execute_result"
    },
    {
     "data": {
      "image/png": "[encoded data removed]",
      "text/plain": [
       "<Figure size 432x288 with 1 Axes>"
      ]
     },
     "metadata": {
      "needs_background": "light"
     },
     "output_type": "display_data"
    }
   ],
   "source": [
    "lift_df_final.plot.line(x='decile', y=['gain'])"
   ]
  },
  {
   "cell_type": "code",
   "execution_count": 194,
   "metadata": {},
   "outputs": [
    {
     "data": {
      "text/plain": [
       "<matplotlib.axes._subplots.AxesSubplot at 0x1cd87b12d68>"
      ]
     },
     "execution_count": 194,
     "metadata": {},
     "output_type": "execute_result"
    },
    {
     "data": {
      "image/png": "[encoded data removed]",
      "text/plain": [
       "<Figure size 432x288 with 1 Axes>"
      ]
     },
     "metadata": {
      "needs_background": "light"
     },
     "output_type": "display_data"
    }
   ],
   "source": [
    "lift_df_final.plot.line(x='decile', y=['cumlift'])"
   ]
  },
  {
   "cell_type": "code",
   "execution_count": 195,
   "metadata": {},
   "outputs": [
    {
     "name": "stdout",
     "output_type": "stream",
     "text": [
      "7891\n"
     ]
    }
   ],
   "source": [
    "#cost of acquisition\n",
    "print(decile_df.CostofCall.count())"
   ]
  }
 ],
 "metadata": {
  "kernelspec": {
   "display_name": "Python 3",
   "language": "python",
   "name": "python3"
  },
  "language_info": {
   "codemirror_mode": {
    "name": "ipython",
    "version": 3
   },
   "file_extension": ".py",
   "mimetype": "text/x-python",
   "name": "python",
   "nbconvert_exporter": "python",
   "pygments_lexer": "ipython3",
   "version": "3.7.3"
  }
 },
 "nbformat": 4,
 "nbformat_minor": 2
}
